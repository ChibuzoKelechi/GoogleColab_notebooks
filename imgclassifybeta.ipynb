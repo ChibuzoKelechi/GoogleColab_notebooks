{
  "metadata": {
    "kernelspec": {
      "display_name": "Python 3",
      "name": "python3"
    },
    "language_info": {
      "name": "python",
      "version": "3.10.13",
      "mimetype": "text/x-python",
      "codemirror_mode": {
        "name": "ipython",
        "version": 3
      },
      "pygments_lexer": "ipython3",
      "nbconvert_exporter": "python",
      "file_extension": ".py"
    },
    "kaggle": {
      "accelerator": "gpu",
      "dataSources": [
        {
          "sourceId": 7582006,
          "sourceType": "datasetVersion",
          "datasetId": 4413646
        },
        {
          "sourceId": 844929,
          "sourceType": "datasetVersion",
          "datasetId": 446365
        }
      ],
      "dockerImageVersionId": 30646,
      "isInternetEnabled": true,
      "language": "python",
      "sourceType": "notebook",
      "isGpuEnabled": true
    },
    "colab": {
      "provenance": [],
      "gpuType": "T4",
      "include_colab_link": true
    },
    "accelerator": "GPU"
  },
  "nbformat_minor": 0,
  "nbformat": 4,
  "cells": [
    {
      "cell_type": "markdown",
      "metadata": {
        "id": "view-in-github",
        "colab_type": "text"
      },
      "source": [
        "<a href=\"https://colab.research.google.com/github/ChibuzoKelechi/GoogleColab_notebooks/blob/main/imgclassifybeta.ipynb\" target=\"_parent\"><img src=\"https://colab.research.google.com/assets/colab-badge.svg\" alt=\"Open In Colab\"/></a>"
      ]
    },
    {
      "cell_type": "code",
      "source": [
        "from google.colab import drive\n",
        "drive.mount('/content/drive')"
      ],
      "metadata": {
        "id": "CY-rBwjnQJSL",
        "outputId": "10a72e54-5f8c-4be8-f4fb-b1949b45f724",
        "colab": {
          "base_uri": "https://localhost:8080/"
        }
      },
      "execution_count": 1,
      "outputs": [
        {
          "output_type": "stream",
          "name": "stdout",
          "text": [
            "Mounted at /content/drive\n"
          ]
        }
      ]
    },
    {
      "cell_type": "code",
      "source": [
        "!pip install kaggle\n",
        "\n",
        "import os\n",
        "os.environ['KAGGLE_CONFIG_DIR'] = '/content/drive/MyDrive/kaggle'"
      ],
      "metadata": {
        "id": "WK4vpz4VQV4e",
        "outputId": "3c2e9f2c-681f-45f8-87c4-149d0e213a65",
        "colab": {
          "base_uri": "https://localhost:8080/"
        }
      },
      "execution_count": 2,
      "outputs": [
        {
          "output_type": "stream",
          "name": "stdout",
          "text": [
            "Requirement already satisfied: kaggle in /usr/local/lib/python3.10/dist-packages (1.5.16)\n",
            "Requirement already satisfied: six>=1.10 in /usr/local/lib/python3.10/dist-packages (from kaggle) (1.16.0)\n",
            "Requirement already satisfied: certifi in /usr/local/lib/python3.10/dist-packages (from kaggle) (2024.2.2)\n",
            "Requirement already satisfied: python-dateutil in /usr/local/lib/python3.10/dist-packages (from kaggle) (2.8.2)\n",
            "Requirement already satisfied: requests in /usr/local/lib/python3.10/dist-packages (from kaggle) (2.31.0)\n",
            "Requirement already satisfied: tqdm in /usr/local/lib/python3.10/dist-packages (from kaggle) (4.66.1)\n",
            "Requirement already satisfied: python-slugify in /usr/local/lib/python3.10/dist-packages (from kaggle) (8.0.3)\n",
            "Requirement already satisfied: urllib3 in /usr/local/lib/python3.10/dist-packages (from kaggle) (2.0.7)\n",
            "Requirement already satisfied: bleach in /usr/local/lib/python3.10/dist-packages (from kaggle) (6.1.0)\n",
            "Requirement already satisfied: webencodings in /usr/local/lib/python3.10/dist-packages (from bleach->kaggle) (0.5.1)\n",
            "Requirement already satisfied: text-unidecode>=1.3 in /usr/local/lib/python3.10/dist-packages (from python-slugify->kaggle) (1.3)\n",
            "Requirement already satisfied: charset-normalizer<4,>=2 in /usr/local/lib/python3.10/dist-packages (from requests->kaggle) (3.3.2)\n",
            "Requirement already satisfied: idna<4,>=2.5 in /usr/local/lib/python3.10/dist-packages (from requests->kaggle) (3.6)\n"
          ]
        }
      ]
    },
    {
      "cell_type": "code",
      "source": [
        "!kaggle datasets download -d cashutosh/gender-classification-dataset"
      ],
      "metadata": {
        "id": "R-HLf7QDQ47d",
        "outputId": "1579bc3e-5a80-4222-ad84-fcae8d35f04d",
        "colab": {
          "base_uri": "https://localhost:8080/"
        }
      },
      "execution_count": 3,
      "outputs": [
        {
          "output_type": "stream",
          "name": "stdout",
          "text": [
            "Downloading gender-classification-dataset.zip to /content\n",
            " 97% 260M/269M [00:02<00:00, 96.8MB/s]\n",
            "100% 269M/269M [00:02<00:00, 99.3MB/s]\n"
          ]
        }
      ]
    },
    {
      "cell_type": "code",
      "source": [
        "import zipfile\n",
        "\n",
        "# Define the path to your zip file\n",
        "file_path = '/content/gender-classification-dataset.zip'  # Replace 'your_file.zip' with your file's name\n",
        "\n",
        "# Unzip the file to a specific destination\n",
        "with zipfile.ZipFile(file_path, 'r') as zip_ref:\n",
        "    zip_ref.extractall('/content/drive/MyDrive/kaggle')  # Replace 'destination_folder' with your desired folder"
      ],
      "metadata": {
        "id": "uS-a5hakRcby"
      },
      "execution_count": null,
      "outputs": []
    },
    {
      "cell_type": "code",
      "source": [
        "import numpy as np # linear algebra\n",
        "import pandas as pd # data processing, CSV file I/O (e.g. pd.read_csv)\n",
        "import tensorflow as tf\n",
        "import matplotlib.pyplot as plt\n",
        "#import cv2\n",
        "import PIL\n",
        "import pathlib\n",
        "\n",
        "from PIL import Image\n",
        "from sklearn.model_selection import train_test_split\n",
        "from tensorflow import keras as tfkeras\n",
        "from tensorflow.keras import datasets, layers, models, callbacks\n",
        "from tensorflow.keras.preprocessing.image import img_to_array, load_img, ImageDataGenerator"
      ],
      "metadata": {
        "_uuid": "8f2839f25d086af736a60e9eeb907d3b93b6e0e5",
        "_cell_guid": "b1076dfc-b9ad-4769-8c92-a6c4dae69d19",
        "execution": {
          "iopub.status.busy": "2024-02-08T07:45:56.867435Z",
          "iopub.execute_input": "2024-02-08T07:45:56.867849Z",
          "iopub.status.idle": "2024-02-08T07:45:56.875866Z",
          "shell.execute_reply.started": "2024-02-08T07:45:56.867817Z",
          "shell.execute_reply": "2024-02-08T07:45:56.874101Z"
        },
        "trusted": true,
        "id": "rkHXgrMDP94P"
      },
      "execution_count": null,
      "outputs": []
    },
    {
      "cell_type": "code",
      "source": [
        "# Variables\n",
        "data_path = ''\n",
        "data_dir = pathlib.Path(data_path)\n",
        "\n",
        "width=200\n",
        "height=200\n",
        "\n",
        "gender_labels_dict = {\n",
        "    'male': 0,\n",
        "    'female': 1\n",
        "}\n",
        "\n",
        "x = []\n",
        "y = []\n",
        "\n",
        "print(data_dir)"
      ],
      "metadata": {
        "execution": {
          "iopub.status.busy": "2024-02-08T07:49:08.851833Z",
          "iopub.execute_input": "2024-02-08T07:49:08.852476Z",
          "iopub.status.idle": "2024-02-08T07:49:08.858344Z",
          "shell.execute_reply.started": "2024-02-08T07:49:08.852444Z",
          "shell.execute_reply": "2024-02-08T07:49:08.857454Z"
        },
        "trusted": true,
        "id": "NwsMKr6TP94d"
      },
      "execution_count": null,
      "outputs": []
    },
    {
      "cell_type": "code",
      "source": [
        "# Data\n",
        "# for gender, images in gender_image_dict.items():\n",
        "#     print(gender)\n",
        "#     for image in images:\n",
        "#         img = cv2.imread(str(image))\n",
        "#         if isinstance(img,type(None)):\n",
        "#             continue\n",
        "\n",
        "#         elif ((img.shape[0] >= height) and  (img.shape[1] >=width)):\n",
        "#             resized_img = cv2.resize(img,(width,height))\n",
        "#             x.append(resized_img)\n",
        "#             y.append(gender_labels_dict[gender])\n",
        "#         else:\n",
        "#             continue\n",
        "batch_size = 32\n",
        "\n",
        "train_ds = tf.keras.utils.image_dataset_from_directory(\n",
        "  data_dir,\n",
        "  validation_split=0.2,\n",
        "  subset=\"training\",\n",
        "  seed=123,\n",
        "  image_size=(height, width),\n",
        "  batch_size=batch_size\n",
        ")\n",
        "\n",
        "val_ds = tf.keras.utils.image_dataset_from_directory(\n",
        "  data_dir,\n",
        "  validation_split=0.2,\n",
        "  subset=\"validation\",\n",
        "  seed=123,\n",
        "  image_size=(height, width),\n",
        "  batch_size=batch_size\n",
        ")\n"
      ],
      "metadata": {
        "execution": {
          "iopub.status.busy": "2024-02-08T07:52:47.482201Z",
          "iopub.execute_input": "2024-02-08T07:52:47.482575Z",
          "iopub.status.idle": "2024-02-08T07:53:29.166058Z",
          "shell.execute_reply.started": "2024-02-08T07:52:47.482547Z",
          "shell.execute_reply": "2024-02-08T07:53:29.165270Z"
        },
        "trusted": true,
        "id": "pXqbzNUyP94l"
      },
      "execution_count": null,
      "outputs": []
    },
    {
      "cell_type": "code",
      "source": [
        "# Convert to array, split data\n",
        "# x = np.array(x)\n",
        "# y = np.array(y)\n",
        "\n",
        "# print(x.shape)\n",
        "# print(y.shape)\n",
        "\n",
        "# x_train, x_test, y_train, y_test = train_test_split(x, y, random_state=0, test_size=0.1)\n",
        "\n",
        "# print(len(x_train),len(y_train))\n",
        "# print(len(x_test),len(y_test))\n",
        "\n",
        "# print(x_train.shape,y_train.shape)\n",
        "# print(x_test.shape,y_test.shape)"
      ],
      "metadata": {
        "execution": {
          "iopub.status.busy": "2024-02-08T07:46:01.085498Z",
          "iopub.execute_input": "2024-02-08T07:46:01.085968Z",
          "iopub.status.idle": "2024-02-08T07:46:01.090120Z",
          "shell.execute_reply.started": "2024-02-08T07:46:01.085935Z",
          "shell.execute_reply": "2024-02-08T07:46:01.089187Z"
        },
        "trusted": true,
        "id": "5nZiWzMsP94s"
      },
      "execution_count": null,
      "outputs": []
    },
    {
      "cell_type": "code",
      "source": [
        "# Model\n",
        "channels = 3\n",
        "\n",
        "image_model = models.Sequential([\n",
        "    layers.Conv2D(32, (3, 3), activation='relu', input_shape=(height, width, channels)),\n",
        "    layers.BatchNormalization(),\n",
        "    layers.MaxPooling2D(pool_size=(2, 2)),\n",
        "    layers.Dropout(0.2),\n",
        "\n",
        "    layers.Conv2D(64, (3,3)),\n",
        "    layers.BatchNormalization(),\n",
        "    layers.MaxPooling2D(pool_size=(2,2)),\n",
        "    layers.Dropout(0.2),\n",
        "\n",
        "    layers.Conv2D(128, (3, 3), activation='relu'),\n",
        "    layers.BatchNormalization(),\n",
        "    layers.MaxPooling2D(pool_size=(2, 2)),\n",
        "    layers.Dropout(0.25),\n",
        "\n",
        "    layers.Flatten(),\n",
        "    layers.Dense(512, activation='relu'),\n",
        "    layers.Dropout(0.5),\n",
        "    layers.Dense(2, activation='softmax')\n",
        "])\n",
        "\n",
        "image_model.compile(\n",
        "    loss='sparse_categorical_crossentropy',\n",
        "    optimizer='adam',\n",
        "    metrics=['accuracy']\n",
        ")\n",
        "\n",
        "# image_model.summary()"
      ],
      "metadata": {
        "execution": {
          "iopub.status.busy": "2024-02-08T07:53:45.143149Z",
          "iopub.execute_input": "2024-02-08T07:53:45.143789Z",
          "iopub.status.idle": "2024-02-08T07:53:45.290545Z",
          "shell.execute_reply.started": "2024-02-08T07:53:45.143733Z",
          "shell.execute_reply": "2024-02-08T07:53:45.289813Z"
        },
        "trusted": true,
        "id": "_5xu4h9XP94v"
      },
      "execution_count": null,
      "outputs": []
    },
    {
      "cell_type": "code",
      "source": [
        "# Training\n",
        "earlystop = tfkeras.callbacks.EarlyStopping(\n",
        "    patience=5,\n",
        "    verbose=1\n",
        ")\n",
        "\n",
        "history = image_model.fit(\n",
        "    train_ds,\n",
        "    validation_data=val_ds,\n",
        "    epochs=30,\n",
        "    callbacks=[earlystop]\n",
        ")"
      ],
      "metadata": {
        "execution": {
          "iopub.status.busy": "2024-02-08T07:53:52.148601Z",
          "iopub.execute_input": "2024-02-08T07:53:52.148982Z",
          "iopub.status.idle": "2024-02-08T08:09:45.854662Z",
          "shell.execute_reply.started": "2024-02-08T07:53:52.148955Z",
          "shell.execute_reply": "2024-02-08T08:09:45.853780Z"
        },
        "trusted": true,
        "id": "xBqjH2k7P94y"
      },
      "execution_count": null,
      "outputs": []
    },
    {
      "cell_type": "code",
      "source": [
        "test_acc = image_model.evaluate(val_ds)\n",
        "\n",
        "print(f'Loss: {test_acc[0]}')\n",
        "print(f'Accuracy: {100*(test_acc[1])}%')"
      ],
      "metadata": {
        "execution": {
          "iopub.status.busy": "2024-02-08T08:12:27.078371Z",
          "iopub.execute_input": "2024-02-08T08:12:27.078763Z",
          "iopub.status.idle": "2024-02-08T08:12:32.072724Z",
          "shell.execute_reply.started": "2024-02-08T08:12:27.078714Z",
          "shell.execute_reply": "2024-02-08T08:12:32.071864Z"
        },
        "trusted": true,
        "id": "Qc4FBPUnP941"
      },
      "execution_count": null,
      "outputs": []
    },
    {
      "cell_type": "code",
      "source": [
        "# Loss vs Accuracy plot\n",
        "\n",
        "plt.plot(history.history['accuracy'], label='accuracy')\n",
        "plt.plot(history.history['loss'], label = 'loss')\n",
        "plt.xlabel('Epoch')\n",
        "plt.legend(loc='lower right')\n",
        "plt.show()\n"
      ],
      "metadata": {
        "execution": {
          "iopub.status.busy": "2024-02-08T08:12:32.073938Z",
          "iopub.execute_input": "2024-02-08T08:12:32.074237Z",
          "iopub.status.idle": "2024-02-08T08:12:32.264271Z",
          "shell.execute_reply.started": "2024-02-08T08:12:32.074212Z",
          "shell.execute_reply": "2024-02-08T08:12:32.263435Z"
        },
        "trusted": true,
        "id": "i71WnMblP943"
      },
      "execution_count": null,
      "outputs": []
    },
    {
      "cell_type": "code",
      "source": [
        "# image_model.save('gender_image_classifier.h5')\n",
        "import os\n",
        "image_model.save(os.path.join('models','gender_image_classifier1.h5'))\n",
        "\n",
        "# os.path"
      ],
      "metadata": {
        "execution": {
          "iopub.status.busy": "2024-02-08T08:29:01.053815Z",
          "iopub.execute_input": "2024-02-08T08:29:01.054679Z",
          "iopub.status.idle": "2024-02-08T08:29:01.946355Z",
          "shell.execute_reply.started": "2024-02-08T08:29:01.054649Z",
          "shell.execute_reply": "2024-02-08T08:29:01.945420Z"
        },
        "trusted": true,
        "id": "QMul20b3P946"
      },
      "execution_count": null,
      "outputs": []
    },
    {
      "cell_type": "code",
      "source": [
        "\n",
        "\n",
        "classes = [\"male\",\"female\"]\n",
        "img_path = \"/kaggle/input/testing-images/julie.jpg\"\n",
        "fileImage = Image.open(img_path).convert(\"RGB\").resize([width,height],Image.LANCZOS)\n",
        "image = np.array(fileImage)\n",
        "myimage = image.reshape(1, width,height,3)\n",
        "\n",
        "# prepare pixel data\n",
        "myimage = myimage.astype('float32')\n",
        "myimage = myimage/255.\n",
        "\n",
        "plt.figure(figsize = (4,2))\n",
        "plt.imshow(image)\n",
        "\n",
        "\n",
        "\n"
      ],
      "metadata": {
        "execution": {
          "iopub.status.busy": "2024-02-08T08:22:45.575353Z",
          "iopub.execute_input": "2024-02-08T08:22:45.576027Z",
          "iopub.status.idle": "2024-02-08T08:22:46.134205Z",
          "shell.execute_reply.started": "2024-02-08T08:22:45.575994Z",
          "shell.execute_reply": "2024-02-08T08:22:46.133309Z"
        },
        "trusted": true,
        "id": "ZCnC_kTeP949"
      },
      "execution_count": null,
      "outputs": []
    },
    {
      "cell_type": "code",
      "source": [
        "pred_arr = image_model.predict(myimage)\n",
        "\n",
        "pred_class = pred_arr.argmax()\n",
        "probability = pred_arr.max()\n",
        "\n",
        "print(pred_class)\n",
        "print(probability)"
      ],
      "metadata": {
        "execution": {
          "iopub.status.busy": "2024-02-08T08:22:46.135975Z",
          "iopub.execute_input": "2024-02-08T08:22:46.136405Z",
          "iopub.status.idle": "2024-02-08T08:22:46.207606Z",
          "shell.execute_reply.started": "2024-02-08T08:22:46.136374Z",
          "shell.execute_reply": "2024-02-08T08:22:46.206639Z"
        },
        "trusted": true,
        "id": "-DUfUdUaP95A"
      },
      "execution_count": null,
      "outputs": []
    },
    {
      "cell_type": "code",
      "source": [],
      "metadata": {
        "trusted": true,
        "id": "h27IbQaSP95C"
      },
      "execution_count": null,
      "outputs": []
    },
    {
      "cell_type": "code",
      "source": [],
      "metadata": {
        "id": "p7ScxauJQHTr"
      },
      "execution_count": null,
      "outputs": []
    }
  ]
}