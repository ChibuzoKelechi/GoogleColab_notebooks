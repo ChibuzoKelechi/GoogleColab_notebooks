{
 "cells": [
  {
   "cell_type": "code",
   "execution_count": 1,
   "id": "cdfe5404",
   "metadata": {
    "execution": {
     "iopub.execute_input": "2024-04-14T12:02:55.030095Z",
     "iopub.status.busy": "2024-04-14T12:02:55.029323Z",
     "iopub.status.idle": "2024-04-14T12:03:08.700614Z",
     "shell.execute_reply": "2024-04-14T12:03:08.699821Z"
    },
    "id": "b32llkRlYNuv",
    "papermill": {
     "duration": 13.680726,
     "end_time": "2024-04-14T12:03:08.702943",
     "exception": false,
     "start_time": "2024-04-14T12:02:55.022217",
     "status": "completed"
    },
    "tags": []
   },
   "outputs": [
    {
     "name": "stderr",
     "output_type": "stream",
     "text": [
      "2024-04-14 12:02:56.700950: E external/local_xla/xla/stream_executor/cuda/cuda_dnn.cc:9261] Unable to register cuDNN factory: Attempting to register factory for plugin cuDNN when one has already been registered\n",
      "2024-04-14 12:02:56.701056: E external/local_xla/xla/stream_executor/cuda/cuda_fft.cc:607] Unable to register cuFFT factory: Attempting to register factory for plugin cuFFT when one has already been registered\n",
      "2024-04-14 12:02:56.833430: E external/local_xla/xla/stream_executor/cuda/cuda_blas.cc:1515] Unable to register cuBLAS factory: Attempting to register factory for plugin cuBLAS when one has already been registered\n"
     ]
    }
   ],
   "source": [
    "import tensorflow as tf\n",
    "import tensorflow_datasets as tfds\n",
    "import matplotlib.pyplot as plt\n",
    "import datetime\n",
    "import numpy as np\n",
    "import pandas as pd\n",
    "\n",
    "from tensorflow import keras as tfkeras\n",
    "from keras import layers, losses\n",
    "from keras.models import load_model\n",
    "from tensorflow.keras.preprocessing.text import Tokenizer\n",
    "from keras.preprocessing.sequence import pad_sequences\n",
    "from keras.utils import to_categorical"
   ]
  },
  {
   "cell_type": "code",
   "execution_count": 2,
   "id": "e3fa7bbd",
   "metadata": {
    "execution": {
     "iopub.execute_input": "2024-04-14T12:03:08.716101Z",
     "iopub.status.busy": "2024-04-14T12:03:08.714697Z",
     "iopub.status.idle": "2024-04-14T12:03:09.967456Z",
     "shell.execute_reply": "2024-04-14T12:03:09.966426Z"
    },
    "id": "WzKpeGqb5hj_",
    "outputId": "faa43f34-b8c1-415a-94b9-96ca09534985",
    "papermill": {
     "duration": 1.26127,
     "end_time": "2024-04-14T12:03:09.969845",
     "exception": false,
     "start_time": "2024-04-14T12:03:08.708575",
     "status": "completed"
    },
    "tags": []
   },
   "outputs": [],
   "source": [
    "text_data = '/kaggle/input/emotions/text.csv'\n",
    "\n",
    "dataset = pd.read_csv(text_data)"
   ]
  },
  {
   "cell_type": "code",
   "execution_count": 3,
   "id": "81f72507",
   "metadata": {
    "execution": {
     "iopub.execute_input": "2024-04-14T12:03:09.982619Z",
     "iopub.status.busy": "2024-04-14T12:03:09.981939Z",
     "iopub.status.idle": "2024-04-14T12:03:10.000024Z",
     "shell.execute_reply": "2024-04-14T12:03:09.999159Z"
    },
    "papermill": {
     "duration": 0.026421,
     "end_time": "2024-04-14T12:03:10.002031",
     "exception": false,
     "start_time": "2024-04-14T12:03:09.975610",
     "status": "completed"
    },
    "tags": []
   },
   "outputs": [
    {
     "data": {
      "text/html": [
       "<div>\n",
       "<style scoped>\n",
       "    .dataframe tbody tr th:only-of-type {\n",
       "        vertical-align: middle;\n",
       "    }\n",
       "\n",
       "    .dataframe tbody tr th {\n",
       "        vertical-align: top;\n",
       "    }\n",
       "\n",
       "    .dataframe thead th {\n",
       "        text-align: right;\n",
       "    }\n",
       "</style>\n",
       "<table border=\"1\" class=\"dataframe\">\n",
       "  <thead>\n",
       "    <tr style=\"text-align: right;\">\n",
       "      <th></th>\n",
       "      <th>Unnamed: 0</th>\n",
       "      <th>text</th>\n",
       "      <th>label</th>\n",
       "    </tr>\n",
       "  </thead>\n",
       "  <tbody>\n",
       "    <tr>\n",
       "      <th>0</th>\n",
       "      <td>0</td>\n",
       "      <td>i just feel really helpless and heavy hearted</td>\n",
       "      <td>4</td>\n",
       "    </tr>\n",
       "    <tr>\n",
       "      <th>1</th>\n",
       "      <td>1</td>\n",
       "      <td>ive enjoyed being able to slouch about relax a...</td>\n",
       "      <td>0</td>\n",
       "    </tr>\n",
       "    <tr>\n",
       "      <th>2</th>\n",
       "      <td>2</td>\n",
       "      <td>i gave up my internship with the dmrg and am f...</td>\n",
       "      <td>4</td>\n",
       "    </tr>\n",
       "    <tr>\n",
       "      <th>3</th>\n",
       "      <td>3</td>\n",
       "      <td>i dont know i feel so lost</td>\n",
       "      <td>0</td>\n",
       "    </tr>\n",
       "    <tr>\n",
       "      <th>4</th>\n",
       "      <td>4</td>\n",
       "      <td>i am a kindergarten teacher and i am thoroughl...</td>\n",
       "      <td>4</td>\n",
       "    </tr>\n",
       "    <tr>\n",
       "      <th>...</th>\n",
       "      <td>...</td>\n",
       "      <td>...</td>\n",
       "      <td>...</td>\n",
       "    </tr>\n",
       "    <tr>\n",
       "      <th>416804</th>\n",
       "      <td>416804</td>\n",
       "      <td>i feel like telling these horny devils to find...</td>\n",
       "      <td>2</td>\n",
       "    </tr>\n",
       "    <tr>\n",
       "      <th>416805</th>\n",
       "      <td>416805</td>\n",
       "      <td>i began to realize that when i was feeling agi...</td>\n",
       "      <td>3</td>\n",
       "    </tr>\n",
       "    <tr>\n",
       "      <th>416806</th>\n",
       "      <td>416806</td>\n",
       "      <td>i feel very curious be why previous early dawn...</td>\n",
       "      <td>5</td>\n",
       "    </tr>\n",
       "    <tr>\n",
       "      <th>416807</th>\n",
       "      <td>416807</td>\n",
       "      <td>i feel that becuase of the tyranical nature of...</td>\n",
       "      <td>3</td>\n",
       "    </tr>\n",
       "    <tr>\n",
       "      <th>416808</th>\n",
       "      <td>416808</td>\n",
       "      <td>i think that after i had spent some time inves...</td>\n",
       "      <td>5</td>\n",
       "    </tr>\n",
       "  </tbody>\n",
       "</table>\n",
       "<p>416809 rows × 3 columns</p>\n",
       "</div>"
      ],
      "text/plain": [
       "        Unnamed: 0                                               text  label\n",
       "0                0      i just feel really helpless and heavy hearted      4\n",
       "1                1  ive enjoyed being able to slouch about relax a...      0\n",
       "2                2  i gave up my internship with the dmrg and am f...      4\n",
       "3                3                         i dont know i feel so lost      0\n",
       "4                4  i am a kindergarten teacher and i am thoroughl...      4\n",
       "...            ...                                                ...    ...\n",
       "416804      416804  i feel like telling these horny devils to find...      2\n",
       "416805      416805  i began to realize that when i was feeling agi...      3\n",
       "416806      416806  i feel very curious be why previous early dawn...      5\n",
       "416807      416807  i feel that becuase of the tyranical nature of...      3\n",
       "416808      416808  i think that after i had spent some time inves...      5\n",
       "\n",
       "[416809 rows x 3 columns]"
      ]
     },
     "execution_count": 3,
     "metadata": {},
     "output_type": "execute_result"
    }
   ],
   "source": [
    "dataset"
   ]
  },
  {
   "cell_type": "code",
   "execution_count": 4,
   "id": "3b45ede1",
   "metadata": {
    "execution": {
     "iopub.execute_input": "2024-04-14T12:03:10.014362Z",
     "iopub.status.busy": "2024-04-14T12:03:10.014093Z",
     "iopub.status.idle": "2024-04-14T12:03:10.025216Z",
     "shell.execute_reply": "2024-04-14T12:03:10.024409Z"
    },
    "papermill": {
     "duration": 0.019447,
     "end_time": "2024-04-14T12:03:10.027046",
     "exception": false,
     "start_time": "2024-04-14T12:03:10.007599",
     "status": "completed"
    },
    "tags": []
   },
   "outputs": [
    {
     "data": {
      "text/plain": [
       "array([4, 0, 2, 1, 5, 3])"
      ]
     },
     "execution_count": 4,
     "metadata": {},
     "output_type": "execute_result"
    }
   ],
   "source": [
    "dataset['label'].unique()"
   ]
  },
  {
   "cell_type": "code",
   "execution_count": 5,
   "id": "fd24693d",
   "metadata": {
    "execution": {
     "iopub.execute_input": "2024-04-14T12:03:10.048522Z",
     "iopub.status.busy": "2024-04-14T12:03:10.048242Z",
     "iopub.status.idle": "2024-04-14T12:03:10.070602Z",
     "shell.execute_reply": "2024-04-14T12:03:10.069891Z"
    },
    "papermill": {
     "duration": 0.030797,
     "end_time": "2024-04-14T12:03:10.072444",
     "exception": false,
     "start_time": "2024-04-14T12:03:10.041647",
     "status": "completed"
    },
    "tags": []
   },
   "outputs": [],
   "source": [
    "tweets = dataset['text'].tolist()\n",
    "categories = dataset['label'].tolist()\n"
   ]
  },
  {
   "cell_type": "code",
   "execution_count": 6,
   "id": "f122c065",
   "metadata": {
    "execution": {
     "iopub.execute_input": "2024-04-14T12:03:10.084921Z",
     "iopub.status.busy": "2024-04-14T12:03:10.084635Z",
     "iopub.status.idle": "2024-04-14T12:03:20.457130Z",
     "shell.execute_reply": "2024-04-14T12:03:20.456039Z"
    },
    "papermill": {
     "duration": 10.381655,
     "end_time": "2024-04-14T12:03:20.459854",
     "exception": false,
     "start_time": "2024-04-14T12:03:10.078199",
     "status": "completed"
    },
    "tags": []
   },
   "outputs": [
    {
     "name": "stdout",
     "output_type": "stream",
     "text": [
      "Vocab size is 75303\n"
     ]
    }
   ],
   "source": [
    "tokenizer = Tokenizer()\n",
    "tokenizer.fit_on_texts(tweets)\n",
    "\n",
    "vocab_size = len(tokenizer.word_index) + 1\n",
    "print(f'Vocab size is {vocab_size}')"
   ]
  },
  {
   "cell_type": "code",
   "execution_count": 7,
   "id": "3319bb09",
   "metadata": {
    "execution": {
     "iopub.execute_input": "2024-04-14T12:03:20.475286Z",
     "iopub.status.busy": "2024-04-14T12:03:20.474992Z",
     "iopub.status.idle": "2024-04-14T12:03:20.488253Z",
     "shell.execute_reply": "2024-04-14T12:03:20.487403Z"
    },
    "id": "_gmgNoq2Z7Bd",
    "papermill": {
     "duration": 0.021937,
     "end_time": "2024-04-14T12:03:20.490162",
     "exception": false,
     "start_time": "2024-04-14T12:03:20.468225",
     "status": "completed"
    },
    "tags": []
   },
   "outputs": [],
   "source": [
    "# reddit_data = '/content/drive/MyDrive/Datasets/Twitter_reddit SA data/Reddit_Data.csv'\n",
    "\n",
    "train_size = 300000\n",
    "embedding_dim = 100\n",
    "max_length = 128\n",
    "trunc_type='post'\n",
    "pad_type='post'\n",
    "\n",
    "train_text = tweets[0:train_size]\n",
    "test_text = tweets[train_size:]\n",
    "\n",
    "train_labels = categories[0:train_size]\n",
    "test_labels = categories[train_size:]"
   ]
  },
  {
   "cell_type": "code",
   "execution_count": 8,
   "id": "d53a7b8d",
   "metadata": {
    "execution": {
     "iopub.execute_input": "2024-04-14T12:03:20.503215Z",
     "iopub.status.busy": "2024-04-14T12:03:20.502942Z",
     "iopub.status.idle": "2024-04-14T12:03:30.866461Z",
     "shell.execute_reply": "2024-04-14T12:03:30.865674Z"
    },
    "id": "lZmiRPfXxcTr",
    "papermill": {
     "duration": 10.372368,
     "end_time": "2024-04-14T12:03:30.868712",
     "exception": false,
     "start_time": "2024-04-14T12:03:20.496344",
     "status": "completed"
    },
    "tags": []
   },
   "outputs": [],
   "source": [
    "train_sequence = tokenizer.texts_to_sequences(train_text)\n",
    "train_padded = pad_sequences(train_sequence, padding='post', maxlen=max_length, truncating=trunc_type)\n",
    "\n",
    "test_sequence = tokenizer.texts_to_sequences(test_text)\n",
    "test_padded = pad_sequences(test_sequence, padding='post', maxlen=max_length, truncating=trunc_type)\n",
    "\n",
    "train_padded = np.array(train_padded)\n",
    "train_labels = np.array(train_labels)\n",
    "test_padded = np.array(test_padded)\n",
    "test_labels = np.array(test_labels)\n",
    "\n",
    "train_labels = train_labels.reshape(-1, 1)\n",
    "test_labels = test_labels.reshape(-1, 1)\n",
    "\n",
    "test_labels = test_labels[:len(test_padded)]\n",
    "\n",
    "dataset_shape = dataset.shape\n",
    "\n",
    "train_labels = to_categorical(train_labels, num_classes=6)\n",
    "test_labels = to_categorical(test_labels, num_classes=6)"
   ]
  },
  {
   "cell_type": "code",
   "execution_count": 9,
   "id": "c93d25e5",
   "metadata": {
    "execution": {
     "iopub.execute_input": "2024-04-14T12:03:30.881897Z",
     "iopub.status.busy": "2024-04-14T12:03:30.881601Z",
     "iopub.status.idle": "2024-04-14T12:03:30.885775Z",
     "shell.execute_reply": "2024-04-14T12:03:30.885004Z"
    },
    "id": "_ay4dSgXZoCQ",
    "papermill": {
     "duration": 0.012894,
     "end_time": "2024-04-14T12:03:30.887711",
     "exception": false,
     "start_time": "2024-04-14T12:03:30.874817",
     "status": "completed"
    },
    "tags": []
   },
   "outputs": [],
   "source": [
    "early_stop = tfkeras.callbacks.EarlyStopping(\n",
    "    min_delta=0.001,\n",
    "    patience=10,\n",
    "    restore_best_weights=True\n",
    ")"
   ]
  },
  {
   "cell_type": "code",
   "execution_count": 10,
   "id": "70236f39",
   "metadata": {
    "execution": {
     "iopub.execute_input": "2024-04-14T12:03:30.900130Z",
     "iopub.status.busy": "2024-04-14T12:03:30.899838Z",
     "iopub.status.idle": "2024-04-14T12:03:31.560959Z",
     "shell.execute_reply": "2024-04-14T12:03:31.560071Z"
    },
    "id": "OZtyX5kbJ_QK",
    "papermill": {
     "duration": 0.669783,
     "end_time": "2024-04-14T12:03:31.563144",
     "exception": false,
     "start_time": "2024-04-14T12:03:30.893361",
     "status": "completed"
    },
    "tags": []
   },
   "outputs": [],
   "source": [
    "text_model = tfkeras.Sequential([\n",
    "    layers.Embedding(vocab_size, embedding_dim),\n",
    "    layers.Dropout(0.2),\n",
    "    layers.GlobalAveragePooling1D(),\n",
    "    layers.Dropout(0.2),\n",
    "    layers.Dense(6, activation='softmax')\n",
    "])\n",
    "\n",
    "\n",
    "text_model.compile(\n",
    "    loss='categorical_crossentropy',\n",
    "    optimizer='adam',\n",
    "    metrics=['accuracy']\n",
    ")"
   ]
  },
  {
   "cell_type": "code",
   "execution_count": 11,
   "id": "756463ee",
   "metadata": {
    "execution": {
     "iopub.execute_input": "2024-04-14T12:03:31.576130Z",
     "iopub.status.busy": "2024-04-14T12:03:31.575814Z",
     "iopub.status.idle": "2024-04-14T12:03:31.581030Z",
     "shell.execute_reply": "2024-04-14T12:03:31.580239Z"
    },
    "papermill": {
     "duration": 0.013476,
     "end_time": "2024-04-14T12:03:31.582737",
     "exception": false,
     "start_time": "2024-04-14T12:03:31.569261",
     "status": "completed"
    },
    "tags": []
   },
   "outputs": [
    {
     "data": {
      "text/plain": [
       "300000"
      ]
     },
     "execution_count": 11,
     "metadata": {},
     "output_type": "execute_result"
    }
   ],
   "source": [
    "len(train_padded)"
   ]
  },
  {
   "cell_type": "code",
   "execution_count": 12,
   "id": "45691c3f",
   "metadata": {
    "execution": {
     "iopub.execute_input": "2024-04-14T12:03:31.595587Z",
     "iopub.status.busy": "2024-04-14T12:03:31.595319Z",
     "iopub.status.idle": "2024-04-14T12:12:06.836165Z",
     "shell.execute_reply": "2024-04-14T12:12:06.835363Z"
    },
    "id": "sPiZhJq3HCRT",
    "outputId": "6ab564d3-85e4-4350-9aa9-d64c6152d2de",
    "papermill": {
     "duration": 515.249731,
     "end_time": "2024-04-14T12:12:06.838353",
     "exception": false,
     "start_time": "2024-04-14T12:03:31.588622",
     "status": "completed"
    },
    "tags": []
   },
   "outputs": [
    {
     "name": "stdout",
     "output_type": "stream",
     "text": [
      "Epoch 1/30\n",
      "\u001b[1m  54/9375\u001b[0m \u001b[37m━━━━━━━━━━━━━━━━━━━━\u001b[0m \u001b[1m27s\u001b[0m 3ms/step - accuracy: 0.3093 - loss: 1.6379"
     ]
    },
    {
     "name": "stderr",
     "output_type": "stream",
     "text": [
      "WARNING: All log messages before absl::InitializeLog() is called are written to STDERR\n",
      "I0000 00:00:1713096216.026365      67 device_compiler.h:186] Compiled cluster using XLA!  This line is logged at most once for the lifetime of the process.\n"
     ]
    },
    {
     "name": "stdout",
     "output_type": "stream",
     "text": [
      "\u001b[1m9375/9375\u001b[0m \u001b[32m━━━━━━━━━━━━━━━━━━━━\u001b[0m\u001b[37m\u001b[0m \u001b[1m35s\u001b[0m 3ms/step - accuracy: 0.4824 - loss: 1.3654 - val_accuracy: 0.8819 - val_loss: 0.4166\n",
      "Epoch 2/30\n",
      "\u001b[1m9375/9375\u001b[0m \u001b[32m━━━━━━━━━━━━━━━━━━━━\u001b[0m\u001b[37m\u001b[0m \u001b[1m30s\u001b[0m 3ms/step - accuracy: 0.8968 - loss: 0.3188 - val_accuracy: 0.8859 - val_loss: 0.2944\n",
      "Epoch 3/30\n",
      "\u001b[1m9375/9375\u001b[0m \u001b[32m━━━━━━━━━━━━━━━━━━━━\u001b[0m\u001b[37m\u001b[0m \u001b[1m30s\u001b[0m 3ms/step - accuracy: 0.9067 - loss: 0.2489 - val_accuracy: 0.9008 - val_loss: 0.2433\n",
      "Epoch 4/30\n",
      "\u001b[1m9375/9375\u001b[0m \u001b[32m━━━━━━━━━━━━━━━━━━━━\u001b[0m\u001b[37m\u001b[0m \u001b[1m30s\u001b[0m 3ms/step - accuracy: 0.9106 - loss: 0.2333 - val_accuracy: 0.8984 - val_loss: 0.2541\n",
      "Epoch 5/30\n",
      "\u001b[1m9375/9375\u001b[0m \u001b[32m━━━━━━━━━━━━━━━━━━━━\u001b[0m\u001b[37m\u001b[0m \u001b[1m30s\u001b[0m 3ms/step - accuracy: 0.9122 - loss: 0.2275 - val_accuracy: 0.8988 - val_loss: 0.2460\n",
      "Epoch 6/30\n",
      "\u001b[1m9375/9375\u001b[0m \u001b[32m━━━━━━━━━━━━━━━━━━━━\u001b[0m\u001b[37m\u001b[0m \u001b[1m30s\u001b[0m 3ms/step - accuracy: 0.9158 - loss: 0.2186 - val_accuracy: 0.8935 - val_loss: 0.2831\n",
      "Epoch 7/30\n",
      "\u001b[1m9375/9375\u001b[0m \u001b[32m━━━━━━━━━━━━━━━━━━━━\u001b[0m\u001b[37m\u001b[0m \u001b[1m30s\u001b[0m 3ms/step - accuracy: 0.9167 - loss: 0.2134 - val_accuracy: 0.8954 - val_loss: 0.2373\n",
      "Epoch 8/30\n",
      "\u001b[1m9375/9375\u001b[0m \u001b[32m━━━━━━━━━━━━━━━━━━━━\u001b[0m\u001b[37m\u001b[0m \u001b[1m30s\u001b[0m 3ms/step - accuracy: 0.9179 - loss: 0.2100 - val_accuracy: 0.8964 - val_loss: 0.2392\n",
      "Epoch 9/30\n",
      "\u001b[1m9375/9375\u001b[0m \u001b[32m━━━━━━━━━━━━━━━━━━━━\u001b[0m\u001b[37m\u001b[0m \u001b[1m30s\u001b[0m 3ms/step - accuracy: 0.9197 - loss: 0.2057 - val_accuracy: 0.8867 - val_loss: 0.3289\n",
      "Epoch 10/30\n",
      "\u001b[1m9375/9375\u001b[0m \u001b[32m━━━━━━━━━━━━━━━━━━━━\u001b[0m\u001b[37m\u001b[0m \u001b[1m30s\u001b[0m 3ms/step - accuracy: 0.9194 - loss: 0.2048 - val_accuracy: 0.8918 - val_loss: 0.2555\n",
      "Epoch 11/30\n",
      "\u001b[1m9375/9375\u001b[0m \u001b[32m━━━━━━━━━━━━━━━━━━━━\u001b[0m\u001b[37m\u001b[0m \u001b[1m30s\u001b[0m 3ms/step - accuracy: 0.9198 - loss: 0.2028 - val_accuracy: 0.8915 - val_loss: 0.2960\n",
      "Epoch 12/30\n",
      "\u001b[1m9375/9375\u001b[0m \u001b[32m━━━━━━━━━━━━━━━━━━━━\u001b[0m\u001b[37m\u001b[0m \u001b[1m30s\u001b[0m 3ms/step - accuracy: 0.9211 - loss: 0.2005 - val_accuracy: 0.8966 - val_loss: 0.2673\n",
      "Epoch 13/30\n",
      "\u001b[1m9375/9375\u001b[0m \u001b[32m━━━━━━━━━━━━━━━━━━━━\u001b[0m\u001b[37m\u001b[0m \u001b[1m30s\u001b[0m 3ms/step - accuracy: 0.9218 - loss: 0.1975 - val_accuracy: 0.8944 - val_loss: 0.2754\n",
      "Epoch 14/30\n",
      "\u001b[1m9375/9375\u001b[0m \u001b[32m━━━━━━━━━━━━━━━━━━━━\u001b[0m\u001b[37m\u001b[0m \u001b[1m30s\u001b[0m 3ms/step - accuracy: 0.9218 - loss: 0.1983 - val_accuracy: 0.8964 - val_loss: 0.2562\n",
      "Epoch 15/30\n",
      "\u001b[1m9375/9375\u001b[0m \u001b[32m━━━━━━━━━━━━━━━━━━━━\u001b[0m\u001b[37m\u001b[0m \u001b[1m30s\u001b[0m 3ms/step - accuracy: 0.9247 - loss: 0.1903 - val_accuracy: 0.8948 - val_loss: 0.2546\n",
      "Epoch 16/30\n",
      "\u001b[1m9375/9375\u001b[0m \u001b[32m━━━━━━━━━━━━━━━━━━━━\u001b[0m\u001b[37m\u001b[0m \u001b[1m30s\u001b[0m 3ms/step - accuracy: 0.9236 - loss: 0.1923 - val_accuracy: 0.8937 - val_loss: 0.2718\n",
      "Epoch 17/30\n",
      "\u001b[1m9375/9375\u001b[0m \u001b[32m━━━━━━━━━━━━━━━━━━━━\u001b[0m\u001b[37m\u001b[0m \u001b[1m30s\u001b[0m 3ms/step - accuracy: 0.9237 - loss: 0.1924 - val_accuracy: 0.8813 - val_loss: 0.3090\n"
     ]
    }
   ],
   "source": [
    "history = text_model.fit(\n",
    "    train_padded, train_labels,\n",
    "    epochs=30,\n",
    "    validation_data=(test_padded, test_labels),\n",
    "    verbose=1,\n",
    "    callbacks=[early_stop]\n",
    ")"
   ]
  },
  {
   "cell_type": "code",
   "execution_count": 13,
   "id": "2147caaf",
   "metadata": {
    "execution": {
     "iopub.execute_input": "2024-04-14T12:12:08.269180Z",
     "iopub.status.busy": "2024-04-14T12:12:08.268811Z",
     "iopub.status.idle": "2024-04-14T12:12:08.596035Z",
     "shell.execute_reply": "2024-04-14T12:12:08.595190Z"
    },
    "id": "y3TsXH9Ghf9S",
    "outputId": "7f1d27c6-55c2-4bf6-9857-fd1c70e3adcd",
    "papermill": {
     "duration": 1.070743,
     "end_time": "2024-04-14T12:12:08.598115",
     "exception": false,
     "start_time": "2024-04-14T12:12:07.527372",
     "status": "completed"
    },
    "tags": []
   },
   "outputs": [
    {
     "name": "stdout",
     "output_type": "stream",
     "text": [
      "Minimum validation loss: 0.2373475283384323\n"
     ]
    },
    {
     "data": {
      "image/png": "[encoded data removed]",
      "text/plain": [
       "<Figure size 640x480 with 1 Axes>"
      ]
     },
     "metadata": {},
     "output_type": "display_data"
    }
   ],
   "source": [
    "history_df = pd.DataFrame(history.history)\n",
    "history_df.loc[:, ['loss', 'val_loss']].plot()\n",
    "print(\"Minimum validation loss: {}\".format(history_df['val_loss'].min()))"
   ]
  },
  {
   "cell_type": "code",
   "execution_count": 14,
   "id": "abcfc542",
   "metadata": {
    "execution": {
     "iopub.execute_input": "2024-04-14T12:12:09.984783Z",
     "iopub.status.busy": "2024-04-14T12:12:09.983854Z",
     "iopub.status.idle": "2024-04-14T12:12:14.868691Z",
     "shell.execute_reply": "2024-04-14T12:12:14.867750Z"
    },
    "id": "QSBHQds93LXs",
    "outputId": "5289f918-16dc-468e-ac51-4f3fc544d21b",
    "papermill": {
     "duration": 5.575445,
     "end_time": "2024-04-14T12:12:14.870662",
     "exception": false,
     "start_time": "2024-04-14T12:12:09.295217",
     "status": "completed"
    },
    "tags": []
   },
   "outputs": [
    {
     "name": "stdout",
     "output_type": "stream",
     "text": [
      "\u001b[1m3651/3651\u001b[0m \u001b[32m━━━━━━━━━━━━━━━━━━━━\u001b[0m\u001b[37m\u001b[0m \u001b[1m5s\u001b[0m 1ms/step - accuracy: 0.8964 - loss: 0.2328\n",
      "Your model has an accuracy of 89.5376205444336%\n"
     ]
    }
   ],
   "source": [
    "results = text_model.evaluate(test_padded, test_labels, batch_size=32)\n",
    "\n",
    "print(f'Your model has an accuracy of {100*results[1]}%')"
   ]
  },
  {
   "cell_type": "markdown",
   "id": "788c1533",
   "metadata": {
    "id": "cYxVvS1m9Ers",
    "papermill": {
     "duration": 0.697918,
     "end_time": "2024-04-14T12:12:16.308770",
     "exception": false,
     "start_time": "2024-04-14T12:12:15.610852",
     "status": "completed"
    },
    "tags": []
   },
   "source": [
    "## Input Classifcation\n",
    "The Model has been built. Now its time to setup the code for processing and classifiying input sentiment"
   ]
  },
  {
   "cell_type": "code",
   "execution_count": 15,
   "id": "56b9d777",
   "metadata": {
    "execution": {
     "iopub.execute_input": "2024-04-14T12:12:17.793765Z",
     "iopub.status.busy": "2024-04-14T12:12:17.792916Z",
     "iopub.status.idle": "2024-04-14T12:12:17.798541Z",
     "shell.execute_reply": "2024-04-14T12:12:17.797668Z"
    },
    "id": "6vTJiQWx9D73",
    "papermill": {
     "duration": 0.713006,
     "end_time": "2024-04-14T12:12:17.800511",
     "exception": false,
     "start_time": "2024-04-14T12:12:17.087505",
     "status": "completed"
    },
    "tags": []
   },
   "outputs": [],
   "source": [
    "test_sentences = [\n",
    "    'I definitely love machine learning, its so cool',\n",
    "    'Twitter is a really difficult place, so much hate',\n",
    "    'I am okay, not so bad',\n",
    "    'Oh I am overflowing with joy and happiness'\n",
    "]\n",
    "\n",
    "# sadness (0), joy (1), love (2), anger (3), fear (4), and surprise (5)\n",
    "\n",
    "def preprocess_text(text):\n",
    "  text = text.lower()\n",
    "  input_sequence = tokenizer.texts_to_sequences([text])\n",
    "  input_padded = pad_sequences(input_sequence, maxlen=100, padding='post')\n",
    "\n",
    "  return input_padded\n"
   ]
  },
  {
   "cell_type": "code",
   "execution_count": 16,
   "id": "1d415b42",
   "metadata": {
    "execution": {
     "iopub.execute_input": "2024-04-14T12:12:19.272063Z",
     "iopub.status.busy": "2024-04-14T12:12:19.271670Z",
     "iopub.status.idle": "2024-04-14T12:12:19.730760Z",
     "shell.execute_reply": "2024-04-14T12:12:19.729838Z"
    },
    "id": "n1CXipo7_m7K",
    "outputId": "d27ddd34-2176-4f42-dff7-6106e302962e",
    "papermill": {
     "duration": 1.2383,
     "end_time": "2024-04-14T12:12:19.732687",
     "exception": false,
     "start_time": "2024-04-14T12:12:18.494387",
     "status": "completed"
    },
    "tags": []
   },
   "outputs": [
    {
     "name": "stdout",
     "output_type": "stream",
     "text": [
      "\u001b[1m1/1\u001b[0m \u001b[32m━━━━━━━━━━━━━━━━━━━━\u001b[0m\u001b[37m\u001b[0m \u001b[1m0s\u001b[0m 240ms/step\n",
      "Input Sentence: I definitely love machine learning, its so cool\n",
      "Predicted: joy (1)\n",
      "Certainty: 99.37%\n",
      "\u001b[1m1/1\u001b[0m \u001b[32m━━━━━━━━━━━━━━━━━━━━\u001b[0m\u001b[37m\u001b[0m \u001b[1m0s\u001b[0m 16ms/step\n",
      "Input Sentence: Twitter is a really difficult place, so much hate\n",
      "Predicted: sadness (0)\n",
      "Certainty: 40.39%\n",
      "\u001b[1m1/1\u001b[0m \u001b[32m━━━━━━━━━━━━━━━━━━━━\u001b[0m\u001b[37m\u001b[0m \u001b[1m0s\u001b[0m 17ms/step\n",
      "Input Sentence: I am okay, not so bad\n",
      "Predicted: sadness (0)\n",
      "Certainty: 97.62%\n",
      "\u001b[1m1/1\u001b[0m \u001b[32m━━━━━━━━━━━━━━━━━━━━\u001b[0m\u001b[37m\u001b[0m \u001b[1m0s\u001b[0m 16ms/step\n",
      "Input Sentence: Oh I am overflowing with joy and happiness\n",
      "Predicted: joy (1)\n",
      "Certainty: 69.19%\n"
     ]
    }
   ],
   "source": [
    "input_text = test_sentences[1]\n",
    "\n",
    "for input_text in test_sentences:\n",
    "    input = preprocess_text(input_text)\n",
    "\n",
    "    score = text_model.predict(input)\n",
    "\n",
    "    emotions = ['sadness (0)', 'joy (1)', 'love (2)', 'anger (3)', 'fear (4)', 'surprise (5)']\n",
    "\n",
    "    predicted_class = np.argmax(score)\n",
    "    certainty = 100 * np.max(score)\n",
    "\n",
    "    print(f'Input Sentence: {input_text}')\n",
    "    print(f'Predicted: {emotions[predicted_class]}')\n",
    "    print(f'Certainty: {certainty:.2f}%')"
   ]
  }
 ],
 "metadata": {
  "colab": {
   "provenance": []
  },
  "kaggle": {
   "accelerator": "gpu",
   "dataSources": [
    {
     "datasetId": 4764772,
     "sourceId": 8074291,
     "sourceType": "datasetVersion"
    },
    {
     "datasetId": 4403839,
     "sourceId": 7563141,
     "sourceType": "datasetVersion"
    }
   ],
   "dockerImageVersionId": 30683,
   "isGpuEnabled": true,
   "isInternetEnabled": true,
   "language": "python",
   "sourceType": "notebook"
  },
  "kernelspec": {
   "display_name": "Python 3",
   "language": "python",
   "name": "python3"
  },
  "language_info": {
   "codemirror_mode": {
    "name": "ipython",
    "version": 3
   },
   "file_extension": ".py",
   "mimetype": "text/x-python",
   "name": "python",
   "nbconvert_exporter": "python",
   "pygments_lexer": "ipython3",
   "version": "3.10.13"
  },
  "papermill": {
   "default_parameters": {},
   "duration": 570.166584,
   "end_time": "2024-04-14T12:12:22.573129",
   "environment_variables": {},
   "exception": null,
   "input_path": "__notebook__.ipynb",
   "output_path": "__notebook__.ipynb",
   "parameters": {},
   "start_time": "2024-04-14T12:02:52.406545",
   "version": "2.5.0"
  }
 },
 "nbformat": 4,
 "nbformat_minor": 5
}
