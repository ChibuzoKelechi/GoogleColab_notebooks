{
  "nbformat": 4,
  "nbformat_minor": 0,
  "metadata": {
    "colab": {
      "provenance": [],
      "authorship_tag": "ABX9TyPRIoJ2RlDlegYEMsw7cSJT",
      "include_colab_link": true
    },
    "kernelspec": {
      "name": "python3",
      "display_name": "Python 3"
    },
    "language_info": {
      "name": "python"
    }
  },
  "cells": [
    {
      "cell_type": "markdown",
      "metadata": {
        "id": "view-in-github",
        "colab_type": "text"
      },
      "source": [
        "<a href=\"https://colab.research.google.com/github/ChibuzoKelechi/GoogleColab_notebooks/blob/main/sentiment_classifier_tf.ipynb\" target=\"_parent\"><img src=\"https://colab.research.google.com/assets/colab-badge.svg\" alt=\"Open In Colab\"/></a>"
      ]
    },
    {
      "cell_type": "code",
      "execution_count": 1,
      "metadata": {
        "id": "b32llkRlYNuv"
      },
      "outputs": [],
      "source": [
        "import tensorflow as tf\n",
        "import tensorflow_datasets as tfds\n",
        "import matplotlib.pyplot as plt\n",
        "import datetime\n",
        "import numpy as np\n",
        "import pandas as pd\n",
        "\n",
        "from sklearn.model_selection import train_test_split\n",
        "from tensorflow import keras as tfkeras\n",
        "from keras import layers, losses\n",
        "from keras.models import load_model\n",
        "from keras.preprocessing.text import Tokenizer\n",
        "from keras.preprocessing.sequence import pad_sequences"
      ]
    },
    {
      "cell_type": "code",
      "source": [
        "from google.colab import drive\n",
        "drive.mount('/content/drive')"
      ],
      "metadata": {
        "colab": {
          "base_uri": "https://localhost:8080/"
        },
        "id": "WzKpeGqb5hj_",
        "outputId": "0e63d6cd-8d22-49ec-b1c7-2f0465490dc5"
      },
      "execution_count": 2,
      "outputs": [
        {
          "output_type": "stream",
          "name": "stdout",
          "text": [
            "Mounted at /content/drive\n"
          ]
        }
      ]
    },
    {
      "cell_type": "code",
      "source": [
        "reddit_data = '/content/drive/MyDrive/Datasets/Twitter_reddit SA data/Reddit_Data.csv'\n",
        "reddit\n",
        "\n",
        "dataset = pd.read_csv(reddit_data)\n",
        "\n",
        "comments = dataset['clean_comment'].dropna()\n",
        "categories = dataset['category'].dropna()\n",
        "\n",
        "sentences = []\n",
        "labels = []\n",
        "\n",
        "for sentence in comments:\n",
        "  # sentences.append(str(dataset['clean_comment'].tolist()))\n",
        "  sentences.append(str(sentence))\n",
        "\n",
        "for category in categories:\n",
        "  labels.append(category)\n",
        "\n",
        "train_size = 28000\n",
        "vocab_size = 48244\n",
        "embedding_dim = 50\n",
        "max_length = 100\n",
        "trunc_type='post'\n",
        "pad_type='post'\n",
        "training_size = 20000\n",
        "\n",
        "train_text = sentences[0:train_size]\n",
        "test_text = sentences[train_size:]\n",
        "\n",
        "train_labels = labels[0:train_size]\n",
        "test_labels = labels[train_size:]"
      ],
      "metadata": {
        "id": "_gmgNoq2Z7Bd"
      },
      "execution_count": 3,
      "outputs": []
    },
    {
      "cell_type": "code",
      "source": [
        "tokenizer = Tokenizer(num_words=vocab_size, oov_token='<OOV>')\n",
        "\n",
        "tokenizer.fit_on_texts(train_text)\n",
        "word_index = tokenizer.word_index\n",
        "\n",
        "# test_sentence = ['I definitely love Machine learning', 'What is really the problem?']\n",
        "\n",
        "train_sequence = tokenizer.texts_to_sequences(train_text)\n",
        "trunc_type='post'\n",
        "train_padded = pad_sequences(train_sequence, padding='post', maxlen=100, truncating=trunc_type)\n",
        "\n",
        "test_sequence = tokenizer.texts_to_sequences(test_text)\n",
        "test_padded = pad_sequences(test_sequence, padding='post', maxlen=100, truncating=trunc_type)\n",
        "\n",
        "train_padded = np.array(train_padded)\n",
        "train_labels = np.array(train_labels)\n",
        "test_padded = np.array(test_padded)\n",
        "test_labels = np.array(test_labels)\n",
        "\n",
        "train_labels = train_labels.reshape(-1, 1)\n",
        "test_labels = test_labels.reshape(-1, 1)\n",
        "\n",
        "test_labels = test_labels[:len(test_padded)]\n",
        "\n",
        "dataset_shape = dataset.shape\n",
        "train_padded.shape\n",
        "\n"
      ],
      "metadata": {
        "id": "lZmiRPfXxcTr",
        "colab": {
          "base_uri": "https://localhost:8080/"
        },
        "outputId": "fc154bcf-b2ae-4fb0-8b00-51b2c459e3d2"
      },
      "execution_count": 4,
      "outputs": [
        {
          "output_type": "execute_result",
          "data": {
            "text/plain": [
              "(28000, 100)"
            ]
          },
          "metadata": {},
          "execution_count": 4
        }
      ]
    },
    {
      "cell_type": "code",
      "source": [
        "text_model = tfkeras.Sequential([\n",
        "    layers.Embedding(vocab_size, embedding_dim, input_length=100),\n",
        "    layers.GlobalAveragePooling1D(),\n",
        "    # layers.Flatten(),\n",
        "    layers.Dense(10, activation='relu'),\n",
        "    layers.Dense(1, activation='sigmoid')\n",
        "])\n",
        "\n",
        "text_model.compile(\n",
        "    loss='binary_crossentropy',\n",
        "    optimizer='adam',\n",
        "    metrics=['accuracy']\n",
        ")\n",
        "\n",
        "# callback_func = tfkeras.Callbacks([\n",
        "\n",
        "# ])"
      ],
      "metadata": {
        "id": "OZtyX5kbJ_QK"
      },
      "execution_count": 6,
      "outputs": []
    },
    {
      "cell_type": "code",
      "source": [],
      "metadata": {
        "id": "ElDQEEw5Ri3c"
      },
      "execution_count": null,
      "outputs": []
    },
    {
      "cell_type": "code",
      "source": [
        "history = text_model.fit(train_padded, train_labels,\n",
        "    epochs=10,\n",
        "    validation_data=(test_padded, test_labels),\n",
        "    verbose=1\n",
        ")"
      ],
      "metadata": {
        "colab": {
          "base_uri": "https://localhost:8080/"
        },
        "id": "sPiZhJq3HCRT",
        "outputId": "d43bddb8-c453-4e71-b55d-c7ce699e02d3"
      },
      "execution_count": 8,
      "outputs": [
        {
          "output_type": "stream",
          "name": "stdout",
          "text": [
            "Epoch 1/50\n",
            "875/875 - 34s - loss: 0.5272 - accuracy: 0.3375 - val_loss: 0.4757 - val_accuracy: 0.3991 - 34s/epoch - 39ms/step\n",
            "Epoch 2/50\n",
            "875/875 - 29s - loss: 0.5052 - accuracy: 0.3372 - val_loss: 0.4773 - val_accuracy: 0.3991 - 29s/epoch - 33ms/step\n",
            "Epoch 3/50\n",
            "875/875 - 28s - loss: 0.4761 - accuracy: 0.3400 - val_loss: 0.4802 - val_accuracy: 0.3987 - 28s/epoch - 31ms/step\n",
            "Epoch 4/50\n",
            "875/875 - 28s - loss: 0.3411 - accuracy: 0.3726 - val_loss: 0.5563 - val_accuracy: 0.3950 - 28s/epoch - 32ms/step\n",
            "Epoch 5/50\n",
            "875/875 - 27s - loss: 0.0760 - accuracy: 0.4216 - val_loss: 0.7173 - val_accuracy: 0.3912 - 27s/epoch - 31ms/step\n",
            "Epoch 6/50\n",
            "875/875 - 28s - loss: -3.1953e-01 - accuracy: 0.4579 - val_loss: 1.0602 - val_accuracy: 0.3944 - 28s/epoch - 32ms/step\n",
            "Epoch 7/50\n",
            "875/875 - 28s - loss: -8.9372e-01 - accuracy: 0.4785 - val_loss: 1.5272 - val_accuracy: 0.3929 - 28s/epoch - 32ms/step\n",
            "Epoch 8/50\n",
            "875/875 - 28s - loss: -1.7291e+00 - accuracy: 0.4916 - val_loss: 2.3359 - val_accuracy: 0.3921 - 28s/epoch - 32ms/step\n",
            "Epoch 9/50\n",
            "875/875 - 28s - loss: -2.9212e+00 - accuracy: 0.4979 - val_loss: 3.3179 - val_accuracy: 0.3894 - 28s/epoch - 32ms/step\n",
            "Epoch 10/50\n",
            "875/875 - 26s - loss: -4.5161e+00 - accuracy: 0.5043 - val_loss: 4.8723 - val_accuracy: 0.3918 - 26s/epoch - 30ms/step\n",
            "Epoch 11/50\n",
            "875/875 - 27s - loss: -6.5577e+00 - accuracy: 0.5041 - val_loss: 6.5728 - val_accuracy: 0.3909 - 27s/epoch - 30ms/step\n",
            "Epoch 12/50\n",
            "875/875 - 26s - loss: -9.1559e+00 - accuracy: 0.5042 - val_loss: 9.0412 - val_accuracy: 0.3918 - 26s/epoch - 30ms/step\n",
            "Epoch 13/50\n",
            "875/875 - 27s - loss: -1.2244e+01 - accuracy: 0.5080 - val_loss: 10.9377 - val_accuracy: 0.3910 - 27s/epoch - 31ms/step\n",
            "Epoch 14/50\n",
            "875/875 - 26s - loss: -1.5962e+01 - accuracy: 0.5077 - val_loss: 13.6946 - val_accuracy: 0.3894 - 26s/epoch - 29ms/step\n",
            "Epoch 15/50\n",
            "875/875 - 27s - loss: -2.0337e+01 - accuracy: 0.5077 - val_loss: 17.1255 - val_accuracy: 0.3917 - 27s/epoch - 31ms/step\n",
            "Epoch 16/50\n",
            "875/875 - 27s - loss: -2.5377e+01 - accuracy: 0.5090 - val_loss: 21.8684 - val_accuracy: 0.3927 - 27s/epoch - 31ms/step\n",
            "Epoch 17/50\n",
            "875/875 - 29s - loss: -3.1139e+01 - accuracy: 0.5088 - val_loss: 25.2313 - val_accuracy: 0.3900 - 29s/epoch - 33ms/step\n",
            "Epoch 18/50\n",
            "875/875 - 29s - loss: -3.7465e+01 - accuracy: 0.5077 - val_loss: 30.3327 - val_accuracy: 0.3918 - 29s/epoch - 33ms/step\n",
            "Epoch 19/50\n",
            "875/875 - 28s - loss: -4.4717e+01 - accuracy: 0.5100 - val_loss: 35.2454 - val_accuracy: 0.3903 - 28s/epoch - 32ms/step\n",
            "Epoch 20/50\n",
            "875/875 - 29s - loss: -5.2704e+01 - accuracy: 0.5086 - val_loss: 41.1544 - val_accuracy: 0.3904 - 29s/epoch - 33ms/step\n",
            "Epoch 21/50\n",
            "875/875 - 29s - loss: -6.1649e+01 - accuracy: 0.5080 - val_loss: 46.6053 - val_accuracy: 0.3904 - 29s/epoch - 33ms/step\n",
            "Epoch 22/50\n",
            "875/875 - 28s - loss: -7.1255e+01 - accuracy: 0.5105 - val_loss: 54.8838 - val_accuracy: 0.3930 - 28s/epoch - 32ms/step\n",
            "Epoch 23/50\n",
            "875/875 - 28s - loss: -8.2084e+01 - accuracy: 0.5103 - val_loss: 62.1497 - val_accuracy: 0.3915 - 28s/epoch - 32ms/step\n",
            "Epoch 24/50\n",
            "875/875 - 28s - loss: -9.3961e+01 - accuracy: 0.5128 - val_loss: 70.3264 - val_accuracy: 0.3892 - 28s/epoch - 32ms/step\n",
            "Epoch 25/50\n",
            "875/875 - 30s - loss: -1.0685e+02 - accuracy: 0.5094 - val_loss: 77.7021 - val_accuracy: 0.3894 - 30s/epoch - 34ms/step\n",
            "Epoch 26/50\n",
            "875/875 - 30s - loss: -1.2085e+02 - accuracy: 0.5085 - val_loss: 90.2779 - val_accuracy: 0.3915 - 30s/epoch - 34ms/step\n",
            "Epoch 27/50\n",
            "875/875 - 28s - loss: -1.3612e+02 - accuracy: 0.5087 - val_loss: 97.6419 - val_accuracy: 0.3905 - 28s/epoch - 31ms/step\n",
            "Epoch 28/50\n",
            "875/875 - 28s - loss: -1.5211e+02 - accuracy: 0.5093 - val_loss: 108.3709 - val_accuracy: 0.3897 - 28s/epoch - 32ms/step\n",
            "Epoch 29/50\n",
            "875/875 - 29s - loss: -1.6968e+02 - accuracy: 0.5084 - val_loss: 126.1600 - val_accuracy: 0.3917 - 29s/epoch - 34ms/step\n",
            "Epoch 30/50\n",
            "875/875 - 28s - loss: -1.8811e+02 - accuracy: 0.5086 - val_loss: 134.2313 - val_accuracy: 0.3893 - 28s/epoch - 32ms/step\n",
            "Epoch 31/50\n",
            "875/875 - 28s - loss: -2.0807e+02 - accuracy: 0.5112 - val_loss: 149.7512 - val_accuracy: 0.3899 - 28s/epoch - 32ms/step\n",
            "Epoch 32/50\n",
            "875/875 - 28s - loss: -2.2909e+02 - accuracy: 0.5088 - val_loss: 160.9826 - val_accuracy: 0.3903 - 28s/epoch - 32ms/step\n",
            "Epoch 33/50\n",
            "875/875 - 28s - loss: -2.5153e+02 - accuracy: 0.5094 - val_loss: 176.4348 - val_accuracy: 0.3896 - 28s/epoch - 32ms/step\n",
            "Epoch 34/50\n",
            "875/875 - 29s - loss: -2.7598e+02 - accuracy: 0.5093 - val_loss: 191.8121 - val_accuracy: 0.3908 - 29s/epoch - 34ms/step\n",
            "Epoch 35/50\n",
            "875/875 - 28s - loss: -3.0119e+02 - accuracy: 0.5093 - val_loss: 213.0205 - val_accuracy: 0.3906 - 28s/epoch - 32ms/step\n",
            "Epoch 36/50\n",
            "875/875 - 28s - loss: -3.2776e+02 - accuracy: 0.5067 - val_loss: 228.2434 - val_accuracy: 0.3905 - 28s/epoch - 32ms/step\n",
            "Epoch 37/50\n",
            "875/875 - 28s - loss: -3.5635e+02 - accuracy: 0.5086 - val_loss: 244.8764 - val_accuracy: 0.3908 - 28s/epoch - 32ms/step\n",
            "Epoch 38/50\n",
            "875/875 - 28s - loss: -3.8573e+02 - accuracy: 0.5109 - val_loss: 269.5662 - val_accuracy: 0.3892 - 28s/epoch - 32ms/step\n",
            "Epoch 39/50\n",
            "875/875 - 28s - loss: -4.1746e+02 - accuracy: 0.5109 - val_loss: 295.6924 - val_accuracy: 0.3913 - 28s/epoch - 32ms/step\n",
            "Epoch 40/50\n",
            "875/875 - 28s - loss: -4.4980e+02 - accuracy: 0.5100 - val_loss: 310.9891 - val_accuracy: 0.3892 - 28s/epoch - 32ms/step\n",
            "Epoch 41/50\n",
            "875/875 - 28s - loss: -4.8539e+02 - accuracy: 0.5110 - val_loss: 337.3247 - val_accuracy: 0.3911 - 28s/epoch - 32ms/step\n",
            "Epoch 42/50\n",
            "875/875 - 28s - loss: -5.2159e+02 - accuracy: 0.5090 - val_loss: 353.7351 - val_accuracy: 0.3904 - 28s/epoch - 32ms/step\n",
            "Epoch 43/50\n",
            "875/875 - 28s - loss: -5.6016e+02 - accuracy: 0.5084 - val_loss: 382.3983 - val_accuracy: 0.3893 - 28s/epoch - 32ms/step\n",
            "Epoch 44/50\n",
            "875/875 - 29s - loss: -6.0110e+02 - accuracy: 0.5108 - val_loss: 411.0166 - val_accuracy: 0.3896 - 29s/epoch - 33ms/step\n",
            "Epoch 45/50\n",
            "875/875 - 28s - loss: -6.4291e+02 - accuracy: 0.5121 - val_loss: 438.6328 - val_accuracy: 0.3889 - 28s/epoch - 32ms/step\n",
            "Epoch 46/50\n",
            "875/875 - 28s - loss: -6.8754e+02 - accuracy: 0.5090 - val_loss: 463.3509 - val_accuracy: 0.3905 - 28s/epoch - 32ms/step\n",
            "Epoch 47/50\n",
            "875/875 - 28s - loss: -7.3350e+02 - accuracy: 0.5115 - val_loss: 505.8420 - val_accuracy: 0.3911 - 28s/epoch - 32ms/step\n",
            "Epoch 48/50\n",
            "875/875 - 28s - loss: -7.8044e+02 - accuracy: 0.5093 - val_loss: 524.8617 - val_accuracy: 0.3902 - 28s/epoch - 32ms/step\n",
            "Epoch 49/50\n",
            "875/875 - 29s - loss: -8.3034e+02 - accuracy: 0.5105 - val_loss: 558.7086 - val_accuracy: 0.3892 - 29s/epoch - 33ms/step\n",
            "Epoch 50/50\n",
            "875/875 - 29s - loss: -8.8279e+02 - accuracy: 0.5112 - val_loss: 593.2000 - val_accuracy: 0.3893 - 29s/epoch - 33ms/step\n"
          ]
        }
      ]
    }
  ]
}