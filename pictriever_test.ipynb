{
 "cells": [
  {
   "cell_type": "code",
   "execution_count": 1,
   "id": "b4616893",
   "metadata": {
    "execution": {
     "iopub.execute_input": "2024-06-30T11:56:45.746897Z",
     "iopub.status.busy": "2024-06-30T11:56:45.746390Z",
     "iopub.status.idle": "2024-06-30T11:57:06.012740Z",
     "shell.execute_reply": "2024-06-30T11:57:06.010934Z"
    },
    "papermill": {
     "duration": 20.276903,
     "end_time": "2024-06-30T11:57:06.015722",
     "exception": false,
     "start_time": "2024-06-30T11:56:45.738819",
     "status": "completed"
    },
    "tags": []
   },
   "outputs": [
    {
     "name": "stdout",
     "output_type": "stream",
     "text": [
      "Collecting selenium\r\n",
      "  Downloading selenium-4.22.0-py3-none-any.whl.metadata (7.0 kB)\r\n",
      "Requirement already satisfied: urllib3<3,>=1.26 in /opt/conda/lib/python3.10/site-packages (from urllib3[socks]<3,>=1.26->selenium) (1.26.18)\r\n",
      "Collecting trio~=0.17 (from selenium)\r\n",
      "  Downloading trio-0.25.1-py3-none-any.whl.metadata (8.7 kB)\r\n",
      "Collecting trio-websocket~=0.9 (from selenium)\r\n",
      "  Downloading trio_websocket-0.11.1-py3-none-any.whl.metadata (4.7 kB)\r\n",
      "Requirement already satisfied: certifi>=2021.10.8 in /opt/conda/lib/python3.10/site-packages (from selenium) (2024.2.2)\r\n",
      "Requirement already satisfied: typing_extensions>=4.9.0 in /opt/conda/lib/python3.10/site-packages (from selenium) (4.9.0)\r\n",
      "Collecting websocket-client>=1.8.0 (from selenium)\r\n",
      "  Downloading websocket_client-1.8.0-py3-none-any.whl.metadata (8.0 kB)\r\n",
      "Requirement already satisfied: attrs>=23.2.0 in /opt/conda/lib/python3.10/site-packages (from trio~=0.17->selenium) (23.2.0)\r\n",
      "Collecting sortedcontainers (from trio~=0.17->selenium)\r\n",
      "  Downloading sortedcontainers-2.4.0-py2.py3-none-any.whl.metadata (10 kB)\r\n",
      "Requirement already satisfied: idna in /opt/conda/lib/python3.10/site-packages (from trio~=0.17->selenium) (3.6)\r\n",
      "Collecting outcome (from trio~=0.17->selenium)\r\n",
      "  Downloading outcome-1.3.0.post0-py2.py3-none-any.whl.metadata (2.6 kB)\r\n",
      "Requirement already satisfied: sniffio>=1.3.0 in /opt/conda/lib/python3.10/site-packages (from trio~=0.17->selenium) (1.3.0)\r\n",
      "Requirement already satisfied: exceptiongroup in /opt/conda/lib/python3.10/site-packages (from trio~=0.17->selenium) (1.2.0)\r\n",
      "Collecting wsproto>=0.14 (from trio-websocket~=0.9->selenium)\r\n",
      "  Downloading wsproto-1.2.0-py3-none-any.whl.metadata (5.6 kB)\r\n",
      "Requirement already satisfied: PySocks!=1.5.7,<2.0,>=1.5.6 in /opt/conda/lib/python3.10/site-packages (from urllib3[socks]<3,>=1.26->selenium) (1.7.1)\r\n",
      "Requirement already satisfied: h11<1,>=0.9.0 in /opt/conda/lib/python3.10/site-packages (from wsproto>=0.14->trio-websocket~=0.9->selenium) (0.14.0)\r\n",
      "Downloading selenium-4.22.0-py3-none-any.whl (9.4 MB)\r\n",
      "\u001b[2K   \u001b[90m━━━━━━━━━━━━━━━━━━━━━━━━━━━━━━━━━━━━━━━━\u001b[0m \u001b[32m9.4/9.4 MB\u001b[0m \u001b[31m30.7 MB/s\u001b[0m eta \u001b[36m0:00:00\u001b[0m\r\n",
      "\u001b[?25hDownloading trio-0.25.1-py3-none-any.whl (467 kB)\r\n",
      "\u001b[2K   \u001b[90m━━━━━━━━━━━━━━━━━━━━━━━━━━━━━━━━━━━━━━━━\u001b[0m \u001b[32m467.7/467.7 kB\u001b[0m \u001b[31m22.6 MB/s\u001b[0m eta \u001b[36m0:00:00\u001b[0m\r\n",
      "\u001b[?25hDownloading trio_websocket-0.11.1-py3-none-any.whl (17 kB)\r\n",
      "Downloading websocket_client-1.8.0-py3-none-any.whl (58 kB)\r\n",
      "\u001b[2K   \u001b[90m━━━━━━━━━━━━━━━━━━━━━━━━━━━━━━━━━━━━━━━━\u001b[0m \u001b[32m58.8/58.8 kB\u001b[0m \u001b[31m3.1 MB/s\u001b[0m eta \u001b[36m0:00:00\u001b[0m\r\n",
      "\u001b[?25hDownloading wsproto-1.2.0-py3-none-any.whl (24 kB)\r\n",
      "Downloading outcome-1.3.0.post0-py2.py3-none-any.whl (10 kB)\r\n",
      "Downloading sortedcontainers-2.4.0-py2.py3-none-any.whl (29 kB)\r\n",
      "Installing collected packages: sortedcontainers, wsproto, websocket-client, outcome, trio, trio-websocket, selenium\r\n",
      "  Attempting uninstall: websocket-client\r\n",
      "    Found existing installation: websocket-client 1.7.0\r\n",
      "    Uninstalling websocket-client-1.7.0:\r\n",
      "      Successfully uninstalled websocket-client-1.7.0\r\n",
      "\u001b[31mERROR: pip's dependency resolver does not currently take into account all the packages that are installed. This behaviour is the source of the following dependency conflicts.\r\n",
      "jupyterlab 4.2.1 requires jupyter-lsp>=2.0.0, but you have jupyter-lsp 1.5.1 which is incompatible.\r\n",
      "jupyterlab-lsp 5.1.0 requires jupyter-lsp>=2.0.0, but you have jupyter-lsp 1.5.1 which is incompatible.\u001b[0m\u001b[31m\r\n",
      "\u001b[0mSuccessfully installed outcome-1.3.0.post0 selenium-4.22.0 sortedcontainers-2.4.0 trio-0.25.1 trio-websocket-0.11.1 websocket-client-1.8.0 wsproto-1.2.0\r\n"
     ]
    }
   ],
   "source": [
    "! pip install selenium"
   ]
  },
  {
   "cell_type": "code",
   "execution_count": 2,
   "id": "56d902f5",
   "metadata": {
    "execution": {
     "iopub.execute_input": "2024-06-30T11:57:06.036386Z",
     "iopub.status.busy": "2024-06-30T11:57:06.035965Z",
     "iopub.status.idle": "2024-06-30T11:57:09.436315Z",
     "shell.execute_reply": "2024-06-30T11:57:09.435105Z"
    },
    "papermill": {
     "duration": 3.414299,
     "end_time": "2024-06-30T11:57:09.439218",
     "exception": false,
     "start_time": "2024-06-30T11:57:06.024919",
     "status": "completed"
    },
    "tags": []
   },
   "outputs": [
    {
     "name": "stdout",
     "output_type": "stream",
     "text": [
      "\r\n",
      "\r\n",
      "\r\n",
      "Package chromedriver is not available, but is referred to by another package.\r\n",
      "This may mean that the package is missing, has been obsoleted, or\r\n",
      "is only available from another source\r\n",
      "\r\n",
      "\u001b[1;31mE: \u001b[0mPackage 'chromedriver' has no installation candidate\u001b[0m\r\n"
     ]
    }
   ],
   "source": [
    "! sudo apt install chromedriver"
   ]
  },
  {
   "cell_type": "code",
   "execution_count": 3,
   "id": "7ebcea49",
   "metadata": {
    "_cell_guid": "39e18864-aa78-441e-9fec-a3378a6d8d9a",
    "_uuid": "e7f2173a-517d-4798-bf2b-07890c205beb",
    "collapsed": false,
    "execution": {
     "iopub.execute_input": "2024-06-30T11:57:09.462150Z",
     "iopub.status.busy": "2024-06-30T11:57:09.461674Z",
     "iopub.status.idle": "2024-06-30T11:57:09.708219Z",
     "shell.execute_reply": "2024-06-30T11:57:09.707227Z"
    },
    "jupyter": {
     "outputs_hidden": false
    },
    "papermill": {
     "duration": 0.261276,
     "end_time": "2024-06-30T11:57:09.710979",
     "exception": false,
     "start_time": "2024-06-30T11:57:09.449703",
     "status": "completed"
    },
    "tags": []
   },
   "outputs": [],
   "source": [
    "import requests, os, time, sys, math\n",
    "import shutil, rich, argparse\n",
    "from tqdm.auto import tqdm\n",
    "from selenium import webdriver\n",
    "from selenium.webdriver.firefox.options import Options\n",
    "from selenium.webdriver.common.by import By\n",
    "from selenium.webdriver.firefox.options import Options"
   ]
  },
  {
   "cell_type": "code",
   "execution_count": 4,
   "id": "ef0cf09f",
   "metadata": {
    "execution": {
     "iopub.execute_input": "2024-06-30T11:57:09.733510Z",
     "iopub.status.busy": "2024-06-30T11:57:09.732909Z",
     "iopub.status.idle": "2024-06-30T11:57:09.742512Z",
     "shell.execute_reply": "2024-06-30T11:57:09.741348Z"
    },
    "papermill": {
     "duration": 0.023449,
     "end_time": "2024-06-30T11:57:09.744940",
     "exception": false,
     "start_time": "2024-06-30T11:57:09.721491",
     "status": "completed"
    },
    "tags": []
   },
   "outputs": [],
   "source": [
    "\n",
    "# utility functions\n",
    "def _format_string(search_string: str):  # to remove spaces in search terms\n",
    "    return search_string.replace(' ', '+')\n",
    "\n",
    "def _scrolldelay(driver, min_count):\n",
    "    time.sleep(2)\n",
    "    # scrolling down slowly\n",
    "    stopScrolling = 0\n",
    "    print('scrolling to load more')\n",
    "    while True:\n",
    "        stopScrolling += 1\n",
    "        driver.execute_script(\"window.scrollBy(0,40)\")\n",
    "        time.sleep(0.1)\n",
    "        if stopScrolling > math.floor(min_count/2):\n",
    "            break\n",
    "        time.sleep(1)\n",
    "\n",
    "def _init_webdriver(url):\n",
    "    drive_opts = Options()\n",
    "    drive_opts.add_argument('-headless')\n",
    "    driver = webdriver.Firefox(options=drive_opts)\n",
    "    driver.maximize_window()\n",
    "    driver.get(url)\n",
    "    print('webdriver initialized')\n",
    "    return driver\n"
   ]
  },
  {
   "cell_type": "code",
   "execution_count": 5,
   "id": "af43efb5",
   "metadata": {
    "execution": {
     "iopub.execute_input": "2024-06-30T11:57:09.767475Z",
     "iopub.status.busy": "2024-06-30T11:57:09.767105Z",
     "iopub.status.idle": "2024-06-30T11:57:09.775713Z",
     "shell.execute_reply": "2024-06-30T11:57:09.774301Z"
    },
    "papermill": {
     "duration": 0.023153,
     "end_time": "2024-06-30T11:57:09.778422",
     "exception": false,
     "start_time": "2024-06-30T11:57:09.755269",
     "status": "completed"
    },
    "tags": []
   },
   "outputs": [],
   "source": [
    "# class GoogleImageScraper():\n",
    "#     def __init__(self, search_term: str, max_count: int, min_count: int):\n",
    "#         self.image_class = 'YQ4gaf'\n",
    "#         self.search_term = self._format_string(search_term)\n",
    "#         self.search_url = f'https://www.google.com/search?q={self.search_term}l&sca_esv=fb64c27acdf6db0d&sca_upv=1&udm=2&sxsrf=ADLYWII43-tIV80076FgCtRKI2_M4AdexQ%3A1719652914088&ei=MtJ_ZvCOBar2kdUP_sOt0AM&ved=0ahUKEwjw79KovoCHAxUqe6QEHf5hCzoQ4dUDCBA&uact=5&oq=diffusionmodel&gs_lp=Egxnd3Mtd2l6LXNlcnAiDmRpZmZ1c2lvbm1vZGVsMgYQABgHGB4yBhAAGAcYHjIGEAAYBxgeMgYQABgHGB4yBhAAGAcYHjIGEAAYBxgeMgYQABgHGB4yBhAAGAcYHjIGEAAYBxgeMgYQABgHGB5IoBNQmwVYmwVwAXgAkAEAmAH0BaAB9AWqAQM2LTG4AQPIAQD4AQGYAgKgAqwGwgIKEAAYgAQYQxiKBcICBRAAGIAEmAMAiAYBkgcFMS41LTGgB9oF&sclient=gws-wiz-serp'\n",
    "#         self.max_count = max_count\n",
    "#         self.min_count = min_count\n",
    "#         self.driver = self._init_webdriver()\n",
    "    \n",
    "#     def _format_string(self, search_string: str): # to remove spces in search terms\n",
    "#         return search_string.replace(' ', '+')\n",
    "\n",
    "#     def _init_webdriver(self):\n",
    "#         drive_opts = Options()\n",
    "#         drive_opts.add_argument('-headless')\n",
    "#         driver = webdriver.Chrome(options=drive_opts)\n",
    "#         driver.maximize_window()\n",
    "#         driver.get(self.search_url)\n",
    "#         print('webdriver initialized')\n",
    "#         return driver\n",
    "\n",
    "#     def _scrolldelay(self):\n",
    "#         time.sleep(2)\n",
    "#         # scrolling down slowly\n",
    "#         stopScrolling = 0\n",
    "#         print('scrolling to load more')\n",
    "#         while True:\n",
    "#             stopScrolling += 1\n",
    "#             driver.execute_script(\"window.scrollBy(0,40)\")\n",
    "#             time.sleep(0.1)\n",
    "#             if stopScrolling > math.floor(self.min_count/2):\n",
    "#                 break\n",
    "#             time.sleep(1)\n",
    "\n",
    "#     def get_imlinks(self, get_all_links: bool=False):\n",
    "#         if self.min_count > 100:\n",
    "#             self._scrolldelay(self.min_count)\n",
    "#         try:\n",
    "#             image_links = self.driver.find_elements(By.CSS_SELECTOR, 'h3.ob5Hkd a')\n",
    "# #             image_links = image_links.find_elements(By.TAG_NAME, 'a')\n",
    "            \n",
    "# #             print(image_links)\n",
    "#             image_links = [link.get_attribute('href') for link in image_links]\n",
    "#             print(image_links)\n",
    "#             links = image_links[:self.max_count] if get_all_links else image_links \n",
    "#             print(f'{link_count} links acquired from Google, using {len(links)} of them') # print number of links\n",
    "\n",
    "#             return links\n",
    "        \n",
    "#         except Exception as e:\n",
    "#             print(f'e => [{e}]')\n",
    "            \n",
    "\n",
    "\n",
    "#     def _format_filename(self, file_name: str):\n",
    "#         text = file_name.split('.')[0]\n",
    "#         return text\n",
    "\n",
    "#     def download_images(self, link_list: list, output_folder: str, verbose: bool = False):\n",
    "#         k = 0\n",
    "#         os.mkdir(output_folder)\n",
    "\n",
    "#         for image_link in tqdm(link_list):\n",
    "#             try:\n",
    "#                 file_res = requests.get(image_link, stream=True) # fetch content from url\n",
    "#                 image_file = os.path.basename(image_link)\n",
    "#                 image_file = os.path.join(output_folder, image_file) # output file path\n",
    "\n",
    "#                 with open(f'google_{self.search_term}_{k}.png', \"wb\") as file_writer:\n",
    "#                     file_res.raw.decode_content = True\n",
    "#                     shutil.copyfileobj(file_res.raw, file_writer) # save to folder\n",
    "\n",
    "#                 if verbose: # show download count and progress\n",
    "#                     print(f'image @ {k+1} downloaded')\n",
    "#                 k += 1 # file counter\n",
    "\n",
    "#             except Exception as e: # exception handling\n",
    "#                 print(f\"[> {e}]\")\n",
    "#                 continue\n",
    "\n",
    "#         print(f'{k} images downloaded from Google') # sucess message\n",
    "    \n",
    "#     def quit_driver(self):\n",
    "#         self.driver.quit()"
   ]
  },
  {
   "cell_type": "code",
   "execution_count": 6,
   "id": "0842e698",
   "metadata": {
    "execution": {
     "iopub.execute_input": "2024-06-30T11:57:09.801011Z",
     "iopub.status.busy": "2024-06-30T11:57:09.800199Z",
     "iopub.status.idle": "2024-06-30T11:57:09.815590Z",
     "shell.execute_reply": "2024-06-30T11:57:09.814577Z"
    },
    "papermill": {
     "duration": 0.029148,
     "end_time": "2024-06-30T11:57:09.817998",
     "exception": false,
     "start_time": "2024-06-30T11:57:09.788850",
     "status": "completed"
    },
    "tags": []
   },
   "outputs": [],
   "source": [
    "\n",
    "class BingImages():\n",
    "    def __init__(self, search_term: str, min_count: int, max_count: int):\n",
    "        self.search_term = _format_string(search_term)\n",
    "        self.bing_url = f'https://www.bing.com/images/search?q={self.search_term}&form=HDRSC3&first=1&cw=1177&ch=621'\n",
    "        self.bing_imlink_class = 'iusc'\n",
    "        self.max_count = max_count\n",
    "        self.min_count = min_count\n",
    "        self.driver = _init_webdriver(self.bing_url)\n",
    "\n",
    "    def get_imlinks(self, get_all_links: bool = False):\n",
    "        if self.min_count > 100:\n",
    "            _scrolldelay(self.driver, self.min_count)\n",
    "\n",
    "        try:\n",
    "            image_links = self.driver.find_elements(By.CSS_SELECTOR, f\"a.{self.bing_imlink_class}\")\n",
    "            image_links = [link.get_attribute('href') for link in image_links]\n",
    "            print(image_links)\n",
    "            link_count = len(image_links)\n",
    "            links = image_links[:self.max_count] if get_all_links else image_links\n",
    "            # print number of links\n",
    "            print(f'{link_count} links acquired from Bing images, using {len(links)}...')\n",
    "            return links\n",
    "\n",
    "        except Exception as e:\n",
    "            print(f'e => [{e}]')\n",
    "\n",
    "\n",
    "    def download_images(self, link_list: list, output_folder: str, verbose: bool = False):\n",
    "        k = 0\n",
    "        if not os.path.exists(output_folder):\n",
    "            os.mkdir(output_folder)\n",
    "\n",
    "        for image_link in tqdm(link_list):\n",
    "            try:\n",
    "                # fetch content from url\n",
    "                file_res = requests.get(image_link, stream=True)\n",
    "                image_file = os.path.basename(image_link)\n",
    "                image_file = os.path.join(output_folder, f'bing_{self.search_term}_{k}.png')  # output file path\n",
    "\n",
    "                with open(image_file, \"wb\") as file_writer:\n",
    "                    file_res.raw.decode_content = True\n",
    "                    # save to folder\n",
    "                    shutil.copyfileobj(file_res.raw, file_writer)\n",
    "\n",
    "                if verbose:  # show download count and progress\n",
    "                    print(f'image @ {k+1} downloaded')\n",
    "                k += 1  # file counter\n",
    "\n",
    "            except Exception as e:  # exception handling\n",
    "                print(f\"[> {e}]\")\n",
    "                continue\n",
    "\n",
    "        print(f'{k} images downloaded from Bing images')  # sucess message\n",
    "\n",
    "    def _quit_driver(self):\n",
    "        self.driver.quit()\n"
   ]
  },
  {
   "cell_type": "code",
   "execution_count": 7,
   "id": "eaa14f69",
   "metadata": {
    "execution": {
     "iopub.execute_input": "2024-06-30T11:57:09.840769Z",
     "iopub.status.busy": "2024-06-30T11:57:09.840337Z",
     "iopub.status.idle": "2024-06-30T11:57:31.015843Z",
     "shell.execute_reply": "2024-06-30T11:57:31.014632Z"
    },
    "papermill": {
     "duration": 21.1941,
     "end_time": "2024-06-30T11:57:31.022461",
     "exception": false,
     "start_time": "2024-06-30T11:57:09.828361",
     "status": "completed"
    },
    "tags": []
   },
   "outputs": [
    {
     "name": "stdout",
     "output_type": "stream",
     "text": [
      "webdriver initialized\n"
     ]
    }
   ],
   "source": [
    "scraper = BingImages(search_term='clouds', min_count=100, max_count=200)\n",
    "\n",
    "# rich.inspect(scraper)"
   ]
  },
  {
   "cell_type": "code",
   "execution_count": 8,
   "id": "886d1f19",
   "metadata": {
    "collapsed": true,
    "execution": {
     "iopub.execute_input": "2024-06-30T11:57:31.062967Z",
     "iopub.status.busy": "2024-06-30T11:57:31.062373Z",
     "iopub.status.idle": "2024-06-30T11:57:31.967888Z",
     "shell.execute_reply": "2024-06-30T11:57:31.964240Z"
    },
    "jupyter": {
     "outputs_hidden": true
    },
    "papermill": {
     "duration": 0.926933,
     "end_time": "2024-06-30T11:57:31.970473",
     "exception": false,
     "start_time": "2024-06-30T11:57:31.043540",
     "status": "completed"
    },
    "tags": []
   },
   "outputs": [
    {
     "name": "stdout",
     "output_type": "stream",
     "text": [
      "['https://www.bing.com/images/search?view=detailV2&ccid=p4x2A4Fd&id=A1FD4680135C78CADDE44206085CE003AED5EDDB&thid=OIP.p4x2A4FdyIt-jnOdkSrYwgHaE7&mediaurl=https%3a%2f%2fwallpaperaccess.com%2ffull%2f2548059.jpg&cdnurl=https%3a%2f%2fth.bing.com%2fth%2fid%2fR.a78c7603815dc88b7e8e739d912ad8c2%3frik%3d2%252b3VrgPgXAgGQg%26pid%3dImgRaw%26r%3d0&exph=3733&expw=5600&q=clouds&simid=608054648432715040&FORM=IRPRST&ck=BAE7035BDFC4AE2880A707725DBF46ED&selectedIndex=0&itb=0', 'https://www.bing.com/images/search?view=detailV2&ccid=lMBoHHLP&id=87252C96EE720CC759C57247F2834508B9D94329&thid=OIP.lMBoHHLPCvR3MqZamkeCOAHaFj&mediaurl=https%3a%2f%2fwallpaperaccess.com%2ffull%2f530682.jpg&cdnurl=https%3a%2f%2fth.bing.com%2fth%2fid%2fR.94c0681c72cf0af47732a65a9a478238%3frik%3dKUPZuQhFg%252fJHcg%26pid%3dImgRaw%26r%3d0&exph=1200&expw=1600&q=clouds&simid=608009581409481602&FORM=IRPRST&ck=EB57DD0A06138FDD462B5393E029A9E2&selectedIndex=1&itb=0', 'https://www.bing.com/images/search?view=detailV2&ccid=JdG7RZ4J&id=1E4218DCF22CAA1CE718D52302EFBF266321F2FA&thid=OIP.JdG7RZ4JasH155y42GspxwHaHT&mediaurl=https%3a%2f%2fth.bing.com%2fth%2fid%2fR.25d1bb459e096ac1f5e79cb8d86b29c7%3frik%3d%252bvIhYya%252f7wIj1Q%26riu%3dhttp%253a%252f%252fupload.wikimedia.org%252fwikipedia%252fcommons%252f8%252f8d%252fCumulus_clouds_Montenegro.jpg%26ehk%3dTMEEqupIk%252feg3eqYpKhnxr6aUzGRNTrhQe0J7zkLIRM%253d%26risl%3d%26pid%3dImgRaw%26r%3d0&exph=1965&expw=1992&q=clouds&simid=608030317498479686&FORM=IRPRST&ck=A58516762F2F816C9F01553E9AAA3538&selectedIndex=2&itb=0', 'https://www.bing.com/images/search?view=detailV2&ccid=3NNo%2bO9p&id=20C9D02A7BAFE054209A7C42239873CA530BEFD4&thid=OIP.3NNo-O9pYXeiPiLHYRcVNAHaE6&mediaurl=https%3a%2f%2fget.pxhere.com%2fphoto%2fnature-cloud-sky-sunlight-cloudy-atmosphere-daytime-cumulus-blue-background-image-cloud-cover-clouds-background-day-cloudy-sky-meteorological-phenomenon-1081249.jpg&cdnurl=https%3a%2f%2fth.bing.com%2fth%2fid%2fR.dcd368f8ef696177a23e22c761171534%3frik%3d1O8LU8pzmCNCfA%26pid%3dImgRaw%26r%3d0&exph=2848&expw=4288&q=clouds&simid=607991155960150868&FORM=IRPRST&ck=C74B6842DCE2D27AFB110FC48959EDC3&selectedIndex=3&itb=0', 'https://www.bing.com/images/search?view=detailV2&ccid=bXGgbeGD&id=434AEDA68C20FA6886D37469483B7395CFDD95D5&thid=OIP.bXGgbeGDwIUuY4EWfSTaVAHaE8&mediaurl=https%3a%2f%2fth.bing.com%2fth%2fid%2fR.6d71a06de183c0852e6381167d24da54%3frik%3d1ZXdz5VzO0hpdA%26riu%3dhttp%253a%252f%252fupload.wikimedia.org%252fwikipedia%252fcommons%252f2%252f28%252fClouds_Blue_Sky_001.jpg%26ehk%3d5w9UcQfWr27OMhajyMDr9qADmc7Sdgv84TuTMbkyuZ0%253d%26risl%3d1%26pid%3dImgRaw%26r%3d0&exph=2048&expw=3072&q=clouds&simid=608054614093924055&FORM=IRPRST&ck=3CE7EB0A9CF0A73B77241F43B90CA32B&selectedIndex=4&itb=0', 'https://www.bing.com/images/search?view=detailV2&ccid=og0vqbsH&id=D64710522661031A7FF827DCE1BF80A3951942BE&thid=OIP.og0vqbsHybi-05oZ_gHFugHaEK&mediaurl=https%3a%2f%2fth.bing.com%2fth%2fid%2fR.a20d2fa9bb07c9b8bed39a19fe01c5ba%3frik%3dvkIZlaOAv%252bHcJw%26riu%3dhttp%253a%252f%252fhdqwalls.com%252fdownload%252fclouds-hd-2048x1152.jpg%26ehk%3dtjFZu8TltWY9XHsAU9PDGyau%252fuacy4mtL3HNQw4l8eM%253d%26risl%3d%26pid%3dImgRaw%26r%3d0&exph=1152&expw=2048&q=clouds&simid=608003396660049298&FORM=IRPRST&ck=E5FD0899CC13553CC527024DD5AC37A1&selectedIndex=5&itb=0', 'https://www.bing.com/images/search?view=detailV2&ccid=mi4ssZ4j&id=E92A358EDA8E9D769E786609A8186800C8B92678&thid=OIP.mi4ssZ4j-p80O7FTMi6pSAHaE8&mediaurl=https%3a%2f%2foutforia.com%2fwp-content%2fuploads%2f2021%2f04%2fTypes-of-clouds-1.jpg&cdnurl=https%3a%2f%2fth.bing.com%2fth%2fid%2fR.9a2e2cb19e23fa9f343bb153322ea948%3frik%3deCa5yABoGKgJZg%26pid%3dImgRaw%26r%3d0&exph=667&expw=1000&q=clouds&simid=608004775332569804&FORM=IRPRST&ck=FF11B95874E81C8C3851744C0EB214D7&selectedIndex=6&itb=0', 'https://www.bing.com/images/search?view=detailV2&ccid=5QdR%2fUiF&id=DAFBCBD04CD3F9242712A5BCD6500F8ADC622F50&thid=OIP.5QdR_UiFhFhiisljRZO0SQHaE8&mediaurl=https%3a%2f%2fairandspace.si.edu%2fsites%2fdefault%2ffiles%2fimages%2fevents%2fR00489_1.jpg&cdnurl=https%3a%2f%2fth.bing.com%2fth%2fid%2fR.e50751fd48858458628ac9634593b449%3frik%3dUC9i3IoPUNa8pQ%26pid%3dImgRaw%26r%3d0&exph=2336&expw=3504&q=clouds&simid=608026370436891743&FORM=IRPRST&ck=304C069D0A1D1EECF9B6F75C848D1962&selectedIndex=7&itb=0', 'https://www.bing.com/images/search?view=detailV2&ccid=UqGdD5EV&id=68995C093B8DAC8457F7170789D4B32B1ABF747A&thid=OIP.UqGdD5EVEhjyaJx8vmi29AHaKI&mediaurl=https%3a%2f%2fimg.freepik.com%2fpremium-photo%2fbeautiful-orange-sky-clouds-sunset_692702-3629.jpg%3fw%3d2000&cdnurl=https%3a%2f%2fth.bing.com%2fth%2fid%2fR.52a19d0f91151218f2689c7cbe68b6f4%3frik%3denS%252fGiuz1IkHFw%26pid%3dImgRaw%26r%3d0&exph=2000&expw=1462&q=clouds&simid=608024334619988910&FORM=IRPRST&ck=902EBE4652E9CAA532B064F2D3918810&selectedIndex=8&itb=0', 'https://www.bing.com/images/search?view=detailV2&ccid=zqV2ikcL&id=58596DD63CBAFD876AE95A34FD4697603CF8F276&thid=OIP.zqV2ikcLc9G9kX87GDDHbwHaE8&mediaurl=https%3a%2f%2fwww.thoughtco.com%2fthmb%2fEYThUyLlbrtjCQ-7z2q2Nc6LOWo%3d%2f1500x0%2ffilters%3ano_upscale()%3amax_bytes(150000)%3astrip_icc()%2f548306131-56a9e2a33df78cf772ab3983.jpg&cdnurl=https%3a%2f%2fth.bing.com%2fth%2fid%2fR.cea5768a470b73d1bd917f3b1830c76f%3frik%3ddvL4PGCXRv00Wg%26pid%3dImgRaw%26r%3d0&exph=1000&expw=1500&q=clouds&simid=608014572162912511&FORM=IRPRST&ck=8DA0215B56DEBD576CFEAD5D5E6B0F57&selectedIndex=9&itb=0', 'https://www.bing.com/images/search?view=detailV2&ccid=%2bfjGaLqJ&id=760C65E967777D501CB23179D2C7CA41E534D0A1&thid=OIP.-fjGaLqJ_itbFeYoXCWNUgHaE7&mediaurl=https%3a%2f%2fget.pxhere.com%2fphoto%2fsea-nature-horizon-cloud-sky-sunlight-atmosphere-daytime-cumulus-plain-clouds-hd-wallpaper-meteorological-phenomenon-atmosphere-of-earth-952550.jpg&cdnurl=https%3a%2f%2fth.bing.com%2fth%2fid%2fR.f9f8c668ba89fe2b5b15e6285c258d52%3frik%3dodA05UHKx9J5MQ%26pid%3dImgRaw%26r%3d0&exph=1697&expw=2552&q=clouds&simid=608014215669118781&FORM=IRPRST&ck=5C9B05FB9760320FC7D1FBC565B835D0&selectedIndex=10&itb=0', 'https://www.bing.com/images/search?view=detailV2&ccid=e4%2fkH6PS&id=AE90EF4E3E0410B94429748BFCA4CF6ABA35A4E3&thid=OIP.e4_kH6PSNLGgCAa7KtuMJQHaE6&mediaurl=https%3a%2f%2fget.pxhere.com%2fphoto%2fhorizon-cloud-sky-sun-sunlight-atmosphere-daytime-cumulus-plain-clouds-grassland-bird%27s-eye-view-meteorological-phenomenon-atmosphere-of-earth-computer-wallpaper-983293.jpg&cdnurl=https%3a%2f%2fth.bing.com%2fth%2fid%2fR.7b8fe41fa3d234b1a00806bb2adb8c25%3frik%3d46Q1umrPpPyLdA%26pid%3dImgRaw%26r%3d0&exph=2848&expw=4288&q=clouds&simid=608006811111740570&FORM=IRPRST&ck=912FE9B27928B91B909991C701680B8B&selectedIndex=11&itb=0', 'https://www.bing.com/images/search?view=detailV2&ccid=lNOl%2fnKT&id=257111060C6A419B16345AF8BDCDFCFA463AB237&thid=OIP.lNOl_nKTptNxdwsOwrrefwHaE7&mediaurl=https%3a%2f%2ffthmb.tqn.com%2fjpPd9U6w13lKOnj3VAkgKPLNUx4%3d%2f768x0%2ffilters%3ano_upscale()%2fGettyImages-482252-001-570a81d93df78c7d9edc0d78.jpg&cdnurl=https%3a%2f%2fth.bing.com%2fth%2fid%2fR.94d3a5fe7293a6d371770b0ec2bade7f%3frik%3dN7I6Rvr8zb34Wg%26pid%3dImgRaw%26r%3d0&exph=511&expw=768&q=clouds&simid=608055013568153038&FORM=IRPRST&ck=06ED2FDADF780E88ACCCD5924059AEA6&selectedIndex=12&itb=0', 'https://www.bing.com/images/search?view=detailV2&ccid=ORu4XFvy&id=107187649B57808BF1314EB959C7F1EFA8EE11B1&thid=OIP.ORu4XFvyxpd7E95Dz5ObmgHaF8&mediaurl=https%3a%2f%2fwww.geographyalltheway.com%2fwp-content%2fuploads%2figcse%2fweather%2fcloud_type-1280x1028.jpg&cdnurl=https%3a%2f%2fth.bing.com%2fth%2fid%2fR.391bb85c5bf2c6977b13de43cf939b9a%3frik%3dsRHuqO%252fxx1m5Tg%26pid%3dImgRaw%26r%3d0&exph=1028&expw=1280&q=clouds&simid=608005011532038245&FORM=IRPRST&ck=6A15B14FFB73756ED911BE7065F54A20&selectedIndex=13&itb=0', 'https://www.bing.com/images/search?view=detailV2&ccid=2KIH4gZm&id=8202571A1E5A9E4A2C28F5802CC600280A37D749&thid=OIP.2KIH4gZmIGixd-I7edx0twHaLV&mediaurl=https%3a%2f%2fget.pxhere.com%2fphoto%2fhorizon-wing-cloud-sky-sunlight-air-view-atmosphere-pattern-high-fluffy-aviation-flight-cumulus-blue-aerial-plain-cloudscape-above-clouds-stratosphere-meteorological-phenomenon-air-travel-atmosphere-of-earth-717965.jpg&cdnurl=https%3a%2f%2fth.bing.com%2fth%2fid%2fR.d8a207e206662068b177e23b79dc74b7%3frik%3dSdc3CigAxiyA9Q%26pid%3dImgRaw%26r%3d0&exph=3500&expw=2286&q=clouds&simid=608012510572782899&FORM=IRPRST&ck=8B8299521EBDC78B75031D5971E31A56&selectedIndex=14&itb=0', 'https://www.bing.com/images/search?view=detailV2&ccid=VVDDkRS%2f&id=CF2997E516789B190CFD7149786A03676E2E07D5&thid=OIP.VVDDkRS_uB35T-2NspJXwgHaEJ&mediaurl=https%3a%2f%2fimg.freepik.com%2fpremium-photo%2fclouds-are-sky-with-bright-sun-background-generative-ai_899870-31098.jpg%3fw%3d2000&cdnurl=https%3a%2f%2fth.bing.com%2fth%2fid%2fR.5550c39114bfb81df94fed8db29257c2%3frik%3d1QcubmcDanhJcQ%26pid%3dImgRaw%26r%3d0&exph=1121&expw=2000&q=clouds&simid=607987208927867133&FORM=IRPRST&ck=591230397C0A71104E210AC12B880CA7&selectedIndex=15&itb=0', 'https://www.bing.com/images/search?view=detailV2&ccid=FJ91BVU8&id=38E299F5F62ABFAB797E0CCF8D9974795C1C4461&thid=OIP.FJ91BVU8TL8k6WYskvdm3AHaGE&mediaurl=https%3a%2f%2fwww.angleofattack.com%2fwp-content%2fuploads%2f2023%2f04%2fCumulonimbus-Clouds-scaled.jpg&cdnurl=https%3a%2f%2fth.bing.com%2fth%2fid%2fR.149f7505553c4cbf24e9662c92f766dc%3frik%3dYUQcXHl0mY3PDA%26pid%3dImgRaw%26r%3d0&exph=2096&expw=2560&q=clouds&simid=608021615878017754&FORM=IRPRST&ck=06075273B0593378A3EA8C74BB68B6D2&selectedIndex=16&itb=0', 'https://www.bing.com/images/search?view=detailV2&ccid=w6L%2fvat9&id=7CD9AC91AFB545D1F6949810F30E823B27CD37BC&thid=OIP.w6L_vat9sjzIfZgJcjHeNAHaEv&mediaurl=https%3a%2f%2fst.adda247.com%2fhttps%3a%2f%2fs3-ap-south-1.amazonaws.com%2fadda247jobs-wp-assets-adda247%2farticles%2fwp-content%2fuploads%2f2022%2f12%2f21205034%2fTypes-of-clouds.jpg&cdnurl=https%3a%2f%2fth.bing.com%2fth%2fid%2fR.c3a2ffbdab7db23cc87d98097231de34%3frik%3dvDfNJzuCDvMQmA%26pid%3dImgRaw%26r%3d0&exph=768&expw=1200&q=clouds&simid=607997525408316547&FORM=IRPRST&ck=70A8A83BE2ACCBA9E428F7880873B982&selectedIndex=17&itb=0', 'https://www.bing.com/images/search?view=detailV2&ccid=r30l45Ys&id=20B95A66676771209910C8B2EED0CA7CE06F7BDF&thid=OIP.r30l45Ysdhf_9ICVQvSaHgHaLc&mediaurl=https%3a%2f%2fk3h3a8r8.rocketcdn.me%2fwp-content%2fuploads%2f2022%2f10%2fDifferent-Types-of-Clouds-1.png&cdnurl=https%3a%2f%2fth.bing.com%2fth%2fid%2fR.af7d25e3962c7617fff4809542f49a1e%3frik%3d33tv4HzK0O6yyA%26pid%3dImgRaw%26r%3d0&exph=3955&expw=2560&q=clouds&simid=608028127065111837&FORM=IRPRST&ck=CC659A90CDA7A2EBAC588993F3CEC705&selectedIndex=18&itb=0', 'https://www.bing.com/images/search?view=detailV2&ccid=F0pQ%2bEqV&id=59914E3F3DA60F58125823579BC0D5225BEC2D56&thid=OIP.F0pQ-EqVYXPfJ3pEm-x4kgHaFj&mediaurl=https%3a%2f%2fth.bing.com%2fth%2fid%2fR.174a50f84a956173df277a449bec7892%3frik%3dVi3sWyLVwJtXIw%26riu%3dhttp%253a%252f%252fwww.asisbiz.com%252fPhotos%252fClouds%252fimages%252fCumulonimbus-Clouds-Formations-Sky-Storms-Weather-Phenomena-22.jpg%26ehk%3d8MqW6P%252fjcoOuFH60LyegPlyd6sVmg%252fDl8TRBR7NYGPI%253d%26risl%3d%26pid%3dImgRaw%26r%3d0&exph=3168&expw=4224&q=clouds&simid=608026211512172325&FORM=IRPRST&ck=EB49B2B9EC0D28256797561135547598&selectedIndex=19&itb=0', 'https://www.bing.com/images/search?view=detailV2&ccid=AgM2alr9&id=36EE64DDC492B504F460EDBD3DF8084566DB1792&thid=OIP.AgM2alr99dD-UhIeQX5_twHaE8&mediaurl=https%3a%2f%2fwi-images.condecdn.net%2fimage%2fayk6a2EOxa9%2fcrop%2f1440%2flandscape&cdnurl=https%3a%2f%2fth.bing.com%2fth%2fid%2fR.0203366a5afdf5d0fe52121e417e7fb7%3frik%3dkhfbZkUI%252bD297Q%26pid%3dImgRaw%26r%3d0&exph=960&expw=1440&q=clouds&simid=607997984992602466&FORM=IRPRST&ck=2EAF3846A602E4CFBA63A6E1C6D1869A&selectedIndex=20&itb=0', 'https://www.bing.com/images/search?view=detailV2&ccid=aCp%2fy0sX&id=215428FA1362F9513266B3D65863CDB660D3DF3B&thid=OIP.aCp_y0sXkn6WFRr2yg7w6AHaEK&mediaurl=https%3a%2f%2fe3.365dm.com%2f23%2f01%2f1600x900%2fskynews-cloud-invershin_6041019.jpg%3f20230130142743&cdnurl=https%3a%2f%2fth.bing.com%2fth%2fid%2fR.682a7fcb4b17927e96151af6ca0ef0e8%3frik%3dO9%252fTYLbNY1jWsw%26pid%3dImgRaw%26r%3d0&exph=900&expw=1600&q=clouds&simid=608040397767407200&FORM=IRPRST&ck=56189FBEC17A46254A19BD46223FD3DE&selectedIndex=21&itb=0', 'https://www.bing.com/images/search?view=detailV2&ccid=rSkUGyen&id=FCB2D7B151E90A87D6E9E84BE08025197E1BC4F2&thid=OIP.rSkUGyen_dVjXj6cG3Kg-gHaJl&mediaurl=https%3a%2f%2fwww.exploringnature.org%2fgraphics%2fweather%2fClouds_small.jpg&cdnurl=https%3a%2f%2fth.bing.com%2fth%2fid%2fR.ad29141b27a7fdd5635e3e9c1b72a0fa%3frik%3d8sQbfhklgOBL6A%26pid%3dImgRaw%26r%3d0&exph=792&expw=612&q=clouds&simid=607999355071527756&FORM=IRPRST&ck=1FC350846175E5A74AF86206C6F29238&selectedIndex=22&itb=0', 'https://www.bing.com/images/search?view=detailV2&ccid=SUxeE1RB&id=4E105835B817CC70128155932D5759D4CC25BCC3&thid=OIP.SUxeE1RBOhtjcO6fsXcfwwHaFS&mediaurl=https%3a%2f%2fth.bing.com%2fth%2fid%2fR.494c5e1354413a1b6370ee9fb1771fc3%3frik%3dw7wlzNRZVy2TVQ%26riu%3dhttp%253a%252f%252f2.bp.blogspot.com%252f-uPEe6vUaIGo%252fUg7jQAoLePI%252fAAAAAAAAELc%252f-wD2t6tLalM%252fs1600%252f8_16_2013%252b5x7%252b200a.jpg%26ehk%3dHFlOGuqk8dUZftw1zGgSmekdzC%252fQtq92C8tuC49z0DM%253d%26risl%3d%26pid%3dImgRaw%26r%3d0&exph=1000&expw=1400&q=clouds&simid=607994458823289072&FORM=IRPRST&ck=DF7BF4B826F8EAE9D24A0E64847BB63F&selectedIndex=23&itb=0', 'https://www.bing.com/images/search?view=detailV2&ccid=yUI8XFw5&id=C5359949EDD53F56ACAE06CF112267B8383A3613&thid=OIP.yUI8XFw5VZpG5CoZg-V6awHaIV&mediaurl=https%3a%2f%2fwww.vedantu.com%2fseo%2fcontent-images%2f74cc826c-c87a-4903-803e-cc43cc37f124.png&cdnurl=https%3a%2f%2fth.bing.com%2fth%2fid%2fR.c9423c5c5c39559a46e42a1983e57a6b%3frik%3dEzY6OLhnIhHPBg%26pid%3dImgRaw%26r%3d0&exph=900&expw=800&q=clouds&simid=608043554568949026&FORM=IRPRST&ck=4146874F3056BB5A632B39AF5C1706FA&selectedIndex=24&itb=1', 'https://www.bing.com/images/search?view=detailV2&ccid=fPvFT5kR&id=161E9BBD606B534D57CA23982A23D11141F0DF39&thid=OIP.fPvFT5kRgD3hxejTmeaE9QHaDs&mediaurl=https%3a%2f%2fi.pinimg.com%2foriginals%2f72%2fe0%2f80%2f72e080876792f9a0d39e2615ccec303a.jpg&cdnurl=https%3a%2f%2fth.bing.com%2fth%2fid%2fR.7cfbc54f9911803de1c5e8d399e684f5%3frik%3dOd%252fwQRHRIyqYIw%26pid%3dImgRaw%26r%3d0&exph=1938&expw=3888&q=clouds&simid=608051380041155279&FORM=IRPRST&ck=28B8A710764C07509BBB3F7940F9A400&selectedIndex=25&itb=0', 'https://www.bing.com/images/search?view=detailV2&ccid=ATJhvWOB&id=BB755531AA586A898CDC8A253A81E16158B6EDCF&thid=OIP.ATJhvWOBGYgBE3TWkU9q_AHaHS&mediaurl=https%3a%2f%2fdailyinfographic.com%2fwp-content%2fuploads%2f2023%2f02%2ffi51imw24fja1.jpg&cdnurl=https%3a%2f%2fth.bing.com%2fth%2fid%2fR.013261bd63811988011374d6914f6afc%3frik%3dz%252b22WGHhgTolig%26pid%3dImgRaw%26r%3d0&exph=1063&expw=1080&q=clouds&simid=608012854144613151&FORM=IRPRST&ck=8E8729FBA3AD379D27BF1AD0399B078F&selectedIndex=26&itb=0', 'https://www.bing.com/images/search?view=detailV2&ccid=%2fvTONDMI&id=BCDBC8D6872CBFFEB22E51975721D8888DB002D0&thid=OIP._vTONDMINGzy8jeYrNxGsgHaFs&mediaurl=https%3a%2f%2fwww.trvst.world%2fwp-content%2fuploads%2f2022%2f11%2fmammatus-clouds-yellow-sky.jpg&cdnurl=https%3a%2f%2fth.bing.com%2fth%2fid%2fR.fef4ce343308346cf2f23798acdc46b2%3frik%3d0AKwjYjYIVeXUQ%26pid%3dImgRaw%26r%3d0&exph=615&expw=800&q=clouds&simid=607987007032546914&FORM=IRPRST&ck=630F887D6068719998A7128468B64D9D&selectedIndex=27&itb=0', 'https://www.bing.com/images/search?view=detailV2&ccid=XkZlFI9B&id=C0C3B876E23CB7B7580D6B50D5D02FC877E35ED4&thid=OIP.XkZlFI9BzievCd9ilJuNIgHaEK&mediaurl=https%3a%2f%2fdm0qx8t0i9gc9.cloudfront.net%2fthumbnails%2fvideo%2fH8WuRINimqur8ud%2fsky-and-motion-of-the-clouds-timelapse-timelapse-videos-where-the-sun-shines-through-the-clouds-on-the-blue-sky-background-4k-high-speed-clouds-movement-timelapse_b5dny76_thumbnail-1080_01.png&cdnurl=https%3a%2f%2fth.bing.com%2fth%2fid%2fR.5e4665148f41ce27af09df62949b8d22%3frik%3d1F7jd8gv0NVQaw%26pid%3dImgRaw%26r%3d0&exph=1080&expw=1920&q=clouds&simid=607989352109647418&FORM=IRPRST&ck=8D31147DD606DD2807AA33151F73AE21&selectedIndex=28&itb=0', 'https://www.bing.com/images/search?view=detailV2&ccid=jMGetaQX&id=FE05BECFA9D179566DA5FF1031A5D84603F69F3D&thid=OIP.jMGetaQXy3yv9c6S83AHwQAAAA&mediaurl=https%3a%2f%2fscijinks.gov%2fclouds%2fcirrus.jpg&cdnurl=https%3a%2f%2fth.bing.com%2fth%2fid%2fR.8cc19eb5a417cb7caff5ce92f37007c1%3frik%3dPZ%252f2A0bYpTEQ%252fw%26pid%3dImgRaw%26r%3d0&exph=267&expw=400&q=clouds&simid=608034178705795579&FORM=IRPRST&ck=D8BDA2E3C578EECF515D72AAC02D698D&selectedIndex=29&itb=0', 'https://www.bing.com/images/search?view=detailV2&ccid=vZmMwk19&id=4A3E760022544D1FA72B286EC089D5606F0DB28E&thid=OIP.vZmMwk190eG9wAOy_n_uugHaE8&mediaurl=https%3a%2f%2fwww.awesomestories.com%2fimages%2fuser%2f87d693dbb8.jpg&cdnurl=https%3a%2f%2fth.bing.com%2fth%2fid%2fR.bd998cc24d7dd1e1bdc003b2fe7feeba%3frik%3djrINb2DVicBuKA%26pid%3dImgRaw%26r%3d0&exph=1161&expw=1737&q=clouds&simid=608053351412151648&FORM=IRPRST&ck=D9D4DFBE8DC3273F9FCCE85D707E4E25&selectedIndex=30&itb=0', 'https://www.bing.com/images/search?view=detailV2&ccid=jtbmLuUK&id=39EC40FF85831DA6D1CD03F18DDAAE4BF0EB2F38&thid=OIP.jtbmLuUK-MlTtg72fBb8SQHaDm&mediaurl=https%3a%2f%2fk3h3a8r8.rocketcdn.me%2fwp-content%2fuploads%2f2022%2f10%2fClouds-Final-File-2.png&cdnurl=https%3a%2f%2fth.bing.com%2fth%2fid%2fR.8ed6e62ee50af8c953b60ef67c16fc49%3frik%3dOC%252fr8Euu2o3xAw%26pid%3dImgRaw%26r%3d0&exph=1245&expw=2560&q=clouds&simid=607986745048054952&FORM=IRPRST&ck=940B4C9EBB571C6404E80C1919B7FA3D&selectedIndex=31&itb=0', 'https://www.bing.com/images/search?view=detailV2&ccid=40sRorP3&id=39EC40FF85831DA6D1CD9DA2B480A3CCA0ED7B61&thid=OIP.40sRorP378v6mmwoUhhUEAHaC_&mediaurl=https%3a%2f%2fk3h3a8r8.rocketcdn.me%2fwp-content%2fuploads%2f2022%2f10%2fClouds-Final-File-3.png&cdnurl=https%3a%2f%2fth.bing.com%2fth%2fid%2fR.e34b11a2b3f7efcbfa9a6c2852185410%3frik%3dYXvtoMyjgLSinQ%26pid%3dImgRaw%26r%3d0&exph=1034&expw=2560&q=clouds&simid=607998530419697568&FORM=IRPRST&ck=15B7B8EF3B725F1C20482477FA67B76D&selectedIndex=32&itb=0', 'https://www.bing.com/images/search?view=detailV2&ccid=rObRAjY5&id=2110B714017C82BF1D36AD39BA2923D1F06AC9F3&thid=OIP.rObRAjY5c7tPDg1DV2CFNAHaG3&mediaurl=https%3a%2f%2fcdn.britannica.com%2f02%2f93302-050-2B341CC8%2ftypes-clouds-heights.jpg&cdnurl=https%3a%2f%2fth.bing.com%2fth%2fid%2fR.ace6d102363973bb4f0e0d4357608534%3frik%3d88lq8NEjKbo5rQ%26pid%3dImgRaw%26r%3d0&exph=1485&expw=1600&q=clouds&simid=608018257217797249&FORM=IRPRST&ck=27D6C15FB2D63F7461AFCF5763FCDB9E&selectedIndex=33&itb=0', 'https://www.bing.com/images/search?view=detailV2&ccid=SkkVqfRR&id=0A18A75E9BE9465D0F5982A3BC3CDA9D32087271&thid=OIP.SkkVqfRR2grUP5fz5ZRUbAHaEK&mediaurl=https%3a%2f%2fimages.interestingengineering.com%2f2022%2f12%2f19%2fimage%2fpng%2fUsD1JikNAzzQwG8yQBLu3NAUKmwLeOgCWKpAXyb9.png&cdnurl=https%3a%2f%2fth.bing.com%2fth%2fid%2fR.4a4915a9f451da0ad43f97f3e594546c%3frik%3dcXIIMp3aPLyjgg%26pid%3dImgRaw%26r%3d0&exph=1080&expw=1920&q=clouds&simid=608005930639712077&FORM=IRPRST&ck=CC228D0E448E6CE3B16B18F54385D17A&selectedIndex=34&itb=0']\n",
      "35 links acquired from Bing images, using 35...\n"
     ]
    },
    {
     "data": {
      "text/plain": [
       "['https://www.bing.com/images/search?view=detailV2&ccid=p4x2A4Fd&id=A1FD4680135C78CADDE44206085CE003AED5EDDB&thid=OIP.p4x2A4FdyIt-jnOdkSrYwgHaE7&mediaurl=https%3a%2f%2fwallpaperaccess.com%2ffull%2f2548059.jpg&cdnurl=https%3a%2f%2fth.bing.com%2fth%2fid%2fR.a78c7603815dc88b7e8e739d912ad8c2%3frik%3d2%252b3VrgPgXAgGQg%26pid%3dImgRaw%26r%3d0&exph=3733&expw=5600&q=clouds&simid=608054648432715040&FORM=IRPRST&ck=BAE7035BDFC4AE2880A707725DBF46ED&selectedIndex=0&itb=0',\n",
       " 'https://www.bing.com/images/search?view=detailV2&ccid=lMBoHHLP&id=87252C96EE720CC759C57247F2834508B9D94329&thid=OIP.lMBoHHLPCvR3MqZamkeCOAHaFj&mediaurl=https%3a%2f%2fwallpaperaccess.com%2ffull%2f530682.jpg&cdnurl=https%3a%2f%2fth.bing.com%2fth%2fid%2fR.94c0681c72cf0af47732a65a9a478238%3frik%3dKUPZuQhFg%252fJHcg%26pid%3dImgRaw%26r%3d0&exph=1200&expw=1600&q=clouds&simid=608009581409481602&FORM=IRPRST&ck=EB57DD0A06138FDD462B5393E029A9E2&selectedIndex=1&itb=0',\n",
       " 'https://www.bing.com/images/search?view=detailV2&ccid=JdG7RZ4J&id=1E4218DCF22CAA1CE718D52302EFBF266321F2FA&thid=OIP.JdG7RZ4JasH155y42GspxwHaHT&mediaurl=https%3a%2f%2fth.bing.com%2fth%2fid%2fR.25d1bb459e096ac1f5e79cb8d86b29c7%3frik%3d%252bvIhYya%252f7wIj1Q%26riu%3dhttp%253a%252f%252fupload.wikimedia.org%252fwikipedia%252fcommons%252f8%252f8d%252fCumulus_clouds_Montenegro.jpg%26ehk%3dTMEEqupIk%252feg3eqYpKhnxr6aUzGRNTrhQe0J7zkLIRM%253d%26risl%3d%26pid%3dImgRaw%26r%3d0&exph=1965&expw=1992&q=clouds&simid=608030317498479686&FORM=IRPRST&ck=A58516762F2F816C9F01553E9AAA3538&selectedIndex=2&itb=0',\n",
       " 'https://www.bing.com/images/search?view=detailV2&ccid=3NNo%2bO9p&id=20C9D02A7BAFE054209A7C42239873CA530BEFD4&thid=OIP.3NNo-O9pYXeiPiLHYRcVNAHaE6&mediaurl=https%3a%2f%2fget.pxhere.com%2fphoto%2fnature-cloud-sky-sunlight-cloudy-atmosphere-daytime-cumulus-blue-background-image-cloud-cover-clouds-background-day-cloudy-sky-meteorological-phenomenon-1081249.jpg&cdnurl=https%3a%2f%2fth.bing.com%2fth%2fid%2fR.dcd368f8ef696177a23e22c761171534%3frik%3d1O8LU8pzmCNCfA%26pid%3dImgRaw%26r%3d0&exph=2848&expw=4288&q=clouds&simid=607991155960150868&FORM=IRPRST&ck=C74B6842DCE2D27AFB110FC48959EDC3&selectedIndex=3&itb=0',\n",
       " 'https://www.bing.com/images/search?view=detailV2&ccid=bXGgbeGD&id=434AEDA68C20FA6886D37469483B7395CFDD95D5&thid=OIP.bXGgbeGDwIUuY4EWfSTaVAHaE8&mediaurl=https%3a%2f%2fth.bing.com%2fth%2fid%2fR.6d71a06de183c0852e6381167d24da54%3frik%3d1ZXdz5VzO0hpdA%26riu%3dhttp%253a%252f%252fupload.wikimedia.org%252fwikipedia%252fcommons%252f2%252f28%252fClouds_Blue_Sky_001.jpg%26ehk%3d5w9UcQfWr27OMhajyMDr9qADmc7Sdgv84TuTMbkyuZ0%253d%26risl%3d1%26pid%3dImgRaw%26r%3d0&exph=2048&expw=3072&q=clouds&simid=608054614093924055&FORM=IRPRST&ck=3CE7EB0A9CF0A73B77241F43B90CA32B&selectedIndex=4&itb=0',\n",
       " 'https://www.bing.com/images/search?view=detailV2&ccid=og0vqbsH&id=D64710522661031A7FF827DCE1BF80A3951942BE&thid=OIP.og0vqbsHybi-05oZ_gHFugHaEK&mediaurl=https%3a%2f%2fth.bing.com%2fth%2fid%2fR.a20d2fa9bb07c9b8bed39a19fe01c5ba%3frik%3dvkIZlaOAv%252bHcJw%26riu%3dhttp%253a%252f%252fhdqwalls.com%252fdownload%252fclouds-hd-2048x1152.jpg%26ehk%3dtjFZu8TltWY9XHsAU9PDGyau%252fuacy4mtL3HNQw4l8eM%253d%26risl%3d%26pid%3dImgRaw%26r%3d0&exph=1152&expw=2048&q=clouds&simid=608003396660049298&FORM=IRPRST&ck=E5FD0899CC13553CC527024DD5AC37A1&selectedIndex=5&itb=0',\n",
       " 'https://www.bing.com/images/search?view=detailV2&ccid=mi4ssZ4j&id=E92A358EDA8E9D769E786609A8186800C8B92678&thid=OIP.mi4ssZ4j-p80O7FTMi6pSAHaE8&mediaurl=https%3a%2f%2foutforia.com%2fwp-content%2fuploads%2f2021%2f04%2fTypes-of-clouds-1.jpg&cdnurl=https%3a%2f%2fth.bing.com%2fth%2fid%2fR.9a2e2cb19e23fa9f343bb153322ea948%3frik%3deCa5yABoGKgJZg%26pid%3dImgRaw%26r%3d0&exph=667&expw=1000&q=clouds&simid=608004775332569804&FORM=IRPRST&ck=FF11B95874E81C8C3851744C0EB214D7&selectedIndex=6&itb=0',\n",
       " 'https://www.bing.com/images/search?view=detailV2&ccid=5QdR%2fUiF&id=DAFBCBD04CD3F9242712A5BCD6500F8ADC622F50&thid=OIP.5QdR_UiFhFhiisljRZO0SQHaE8&mediaurl=https%3a%2f%2fairandspace.si.edu%2fsites%2fdefault%2ffiles%2fimages%2fevents%2fR00489_1.jpg&cdnurl=https%3a%2f%2fth.bing.com%2fth%2fid%2fR.e50751fd48858458628ac9634593b449%3frik%3dUC9i3IoPUNa8pQ%26pid%3dImgRaw%26r%3d0&exph=2336&expw=3504&q=clouds&simid=608026370436891743&FORM=IRPRST&ck=304C069D0A1D1EECF9B6F75C848D1962&selectedIndex=7&itb=0',\n",
       " 'https://www.bing.com/images/search?view=detailV2&ccid=UqGdD5EV&id=68995C093B8DAC8457F7170789D4B32B1ABF747A&thid=OIP.UqGdD5EVEhjyaJx8vmi29AHaKI&mediaurl=https%3a%2f%2fimg.freepik.com%2fpremium-photo%2fbeautiful-orange-sky-clouds-sunset_692702-3629.jpg%3fw%3d2000&cdnurl=https%3a%2f%2fth.bing.com%2fth%2fid%2fR.52a19d0f91151218f2689c7cbe68b6f4%3frik%3denS%252fGiuz1IkHFw%26pid%3dImgRaw%26r%3d0&exph=2000&expw=1462&q=clouds&simid=608024334619988910&FORM=IRPRST&ck=902EBE4652E9CAA532B064F2D3918810&selectedIndex=8&itb=0',\n",
       " 'https://www.bing.com/images/search?view=detailV2&ccid=zqV2ikcL&id=58596DD63CBAFD876AE95A34FD4697603CF8F276&thid=OIP.zqV2ikcLc9G9kX87GDDHbwHaE8&mediaurl=https%3a%2f%2fwww.thoughtco.com%2fthmb%2fEYThUyLlbrtjCQ-7z2q2Nc6LOWo%3d%2f1500x0%2ffilters%3ano_upscale()%3amax_bytes(150000)%3astrip_icc()%2f548306131-56a9e2a33df78cf772ab3983.jpg&cdnurl=https%3a%2f%2fth.bing.com%2fth%2fid%2fR.cea5768a470b73d1bd917f3b1830c76f%3frik%3ddvL4PGCXRv00Wg%26pid%3dImgRaw%26r%3d0&exph=1000&expw=1500&q=clouds&simid=608014572162912511&FORM=IRPRST&ck=8DA0215B56DEBD576CFEAD5D5E6B0F57&selectedIndex=9&itb=0',\n",
       " 'https://www.bing.com/images/search?view=detailV2&ccid=%2bfjGaLqJ&id=760C65E967777D501CB23179D2C7CA41E534D0A1&thid=OIP.-fjGaLqJ_itbFeYoXCWNUgHaE7&mediaurl=https%3a%2f%2fget.pxhere.com%2fphoto%2fsea-nature-horizon-cloud-sky-sunlight-atmosphere-daytime-cumulus-plain-clouds-hd-wallpaper-meteorological-phenomenon-atmosphere-of-earth-952550.jpg&cdnurl=https%3a%2f%2fth.bing.com%2fth%2fid%2fR.f9f8c668ba89fe2b5b15e6285c258d52%3frik%3dodA05UHKx9J5MQ%26pid%3dImgRaw%26r%3d0&exph=1697&expw=2552&q=clouds&simid=608014215669118781&FORM=IRPRST&ck=5C9B05FB9760320FC7D1FBC565B835D0&selectedIndex=10&itb=0',\n",
       " 'https://www.bing.com/images/search?view=detailV2&ccid=e4%2fkH6PS&id=AE90EF4E3E0410B94429748BFCA4CF6ABA35A4E3&thid=OIP.e4_kH6PSNLGgCAa7KtuMJQHaE6&mediaurl=https%3a%2f%2fget.pxhere.com%2fphoto%2fhorizon-cloud-sky-sun-sunlight-atmosphere-daytime-cumulus-plain-clouds-grassland-bird%27s-eye-view-meteorological-phenomenon-atmosphere-of-earth-computer-wallpaper-983293.jpg&cdnurl=https%3a%2f%2fth.bing.com%2fth%2fid%2fR.7b8fe41fa3d234b1a00806bb2adb8c25%3frik%3d46Q1umrPpPyLdA%26pid%3dImgRaw%26r%3d0&exph=2848&expw=4288&q=clouds&simid=608006811111740570&FORM=IRPRST&ck=912FE9B27928B91B909991C701680B8B&selectedIndex=11&itb=0',\n",
       " 'https://www.bing.com/images/search?view=detailV2&ccid=lNOl%2fnKT&id=257111060C6A419B16345AF8BDCDFCFA463AB237&thid=OIP.lNOl_nKTptNxdwsOwrrefwHaE7&mediaurl=https%3a%2f%2ffthmb.tqn.com%2fjpPd9U6w13lKOnj3VAkgKPLNUx4%3d%2f768x0%2ffilters%3ano_upscale()%2fGettyImages-482252-001-570a81d93df78c7d9edc0d78.jpg&cdnurl=https%3a%2f%2fth.bing.com%2fth%2fid%2fR.94d3a5fe7293a6d371770b0ec2bade7f%3frik%3dN7I6Rvr8zb34Wg%26pid%3dImgRaw%26r%3d0&exph=511&expw=768&q=clouds&simid=608055013568153038&FORM=IRPRST&ck=06ED2FDADF780E88ACCCD5924059AEA6&selectedIndex=12&itb=0',\n",
       " 'https://www.bing.com/images/search?view=detailV2&ccid=ORu4XFvy&id=107187649B57808BF1314EB959C7F1EFA8EE11B1&thid=OIP.ORu4XFvyxpd7E95Dz5ObmgHaF8&mediaurl=https%3a%2f%2fwww.geographyalltheway.com%2fwp-content%2fuploads%2figcse%2fweather%2fcloud_type-1280x1028.jpg&cdnurl=https%3a%2f%2fth.bing.com%2fth%2fid%2fR.391bb85c5bf2c6977b13de43cf939b9a%3frik%3dsRHuqO%252fxx1m5Tg%26pid%3dImgRaw%26r%3d0&exph=1028&expw=1280&q=clouds&simid=608005011532038245&FORM=IRPRST&ck=6A15B14FFB73756ED911BE7065F54A20&selectedIndex=13&itb=0',\n",
       " 'https://www.bing.com/images/search?view=detailV2&ccid=2KIH4gZm&id=8202571A1E5A9E4A2C28F5802CC600280A37D749&thid=OIP.2KIH4gZmIGixd-I7edx0twHaLV&mediaurl=https%3a%2f%2fget.pxhere.com%2fphoto%2fhorizon-wing-cloud-sky-sunlight-air-view-atmosphere-pattern-high-fluffy-aviation-flight-cumulus-blue-aerial-plain-cloudscape-above-clouds-stratosphere-meteorological-phenomenon-air-travel-atmosphere-of-earth-717965.jpg&cdnurl=https%3a%2f%2fth.bing.com%2fth%2fid%2fR.d8a207e206662068b177e23b79dc74b7%3frik%3dSdc3CigAxiyA9Q%26pid%3dImgRaw%26r%3d0&exph=3500&expw=2286&q=clouds&simid=608012510572782899&FORM=IRPRST&ck=8B8299521EBDC78B75031D5971E31A56&selectedIndex=14&itb=0',\n",
       " 'https://www.bing.com/images/search?view=detailV2&ccid=VVDDkRS%2f&id=CF2997E516789B190CFD7149786A03676E2E07D5&thid=OIP.VVDDkRS_uB35T-2NspJXwgHaEJ&mediaurl=https%3a%2f%2fimg.freepik.com%2fpremium-photo%2fclouds-are-sky-with-bright-sun-background-generative-ai_899870-31098.jpg%3fw%3d2000&cdnurl=https%3a%2f%2fth.bing.com%2fth%2fid%2fR.5550c39114bfb81df94fed8db29257c2%3frik%3d1QcubmcDanhJcQ%26pid%3dImgRaw%26r%3d0&exph=1121&expw=2000&q=clouds&simid=607987208927867133&FORM=IRPRST&ck=591230397C0A71104E210AC12B880CA7&selectedIndex=15&itb=0',\n",
       " 'https://www.bing.com/images/search?view=detailV2&ccid=FJ91BVU8&id=38E299F5F62ABFAB797E0CCF8D9974795C1C4461&thid=OIP.FJ91BVU8TL8k6WYskvdm3AHaGE&mediaurl=https%3a%2f%2fwww.angleofattack.com%2fwp-content%2fuploads%2f2023%2f04%2fCumulonimbus-Clouds-scaled.jpg&cdnurl=https%3a%2f%2fth.bing.com%2fth%2fid%2fR.149f7505553c4cbf24e9662c92f766dc%3frik%3dYUQcXHl0mY3PDA%26pid%3dImgRaw%26r%3d0&exph=2096&expw=2560&q=clouds&simid=608021615878017754&FORM=IRPRST&ck=06075273B0593378A3EA8C74BB68B6D2&selectedIndex=16&itb=0',\n",
       " 'https://www.bing.com/images/search?view=detailV2&ccid=w6L%2fvat9&id=7CD9AC91AFB545D1F6949810F30E823B27CD37BC&thid=OIP.w6L_vat9sjzIfZgJcjHeNAHaEv&mediaurl=https%3a%2f%2fst.adda247.com%2fhttps%3a%2f%2fs3-ap-south-1.amazonaws.com%2fadda247jobs-wp-assets-adda247%2farticles%2fwp-content%2fuploads%2f2022%2f12%2f21205034%2fTypes-of-clouds.jpg&cdnurl=https%3a%2f%2fth.bing.com%2fth%2fid%2fR.c3a2ffbdab7db23cc87d98097231de34%3frik%3dvDfNJzuCDvMQmA%26pid%3dImgRaw%26r%3d0&exph=768&expw=1200&q=clouds&simid=607997525408316547&FORM=IRPRST&ck=70A8A83BE2ACCBA9E428F7880873B982&selectedIndex=17&itb=0',\n",
       " 'https://www.bing.com/images/search?view=detailV2&ccid=r30l45Ys&id=20B95A66676771209910C8B2EED0CA7CE06F7BDF&thid=OIP.r30l45Ysdhf_9ICVQvSaHgHaLc&mediaurl=https%3a%2f%2fk3h3a8r8.rocketcdn.me%2fwp-content%2fuploads%2f2022%2f10%2fDifferent-Types-of-Clouds-1.png&cdnurl=https%3a%2f%2fth.bing.com%2fth%2fid%2fR.af7d25e3962c7617fff4809542f49a1e%3frik%3d33tv4HzK0O6yyA%26pid%3dImgRaw%26r%3d0&exph=3955&expw=2560&q=clouds&simid=608028127065111837&FORM=IRPRST&ck=CC659A90CDA7A2EBAC588993F3CEC705&selectedIndex=18&itb=0',\n",
       " 'https://www.bing.com/images/search?view=detailV2&ccid=F0pQ%2bEqV&id=59914E3F3DA60F58125823579BC0D5225BEC2D56&thid=OIP.F0pQ-EqVYXPfJ3pEm-x4kgHaFj&mediaurl=https%3a%2f%2fth.bing.com%2fth%2fid%2fR.174a50f84a956173df277a449bec7892%3frik%3dVi3sWyLVwJtXIw%26riu%3dhttp%253a%252f%252fwww.asisbiz.com%252fPhotos%252fClouds%252fimages%252fCumulonimbus-Clouds-Formations-Sky-Storms-Weather-Phenomena-22.jpg%26ehk%3d8MqW6P%252fjcoOuFH60LyegPlyd6sVmg%252fDl8TRBR7NYGPI%253d%26risl%3d%26pid%3dImgRaw%26r%3d0&exph=3168&expw=4224&q=clouds&simid=608026211512172325&FORM=IRPRST&ck=EB49B2B9EC0D28256797561135547598&selectedIndex=19&itb=0',\n",
       " 'https://www.bing.com/images/search?view=detailV2&ccid=AgM2alr9&id=36EE64DDC492B504F460EDBD3DF8084566DB1792&thid=OIP.AgM2alr99dD-UhIeQX5_twHaE8&mediaurl=https%3a%2f%2fwi-images.condecdn.net%2fimage%2fayk6a2EOxa9%2fcrop%2f1440%2flandscape&cdnurl=https%3a%2f%2fth.bing.com%2fth%2fid%2fR.0203366a5afdf5d0fe52121e417e7fb7%3frik%3dkhfbZkUI%252bD297Q%26pid%3dImgRaw%26r%3d0&exph=960&expw=1440&q=clouds&simid=607997984992602466&FORM=IRPRST&ck=2EAF3846A602E4CFBA63A6E1C6D1869A&selectedIndex=20&itb=0',\n",
       " 'https://www.bing.com/images/search?view=detailV2&ccid=aCp%2fy0sX&id=215428FA1362F9513266B3D65863CDB660D3DF3B&thid=OIP.aCp_y0sXkn6WFRr2yg7w6AHaEK&mediaurl=https%3a%2f%2fe3.365dm.com%2f23%2f01%2f1600x900%2fskynews-cloud-invershin_6041019.jpg%3f20230130142743&cdnurl=https%3a%2f%2fth.bing.com%2fth%2fid%2fR.682a7fcb4b17927e96151af6ca0ef0e8%3frik%3dO9%252fTYLbNY1jWsw%26pid%3dImgRaw%26r%3d0&exph=900&expw=1600&q=clouds&simid=608040397767407200&FORM=IRPRST&ck=56189FBEC17A46254A19BD46223FD3DE&selectedIndex=21&itb=0',\n",
       " 'https://www.bing.com/images/search?view=detailV2&ccid=rSkUGyen&id=FCB2D7B151E90A87D6E9E84BE08025197E1BC4F2&thid=OIP.rSkUGyen_dVjXj6cG3Kg-gHaJl&mediaurl=https%3a%2f%2fwww.exploringnature.org%2fgraphics%2fweather%2fClouds_small.jpg&cdnurl=https%3a%2f%2fth.bing.com%2fth%2fid%2fR.ad29141b27a7fdd5635e3e9c1b72a0fa%3frik%3d8sQbfhklgOBL6A%26pid%3dImgRaw%26r%3d0&exph=792&expw=612&q=clouds&simid=607999355071527756&FORM=IRPRST&ck=1FC350846175E5A74AF86206C6F29238&selectedIndex=22&itb=0',\n",
       " 'https://www.bing.com/images/search?view=detailV2&ccid=SUxeE1RB&id=4E105835B817CC70128155932D5759D4CC25BCC3&thid=OIP.SUxeE1RBOhtjcO6fsXcfwwHaFS&mediaurl=https%3a%2f%2fth.bing.com%2fth%2fid%2fR.494c5e1354413a1b6370ee9fb1771fc3%3frik%3dw7wlzNRZVy2TVQ%26riu%3dhttp%253a%252f%252f2.bp.blogspot.com%252f-uPEe6vUaIGo%252fUg7jQAoLePI%252fAAAAAAAAELc%252f-wD2t6tLalM%252fs1600%252f8_16_2013%252b5x7%252b200a.jpg%26ehk%3dHFlOGuqk8dUZftw1zGgSmekdzC%252fQtq92C8tuC49z0DM%253d%26risl%3d%26pid%3dImgRaw%26r%3d0&exph=1000&expw=1400&q=clouds&simid=607994458823289072&FORM=IRPRST&ck=DF7BF4B826F8EAE9D24A0E64847BB63F&selectedIndex=23&itb=0',\n",
       " 'https://www.bing.com/images/search?view=detailV2&ccid=yUI8XFw5&id=C5359949EDD53F56ACAE06CF112267B8383A3613&thid=OIP.yUI8XFw5VZpG5CoZg-V6awHaIV&mediaurl=https%3a%2f%2fwww.vedantu.com%2fseo%2fcontent-images%2f74cc826c-c87a-4903-803e-cc43cc37f124.png&cdnurl=https%3a%2f%2fth.bing.com%2fth%2fid%2fR.c9423c5c5c39559a46e42a1983e57a6b%3frik%3dEzY6OLhnIhHPBg%26pid%3dImgRaw%26r%3d0&exph=900&expw=800&q=clouds&simid=608043554568949026&FORM=IRPRST&ck=4146874F3056BB5A632B39AF5C1706FA&selectedIndex=24&itb=1',\n",
       " 'https://www.bing.com/images/search?view=detailV2&ccid=fPvFT5kR&id=161E9BBD606B534D57CA23982A23D11141F0DF39&thid=OIP.fPvFT5kRgD3hxejTmeaE9QHaDs&mediaurl=https%3a%2f%2fi.pinimg.com%2foriginals%2f72%2fe0%2f80%2f72e080876792f9a0d39e2615ccec303a.jpg&cdnurl=https%3a%2f%2fth.bing.com%2fth%2fid%2fR.7cfbc54f9911803de1c5e8d399e684f5%3frik%3dOd%252fwQRHRIyqYIw%26pid%3dImgRaw%26r%3d0&exph=1938&expw=3888&q=clouds&simid=608051380041155279&FORM=IRPRST&ck=28B8A710764C07509BBB3F7940F9A400&selectedIndex=25&itb=0',\n",
       " 'https://www.bing.com/images/search?view=detailV2&ccid=ATJhvWOB&id=BB755531AA586A898CDC8A253A81E16158B6EDCF&thid=OIP.ATJhvWOBGYgBE3TWkU9q_AHaHS&mediaurl=https%3a%2f%2fdailyinfographic.com%2fwp-content%2fuploads%2f2023%2f02%2ffi51imw24fja1.jpg&cdnurl=https%3a%2f%2fth.bing.com%2fth%2fid%2fR.013261bd63811988011374d6914f6afc%3frik%3dz%252b22WGHhgTolig%26pid%3dImgRaw%26r%3d0&exph=1063&expw=1080&q=clouds&simid=608012854144613151&FORM=IRPRST&ck=8E8729FBA3AD379D27BF1AD0399B078F&selectedIndex=26&itb=0',\n",
       " 'https://www.bing.com/images/search?view=detailV2&ccid=%2fvTONDMI&id=BCDBC8D6872CBFFEB22E51975721D8888DB002D0&thid=OIP._vTONDMINGzy8jeYrNxGsgHaFs&mediaurl=https%3a%2f%2fwww.trvst.world%2fwp-content%2fuploads%2f2022%2f11%2fmammatus-clouds-yellow-sky.jpg&cdnurl=https%3a%2f%2fth.bing.com%2fth%2fid%2fR.fef4ce343308346cf2f23798acdc46b2%3frik%3d0AKwjYjYIVeXUQ%26pid%3dImgRaw%26r%3d0&exph=615&expw=800&q=clouds&simid=607987007032546914&FORM=IRPRST&ck=630F887D6068719998A7128468B64D9D&selectedIndex=27&itb=0',\n",
       " 'https://www.bing.com/images/search?view=detailV2&ccid=XkZlFI9B&id=C0C3B876E23CB7B7580D6B50D5D02FC877E35ED4&thid=OIP.XkZlFI9BzievCd9ilJuNIgHaEK&mediaurl=https%3a%2f%2fdm0qx8t0i9gc9.cloudfront.net%2fthumbnails%2fvideo%2fH8WuRINimqur8ud%2fsky-and-motion-of-the-clouds-timelapse-timelapse-videos-where-the-sun-shines-through-the-clouds-on-the-blue-sky-background-4k-high-speed-clouds-movement-timelapse_b5dny76_thumbnail-1080_01.png&cdnurl=https%3a%2f%2fth.bing.com%2fth%2fid%2fR.5e4665148f41ce27af09df62949b8d22%3frik%3d1F7jd8gv0NVQaw%26pid%3dImgRaw%26r%3d0&exph=1080&expw=1920&q=clouds&simid=607989352109647418&FORM=IRPRST&ck=8D31147DD606DD2807AA33151F73AE21&selectedIndex=28&itb=0',\n",
       " 'https://www.bing.com/images/search?view=detailV2&ccid=jMGetaQX&id=FE05BECFA9D179566DA5FF1031A5D84603F69F3D&thid=OIP.jMGetaQXy3yv9c6S83AHwQAAAA&mediaurl=https%3a%2f%2fscijinks.gov%2fclouds%2fcirrus.jpg&cdnurl=https%3a%2f%2fth.bing.com%2fth%2fid%2fR.8cc19eb5a417cb7caff5ce92f37007c1%3frik%3dPZ%252f2A0bYpTEQ%252fw%26pid%3dImgRaw%26r%3d0&exph=267&expw=400&q=clouds&simid=608034178705795579&FORM=IRPRST&ck=D8BDA2E3C578EECF515D72AAC02D698D&selectedIndex=29&itb=0',\n",
       " 'https://www.bing.com/images/search?view=detailV2&ccid=vZmMwk19&id=4A3E760022544D1FA72B286EC089D5606F0DB28E&thid=OIP.vZmMwk190eG9wAOy_n_uugHaE8&mediaurl=https%3a%2f%2fwww.awesomestories.com%2fimages%2fuser%2f87d693dbb8.jpg&cdnurl=https%3a%2f%2fth.bing.com%2fth%2fid%2fR.bd998cc24d7dd1e1bdc003b2fe7feeba%3frik%3djrINb2DVicBuKA%26pid%3dImgRaw%26r%3d0&exph=1161&expw=1737&q=clouds&simid=608053351412151648&FORM=IRPRST&ck=D9D4DFBE8DC3273F9FCCE85D707E4E25&selectedIndex=30&itb=0',\n",
       " 'https://www.bing.com/images/search?view=detailV2&ccid=jtbmLuUK&id=39EC40FF85831DA6D1CD03F18DDAAE4BF0EB2F38&thid=OIP.jtbmLuUK-MlTtg72fBb8SQHaDm&mediaurl=https%3a%2f%2fk3h3a8r8.rocketcdn.me%2fwp-content%2fuploads%2f2022%2f10%2fClouds-Final-File-2.png&cdnurl=https%3a%2f%2fth.bing.com%2fth%2fid%2fR.8ed6e62ee50af8c953b60ef67c16fc49%3frik%3dOC%252fr8Euu2o3xAw%26pid%3dImgRaw%26r%3d0&exph=1245&expw=2560&q=clouds&simid=607986745048054952&FORM=IRPRST&ck=940B4C9EBB571C6404E80C1919B7FA3D&selectedIndex=31&itb=0',\n",
       " 'https://www.bing.com/images/search?view=detailV2&ccid=40sRorP3&id=39EC40FF85831DA6D1CD9DA2B480A3CCA0ED7B61&thid=OIP.40sRorP378v6mmwoUhhUEAHaC_&mediaurl=https%3a%2f%2fk3h3a8r8.rocketcdn.me%2fwp-content%2fuploads%2f2022%2f10%2fClouds-Final-File-3.png&cdnurl=https%3a%2f%2fth.bing.com%2fth%2fid%2fR.e34b11a2b3f7efcbfa9a6c2852185410%3frik%3dYXvtoMyjgLSinQ%26pid%3dImgRaw%26r%3d0&exph=1034&expw=2560&q=clouds&simid=607998530419697568&FORM=IRPRST&ck=15B7B8EF3B725F1C20482477FA67B76D&selectedIndex=32&itb=0',\n",
       " 'https://www.bing.com/images/search?view=detailV2&ccid=rObRAjY5&id=2110B714017C82BF1D36AD39BA2923D1F06AC9F3&thid=OIP.rObRAjY5c7tPDg1DV2CFNAHaG3&mediaurl=https%3a%2f%2fcdn.britannica.com%2f02%2f93302-050-2B341CC8%2ftypes-clouds-heights.jpg&cdnurl=https%3a%2f%2fth.bing.com%2fth%2fid%2fR.ace6d102363973bb4f0e0d4357608534%3frik%3d88lq8NEjKbo5rQ%26pid%3dImgRaw%26r%3d0&exph=1485&expw=1600&q=clouds&simid=608018257217797249&FORM=IRPRST&ck=27D6C15FB2D63F7461AFCF5763FCDB9E&selectedIndex=33&itb=0',\n",
       " 'https://www.bing.com/images/search?view=detailV2&ccid=SkkVqfRR&id=0A18A75E9BE9465D0F5982A3BC3CDA9D32087271&thid=OIP.SkkVqfRR2grUP5fz5ZRUbAHaEK&mediaurl=https%3a%2f%2fimages.interestingengineering.com%2f2022%2f12%2f19%2fimage%2fpng%2fUsD1JikNAzzQwG8yQBLu3NAUKmwLeOgCWKpAXyb9.png&cdnurl=https%3a%2f%2fth.bing.com%2fth%2fid%2fR.4a4915a9f451da0ad43f97f3e594546c%3frik%3dcXIIMp3aPLyjgg%26pid%3dImgRaw%26r%3d0&exph=1080&expw=1920&q=clouds&simid=608005930639712077&FORM=IRPRST&ck=CC228D0E448E6CE3B16B18F54385D17A&selectedIndex=34&itb=0']"
      ]
     },
     "execution_count": 8,
     "metadata": {},
     "output_type": "execute_result"
    }
   ],
   "source": [
    "links = scraper.get_imlinks(get_all_links=True)\n",
    "\n",
    "links"
   ]
  },
  {
   "cell_type": "code",
   "execution_count": 9,
   "id": "7cc05099",
   "metadata": {
    "execution": {
     "iopub.execute_input": "2024-06-30T11:57:32.005520Z",
     "iopub.status.busy": "2024-06-30T11:57:32.005051Z",
     "iopub.status.idle": "2024-06-30T11:57:32.010738Z",
     "shell.execute_reply": "2024-06-30T11:57:32.009495Z"
    },
    "papermill": {
     "duration": 0.024996,
     "end_time": "2024-06-30T11:57:32.012901",
     "exception": false,
     "start_time": "2024-06-30T11:57:31.987905",
     "status": "completed"
    },
    "tags": []
   },
   "outputs": [],
   "source": [
    "# links[0].get_attribute('href')"
   ]
  },
  {
   "cell_type": "code",
   "execution_count": 10,
   "id": "d7591351",
   "metadata": {
    "execution": {
     "iopub.execute_input": "2024-06-30T11:57:32.057105Z",
     "iopub.status.busy": "2024-06-30T11:57:32.056013Z",
     "iopub.status.idle": "2024-06-30T11:57:32.065104Z",
     "shell.execute_reply": "2024-06-30T11:57:32.063916Z"
    },
    "papermill": {
     "duration": 0.045298,
     "end_time": "2024-06-30T11:57:32.072650",
     "exception": false,
     "start_time": "2024-06-30T11:57:32.027352",
     "status": "completed"
    },
    "tags": []
   },
   "outputs": [
    {
     "data": {
      "text/plain": [
       "35"
      ]
     },
     "execution_count": 10,
     "metadata": {},
     "output_type": "execute_result"
    }
   ],
   "source": [
    "len(links)"
   ]
  },
  {
   "cell_type": "code",
   "execution_count": 11,
   "id": "40ad0f34",
   "metadata": {
    "execution": {
     "iopub.execute_input": "2024-06-30T11:57:32.117234Z",
     "iopub.status.busy": "2024-06-30T11:57:32.116740Z",
     "iopub.status.idle": "2024-06-30T11:57:37.968852Z",
     "shell.execute_reply": "2024-06-30T11:57:37.967644Z"
    },
    "papermill": {
     "duration": 5.875508,
     "end_time": "2024-06-30T11:57:37.972683",
     "exception": false,
     "start_time": "2024-06-30T11:57:32.097175",
     "status": "completed"
    },
    "tags": []
   },
   "outputs": [
    {
     "data": {
      "application/vnd.jupyter.widget-view+json": {
       "model_id": "5233f1abb82b4e529a5398d6996952d8",
       "version_major": 2,
       "version_minor": 0
      },
      "text/plain": [
       "  0%|          | 0/35 [00:00<?, ?it/s]"
      ]
     },
     "metadata": {},
     "output_type": "display_data"
    },
    {
     "name": "stdout",
     "output_type": "stream",
     "text": [
      "image @ 1 downloaded\n",
      "image @ 2 downloaded\n",
      "image @ 3 downloaded\n",
      "image @ 4 downloaded\n",
      "image @ 5 downloaded\n",
      "image @ 6 downloaded\n",
      "image @ 7 downloaded\n",
      "image @ 8 downloaded\n",
      "image @ 9 downloaded\n",
      "image @ 10 downloaded\n",
      "image @ 11 downloaded\n",
      "image @ 12 downloaded\n",
      "image @ 13 downloaded\n",
      "image @ 14 downloaded\n",
      "image @ 15 downloaded\n",
      "image @ 16 downloaded\n",
      "image @ 17 downloaded\n",
      "image @ 18 downloaded\n",
      "image @ 19 downloaded\n",
      "image @ 20 downloaded\n",
      "image @ 21 downloaded\n",
      "image @ 22 downloaded\n",
      "image @ 23 downloaded\n",
      "image @ 24 downloaded\n",
      "image @ 25 downloaded\n",
      "image @ 26 downloaded\n",
      "image @ 27 downloaded\n",
      "image @ 28 downloaded\n",
      "image @ 29 downloaded\n",
      "image @ 30 downloaded\n",
      "image @ 31 downloaded\n",
      "image @ 32 downloaded\n",
      "image @ 33 downloaded\n",
      "image @ 34 downloaded\n",
      "image @ 35 downloaded\n",
      "35 images downloaded from Bing images\n"
     ]
    }
   ],
   "source": [
    "scraper.download_images(link_list=links, output_folder='clouds', verbose=True)"
   ]
  },
  {
   "cell_type": "code",
   "execution_count": 12,
   "id": "b50c0e21",
   "metadata": {
    "execution": {
     "iopub.execute_input": "2024-06-30T11:57:38.001743Z",
     "iopub.status.busy": "2024-06-30T11:57:38.001297Z",
     "iopub.status.idle": "2024-06-30T11:57:38.980471Z",
     "shell.execute_reply": "2024-06-30T11:57:38.979285Z"
    },
    "papermill": {
     "duration": 0.99723,
     "end_time": "2024-06-30T11:57:38.983535",
     "exception": false,
     "start_time": "2024-06-30T11:57:37.986305",
     "status": "completed"
    },
    "tags": []
   },
   "outputs": [],
   "source": [
    "scraper._quit_driver()"
   ]
  },
  {
   "cell_type": "code",
   "execution_count": 13,
   "id": "f33c2753",
   "metadata": {
    "execution": {
     "iopub.execute_input": "2024-06-30T11:57:39.011996Z",
     "iopub.status.busy": "2024-06-30T11:57:39.011600Z",
     "iopub.status.idle": "2024-06-30T11:57:39.016529Z",
     "shell.execute_reply": "2024-06-30T11:57:39.015425Z"
    },
    "papermill": {
     "duration": 0.021892,
     "end_time": "2024-06-30T11:57:39.018964",
     "exception": false,
     "start_time": "2024-06-30T11:57:38.997072",
     "status": "completed"
    },
    "tags": []
   },
   "outputs": [],
   "source": [
    "# r = requests.get('https://www.google.com/imgres?q=diffusionmodel&imgurl=https%3A%2F%2Fimages.prismic.io%2Fencord%2F334e0c7d-17db-4162-931a-246a34fe9cd4_image10.png%3Fauto%3Dcompress%2Cformat&imgrefurl=https%3A%2F%2Fencord.com%2Fblog%2Fdiffusion-models%2F&docid=2zAwD80xhMSjyM&tbnid=aVyXkzXbZWivfM&vet=12ahUKEwiSn7-av4CHAxWdcKQEHXigA3wQM3oECFAQAA..i&w=1181&h=318&hcb=2&ved=2ahUKEwiSn7-av4CHAxWdcKQEHXigA3wQM3oECFAQAA', stream=True)\n",
    "# with open('one.jpg', \"wb\") as f:\n",
    "#     r.raw.decode_content = True\n",
    "#     shutil.copyfileobj(r.raw, f)"
   ]
  },
  {
   "cell_type": "code",
   "execution_count": null,
   "id": "dc7f4c2a",
   "metadata": {
    "papermill": {
     "duration": 0.013356,
     "end_time": "2024-06-30T11:57:39.045783",
     "exception": false,
     "start_time": "2024-06-30T11:57:39.032427",
     "status": "completed"
    },
    "tags": []
   },
   "outputs": [],
   "source": []
  }
 ],
 "metadata": {
  "kaggle": {
   "accelerator": "none",
   "dataSources": [],
   "isGpuEnabled": false,
   "isInternetEnabled": true,
   "language": "python",
   "sourceType": "notebook"
  },
  "kernelspec": {
   "display_name": "Python 3",
   "language": "python",
   "name": "python3"
  },
  "language_info": {
   "codemirror_mode": {
    "name": "ipython",
    "version": 3
   },
   "file_extension": ".py",
   "mimetype": "text/x-python",
   "name": "python",
   "nbconvert_exporter": "python",
   "pygments_lexer": "ipython3",
   "version": "3.10.13"
  },
  "papermill": {
   "default_parameters": {},
   "duration": 56.689132,
   "end_time": "2024-06-30T11:57:39.480819",
   "environment_variables": {},
   "exception": null,
   "input_path": "__notebook__.ipynb",
   "output_path": "__notebook__.ipynb",
   "parameters": {},
   "start_time": "2024-06-30T11:56:42.791687",
   "version": "2.5.0"
  },
  "widgets": {
   "application/vnd.jupyter.widget-state+json": {
    "state": {
     "04c69255948e4b468c622f2b7787a1a3": {
      "model_module": "@jupyter-widgets/controls",
      "model_module_version": "1.5.0",
      "model_name": "HTMLModel",
      "state": {
       "_dom_classes": [],
       "_model_module": "@jupyter-widgets/controls",
       "_model_module_version": "1.5.0",
       "_model_name": "HTMLModel",
       "_view_count": null,
       "_view_module": "@jupyter-widgets/controls",
       "_view_module_version": "1.5.0",
       "_view_name": "HTMLView",
       "description": "",
       "description_tooltip": null,
       "layout": "IPY_MODEL_551923aa65054614941eb0066c94ce91",
       "placeholder": "​",
       "style": "IPY_MODEL_0e19f007dc6b49318a43a74291ca2a89",
       "value": " 35/35 [00:05&lt;00:00,  6.56it/s]"
      }
     },
     "04dff51faa1347e4ad0e1d90cd084d05": {
      "model_module": "@jupyter-widgets/controls",
      "model_module_version": "1.5.0",
      "model_name": "ProgressStyleModel",
      "state": {
       "_model_module": "@jupyter-widgets/controls",
       "_model_module_version": "1.5.0",
       "_model_name": "ProgressStyleModel",
       "_view_count": null,
       "_view_module": "@jupyter-widgets/base",
       "_view_module_version": "1.2.0",
       "_view_name": "StyleView",
       "bar_color": null,
       "description_width": ""
      }
     },
     "0e19f007dc6b49318a43a74291ca2a89": {
      "model_module": "@jupyter-widgets/controls",
      "model_module_version": "1.5.0",
      "model_name": "DescriptionStyleModel",
      "state": {
       "_model_module": "@jupyter-widgets/controls",
       "_model_module_version": "1.5.0",
       "_model_name": "DescriptionStyleModel",
       "_view_count": null,
       "_view_module": "@jupyter-widgets/base",
       "_view_module_version": "1.2.0",
       "_view_name": "StyleView",
       "description_width": ""
      }
     },
     "3d0eabf3fc2949bb9047e890118afd34": {
      "model_module": "@jupyter-widgets/controls",
      "model_module_version": "1.5.0",
      "model_name": "FloatProgressModel",
      "state": {
       "_dom_classes": [],
       "_model_module": "@jupyter-widgets/controls",
       "_model_module_version": "1.5.0",
       "_model_name": "FloatProgressModel",
       "_view_count": null,
       "_view_module": "@jupyter-widgets/controls",
       "_view_module_version": "1.5.0",
       "_view_name": "ProgressView",
       "bar_style": "success",
       "description": "",
       "description_tooltip": null,
       "layout": "IPY_MODEL_bc0bed45d45d4cb4b512e1bcd55e9599",
       "max": 35.0,
       "min": 0.0,
       "orientation": "horizontal",
       "style": "IPY_MODEL_04dff51faa1347e4ad0e1d90cd084d05",
       "value": 35.0
      }
     },
     "5233f1abb82b4e529a5398d6996952d8": {
      "model_module": "@jupyter-widgets/controls",
      "model_module_version": "1.5.0",
      "model_name": "HBoxModel",
      "state": {
       "_dom_classes": [],
       "_model_module": "@jupyter-widgets/controls",
       "_model_module_version": "1.5.0",
       "_model_name": "HBoxModel",
       "_view_count": null,
       "_view_module": "@jupyter-widgets/controls",
       "_view_module_version": "1.5.0",
       "_view_name": "HBoxView",
       "box_style": "",
       "children": [
        "IPY_MODEL_7c6123f9408a460db5a8956647b328f9",
        "IPY_MODEL_3d0eabf3fc2949bb9047e890118afd34",
        "IPY_MODEL_04c69255948e4b468c622f2b7787a1a3"
       ],
       "layout": "IPY_MODEL_a517a5e4ac6540f798a6cf3385b77293"
      }
     },
     "551923aa65054614941eb0066c94ce91": {
      "model_module": "@jupyter-widgets/base",
      "model_module_version": "1.2.0",
      "model_name": "LayoutModel",
      "state": {
       "_model_module": "@jupyter-widgets/base",
       "_model_module_version": "1.2.0",
       "_model_name": "LayoutModel",
       "_view_count": null,
       "_view_module": "@jupyter-widgets/base",
       "_view_module_version": "1.2.0",
       "_view_name": "LayoutView",
       "align_content": null,
       "align_items": null,
       "align_self": null,
       "border": null,
       "bottom": null,
       "display": null,
       "flex": null,
       "flex_flow": null,
       "grid_area": null,
       "grid_auto_columns": null,
       "grid_auto_flow": null,
       "grid_auto_rows": null,
       "grid_column": null,
       "grid_gap": null,
       "grid_row": null,
       "grid_template_areas": null,
       "grid_template_columns": null,
       "grid_template_rows": null,
       "height": null,
       "justify_content": null,
       "justify_items": null,
       "left": null,
       "margin": null,
       "max_height": null,
       "max_width": null,
       "min_height": null,
       "min_width": null,
       "object_fit": null,
       "object_position": null,
       "order": null,
       "overflow": null,
       "overflow_x": null,
       "overflow_y": null,
       "padding": null,
       "right": null,
       "top": null,
       "visibility": null,
       "width": null
      }
     },
     "7c6123f9408a460db5a8956647b328f9": {
      "model_module": "@jupyter-widgets/controls",
      "model_module_version": "1.5.0",
      "model_name": "HTMLModel",
      "state": {
       "_dom_classes": [],
       "_model_module": "@jupyter-widgets/controls",
       "_model_module_version": "1.5.0",
       "_model_name": "HTMLModel",
       "_view_count": null,
       "_view_module": "@jupyter-widgets/controls",
       "_view_module_version": "1.5.0",
       "_view_name": "HTMLView",
       "description": "",
       "description_tooltip": null,
       "layout": "IPY_MODEL_8b39fdeadfb34ad298eaa6b87142715f",
       "placeholder": "​",
       "style": "IPY_MODEL_f5002febf363477b88d77e8340d7f41e",
       "value": "100%"
      }
     },
     "8b39fdeadfb34ad298eaa6b87142715f": {
      "model_module": "@jupyter-widgets/base",
      "model_module_version": "1.2.0",
      "model_name": "LayoutModel",
      "state": {
       "_model_module": "@jupyter-widgets/base",
       "_model_module_version": "1.2.0",
       "_model_name": "LayoutModel",
       "_view_count": null,
       "_view_module": "@jupyter-widgets/base",
       "_view_module_version": "1.2.0",
       "_view_name": "LayoutView",
       "align_content": null,
       "align_items": null,
       "align_self": null,
       "border": null,
       "bottom": null,
       "display": null,
       "flex": null,
       "flex_flow": null,
       "grid_area": null,
       "grid_auto_columns": null,
       "grid_auto_flow": null,
       "grid_auto_rows": null,
       "grid_column": null,
       "grid_gap": null,
       "grid_row": null,
       "grid_template_areas": null,
       "grid_template_columns": null,
       "grid_template_rows": null,
       "height": null,
       "justify_content": null,
       "justify_items": null,
       "left": null,
       "margin": null,
       "max_height": null,
       "max_width": null,
       "min_height": null,
       "min_width": null,
       "object_fit": null,
       "object_position": null,
       "order": null,
       "overflow": null,
       "overflow_x": null,
       "overflow_y": null,
       "padding": null,
       "right": null,
       "top": null,
       "visibility": null,
       "width": null
      }
     },
     "a517a5e4ac6540f798a6cf3385b77293": {
      "model_module": "@jupyter-widgets/base",
      "model_module_version": "1.2.0",
      "model_name": "LayoutModel",
      "state": {
       "_model_module": "@jupyter-widgets/base",
       "_model_module_version": "1.2.0",
       "_model_name": "LayoutModel",
       "_view_count": null,
       "_view_module": "@jupyter-widgets/base",
       "_view_module_version": "1.2.0",
       "_view_name": "LayoutView",
       "align_content": null,
       "align_items": null,
       "align_self": null,
       "border": null,
       "bottom": null,
       "display": null,
       "flex": null,
       "flex_flow": null,
       "grid_area": null,
       "grid_auto_columns": null,
       "grid_auto_flow": null,
       "grid_auto_rows": null,
       "grid_column": null,
       "grid_gap": null,
       "grid_row": null,
       "grid_template_areas": null,
       "grid_template_columns": null,
       "grid_template_rows": null,
       "height": null,
       "justify_content": null,
       "justify_items": null,
       "left": null,
       "margin": null,
       "max_height": null,
       "max_width": null,
       "min_height": null,
       "min_width": null,
       "object_fit": null,
       "object_position": null,
       "order": null,
       "overflow": null,
       "overflow_x": null,
       "overflow_y": null,
       "padding": null,
       "right": null,
       "top": null,
       "visibility": null,
       "width": null
      }
     },
     "bc0bed45d45d4cb4b512e1bcd55e9599": {
      "model_module": "@jupyter-widgets/base",
      "model_module_version": "1.2.0",
      "model_name": "LayoutModel",
      "state": {
       "_model_module": "@jupyter-widgets/base",
       "_model_module_version": "1.2.0",
       "_model_name": "LayoutModel",
       "_view_count": null,
       "_view_module": "@jupyter-widgets/base",
       "_view_module_version": "1.2.0",
       "_view_name": "LayoutView",
       "align_content": null,
       "align_items": null,
       "align_self": null,
       "border": null,
       "bottom": null,
       "display": null,
       "flex": null,
       "flex_flow": null,
       "grid_area": null,
       "grid_auto_columns": null,
       "grid_auto_flow": null,
       "grid_auto_rows": null,
       "grid_column": null,
       "grid_gap": null,
       "grid_row": null,
       "grid_template_areas": null,
       "grid_template_columns": null,
       "grid_template_rows": null,
       "height": null,
       "justify_content": null,
       "justify_items": null,
       "left": null,
       "margin": null,
       "max_height": null,
       "max_width": null,
       "min_height": null,
       "min_width": null,
       "object_fit": null,
       "object_position": null,
       "order": null,
       "overflow": null,
       "overflow_x": null,
       "overflow_y": null,
       "padding": null,
       "right": null,
       "top": null,
       "visibility": null,
       "width": null
      }
     },
     "f5002febf363477b88d77e8340d7f41e": {
      "model_module": "@jupyter-widgets/controls",
      "model_module_version": "1.5.0",
      "model_name": "DescriptionStyleModel",
      "state": {
       "_model_module": "@jupyter-widgets/controls",
       "_model_module_version": "1.5.0",
       "_model_name": "DescriptionStyleModel",
       "_view_count": null,
       "_view_module": "@jupyter-widgets/base",
       "_view_module_version": "1.2.0",
       "_view_name": "StyleView",
       "description_width": ""
      }
     }
    },
    "version_major": 2,
    "version_minor": 0
   }
  }
 },
 "nbformat": 4,
 "nbformat_minor": 5
}
