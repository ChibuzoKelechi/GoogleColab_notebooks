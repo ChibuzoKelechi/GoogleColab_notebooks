{
 "cells": [
  {
   "cell_type": "code",
   "execution_count": 1,
   "id": "34471d8c",
   "metadata": {
    "_cell_guid": "b1076dfc-b9ad-4769-8c92-a6c4dae69d19",
    "_uuid": "8f2839f25d086af736a60e9eeb907d3b93b6e0e5",
    "execution": {
     "iopub.execute_input": "2024-02-02T20:24:16.260129Z",
     "iopub.status.busy": "2024-02-02T20:24:16.259846Z",
     "iopub.status.idle": "2024-02-02T20:24:29.455052Z",
     "shell.execute_reply": "2024-02-02T20:24:29.454065Z"
    },
    "papermill": {
     "duration": 13.201235,
     "end_time": "2024-02-02T20:24:29.457299",
     "exception": false,
     "start_time": "2024-02-02T20:24:16.256064",
     "status": "completed"
    },
    "tags": []
   },
   "outputs": [
    {
     "name": "stderr",
     "output_type": "stream",
     "text": [
      "2024-02-02 20:24:18.062905: E external/local_xla/xla/stream_executor/cuda/cuda_dnn.cc:9261] Unable to register cuDNN factory: Attempting to register factory for plugin cuDNN when one has already been registered\n",
      "2024-02-02 20:24:18.062998: E external/local_xla/xla/stream_executor/cuda/cuda_fft.cc:607] Unable to register cuFFT factory: Attempting to register factory for plugin cuFFT when one has already been registered\n",
      "2024-02-02 20:24:18.193924: E external/local_xla/xla/stream_executor/cuda/cuda_blas.cc:1515] Unable to register cuBLAS factory: Attempting to register factory for plugin cuBLAS when one has already been registered\n"
     ]
    }
   ],
   "source": [
    "# Import Statements\n",
    "import numpy as np # linear algebra\n",
    "import matplotlib.pyplot as plt\n",
    "import PIL\n",
    "import tensorflow as tf\n",
    "import os\n",
    "\n",
    "from tensorflow import keras as tfkeras\n",
    "from tensorflow.keras import layers, models\n"
   ]
  },
  {
   "cell_type": "code",
   "execution_count": 2,
   "id": "62f20a74",
   "metadata": {
    "execution": {
     "iopub.execute_input": "2024-02-02T20:24:29.463981Z",
     "iopub.status.busy": "2024-02-02T20:24:29.463445Z",
     "iopub.status.idle": "2024-02-02T20:25:39.582157Z",
     "shell.execute_reply": "2024-02-02T20:25:39.581174Z"
    },
    "papermill": {
     "duration": 70.12431,
     "end_time": "2024-02-02T20:25:39.584487",
     "exception": false,
     "start_time": "2024-02-02T20:24:29.460177",
     "status": "completed"
    },
    "tags": []
   },
   "outputs": [
    {
     "name": "stdout",
     "output_type": "stream",
     "text": [
      "Found 47009 files belonging to 2 classes.\n",
      "Found 11649 files belonging to 2 classes.\n"
     ]
    }
   ],
   "source": [
    "# Load image Data\n",
    "batch_size = 32\n",
    "height, width = 224, 224\n",
    "\n",
    "train_dir = '/kaggle/input/gender-classification-dataset/Training'\n",
    "val_dir = '/kaggle/input/gender-classification-dataset/Validation'\n",
    "\n",
    "train_dataset = tfkeras.utils.image_dataset_from_directory(\n",
    "    train_dir,\n",
    "    batch_size=batch_size,\n",
    "    image_size=(height, width),\n",
    "    shuffle=True\n",
    ")\n",
    "\n",
    "val_dataset = tfkeras.utils.image_dataset_from_directory(\n",
    "    val_dir,\n",
    "    batch_size=batch_size,\n",
    "    image_size=(height, width),\n",
    "    shuffle=True\n",
    ")\n"
   ]
  },
  {
   "cell_type": "code",
   "execution_count": 3,
   "id": "b552affc",
   "metadata": {
    "execution": {
     "iopub.execute_input": "2024-02-02T20:25:39.591177Z",
     "iopub.status.busy": "2024-02-02T20:25:39.590879Z",
     "iopub.status.idle": "2024-02-02T20:25:39.605525Z",
     "shell.execute_reply": "2024-02-02T20:25:39.604442Z"
    },
    "papermill": {
     "duration": 0.020125,
     "end_time": "2024-02-02T20:25:39.607485",
     "exception": false,
     "start_time": "2024-02-02T20:25:39.587360",
     "status": "completed"
    },
    "tags": []
   },
   "outputs": [
    {
     "name": "stdout",
     "output_type": "stream",
     "text": [
      "Complete\n"
     ]
    }
   ],
   "source": [
    "# Dataset config\n",
    "\n",
    "autotune = tf.data.AUTOTUNE\n",
    "\n",
    "train_dataset = train_dataset.cache().shuffle(1000).prefetch(buffer_size=autotune)\n",
    "val_dataset = val_dataset.cache().prefetch(buffer_size=autotune)\n",
    "\n",
    "print('Complete')"
   ]
  },
  {
   "cell_type": "code",
   "execution_count": 4,
   "id": "a092cea3",
   "metadata": {
    "execution": {
     "iopub.execute_input": "2024-02-02T20:25:39.614140Z",
     "iopub.status.busy": "2024-02-02T20:25:39.613884Z",
     "iopub.status.idle": "2024-02-02T20:25:39.776087Z",
     "shell.execute_reply": "2024-02-02T20:25:39.775145Z"
    },
    "papermill": {
     "duration": 0.177767,
     "end_time": "2024-02-02T20:25:39.787893",
     "exception": false,
     "start_time": "2024-02-02T20:25:39.610126",
     "status": "completed"
    },
    "tags": []
   },
   "outputs": [
    {
     "name": "stdout",
     "output_type": "stream",
     "text": [
      "Model: \"sequential\"\n",
      "_________________________________________________________________\n",
      " Layer (type)                Output Shape              Param #   \n",
      "=================================================================\n",
      " rescaling (Rescaling)       (None, 224, 224, 3)       0         \n",
      "                                                                 \n",
      " conv2d (Conv2D)             (None, 224, 224, 16)      448       \n",
      "                                                                 \n",
      " max_pooling2d (MaxPooling2  (None, 112, 112, 16)      0         \n",
      " D)                                                              \n",
      "                                                                 \n",
      " conv2d_1 (Conv2D)           (None, 112, 112, 32)      4640      \n",
      "                                                                 \n",
      " max_pooling2d_1 (MaxPoolin  (None, 56, 56, 32)        0         \n",
      " g2D)                                                            \n",
      "                                                                 \n",
      " conv2d_2 (Conv2D)           (None, 56, 56, 64)        18496     \n",
      "                                                                 \n",
      " max_pooling2d_2 (MaxPoolin  (None, 28, 28, 64)        0         \n",
      " g2D)                                                            \n",
      "                                                                 \n",
      " flatten (Flatten)           (None, 50176)             0         \n",
      "                                                                 \n",
      " dense (Dense)               (None, 128)               6422656   \n",
      "                                                                 \n",
      " dense_1 (Dense)             (None, 2)                 258       \n",
      "                                                                 \n",
      "=================================================================\n",
      "Total params: 6446498 (24.59 MB)\n",
      "Trainable params: 6446498 (24.59 MB)\n",
      "Non-trainable params: 0 (0.00 Byte)\n",
      "_________________________________________________________________\n"
     ]
    }
   ],
   "source": [
    "# Build up the model architecture\n",
    "\n",
    "classes = 2\n",
    "\n",
    "image_model = tfkeras.models.Sequential([\n",
    "    layers.Rescaling(1./255, input_shape=(height, width, 3)),\n",
    "    layers.Conv2D(16, 3, padding='same', activation='relu'),\n",
    "    layers.MaxPooling2D(),\n",
    "    layers.Conv2D(32, 3, padding='same', activation='relu'),\n",
    "    layers.MaxPooling2D(),\n",
    "    layers.Conv2D(64, 3, padding='same', activation='relu'),\n",
    "    layers.MaxPooling2D(),\n",
    "    layers.Flatten(),\n",
    "    layers.Dense(128, activation='relu'),\n",
    "    layers.Dense(2, activation='softmax')\n",
    "])\n",
    "\n",
    "image_model.summary()"
   ]
  },
  {
   "cell_type": "code",
   "execution_count": null,
   "id": "ed937c03",
   "metadata": {
    "papermill": {
     "duration": 0.004817,
     "end_time": "2024-02-02T20:25:39.797757",
     "exception": false,
     "start_time": "2024-02-02T20:25:39.792940",
     "status": "completed"
    },
    "tags": []
   },
   "outputs": [],
   "source": []
  }
 ],
 "metadata": {
  "kaggle": {
   "accelerator": "gpu",
   "dataSources": [
    {
     "datasetId": 446365,
     "sourceId": 844929,
     "sourceType": "datasetVersion"
    },
    {
     "datasetId": 4391702,
     "sourceId": 7541658,
     "sourceType": "datasetVersion"
    }
   ],
   "dockerImageVersionId": 30648,
   "isGpuEnabled": true,
   "isInternetEnabled": true,
   "language": "python",
   "sourceType": "notebook"
  },
  "kernelspec": {
   "display_name": "Python 3",
   "language": "python",
   "name": "python3"
  },
  "language_info": {
   "codemirror_mode": {
    "name": "ipython",
    "version": 3
   },
   "file_extension": ".py",
   "mimetype": "text/x-python",
   "name": "python",
   "nbconvert_exporter": "python",
   "pygments_lexer": "ipython3",
   "version": "3.10.13"
  },
  "papermill": {
   "default_parameters": {},
   "duration": 87.85478,
   "end_time": "2024-02-02T20:25:41.424560",
   "environment_variables": {},
   "exception": null,
   "input_path": "__notebook__.ipynb",
   "output_path": "__notebook__.ipynb",
   "parameters": {},
   "start_time": "2024-02-02T20:24:13.569780",
   "version": "2.5.0"
  }
 },
 "nbformat": 4,
 "nbformat_minor": 5
}
