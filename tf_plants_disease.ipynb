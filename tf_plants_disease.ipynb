{
 "cells": [
  {
   "cell_type": "code",
   "execution_count": 1,
   "id": "05d0656c",
   "metadata": {
    "_cell_guid": "b1076dfc-b9ad-4769-8c92-a6c4dae69d19",
    "_uuid": "8f2839f25d086af736a60e9eeb907d3b93b6e0e5",
    "execution": {
     "iopub.execute_input": "2024-06-08T16:52:27.630667Z",
     "iopub.status.busy": "2024-06-08T16:52:27.630328Z",
     "iopub.status.idle": "2024-06-08T16:52:41.232636Z",
     "shell.execute_reply": "2024-06-08T16:52:41.231873Z"
    },
    "papermill": {
     "duration": 13.61109,
     "end_time": "2024-06-08T16:52:41.234949",
     "exception": false,
     "start_time": "2024-06-08T16:52:27.623859",
     "status": "completed"
    },
    "tags": []
   },
   "outputs": [
    {
     "name": "stderr",
     "output_type": "stream",
     "text": [
      "2024-06-08 16:52:30.340074: E external/local_xla/xla/stream_executor/cuda/cuda_dnn.cc:9261] Unable to register cuDNN factory: Attempting to register factory for plugin cuDNN when one has already been registered\n",
      "2024-06-08 16:52:30.340193: E external/local_xla/xla/stream_executor/cuda/cuda_fft.cc:607] Unable to register cuFFT factory: Attempting to register factory for plugin cuFFT when one has already been registered\n",
      "2024-06-08 16:52:30.481550: E external/local_xla/xla/stream_executor/cuda/cuda_blas.cc:1515] Unable to register cuBLAS factory: Attempting to register factory for plugin cuBLAS when one has already been registered\n"
     ]
    }
   ],
   "source": [
    "import os\n",
    "import cv2\n",
    "import pandas as pd\n",
    "import numpy as np \n",
    "\n",
    "import tensorflow as tf\n",
    "from tensorflow.keras import layers, models\n",
    "from tensorflow.keras.preprocessing.image import ImageDataGenerator\n",
    "from sklearn.preprocessing import LabelEncoder\n",
    "from tqdm.auto import tqdm\n"
   ]
  },
  {
   "cell_type": "code",
   "execution_count": 2,
   "id": "93810c27",
   "metadata": {
    "execution": {
     "iopub.execute_input": "2024-06-08T16:52:41.246151Z",
     "iopub.status.busy": "2024-06-08T16:52:41.245629Z",
     "iopub.status.idle": "2024-06-08T16:52:41.250089Z",
     "shell.execute_reply": "2024-06-08T16:52:41.249319Z"
    },
    "papermill": {
     "duration": 0.011998,
     "end_time": "2024-06-08T16:52:41.252033",
     "exception": false,
     "start_time": "2024-06-08T16:52:41.240035",
     "status": "completed"
    },
    "tags": []
   },
   "outputs": [],
   "source": [
    "data_dir = '/kaggle/input/plantvillage-dataset/color'\n",
    "image_size = 128\n",
    "batch_size = 64\n",
    "learn_rate = 0.01\n",
    "epochs = 30"
   ]
  },
  {
   "cell_type": "code",
   "execution_count": 3,
   "id": "80be6c3f",
   "metadata": {
    "execution": {
     "iopub.execute_input": "2024-06-08T16:52:41.262489Z",
     "iopub.status.busy": "2024-06-08T16:52:41.262222Z",
     "iopub.status.idle": "2024-06-08T16:52:41.269554Z",
     "shell.execute_reply": "2024-06-08T16:52:41.268848Z"
    },
    "papermill": {
     "duration": 0.014774,
     "end_time": "2024-06-08T16:52:41.271427",
     "exception": false,
     "start_time": "2024-06-08T16:52:41.256653",
     "status": "completed"
    },
    "tags": []
   },
   "outputs": [],
   "source": [
    "def read_img(image_data):\n",
    "    image = cv2.imread(image_data)\n",
    "\n",
    "    if image is None:\n",
    "        raise ValueError(\"Could not read the image data.\")\n",
    "\n",
    "    image = cv2.cvtColor(image, cv2.COLOR_BGR2RGB)\n",
    "    image = cv2.resize(image, (image_size, image_size))\n",
    "    image = np.array(image, dtype=np.float32) / 255.0  # Normalize the image\n",
    "    \n",
    "    return image\n",
    "\n",
    "\n",
    "def load_image_features(csv):\n",
    "    df = pd.read_csv(csv)\n",
    "\n",
    "    image_feats = df[\"image\"]\n",
    "    labels = df[\"emotion_labels\"]\n",
    "\n",
    "    return image_feats, labels\n",
    "\n",
    "\n",
    "def image_data_csv(images, labels):\n",
    "\n",
    "    data_for_df = {\"image\": images, \"labels\": labels}\n",
    "\n",
    "    feature_df = pd.DataFrame(data_for_df)\n",
    "    feature_df.to_csv('plant_disease.csv', index=False)\n",
    "\n",
    "    print(\"Image data csv creation complete\")\n",
    "\n",
    "    return feature_df"
   ]
  },
  {
   "cell_type": "code",
   "execution_count": 4,
   "id": "380c97c6",
   "metadata": {
    "execution": {
     "iopub.execute_input": "2024-06-08T16:52:41.281499Z",
     "iopub.status.busy": "2024-06-08T16:52:41.281230Z",
     "iopub.status.idle": "2024-06-08T16:52:41.285096Z",
     "shell.execute_reply": "2024-06-08T16:52:41.284192Z"
    },
    "papermill": {
     "duration": 0.011802,
     "end_time": "2024-06-08T16:52:41.287763",
     "exception": false,
     "start_time": "2024-06-08T16:52:41.275961",
     "status": "completed"
    },
    "tags": []
   },
   "outputs": [],
   "source": [
    "# def get_image_files_and_labels(dir):\n",
    "#     for folder, _, filenames in tqdm(os.walk(dir)):\n",
    "#         for file in filenames:\n",
    "#             file_path = os.path.join(folder, file)\n",
    "\n",
    "#             label = folder.split('/')[5]\n",
    "#             yield (file_path, label)\n",
    "\n",
    "# file_paths, labels = zip(*get_image_files_and_labels(data_dir))"
   ]
  },
  {
   "cell_type": "code",
   "execution_count": 5,
   "id": "c880746b",
   "metadata": {
    "execution": {
     "iopub.execute_input": "2024-06-08T16:52:41.303346Z",
     "iopub.status.busy": "2024-06-08T16:52:41.303069Z",
     "iopub.status.idle": "2024-06-08T16:52:41.307736Z",
     "shell.execute_reply": "2024-06-08T16:52:41.306495Z"
    },
    "papermill": {
     "duration": 0.015553,
     "end_time": "2024-06-08T16:52:41.310340",
     "exception": false,
     "start_time": "2024-06-08T16:52:41.294787",
     "status": "completed"
    },
    "tags": []
   },
   "outputs": [],
   "source": [
    "# data_df = image_data_csv(file_paths, labels)"
   ]
  },
  {
   "cell_type": "code",
   "execution_count": 6,
   "id": "41c38806",
   "metadata": {
    "execution": {
     "iopub.execute_input": "2024-06-08T16:52:41.326870Z",
     "iopub.status.busy": "2024-06-08T16:52:41.326226Z",
     "iopub.status.idle": "2024-06-08T16:53:22.559402Z",
     "shell.execute_reply": "2024-06-08T16:53:22.558614Z"
    },
    "papermill": {
     "duration": 41.243558,
     "end_time": "2024-06-08T16:53:22.561564",
     "exception": false,
     "start_time": "2024-06-08T16:52:41.318006",
     "status": "completed"
    },
    "tags": []
   },
   "outputs": [
    {
     "name": "stdout",
     "output_type": "stream",
     "text": [
      "Found 54305 files belonging to 38 classes.\n",
      "Using 43444 files for training.\n",
      "Found 54305 files belonging to 38 classes.\n",
      "Using 10861 files for validation.\n"
     ]
    }
   ],
   "source": [
    "train_ds = tf.keras.utils.image_dataset_from_directory(\n",
    "  data_dir,\n",
    "  validation_split=0.2,\n",
    "  subset=\"training\",\n",
    "  seed=123,\n",
    "  image_size=(image_size, image_size),\n",
    "  batch_size=batch_size)\n",
    "\n",
    "val_ds = tf.keras.utils.image_dataset_from_directory(\n",
    "  data_dir,\n",
    "  validation_split=0.2,\n",
    "  subset=\"validation\",\n",
    "  seed=123,\n",
    "  image_size=(image_size, image_size),\n",
    "  batch_size=batch_size)"
   ]
  },
  {
   "cell_type": "code",
   "execution_count": 7,
   "id": "7195cef5",
   "metadata": {
    "execution": {
     "iopub.execute_input": "2024-06-08T16:53:22.573067Z",
     "iopub.status.busy": "2024-06-08T16:53:22.572781Z",
     "iopub.status.idle": "2024-06-08T16:53:22.586169Z",
     "shell.execute_reply": "2024-06-08T16:53:22.585424Z"
    },
    "papermill": {
     "duration": 0.021305,
     "end_time": "2024-06-08T16:53:22.588102",
     "exception": false,
     "start_time": "2024-06-08T16:53:22.566797",
     "status": "completed"
    },
    "tags": []
   },
   "outputs": [],
   "source": [
    "AUTOTUNE = tf.data.AUTOTUNE\n",
    "\n",
    "train_ds = train_ds.cache().shuffle(1000).prefetch(buffer_size=AUTOTUNE)\n",
    "val_ds = val_ds.cache().prefetch(buffer_size=AUTOTUNE)"
   ]
  },
  {
   "cell_type": "code",
   "execution_count": 8,
   "id": "e0832d46",
   "metadata": {
    "execution": {
     "iopub.execute_input": "2024-06-08T16:53:22.599648Z",
     "iopub.status.busy": "2024-06-08T16:53:22.599166Z",
     "iopub.status.idle": "2024-06-08T16:53:22.602778Z",
     "shell.execute_reply": "2024-06-08T16:53:22.601955Z"
    },
    "papermill": {
     "duration": 0.01141,
     "end_time": "2024-06-08T16:53:22.604634",
     "exception": false,
     "start_time": "2024-06-08T16:53:22.593224",
     "status": "completed"
    },
    "tags": []
   },
   "outputs": [],
   "source": [
    "# %%time\n",
    "\n",
    "# normalization_layer = layers.Rescaling(1./255)\n",
    "# normalized_ds = train_ds.map(lambda x, y: (normalization_layer(x), y))"
   ]
  },
  {
   "cell_type": "code",
   "execution_count": 9,
   "id": "2f757162",
   "metadata": {
    "execution": {
     "iopub.execute_input": "2024-06-08T16:53:22.615469Z",
     "iopub.status.busy": "2024-06-08T16:53:22.615197Z",
     "iopub.status.idle": "2024-06-08T16:53:22.742571Z",
     "shell.execute_reply": "2024-06-08T16:53:22.741680Z"
    },
    "papermill": {
     "duration": 0.135052,
     "end_time": "2024-06-08T16:53:22.744622",
     "exception": false,
     "start_time": "2024-06-08T16:53:22.609570",
     "status": "completed"
    },
    "tags": []
   },
   "outputs": [
    {
     "name": "stderr",
     "output_type": "stream",
     "text": [
      "/opt/conda/lib/python3.10/site-packages/keras/src/layers/preprocessing/tf_data_layer.py:18: UserWarning: Do not pass an `input_shape`/`input_dim` argument to a layer. When using Sequential models, prefer using an `Input(shape)` object as the first layer in the model instead.\n",
      "  super().__init__(**kwargs)\n"
     ]
    },
    {
     "data": {
      "text/html": [
       "<pre style=\"white-space:pre;overflow-x:auto;line-height:normal;font-family:Menlo,'DejaVu Sans Mono',consolas,'Courier New',monospace\"><span style=\"font-weight: bold\">Model: \"sequential\"</span>\n",
       "</pre>\n"
      ],
      "text/plain": [
       "\u001b[1mModel: \"sequential\"\u001b[0m\n"
      ]
     },
     "metadata": {},
     "output_type": "display_data"
    },
    {
     "data": {
      "text/html": [
       "<pre style=\"white-space:pre;overflow-x:auto;line-height:normal;font-family:Menlo,'DejaVu Sans Mono',consolas,'Courier New',monospace\">┏━━━━━━━━━━━━━━━━━━━━━━━━━━━━━━━━━┳━━━━━━━━━━━━━━━━━━━━━━━━┳━━━━━━━━━━━━━━━┓\n",
       "┃<span style=\"font-weight: bold\"> Layer (type)                    </span>┃<span style=\"font-weight: bold\"> Output Shape           </span>┃<span style=\"font-weight: bold\">       Param # </span>┃\n",
       "┡━━━━━━━━━━━━━━━━━━━━━━━━━━━━━━━━━╇━━━━━━━━━━━━━━━━━━━━━━━━╇━━━━━━━━━━━━━━━┩\n",
       "│ rescaling (<span style=\"color: #0087ff; text-decoration-color: #0087ff\">Rescaling</span>)           │ (<span style=\"color: #00d7ff; text-decoration-color: #00d7ff\">None</span>, <span style=\"color: #00af00; text-decoration-color: #00af00\">128</span>, <span style=\"color: #00af00; text-decoration-color: #00af00\">128</span>, <span style=\"color: #00af00; text-decoration-color: #00af00\">3</span>)    │             <span style=\"color: #00af00; text-decoration-color: #00af00\">0</span> │\n",
       "├─────────────────────────────────┼────────────────────────┼───────────────┤\n",
       "│ conv2d (<span style=\"color: #0087ff; text-decoration-color: #0087ff\">Conv2D</span>)                 │ (<span style=\"color: #00d7ff; text-decoration-color: #00d7ff\">None</span>, <span style=\"color: #00af00; text-decoration-color: #00af00\">128</span>, <span style=\"color: #00af00; text-decoration-color: #00af00\">128</span>, <span style=\"color: #00af00; text-decoration-color: #00af00\">16</span>)   │           <span style=\"color: #00af00; text-decoration-color: #00af00\">448</span> │\n",
       "├─────────────────────────────────┼────────────────────────┼───────────────┤\n",
       "│ max_pooling2d (<span style=\"color: #0087ff; text-decoration-color: #0087ff\">MaxPooling2D</span>)    │ (<span style=\"color: #00d7ff; text-decoration-color: #00d7ff\">None</span>, <span style=\"color: #00af00; text-decoration-color: #00af00\">64</span>, <span style=\"color: #00af00; text-decoration-color: #00af00\">64</span>, <span style=\"color: #00af00; text-decoration-color: #00af00\">16</span>)     │             <span style=\"color: #00af00; text-decoration-color: #00af00\">0</span> │\n",
       "├─────────────────────────────────┼────────────────────────┼───────────────┤\n",
       "│ conv2d_1 (<span style=\"color: #0087ff; text-decoration-color: #0087ff\">Conv2D</span>)               │ (<span style=\"color: #00d7ff; text-decoration-color: #00d7ff\">None</span>, <span style=\"color: #00af00; text-decoration-color: #00af00\">64</span>, <span style=\"color: #00af00; text-decoration-color: #00af00\">64</span>, <span style=\"color: #00af00; text-decoration-color: #00af00\">32</span>)     │         <span style=\"color: #00af00; text-decoration-color: #00af00\">4,640</span> │\n",
       "├─────────────────────────────────┼────────────────────────┼───────────────┤\n",
       "│ max_pooling2d_1 (<span style=\"color: #0087ff; text-decoration-color: #0087ff\">MaxPooling2D</span>)  │ (<span style=\"color: #00d7ff; text-decoration-color: #00d7ff\">None</span>, <span style=\"color: #00af00; text-decoration-color: #00af00\">32</span>, <span style=\"color: #00af00; text-decoration-color: #00af00\">32</span>, <span style=\"color: #00af00; text-decoration-color: #00af00\">32</span>)     │             <span style=\"color: #00af00; text-decoration-color: #00af00\">0</span> │\n",
       "├─────────────────────────────────┼────────────────────────┼───────────────┤\n",
       "│ conv2d_2 (<span style=\"color: #0087ff; text-decoration-color: #0087ff\">Conv2D</span>)               │ (<span style=\"color: #00d7ff; text-decoration-color: #00d7ff\">None</span>, <span style=\"color: #00af00; text-decoration-color: #00af00\">32</span>, <span style=\"color: #00af00; text-decoration-color: #00af00\">32</span>, <span style=\"color: #00af00; text-decoration-color: #00af00\">64</span>)     │        <span style=\"color: #00af00; text-decoration-color: #00af00\">18,496</span> │\n",
       "├─────────────────────────────────┼────────────────────────┼───────────────┤\n",
       "│ max_pooling2d_2 (<span style=\"color: #0087ff; text-decoration-color: #0087ff\">MaxPooling2D</span>)  │ (<span style=\"color: #00d7ff; text-decoration-color: #00d7ff\">None</span>, <span style=\"color: #00af00; text-decoration-color: #00af00\">16</span>, <span style=\"color: #00af00; text-decoration-color: #00af00\">16</span>, <span style=\"color: #00af00; text-decoration-color: #00af00\">64</span>)     │             <span style=\"color: #00af00; text-decoration-color: #00af00\">0</span> │\n",
       "├─────────────────────────────────┼────────────────────────┼───────────────┤\n",
       "│ conv2d_3 (<span style=\"color: #0087ff; text-decoration-color: #0087ff\">Conv2D</span>)               │ (<span style=\"color: #00d7ff; text-decoration-color: #00d7ff\">None</span>, <span style=\"color: #00af00; text-decoration-color: #00af00\">16</span>, <span style=\"color: #00af00; text-decoration-color: #00af00\">16</span>, <span style=\"color: #00af00; text-decoration-color: #00af00\">128</span>)    │        <span style=\"color: #00af00; text-decoration-color: #00af00\">73,856</span> │\n",
       "├─────────────────────────────────┼────────────────────────┼───────────────┤\n",
       "│ max_pooling2d_3 (<span style=\"color: #0087ff; text-decoration-color: #0087ff\">MaxPooling2D</span>)  │ (<span style=\"color: #00d7ff; text-decoration-color: #00d7ff\">None</span>, <span style=\"color: #00af00; text-decoration-color: #00af00\">8</span>, <span style=\"color: #00af00; text-decoration-color: #00af00\">8</span>, <span style=\"color: #00af00; text-decoration-color: #00af00\">128</span>)      │             <span style=\"color: #00af00; text-decoration-color: #00af00\">0</span> │\n",
       "├─────────────────────────────────┼────────────────────────┼───────────────┤\n",
       "│ flatten (<span style=\"color: #0087ff; text-decoration-color: #0087ff\">Flatten</span>)               │ (<span style=\"color: #00d7ff; text-decoration-color: #00d7ff\">None</span>, <span style=\"color: #00af00; text-decoration-color: #00af00\">8192</span>)           │             <span style=\"color: #00af00; text-decoration-color: #00af00\">0</span> │\n",
       "├─────────────────────────────────┼────────────────────────┼───────────────┤\n",
       "│ dense (<span style=\"color: #0087ff; text-decoration-color: #0087ff\">Dense</span>)                   │ (<span style=\"color: #00d7ff; text-decoration-color: #00d7ff\">None</span>, <span style=\"color: #00af00; text-decoration-color: #00af00\">256</span>)            │     <span style=\"color: #00af00; text-decoration-color: #00af00\">2,097,408</span> │\n",
       "├─────────────────────────────────┼────────────────────────┼───────────────┤\n",
       "│ dense_1 (<span style=\"color: #0087ff; text-decoration-color: #0087ff\">Dense</span>)                 │ (<span style=\"color: #00d7ff; text-decoration-color: #00d7ff\">None</span>, <span style=\"color: #00af00; text-decoration-color: #00af00\">38</span>)             │         <span style=\"color: #00af00; text-decoration-color: #00af00\">9,766</span> │\n",
       "└─────────────────────────────────┴────────────────────────┴───────────────┘\n",
       "</pre>\n"
      ],
      "text/plain": [
       "┏━━━━━━━━━━━━━━━━━━━━━━━━━━━━━━━━━┳━━━━━━━━━━━━━━━━━━━━━━━━┳━━━━━━━━━━━━━━━┓\n",
       "┃\u001b[1m \u001b[0m\u001b[1mLayer (type)                   \u001b[0m\u001b[1m \u001b[0m┃\u001b[1m \u001b[0m\u001b[1mOutput Shape          \u001b[0m\u001b[1m \u001b[0m┃\u001b[1m \u001b[0m\u001b[1m      Param #\u001b[0m\u001b[1m \u001b[0m┃\n",
       "┡━━━━━━━━━━━━━━━━━━━━━━━━━━━━━━━━━╇━━━━━━━━━━━━━━━━━━━━━━━━╇━━━━━━━━━━━━━━━┩\n",
       "│ rescaling (\u001b[38;5;33mRescaling\u001b[0m)           │ (\u001b[38;5;45mNone\u001b[0m, \u001b[38;5;34m128\u001b[0m, \u001b[38;5;34m128\u001b[0m, \u001b[38;5;34m3\u001b[0m)    │             \u001b[38;5;34m0\u001b[0m │\n",
       "├─────────────────────────────────┼────────────────────────┼───────────────┤\n",
       "│ conv2d (\u001b[38;5;33mConv2D\u001b[0m)                 │ (\u001b[38;5;45mNone\u001b[0m, \u001b[38;5;34m128\u001b[0m, \u001b[38;5;34m128\u001b[0m, \u001b[38;5;34m16\u001b[0m)   │           \u001b[38;5;34m448\u001b[0m │\n",
       "├─────────────────────────────────┼────────────────────────┼───────────────┤\n",
       "│ max_pooling2d (\u001b[38;5;33mMaxPooling2D\u001b[0m)    │ (\u001b[38;5;45mNone\u001b[0m, \u001b[38;5;34m64\u001b[0m, \u001b[38;5;34m64\u001b[0m, \u001b[38;5;34m16\u001b[0m)     │             \u001b[38;5;34m0\u001b[0m │\n",
       "├─────────────────────────────────┼────────────────────────┼───────────────┤\n",
       "│ conv2d_1 (\u001b[38;5;33mConv2D\u001b[0m)               │ (\u001b[38;5;45mNone\u001b[0m, \u001b[38;5;34m64\u001b[0m, \u001b[38;5;34m64\u001b[0m, \u001b[38;5;34m32\u001b[0m)     │         \u001b[38;5;34m4,640\u001b[0m │\n",
       "├─────────────────────────────────┼────────────────────────┼───────────────┤\n",
       "│ max_pooling2d_1 (\u001b[38;5;33mMaxPooling2D\u001b[0m)  │ (\u001b[38;5;45mNone\u001b[0m, \u001b[38;5;34m32\u001b[0m, \u001b[38;5;34m32\u001b[0m, \u001b[38;5;34m32\u001b[0m)     │             \u001b[38;5;34m0\u001b[0m │\n",
       "├─────────────────────────────────┼────────────────────────┼───────────────┤\n",
       "│ conv2d_2 (\u001b[38;5;33mConv2D\u001b[0m)               │ (\u001b[38;5;45mNone\u001b[0m, \u001b[38;5;34m32\u001b[0m, \u001b[38;5;34m32\u001b[0m, \u001b[38;5;34m64\u001b[0m)     │        \u001b[38;5;34m18,496\u001b[0m │\n",
       "├─────────────────────────────────┼────────────────────────┼───────────────┤\n",
       "│ max_pooling2d_2 (\u001b[38;5;33mMaxPooling2D\u001b[0m)  │ (\u001b[38;5;45mNone\u001b[0m, \u001b[38;5;34m16\u001b[0m, \u001b[38;5;34m16\u001b[0m, \u001b[38;5;34m64\u001b[0m)     │             \u001b[38;5;34m0\u001b[0m │\n",
       "├─────────────────────────────────┼────────────────────────┼───────────────┤\n",
       "│ conv2d_3 (\u001b[38;5;33mConv2D\u001b[0m)               │ (\u001b[38;5;45mNone\u001b[0m, \u001b[38;5;34m16\u001b[0m, \u001b[38;5;34m16\u001b[0m, \u001b[38;5;34m128\u001b[0m)    │        \u001b[38;5;34m73,856\u001b[0m │\n",
       "├─────────────────────────────────┼────────────────────────┼───────────────┤\n",
       "│ max_pooling2d_3 (\u001b[38;5;33mMaxPooling2D\u001b[0m)  │ (\u001b[38;5;45mNone\u001b[0m, \u001b[38;5;34m8\u001b[0m, \u001b[38;5;34m8\u001b[0m, \u001b[38;5;34m128\u001b[0m)      │             \u001b[38;5;34m0\u001b[0m │\n",
       "├─────────────────────────────────┼────────────────────────┼───────────────┤\n",
       "│ flatten (\u001b[38;5;33mFlatten\u001b[0m)               │ (\u001b[38;5;45mNone\u001b[0m, \u001b[38;5;34m8192\u001b[0m)           │             \u001b[38;5;34m0\u001b[0m │\n",
       "├─────────────────────────────────┼────────────────────────┼───────────────┤\n",
       "│ dense (\u001b[38;5;33mDense\u001b[0m)                   │ (\u001b[38;5;45mNone\u001b[0m, \u001b[38;5;34m256\u001b[0m)            │     \u001b[38;5;34m2,097,408\u001b[0m │\n",
       "├─────────────────────────────────┼────────────────────────┼───────────────┤\n",
       "│ dense_1 (\u001b[38;5;33mDense\u001b[0m)                 │ (\u001b[38;5;45mNone\u001b[0m, \u001b[38;5;34m38\u001b[0m)             │         \u001b[38;5;34m9,766\u001b[0m │\n",
       "└─────────────────────────────────┴────────────────────────┴───────────────┘\n"
      ]
     },
     "metadata": {},
     "output_type": "display_data"
    },
    {
     "data": {
      "text/html": [
       "<pre style=\"white-space:pre;overflow-x:auto;line-height:normal;font-family:Menlo,'DejaVu Sans Mono',consolas,'Courier New',monospace\"><span style=\"font-weight: bold\"> Total params: </span><span style=\"color: #00af00; text-decoration-color: #00af00\">2,204,614</span> (8.41 MB)\n",
       "</pre>\n"
      ],
      "text/plain": [
       "\u001b[1m Total params: \u001b[0m\u001b[38;5;34m2,204,614\u001b[0m (8.41 MB)\n"
      ]
     },
     "metadata": {},
     "output_type": "display_data"
    },
    {
     "data": {
      "text/html": [
       "<pre style=\"white-space:pre;overflow-x:auto;line-height:normal;font-family:Menlo,'DejaVu Sans Mono',consolas,'Courier New',monospace\"><span style=\"font-weight: bold\"> Trainable params: </span><span style=\"color: #00af00; text-decoration-color: #00af00\">2,204,614</span> (8.41 MB)\n",
       "</pre>\n"
      ],
      "text/plain": [
       "\u001b[1m Trainable params: \u001b[0m\u001b[38;5;34m2,204,614\u001b[0m (8.41 MB)\n"
      ]
     },
     "metadata": {},
     "output_type": "display_data"
    },
    {
     "data": {
      "text/html": [
       "<pre style=\"white-space:pre;overflow-x:auto;line-height:normal;font-family:Menlo,'DejaVu Sans Mono',consolas,'Courier New',monospace\"><span style=\"font-weight: bold\"> Non-trainable params: </span><span style=\"color: #00af00; text-decoration-color: #00af00\">0</span> (0.00 B)\n",
       "</pre>\n"
      ],
      "text/plain": [
       "\u001b[1m Non-trainable params: \u001b[0m\u001b[38;5;34m0\u001b[0m (0.00 B)\n"
      ]
     },
     "metadata": {},
     "output_type": "display_data"
    }
   ],
   "source": [
    "model = models.Sequential([\n",
    "  layers.Rescaling(1./255, input_shape=(image_size, image_size, 3)),\n",
    "  layers.Conv2D(16, 3, padding='same', activation='relu'),\n",
    "  layers.MaxPooling2D(),\n",
    "  layers.Conv2D(32, 3, padding='same', activation='relu'),\n",
    "  layers.MaxPooling2D(),\n",
    "  layers.Conv2D(64, 3, padding='same', activation='relu'),\n",
    "  layers.MaxPooling2D(),\n",
    "  layers.Conv2D(128, 3, padding='same', activation='relu'),\n",
    "  layers.MaxPooling2D(),\n",
    "  layers.Flatten(),\n",
    "  layers.Dense(256, activation='relu'),\n",
    "  layers.Dense(38, activation='softmax')\n",
    "])\n",
    "\n",
    "model.compile(optimizer='adam',\n",
    "              loss='sparse_categorical_crossentropy',\n",
    "              metrics=['accuracy'])\n",
    "model.summary()"
   ]
  },
  {
   "cell_type": "code",
   "execution_count": 10,
   "id": "10a1ed68",
   "metadata": {
    "execution": {
     "iopub.execute_input": "2024-06-08T16:53:22.758007Z",
     "iopub.status.busy": "2024-06-08T16:53:22.757685Z",
     "iopub.status.idle": "2024-06-08T16:56:03.438961Z",
     "shell.execute_reply": "2024-06-08T16:56:03.437956Z"
    },
    "papermill": {
     "duration": 160.690338,
     "end_time": "2024-06-08T16:56:03.441029",
     "exception": false,
     "start_time": "2024-06-08T16:53:22.750691",
     "status": "completed"
    },
    "tags": []
   },
   "outputs": [
    {
     "name": "stdout",
     "output_type": "stream",
     "text": [
      "Epoch 1/10\n"
     ]
    },
    {
     "name": "stderr",
     "output_type": "stream",
     "text": [
      "2024-06-08 16:54:30.575429: E external/local_xla/xla/service/gpu/buffer_comparator.cc:1137] Difference at 32768: 3.40757, expected 2.65303\n",
      "2024-06-08 16:54:30.575493: E external/local_xla/xla/service/gpu/buffer_comparator.cc:1137] Difference at 32769: 5.59344, expected 4.8389\n",
      "2024-06-08 16:54:30.575502: E external/local_xla/xla/service/gpu/buffer_comparator.cc:1137] Difference at 32770: 3.89742, expected 3.14289\n",
      "2024-06-08 16:54:30.575510: E external/local_xla/xla/service/gpu/buffer_comparator.cc:1137] Difference at 32771: 4.98111, expected 4.22658\n",
      "2024-06-08 16:54:30.575518: E external/local_xla/xla/service/gpu/buffer_comparator.cc:1137] Difference at 32772: 4.53194, expected 3.7774\n",
      "2024-06-08 16:54:30.575526: E external/local_xla/xla/service/gpu/buffer_comparator.cc:1137] Difference at 32773: 3.83744, expected 3.0829\n",
      "2024-06-08 16:54:30.575534: E external/local_xla/xla/service/gpu/buffer_comparator.cc:1137] Difference at 32774: 4.4349, expected 3.68036\n",
      "2024-06-08 16:54:30.575541: E external/local_xla/xla/service/gpu/buffer_comparator.cc:1137] Difference at 32775: 3.46794, expected 2.71341\n",
      "2024-06-08 16:54:30.575549: E external/local_xla/xla/service/gpu/buffer_comparator.cc:1137] Difference at 32776: 3.08047, expected 2.32593\n",
      "2024-06-08 16:54:30.575557: E external/local_xla/xla/service/gpu/buffer_comparator.cc:1137] Difference at 32777: 3.51082, expected 2.75628\n",
      "2024-06-08 16:54:30.582746: E external/local_xla/xla/service/gpu/conv_algorithm_picker.cc:705] Results mismatch between different convolution algorithms. This is likely a bug/unexpected loss of precision in cudnn.\n",
      "(f32[64,16,128,128]{3,2,1,0}, u8[0]{0}) custom-call(f32[64,3,128,128]{3,2,1,0}, f32[16,3,3,3]{3,2,1,0}, f32[16]{0}), window={size=3x3 pad=1_1x1_1}, dim_labels=bf01_oi01->bf01, custom_call_target=\"__cudnn$convBiasActivationForward\", backend_config={\"conv_result_scale\":1,\"activation_mode\":\"kRelu\",\"side_input_scale\":0,\"leakyrelu_alpha\":0} for eng20{k2=2,k4=1,k5=1,k6=0,k7=0} vs eng15{k5=1,k6=0,k7=1,k10=1}\n",
      "2024-06-08 16:54:30.582775: E external/local_xla/xla/service/gpu/conv_algorithm_picker.cc:270] Device: Tesla P100-PCIE-16GB\n",
      "2024-06-08 16:54:30.582784: E external/local_xla/xla/service/gpu/conv_algorithm_picker.cc:271] Platform: Compute Capability 6.0\n",
      "2024-06-08 16:54:30.582791: E external/local_xla/xla/service/gpu/conv_algorithm_picker.cc:272] Driver: 12020 (535.129.3)\n",
      "2024-06-08 16:54:30.582798: E external/local_xla/xla/service/gpu/conv_algorithm_picker.cc:273] Runtime: <undefined>\n",
      "2024-06-08 16:54:30.582811: E external/local_xla/xla/service/gpu/conv_algorithm_picker.cc:280] cudnn version: 8.9.0\n",
      "2024-06-08 16:54:30.960275: E external/local_xla/xla/service/gpu/buffer_comparator.cc:1137] Difference at 32768: 3.40757, expected 2.65303\n",
      "2024-06-08 16:54:30.960338: E external/local_xla/xla/service/gpu/buffer_comparator.cc:1137] Difference at 32769: 5.59344, expected 4.8389\n",
      "2024-06-08 16:54:30.960348: E external/local_xla/xla/service/gpu/buffer_comparator.cc:1137] Difference at 32770: 3.89742, expected 3.14289\n",
      "2024-06-08 16:54:30.960356: E external/local_xla/xla/service/gpu/buffer_comparator.cc:1137] Difference at 32771: 4.98111, expected 4.22658\n",
      "2024-06-08 16:54:30.960364: E external/local_xla/xla/service/gpu/buffer_comparator.cc:1137] Difference at 32772: 4.53194, expected 3.7774\n",
      "2024-06-08 16:54:30.960372: E external/local_xla/xla/service/gpu/buffer_comparator.cc:1137] Difference at 32773: 3.83744, expected 3.0829\n",
      "2024-06-08 16:54:30.960380: E external/local_xla/xla/service/gpu/buffer_comparator.cc:1137] Difference at 32774: 4.4349, expected 3.68036\n",
      "2024-06-08 16:54:30.960387: E external/local_xla/xla/service/gpu/buffer_comparator.cc:1137] Difference at 32775: 3.46794, expected 2.71341\n",
      "2024-06-08 16:54:30.960395: E external/local_xla/xla/service/gpu/buffer_comparator.cc:1137] Difference at 32776: 3.08047, expected 2.32593\n",
      "2024-06-08 16:54:30.960403: E external/local_xla/xla/service/gpu/buffer_comparator.cc:1137] Difference at 32777: 3.51082, expected 2.75628\n",
      "2024-06-08 16:54:30.967766: E external/local_xla/xla/service/gpu/conv_algorithm_picker.cc:705] Results mismatch between different convolution algorithms. This is likely a bug/unexpected loss of precision in cudnn.\n",
      "(f32[64,16,128,128]{3,2,1,0}, u8[0]{0}) custom-call(f32[64,3,128,128]{3,2,1,0}, f32[16,3,3,3]{3,2,1,0}, f32[16]{0}), window={size=3x3 pad=1_1x1_1}, dim_labels=bf01_oi01->bf01, custom_call_target=\"__cudnn$convBiasActivationForward\", backend_config={\"conv_result_scale\":1,\"activation_mode\":\"kRelu\",\"side_input_scale\":0,\"leakyrelu_alpha\":0} for eng20{k2=2,k4=1,k5=1,k6=0,k7=0} vs eng15{k5=1,k6=0,k7=1,k10=1}\n",
      "2024-06-08 16:54:30.967797: E external/local_xla/xla/service/gpu/conv_algorithm_picker.cc:270] Device: Tesla P100-PCIE-16GB\n",
      "2024-06-08 16:54:30.967805: E external/local_xla/xla/service/gpu/conv_algorithm_picker.cc:271] Platform: Compute Capability 6.0\n",
      "2024-06-08 16:54:30.967812: E external/local_xla/xla/service/gpu/conv_algorithm_picker.cc:272] Driver: 12020 (535.129.3)\n",
      "2024-06-08 16:54:30.967819: E external/local_xla/xla/service/gpu/conv_algorithm_picker.cc:273] Runtime: <undefined>\n",
      "2024-06-08 16:54:30.967834: E external/local_xla/xla/service/gpu/conv_algorithm_picker.cc:280] cudnn version: 8.9.0\n"
     ]
    },
    {
     "name": "stdout",
     "output_type": "stream",
     "text": [
      "\u001b[1m 18/679\u001b[0m \u001b[37m━━━━━━━━━━━━━━━━━━━━\u001b[0m \u001b[1m6s\u001b[0m 10ms/step - accuracy: 0.0982 - loss: 3.5909"
     ]
    },
    {
     "name": "stderr",
     "output_type": "stream",
     "text": [
      "WARNING: All log messages before absl::InitializeLog() is called are written to STDERR\n",
      "I0000 00:00:1717865674.516947      75 device_compiler.h:186] Compiled cluster using XLA!  This line is logged at most once for the lifetime of the process.\n"
     ]
    },
    {
     "name": "stdout",
     "output_type": "stream",
     "text": [
      "\u001b[1m276/679\u001b[0m \u001b[32m━━━━━━━━\u001b[0m\u001b[37m━━━━━━━━━━━━\u001b[0m \u001b[1m3s\u001b[0m 9ms/step - accuracy: 0.3789 - loss: 2.3246"
     ]
    },
    {
     "name": "stderr",
     "output_type": "stream",
     "text": [
      "2024-06-08 16:54:37.529358: E external/local_xla/xla/service/gpu/buffer_comparator.cc:1137] Difference at 0: 3.19741, expected 2.52428\n",
      "2024-06-08 16:54:37.529413: E external/local_xla/xla/service/gpu/buffer_comparator.cc:1137] Difference at 1: 4.72158, expected 4.04844\n",
      "2024-06-08 16:54:37.529422: E external/local_xla/xla/service/gpu/buffer_comparator.cc:1137] Difference at 2: 5.1767, expected 4.50356\n",
      "2024-06-08 16:54:37.529430: E external/local_xla/xla/service/gpu/buffer_comparator.cc:1137] Difference at 3: 3.97451, expected 3.30138\n",
      "2024-06-08 16:54:37.529438: E external/local_xla/xla/service/gpu/buffer_comparator.cc:1137] Difference at 4: 4.04906, expected 3.37592\n",
      "2024-06-08 16:54:37.529446: E external/local_xla/xla/service/gpu/buffer_comparator.cc:1137] Difference at 5: 4.7563, expected 4.08317\n",
      "2024-06-08 16:54:37.529454: E external/local_xla/xla/service/gpu/buffer_comparator.cc:1137] Difference at 6: 3.22555, expected 2.55241\n",
      "2024-06-08 16:54:37.529462: E external/local_xla/xla/service/gpu/buffer_comparator.cc:1137] Difference at 7: 3.33922, expected 2.66609\n",
      "2024-06-08 16:54:37.529469: E external/local_xla/xla/service/gpu/buffer_comparator.cc:1137] Difference at 8: 3.124, expected 2.45086\n",
      "2024-06-08 16:54:37.529477: E external/local_xla/xla/service/gpu/buffer_comparator.cc:1137] Difference at 9: 3.03019, expected 2.35705\n",
      "2024-06-08 16:54:37.535343: E external/local_xla/xla/service/gpu/conv_algorithm_picker.cc:705] Results mismatch between different convolution algorithms. This is likely a bug/unexpected loss of precision in cudnn.\n",
      "(f32[52,16,128,128]{3,2,1,0}, u8[0]{0}) custom-call(f32[52,3,128,128]{3,2,1,0}, f32[16,3,3,3]{3,2,1,0}, f32[16]{0}), window={size=3x3 pad=1_1x1_1}, dim_labels=bf01_oi01->bf01, custom_call_target=\"__cudnn$convBiasActivationForward\", backend_config={\"conv_result_scale\":1,\"activation_mode\":\"kRelu\",\"side_input_scale\":0,\"leakyrelu_alpha\":0} for eng20{k2=2,k4=1,k5=1,k6=0,k7=0} vs eng15{k5=1,k6=0,k7=1,k10=1}\n",
      "2024-06-08 16:54:37.535371: E external/local_xla/xla/service/gpu/conv_algorithm_picker.cc:270] Device: Tesla P100-PCIE-16GB\n",
      "2024-06-08 16:54:37.535379: E external/local_xla/xla/service/gpu/conv_algorithm_picker.cc:271] Platform: Compute Capability 6.0\n",
      "2024-06-08 16:54:37.535386: E external/local_xla/xla/service/gpu/conv_algorithm_picker.cc:272] Driver: 12020 (535.129.3)\n",
      "2024-06-08 16:54:37.535393: E external/local_xla/xla/service/gpu/conv_algorithm_picker.cc:273] Runtime: <undefined>\n",
      "2024-06-08 16:54:37.535408: E external/local_xla/xla/service/gpu/conv_algorithm_picker.cc:280] cudnn version: 8.9.0\n",
      "2024-06-08 16:54:37.742642: E external/local_xla/xla/service/gpu/buffer_comparator.cc:1137] Difference at 0: 3.19741, expected 2.52428\n",
      "2024-06-08 16:54:37.742691: E external/local_xla/xla/service/gpu/buffer_comparator.cc:1137] Difference at 1: 4.72158, expected 4.04844\n",
      "2024-06-08 16:54:37.742701: E external/local_xla/xla/service/gpu/buffer_comparator.cc:1137] Difference at 2: 5.1767, expected 4.50356\n",
      "2024-06-08 16:54:37.742709: E external/local_xla/xla/service/gpu/buffer_comparator.cc:1137] Difference at 3: 3.97451, expected 3.30138\n",
      "2024-06-08 16:54:37.742718: E external/local_xla/xla/service/gpu/buffer_comparator.cc:1137] Difference at 4: 4.04906, expected 3.37592\n",
      "2024-06-08 16:54:37.742736: E external/local_xla/xla/service/gpu/buffer_comparator.cc:1137] Difference at 5: 4.7563, expected 4.08317\n",
      "2024-06-08 16:54:37.742744: E external/local_xla/xla/service/gpu/buffer_comparator.cc:1137] Difference at 6: 3.22555, expected 2.55241\n",
      "2024-06-08 16:54:37.742753: E external/local_xla/xla/service/gpu/buffer_comparator.cc:1137] Difference at 7: 3.33922, expected 2.66609\n",
      "2024-06-08 16:54:37.742761: E external/local_xla/xla/service/gpu/buffer_comparator.cc:1137] Difference at 8: 3.124, expected 2.45086\n",
      "2024-06-08 16:54:37.742769: E external/local_xla/xla/service/gpu/buffer_comparator.cc:1137] Difference at 9: 3.03019, expected 2.35705\n",
      "2024-06-08 16:54:37.748705: E external/local_xla/xla/service/gpu/conv_algorithm_picker.cc:705] Results mismatch between different convolution algorithms. This is likely a bug/unexpected loss of precision in cudnn.\n",
      "(f32[52,16,128,128]{3,2,1,0}, u8[0]{0}) custom-call(f32[52,3,128,128]{3,2,1,0}, f32[16,3,3,3]{3,2,1,0}, f32[16]{0}), window={size=3x3 pad=1_1x1_1}, dim_labels=bf01_oi01->bf01, custom_call_target=\"__cudnn$convBiasActivationForward\", backend_config={\"conv_result_scale\":1,\"activation_mode\":\"kRelu\",\"side_input_scale\":0,\"leakyrelu_alpha\":0} for eng20{k2=2,k4=1,k5=1,k6=0,k7=0} vs eng15{k5=1,k6=0,k7=1,k10=1}\n",
      "2024-06-08 16:54:37.748741: E external/local_xla/xla/service/gpu/conv_algorithm_picker.cc:270] Device: Tesla P100-PCIE-16GB\n",
      "2024-06-08 16:54:37.748754: E external/local_xla/xla/service/gpu/conv_algorithm_picker.cc:271] Platform: Compute Capability 6.0\n",
      "2024-06-08 16:54:37.748769: E external/local_xla/xla/service/gpu/conv_algorithm_picker.cc:272] Driver: 12020 (535.129.3)\n",
      "2024-06-08 16:54:37.748780: E external/local_xla/xla/service/gpu/conv_algorithm_picker.cc:273] Runtime: <undefined>\n",
      "2024-06-08 16:54:37.748799: E external/local_xla/xla/service/gpu/conv_algorithm_picker.cc:280] cudnn version: 8.9.0\n"
     ]
    },
    {
     "name": "stdout",
     "output_type": "stream",
     "text": [
      "\u001b[1m675/679\u001b[0m \u001b[32m━━━━━━━━━━━━━━━━━━━\u001b[0m\u001b[37m━\u001b[0m \u001b[1m0s\u001b[0m 15ms/step - accuracy: 0.5226 - loss: 1.7335"
     ]
    },
    {
     "name": "stderr",
     "output_type": "stream",
     "text": [
      "2024-06-08 16:54:58.509156: E external/local_xla/xla/service/gpu/buffer_comparator.cc:1137] Difference at 0: 2.80036, expected 2.23264\n",
      "2024-06-08 16:54:58.509220: E external/local_xla/xla/service/gpu/buffer_comparator.cc:1137] Difference at 1: 3.82728, expected 3.25956\n",
      "2024-06-08 16:54:58.509236: E external/local_xla/xla/service/gpu/buffer_comparator.cc:1137] Difference at 2: 3.96518, expected 3.39745\n",
      "2024-06-08 16:54:58.509253: E external/local_xla/xla/service/gpu/buffer_comparator.cc:1137] Difference at 3: 3.59902, expected 3.03129\n",
      "2024-06-08 16:54:58.509266: E external/local_xla/xla/service/gpu/buffer_comparator.cc:1137] Difference at 4: 3.13087, expected 2.56315\n",
      "2024-06-08 16:54:58.509276: E external/local_xla/xla/service/gpu/buffer_comparator.cc:1137] Difference at 5: 3.74997, expected 3.18225\n",
      "2024-06-08 16:54:58.509288: E external/local_xla/xla/service/gpu/buffer_comparator.cc:1137] Difference at 6: 3.23727, expected 2.66954\n",
      "2024-06-08 16:54:58.509299: E external/local_xla/xla/service/gpu/buffer_comparator.cc:1137] Difference at 7: 3.25416, expected 2.68644\n",
      "2024-06-08 16:54:58.509309: E external/local_xla/xla/service/gpu/buffer_comparator.cc:1137] Difference at 8: 2.41838, expected 1.85065\n",
      "2024-06-08 16:54:58.509319: E external/local_xla/xla/service/gpu/buffer_comparator.cc:1137] Difference at 9: 2.57781, expected 2.01008\n",
      "2024-06-08 16:54:58.514603: E external/local_xla/xla/service/gpu/conv_algorithm_picker.cc:705] Results mismatch between different convolution algorithms. This is likely a bug/unexpected loss of precision in cudnn.\n",
      "(f32[45,16,128,128]{3,2,1,0}, u8[0]{0}) custom-call(f32[45,3,128,128]{3,2,1,0}, f32[16,3,3,3]{3,2,1,0}, f32[16]{0}), window={size=3x3 pad=1_1x1_1}, dim_labels=bf01_oi01->bf01, custom_call_target=\"__cudnn$convBiasActivationForward\", backend_config={\"conv_result_scale\":1,\"activation_mode\":\"kRelu\",\"side_input_scale\":0,\"leakyrelu_alpha\":0} for eng20{k2=2,k4=1,k5=1,k6=0,k7=0} vs eng15{k5=1,k6=0,k7=1,k10=1}\n",
      "2024-06-08 16:54:58.514633: E external/local_xla/xla/service/gpu/conv_algorithm_picker.cc:270] Device: Tesla P100-PCIE-16GB\n",
      "2024-06-08 16:54:58.514646: E external/local_xla/xla/service/gpu/conv_algorithm_picker.cc:271] Platform: Compute Capability 6.0\n",
      "2024-06-08 16:54:58.514658: E external/local_xla/xla/service/gpu/conv_algorithm_picker.cc:272] Driver: 12020 (535.129.3)\n",
      "2024-06-08 16:54:58.514672: E external/local_xla/xla/service/gpu/conv_algorithm_picker.cc:273] Runtime: <undefined>\n",
      "2024-06-08 16:54:58.514691: E external/local_xla/xla/service/gpu/conv_algorithm_picker.cc:280] cudnn version: 8.9.0\n",
      "2024-06-08 16:54:58.681895: E external/local_xla/xla/service/gpu/buffer_comparator.cc:1137] Difference at 0: 2.80036, expected 2.23264\n",
      "2024-06-08 16:54:58.681951: E external/local_xla/xla/service/gpu/buffer_comparator.cc:1137] Difference at 1: 3.82728, expected 3.25956\n",
      "2024-06-08 16:54:58.681960: E external/local_xla/xla/service/gpu/buffer_comparator.cc:1137] Difference at 2: 3.96518, expected 3.39745\n",
      "2024-06-08 16:54:58.681968: E external/local_xla/xla/service/gpu/buffer_comparator.cc:1137] Difference at 3: 3.59902, expected 3.03129\n",
      "2024-06-08 16:54:58.681976: E external/local_xla/xla/service/gpu/buffer_comparator.cc:1137] Difference at 4: 3.13087, expected 2.56315\n",
      "2024-06-08 16:54:58.681984: E external/local_xla/xla/service/gpu/buffer_comparator.cc:1137] Difference at 5: 3.74997, expected 3.18225\n",
      "2024-06-08 16:54:58.681992: E external/local_xla/xla/service/gpu/buffer_comparator.cc:1137] Difference at 6: 3.23727, expected 2.66954\n",
      "2024-06-08 16:54:58.681999: E external/local_xla/xla/service/gpu/buffer_comparator.cc:1137] Difference at 7: 3.25416, expected 2.68644\n",
      "2024-06-08 16:54:58.682007: E external/local_xla/xla/service/gpu/buffer_comparator.cc:1137] Difference at 8: 2.41838, expected 1.85065\n",
      "2024-06-08 16:54:58.682015: E external/local_xla/xla/service/gpu/buffer_comparator.cc:1137] Difference at 9: 2.57781, expected 2.01008\n",
      "2024-06-08 16:54:58.687292: E external/local_xla/xla/service/gpu/conv_algorithm_picker.cc:705] Results mismatch between different convolution algorithms. This is likely a bug/unexpected loss of precision in cudnn.\n",
      "(f32[45,16,128,128]{3,2,1,0}, u8[0]{0}) custom-call(f32[45,3,128,128]{3,2,1,0}, f32[16,3,3,3]{3,2,1,0}, f32[16]{0}), window={size=3x3 pad=1_1x1_1}, dim_labels=bf01_oi01->bf01, custom_call_target=\"__cudnn$convBiasActivationForward\", backend_config={\"conv_result_scale\":1,\"activation_mode\":\"kRelu\",\"side_input_scale\":0,\"leakyrelu_alpha\":0} for eng20{k2=2,k4=1,k5=1,k6=0,k7=0} vs eng15{k5=1,k6=0,k7=1,k10=1}\n",
      "2024-06-08 16:54:58.687322: E external/local_xla/xla/service/gpu/conv_algorithm_picker.cc:270] Device: Tesla P100-PCIE-16GB\n",
      "2024-06-08 16:54:58.687331: E external/local_xla/xla/service/gpu/conv_algorithm_picker.cc:271] Platform: Compute Capability 6.0\n",
      "2024-06-08 16:54:58.687338: E external/local_xla/xla/service/gpu/conv_algorithm_picker.cc:272] Driver: 12020 (535.129.3)\n",
      "2024-06-08 16:54:58.687345: E external/local_xla/xla/service/gpu/conv_algorithm_picker.cc:273] Runtime: <undefined>\n",
      "2024-06-08 16:54:58.687360: E external/local_xla/xla/service/gpu/conv_algorithm_picker.cc:280] cudnn version: 8.9.0\n"
     ]
    },
    {
     "name": "stdout",
     "output_type": "stream",
     "text": [
      "\u001b[1m679/679\u001b[0m \u001b[32m━━━━━━━━━━━━━━━━━━━━\u001b[0m\u001b[37m\u001b[0m \u001b[1m97s\u001b[0m 37ms/step - accuracy: 0.5237 - loss: 1.7290 - val_accuracy: 0.7709 - val_loss: 0.7688\n",
      "Epoch 2/10\n",
      "\u001b[1m679/679\u001b[0m \u001b[32m━━━━━━━━━━━━━━━━━━━━\u001b[0m\u001b[37m\u001b[0m \u001b[1m7s\u001b[0m 10ms/step - accuracy: 0.8368 - loss: 0.5321 - val_accuracy: 0.8222 - val_loss: 0.6064\n",
      "Epoch 3/10\n",
      "\u001b[1m679/679\u001b[0m \u001b[32m━━━━━━━━━━━━━━━━━━━━\u001b[0m\u001b[37m\u001b[0m \u001b[1m7s\u001b[0m 10ms/step - accuracy: 0.8759 - loss: 0.4055 - val_accuracy: 0.8745 - val_loss: 0.4890\n",
      "Epoch 4/10\n",
      "\u001b[1m679/679\u001b[0m \u001b[32m━━━━━━━━━━━━━━━━━━━━\u001b[0m\u001b[37m\u001b[0m \u001b[1m7s\u001b[0m 10ms/step - accuracy: 0.9045 - loss: 0.3273 - val_accuracy: 0.8827 - val_loss: 0.4692\n",
      "Epoch 5/10\n",
      "\u001b[1m679/679\u001b[0m \u001b[32m━━━━━━━━━━━━━━━━━━━━\u001b[0m\u001b[37m\u001b[0m \u001b[1m7s\u001b[0m 11ms/step - accuracy: 0.9072 - loss: 0.3655 - val_accuracy: 0.8404 - val_loss: 0.6376\n",
      "Epoch 6/10\n",
      "\u001b[1m679/679\u001b[0m \u001b[32m━━━━━━━━━━━━━━━━━━━━\u001b[0m\u001b[37m\u001b[0m \u001b[1m7s\u001b[0m 10ms/step - accuracy: 0.9030 - loss: 0.4022 - val_accuracy: 0.8582 - val_loss: 0.7629\n",
      "Epoch 7/10\n",
      "\u001b[1m679/679\u001b[0m \u001b[32m━━━━━━━━━━━━━━━━━━━━\u001b[0m\u001b[37m\u001b[0m \u001b[1m7s\u001b[0m 10ms/step - accuracy: 0.9158 - loss: 0.3957 - val_accuracy: 0.8523 - val_loss: 0.9706\n",
      "Epoch 8/10\n",
      "\u001b[1m679/679\u001b[0m \u001b[32m━━━━━━━━━━━━━━━━━━━━\u001b[0m\u001b[37m\u001b[0m \u001b[1m7s\u001b[0m 10ms/step - accuracy: 0.8960 - loss: 0.5529 - val_accuracy: 0.8491 - val_loss: 1.0257\n",
      "Epoch 9/10\n",
      "\u001b[1m679/679\u001b[0m \u001b[32m━━━━━━━━━━━━━━━━━━━━\u001b[0m\u001b[37m\u001b[0m \u001b[1m7s\u001b[0m 10ms/step - accuracy: 0.9047 - loss: 0.5090 - val_accuracy: 0.8842 - val_loss: 0.7109\n",
      "Epoch 10/10\n",
      "\u001b[1m679/679\u001b[0m \u001b[32m━━━━━━━━━━━━━━━━━━━━\u001b[0m\u001b[37m\u001b[0m \u001b[1m7s\u001b[0m 10ms/step - accuracy: 0.9261 - loss: 0.3876 - val_accuracy: 0.8319 - val_loss: 1.6338\n",
      "CPU times: user 1min 54s, sys: 17.2 s, total: 2min 11s\n",
      "Wall time: 2min 40s\n"
     ]
    }
   ],
   "source": [
    "%%time\n",
    "\n",
    "epochs=10\n",
    "history = model.fit(\n",
    "  train_ds,\n",
    "  validation_data=val_ds,\n",
    "  epochs=epochs\n",
    ")"
   ]
  },
  {
   "cell_type": "code",
   "execution_count": 11,
   "id": "0a451246",
   "metadata": {
    "execution": {
     "iopub.execute_input": "2024-06-08T16:56:03.635775Z",
     "iopub.status.busy": "2024-06-08T16:56:03.635114Z",
     "iopub.status.idle": "2024-06-08T16:56:03.982970Z",
     "shell.execute_reply": "2024-06-08T16:56:03.982051Z"
    },
    "papermill": {
     "duration": 0.447246,
     "end_time": "2024-06-08T16:56:03.984983",
     "exception": false,
     "start_time": "2024-06-08T16:56:03.537737",
     "status": "completed"
    },
    "tags": []
   },
   "outputs": [
    {
     "data": {
      "text/plain": [
       "Text(0.5, 1.0, 'Training and Validation Accuracy')"
      ]
     },
     "execution_count": 11,
     "metadata": {},
     "output_type": "execute_result"
    },
    {
     "data": {
      "image/png": "[encoded data removed]",
      "text/plain": [
       "<Figure size 800x800 with 1 Axes>"
      ]
     },
     "metadata": {},
     "output_type": "display_data"
    }
   ],
   "source": [
    "import matplotlib.pyplot as plt\n",
    "\n",
    "acc = history.history['accuracy']\n",
    "val_acc = history.history['val_accuracy']\n",
    "\n",
    "loss = history.history['loss']\n",
    "val_loss = history.history['val_loss']\n",
    "\n",
    "epochs_range = range(epochs)\n",
    "\n",
    "plt.figure(figsize=(8, 8))\n",
    "plt.plot(epochs_range, acc, label='Training Accuracy')\n",
    "plt.plot(epochs_range, val_acc, label='Validation Accuracy')\n",
    "plt.legend(loc='lower right')\n",
    "plt.title('Training and Validation Accuracy')"
   ]
  },
  {
   "cell_type": "code",
   "execution_count": 12,
   "id": "cad039ea",
   "metadata": {
    "execution": {
     "iopub.execute_input": "2024-06-08T16:56:04.231254Z",
     "iopub.status.busy": "2024-06-08T16:56:04.230368Z",
     "iopub.status.idle": "2024-06-08T16:56:04.508825Z",
     "shell.execute_reply": "2024-06-08T16:56:04.507934Z"
    },
    "papermill": {
     "duration": 0.428372,
     "end_time": "2024-06-08T16:56:04.511117",
     "exception": false,
     "start_time": "2024-06-08T16:56:04.082745",
     "status": "completed"
    },
    "tags": []
   },
   "outputs": [
    {
     "data": {
      "image/png": "[encoded data removed]",
      "text/plain": [
       "<Figure size 640x480 with 1 Axes>"
      ]
     },
     "metadata": {},
     "output_type": "display_data"
    }
   ],
   "source": [
    "\n",
    "plt.plot(epochs_range, loss, label='Training Loss')\n",
    "plt.plot(epochs_range, val_loss, label='Validation Loss')\n",
    "plt.legend(loc='upper right')\n",
    "plt.title('Training and Validation Loss')\n",
    "plt.show()"
   ]
  },
  {
   "cell_type": "code",
   "execution_count": 13,
   "id": "86b5a0fd",
   "metadata": {
    "execution": {
     "iopub.execute_input": "2024-06-08T16:56:04.707786Z",
     "iopub.status.busy": "2024-06-08T16:56:04.707433Z",
     "iopub.status.idle": "2024-06-08T16:56:04.805475Z",
     "shell.execute_reply": "2024-06-08T16:56:04.804643Z"
    },
    "papermill": {
     "duration": 0.198471,
     "end_time": "2024-06-08T16:56:04.807808",
     "exception": false,
     "start_time": "2024-06-08T16:56:04.609337",
     "status": "completed"
    },
    "tags": []
   },
   "outputs": [],
   "source": [
    "model.save('tf_plant_disease_classifier.h5')"
   ]
  },
  {
   "cell_type": "code",
   "execution_count": 14,
   "id": "98f1ec9c",
   "metadata": {
    "execution": {
     "iopub.execute_input": "2024-06-08T16:56:05.005428Z",
     "iopub.status.busy": "2024-06-08T16:56:05.004771Z",
     "iopub.status.idle": "2024-06-08T16:56:05.132874Z",
     "shell.execute_reply": "2024-06-08T16:56:05.132096Z"
    },
    "papermill": {
     "duration": 0.229625,
     "end_time": "2024-06-08T16:56:05.135151",
     "exception": false,
     "start_time": "2024-06-08T16:56:04.905526",
     "status": "completed"
    },
    "tags": []
   },
   "outputs": [],
   "source": [
    "model.save('tf_plant_disease_classifier.keras')"
   ]
  },
  {
   "cell_type": "code",
   "execution_count": 15,
   "id": "4918c8ea",
   "metadata": {
    "execution": {
     "iopub.execute_input": "2024-06-08T16:56:05.332625Z",
     "iopub.status.busy": "2024-06-08T16:56:05.331949Z",
     "iopub.status.idle": "2024-06-08T16:56:05.336712Z",
     "shell.execute_reply": "2024-06-08T16:56:05.335831Z"
    },
    "papermill": {
     "duration": 0.105833,
     "end_time": "2024-06-08T16:56:05.338880",
     "exception": false,
     "start_time": "2024-06-08T16:56:05.233047",
     "status": "completed"
    },
    "tags": []
   },
   "outputs": [
    {
     "name": "stdout",
     "output_type": "stream",
     "text": [
      "Model training done... :)\n"
     ]
    }
   ],
   "source": [
    "print('Model training done... :)')"
   ]
  }
 ],
 "metadata": {
  "kaggle": {
   "accelerator": "gpu",
   "dataSources": [
    {
     "datasetId": 277323,
     "sourceId": 658267,
     "sourceType": "datasetVersion"
    }
   ],
   "dockerImageVersionId": 30733,
   "isGpuEnabled": true,
   "isInternetEnabled": true,
   "language": "python",
   "sourceType": "notebook"
  },
  "kernelspec": {
   "display_name": "Python 3",
   "language": "python",
   "name": "python3"
  },
  "language_info": {
   "codemirror_mode": {
    "name": "ipython",
    "version": 3
   },
   "file_extension": ".py",
   "mimetype": "text/x-python",
   "name": "python",
   "nbconvert_exporter": "python",
   "pygments_lexer": "ipython3",
   "version": "3.10.13"
  },
  "papermill": {
   "default_parameters": {},
   "duration": 226.308676,
   "end_time": "2024-06-08T16:56:11.110614",
   "environment_variables": {},
   "exception": null,
   "input_path": "__notebook__.ipynb",
   "output_path": "__notebook__.ipynb",
   "parameters": {},
   "start_time": "2024-06-08T16:52:24.801938",
   "version": "2.5.0"
  }
 },
 "nbformat": 4,
 "nbformat_minor": 5
}
