{
 "cells": [
  {
   "cell_type": "code",
   "execution_count": 1,
   "id": "5fe74dd9",
   "metadata": {
    "execution": {
     "iopub.execute_input": "2024-06-09T18:40:55.303979Z",
     "iopub.status.busy": "2024-06-09T18:40:55.303620Z",
     "iopub.status.idle": "2024-06-09T18:41:08.463468Z",
     "shell.execute_reply": "2024-06-09T18:41:08.462460Z"
    },
    "papermill": {
     "duration": 13.169654,
     "end_time": "2024-06-09T18:41:08.465950",
     "exception": false,
     "start_time": "2024-06-09T18:40:55.296296",
     "status": "completed"
    },
    "tags": []
   },
   "outputs": [
    {
     "name": "stderr",
     "output_type": "stream",
     "text": [
      "2024-06-09 18:40:56.943920: E external/local_xla/xla/stream_executor/cuda/cuda_dnn.cc:9261] Unable to register cuDNN factory: Attempting to register factory for plugin cuDNN when one has already been registered\n",
      "2024-06-09 18:40:56.944019: E external/local_xla/xla/stream_executor/cuda/cuda_fft.cc:607] Unable to register cuFFT factory: Attempting to register factory for plugin cuFFT when one has already been registered\n",
      "2024-06-09 18:40:57.061033: E external/local_xla/xla/stream_executor/cuda/cuda_blas.cc:1515] Unable to register cuBLAS factory: Attempting to register factory for plugin cuBLAS when one has already been registered\n"
     ]
    }
   ],
   "source": [
    "import numpy as np\n",
    "import matplotlib.pyplot as plt \n",
    "import tensorflow as tf\n",
    "import cv2\n",
    "import os \n",
    "import keras\n",
    "from keras import layers, models\n",
    "from tensorflow import keras as tfkeras\n",
    "from sklearn.preprocessing import LabelEncoder\n",
    "from tqdm.auto import tqdm "
   ]
  },
  {
   "cell_type": "code",
   "execution_count": 2,
   "id": "e5f141a3",
   "metadata": {
    "execution": {
     "iopub.execute_input": "2024-06-09T18:41:08.479302Z",
     "iopub.status.busy": "2024-06-09T18:41:08.478293Z",
     "iopub.status.idle": "2024-06-09T18:41:08.488575Z",
     "shell.execute_reply": "2024-06-09T18:41:08.487848Z"
    },
    "papermill": {
     "duration": 0.018756,
     "end_time": "2024-06-09T18:41:08.490559",
     "exception": false,
     "start_time": "2024-06-09T18:41:08.471803",
     "status": "completed"
    },
    "tags": []
   },
   "outputs": [],
   "source": [
    "image_size = 128\n",
    "batch_size = 32\n",
    "learn_rate = 0.01\n",
    "epochs = 40\n",
    "data_dir = \"/kaggle/input/plantvillage-dataset/color\"\n",
    "input_folder = \"/kaggle/input/plant-disease-test/test_images\"\n",
    "test_images = os.listdir(\"/kaggle/input/plant-disease-test/test_images\")"
   ]
  },
  {
   "cell_type": "code",
   "execution_count": 3,
   "id": "5c1d5d42",
   "metadata": {
    "execution": {
     "iopub.execute_input": "2024-06-09T18:41:08.503113Z",
     "iopub.status.busy": "2024-06-09T18:41:08.502551Z",
     "iopub.status.idle": "2024-06-09T18:41:08.508451Z",
     "shell.execute_reply": "2024-06-09T18:41:08.507593Z"
    },
    "papermill": {
     "duration": 0.014,
     "end_time": "2024-06-09T18:41:08.510291",
     "exception": false,
     "start_time": "2024-06-09T18:41:08.496291",
     "status": "completed"
    },
    "tags": []
   },
   "outputs": [],
   "source": [
    "def read_img(image_data):\n",
    "    try:\n",
    "        image = cv2.imread(image_data)\n",
    "\n",
    "        image = cv2.cvtColor(image, cv2.COLOR_BGR2RGB)\n",
    "        image = cv2.resize(image, (image_size, image_size))\n",
    "        image = np.array(image, dtype=np.float32) / 255.0  # Normalize the image\n",
    "        image = image.reshape(1, image_size, image_size, 3)\n",
    "        \n",
    "        return image\n",
    "\n",
    "    except Exception as e:\n",
    "        print(f\"Error> {e}\")"
   ]
  },
  {
   "cell_type": "code",
   "execution_count": 4,
   "id": "723b822e",
   "metadata": {
    "execution": {
     "iopub.execute_input": "2024-06-09T18:41:08.521815Z",
     "iopub.status.busy": "2024-06-09T18:41:08.521532Z",
     "iopub.status.idle": "2024-06-09T18:41:39.165109Z",
     "shell.execute_reply": "2024-06-09T18:41:39.164299Z"
    },
    "papermill": {
     "duration": 30.651761,
     "end_time": "2024-06-09T18:41:39.167368",
     "exception": false,
     "start_time": "2024-06-09T18:41:08.515607",
     "status": "completed"
    },
    "tags": []
   },
   "outputs": [
    {
     "name": "stdout",
     "output_type": "stream",
     "text": [
      "Found 54305 files belonging to 38 classes.\n",
      "Using 46160 files for training.\n",
      "Found 54305 files belonging to 38 classes.\n",
      "Using 8145 files for validation.\n"
     ]
    }
   ],
   "source": [
    "train_data = tf.keras.utils.image_dataset_from_directory(\n",
    "    data_dir,\n",
    "    validation_split=0.15,\n",
    "    subset=\"training\",\n",
    "    seed=123,\n",
    "    image_size=(image_size, image_size),\n",
    "    batch_size=batch_size,\n",
    ")\n",
    "\n",
    "val_data = tf.keras.utils.image_dataset_from_directory(\n",
    "    data_dir,\n",
    "    validation_split=0.15,\n",
    "    subset=\"validation\",\n",
    "    seed=123,\n",
    "    image_size=(image_size, image_size),\n",
    "    batch_size=batch_size,\n",
    ")"
   ]
  },
  {
   "cell_type": "code",
   "execution_count": 5,
   "id": "b960e022",
   "metadata": {
    "execution": {
     "iopub.execute_input": "2024-06-09T18:41:39.180835Z",
     "iopub.status.busy": "2024-06-09T18:41:39.180048Z",
     "iopub.status.idle": "2024-06-09T18:41:39.189394Z",
     "shell.execute_reply": "2024-06-09T18:41:39.188332Z"
    },
    "papermill": {
     "duration": 0.018185,
     "end_time": "2024-06-09T18:41:39.191395",
     "exception": false,
     "start_time": "2024-06-09T18:41:39.173210",
     "status": "completed"
    },
    "tags": []
   },
   "outputs": [
    {
     "name": "stdout",
     "output_type": "stream",
     "text": [
      "['Apple___Apple_scab' 'Apple___Black_rot' 'Apple___Cedar_apple_rust'\n",
      " 'Apple___healthy' 'Blueberry___healthy'\n",
      " 'Cherry_(including_sour)___Powdery_mildew'\n",
      " 'Cherry_(including_sour)___healthy'\n",
      " 'Corn_(maize)___Cercospora_leaf_spot Gray_leaf_spot'\n",
      " 'Corn_(maize)___Common_rust_' 'Corn_(maize)___Northern_Leaf_Blight'\n",
      " 'Corn_(maize)___healthy' 'Grape___Black_rot'\n",
      " 'Grape___Esca_(Black_Measles)'\n",
      " 'Grape___Leaf_blight_(Isariopsis_Leaf_Spot)' 'Grape___healthy'\n",
      " 'Orange___Haunglongbing_(Citrus_greening)' 'Peach___Bacterial_spot'\n",
      " 'Peach___healthy' 'Pepper,_bell___Bacterial_spot'\n",
      " 'Pepper,_bell___healthy' 'Potato___Early_blight' 'Potato___Late_blight'\n",
      " 'Potato___healthy' 'Raspberry___healthy' 'Soybean___healthy'\n",
      " 'Squash___Powdery_mildew' 'Strawberry___Leaf_scorch'\n",
      " 'Strawberry___healthy' 'Tomato___Bacterial_spot' 'Tomato___Early_blight'\n",
      " 'Tomato___Late_blight' 'Tomato___Leaf_Mold' 'Tomato___Septoria_leaf_spot'\n",
      " 'Tomato___Spider_mites Two-spotted_spider_mite' 'Tomato___Target_Spot'\n",
      " 'Tomato___Tomato_Yellow_Leaf_Curl_Virus' 'Tomato___Tomato_mosaic_virus'\n",
      " 'Tomato___healthy']\n"
     ]
    },
    {
     "data": {
      "text/plain": [
       "array([ 0,  1,  2,  3,  4,  5,  6,  7,  8,  9, 10, 11, 12, 13, 14, 15, 16,\n",
       "       17, 18, 19, 20, 21, 22, 23, 24, 25, 26, 27, 28, 29, 30, 31, 32, 33,\n",
       "       34, 35, 36, 37])"
      ]
     },
     "execution_count": 5,
     "metadata": {},
     "output_type": "execute_result"
    }
   ],
   "source": [
    "lencoder = LabelEncoder()\n",
    "\n",
    "disease_classes = train_data.class_names\n",
    "\n",
    "enc_classes = lencoder.fit_transform(disease_classes)\n",
    "\n",
    "encoded_disease_classes = lencoder.classes_\n",
    "\n",
    "print(encoded_disease_classes)\n",
    "enc_classes"
   ]
  },
  {
   "cell_type": "code",
   "execution_count": 6,
   "id": "9d1fa9e9",
   "metadata": {
    "execution": {
     "iopub.execute_input": "2024-06-09T18:41:39.204912Z",
     "iopub.status.busy": "2024-06-09T18:41:39.204232Z",
     "iopub.status.idle": "2024-06-09T18:41:39.218129Z",
     "shell.execute_reply": "2024-06-09T18:41:39.217310Z"
    },
    "papermill": {
     "duration": 0.022617,
     "end_time": "2024-06-09T18:41:39.220037",
     "exception": false,
     "start_time": "2024-06-09T18:41:39.197420",
     "status": "completed"
    },
    "tags": []
   },
   "outputs": [],
   "source": [
    "AUTOTUNE = tf.data.AUTOTUNE\n",
    "\n",
    "train_data = train_data.cache().shuffle(1000).prefetch(buffer_size=AUTOTUNE)\n",
    "val_data = val_data.cache().prefetch(buffer_size=AUTOTUNE)"
   ]
  },
  {
   "cell_type": "code",
   "execution_count": 7,
   "id": "55d4daa9",
   "metadata": {
    "execution": {
     "iopub.execute_input": "2024-06-09T18:41:39.233014Z",
     "iopub.status.busy": "2024-06-09T18:41:39.232291Z",
     "iopub.status.idle": "2024-06-09T18:41:39.236227Z",
     "shell.execute_reply": "2024-06-09T18:41:39.235530Z"
    },
    "papermill": {
     "duration": 0.012254,
     "end_time": "2024-06-09T18:41:39.238061",
     "exception": false,
     "start_time": "2024-06-09T18:41:39.225807",
     "status": "completed"
    },
    "tags": []
   },
   "outputs": [],
   "source": [
    "# data_augmentation = keras.models.Sequential(\n",
    "#   [\n",
    "#     layers.RandomFlip(\"horizontal\",\n",
    "#                       input_shape=(image_size,\n",
    "#                                   image_size,\n",
    "#                                   3)),\n",
    "#     layers.RandomRotation(0.1),\n",
    "#     layers.RandomZoom(0.1),\n",
    "#   ]\n",
    "# )"
   ]
  },
  {
   "cell_type": "code",
   "execution_count": 8,
   "id": "e0477048",
   "metadata": {
    "execution": {
     "iopub.execute_input": "2024-06-09T18:41:39.250979Z",
     "iopub.status.busy": "2024-06-09T18:41:39.250536Z",
     "iopub.status.idle": "2024-06-09T18:41:39.364529Z",
     "shell.execute_reply": "2024-06-09T18:41:39.363706Z"
    },
    "papermill": {
     "duration": 0.1232,
     "end_time": "2024-06-09T18:41:39.367006",
     "exception": false,
     "start_time": "2024-06-09T18:41:39.243806",
     "status": "completed"
    },
    "tags": []
   },
   "outputs": [
    {
     "name": "stderr",
     "output_type": "stream",
     "text": [
      "/opt/conda/lib/python3.10/site-packages/keras/src/layers/preprocessing/tf_data_layer.py:18: UserWarning: Do not pass an `input_shape`/`input_dim` argument to a layer. When using Sequential models, prefer using an `Input(shape)` object as the first layer in the model instead.\n",
      "  super().__init__(**kwargs)\n"
     ]
    },
    {
     "data": {
      "text/html": [
       "<pre style=\"white-space:pre;overflow-x:auto;line-height:normal;font-family:Menlo,'DejaVu Sans Mono',consolas,'Courier New',monospace\"><span style=\"font-weight: bold\">Model: \"sequential\"</span>\n",
       "</pre>\n"
      ],
      "text/plain": [
       "\u001b[1mModel: \"sequential\"\u001b[0m\n"
      ]
     },
     "metadata": {},
     "output_type": "display_data"
    },
    {
     "data": {
      "text/html": [
       "<pre style=\"white-space:pre;overflow-x:auto;line-height:normal;font-family:Menlo,'DejaVu Sans Mono',consolas,'Courier New',monospace\">┏━━━━━━━━━━━━━━━━━━━━━━━━━━━━━━━━━┳━━━━━━━━━━━━━━━━━━━━━━━━┳━━━━━━━━━━━━━━━┓\n",
       "┃<span style=\"font-weight: bold\"> Layer (type)                    </span>┃<span style=\"font-weight: bold\"> Output Shape           </span>┃<span style=\"font-weight: bold\">       Param # </span>┃\n",
       "┡━━━━━━━━━━━━━━━━━━━━━━━━━━━━━━━━━╇━━━━━━━━━━━━━━━━━━━━━━━━╇━━━━━━━━━━━━━━━┩\n",
       "│ rescaling (<span style=\"color: #0087ff; text-decoration-color: #0087ff\">Rescaling</span>)           │ (<span style=\"color: #00d7ff; text-decoration-color: #00d7ff\">None</span>, <span style=\"color: #00af00; text-decoration-color: #00af00\">128</span>, <span style=\"color: #00af00; text-decoration-color: #00af00\">128</span>, <span style=\"color: #00af00; text-decoration-color: #00af00\">3</span>)    │             <span style=\"color: #00af00; text-decoration-color: #00af00\">0</span> │\n",
       "├─────────────────────────────────┼────────────────────────┼───────────────┤\n",
       "│ conv2d (<span style=\"color: #0087ff; text-decoration-color: #0087ff\">Conv2D</span>)                 │ (<span style=\"color: #00d7ff; text-decoration-color: #00d7ff\">None</span>, <span style=\"color: #00af00; text-decoration-color: #00af00\">128</span>, <span style=\"color: #00af00; text-decoration-color: #00af00\">128</span>, <span style=\"color: #00af00; text-decoration-color: #00af00\">16</span>)   │           <span style=\"color: #00af00; text-decoration-color: #00af00\">448</span> │\n",
       "├─────────────────────────────────┼────────────────────────┼───────────────┤\n",
       "│ max_pooling2d (<span style=\"color: #0087ff; text-decoration-color: #0087ff\">MaxPooling2D</span>)    │ (<span style=\"color: #00d7ff; text-decoration-color: #00d7ff\">None</span>, <span style=\"color: #00af00; text-decoration-color: #00af00\">64</span>, <span style=\"color: #00af00; text-decoration-color: #00af00\">64</span>, <span style=\"color: #00af00; text-decoration-color: #00af00\">16</span>)     │             <span style=\"color: #00af00; text-decoration-color: #00af00\">0</span> │\n",
       "├─────────────────────────────────┼────────────────────────┼───────────────┤\n",
       "│ conv2d_1 (<span style=\"color: #0087ff; text-decoration-color: #0087ff\">Conv2D</span>)               │ (<span style=\"color: #00d7ff; text-decoration-color: #00d7ff\">None</span>, <span style=\"color: #00af00; text-decoration-color: #00af00\">64</span>, <span style=\"color: #00af00; text-decoration-color: #00af00\">64</span>, <span style=\"color: #00af00; text-decoration-color: #00af00\">32</span>)     │         <span style=\"color: #00af00; text-decoration-color: #00af00\">4,640</span> │\n",
       "├─────────────────────────────────┼────────────────────────┼───────────────┤\n",
       "│ max_pooling2d_1 (<span style=\"color: #0087ff; text-decoration-color: #0087ff\">MaxPooling2D</span>)  │ (<span style=\"color: #00d7ff; text-decoration-color: #00d7ff\">None</span>, <span style=\"color: #00af00; text-decoration-color: #00af00\">32</span>, <span style=\"color: #00af00; text-decoration-color: #00af00\">32</span>, <span style=\"color: #00af00; text-decoration-color: #00af00\">32</span>)     │             <span style=\"color: #00af00; text-decoration-color: #00af00\">0</span> │\n",
       "├─────────────────────────────────┼────────────────────────┼───────────────┤\n",
       "│ conv2d_2 (<span style=\"color: #0087ff; text-decoration-color: #0087ff\">Conv2D</span>)               │ (<span style=\"color: #00d7ff; text-decoration-color: #00d7ff\">None</span>, <span style=\"color: #00af00; text-decoration-color: #00af00\">32</span>, <span style=\"color: #00af00; text-decoration-color: #00af00\">32</span>, <span style=\"color: #00af00; text-decoration-color: #00af00\">64</span>)     │        <span style=\"color: #00af00; text-decoration-color: #00af00\">18,496</span> │\n",
       "├─────────────────────────────────┼────────────────────────┼───────────────┤\n",
       "│ max_pooling2d_2 (<span style=\"color: #0087ff; text-decoration-color: #0087ff\">MaxPooling2D</span>)  │ (<span style=\"color: #00d7ff; text-decoration-color: #00d7ff\">None</span>, <span style=\"color: #00af00; text-decoration-color: #00af00\">16</span>, <span style=\"color: #00af00; text-decoration-color: #00af00\">16</span>, <span style=\"color: #00af00; text-decoration-color: #00af00\">64</span>)     │             <span style=\"color: #00af00; text-decoration-color: #00af00\">0</span> │\n",
       "├─────────────────────────────────┼────────────────────────┼───────────────┤\n",
       "│ flatten (<span style=\"color: #0087ff; text-decoration-color: #0087ff\">Flatten</span>)               │ (<span style=\"color: #00d7ff; text-decoration-color: #00d7ff\">None</span>, <span style=\"color: #00af00; text-decoration-color: #00af00\">16384</span>)          │             <span style=\"color: #00af00; text-decoration-color: #00af00\">0</span> │\n",
       "├─────────────────────────────────┼────────────────────────┼───────────────┤\n",
       "│ dense (<span style=\"color: #0087ff; text-decoration-color: #0087ff\">Dense</span>)                   │ (<span style=\"color: #00d7ff; text-decoration-color: #00d7ff\">None</span>, <span style=\"color: #00af00; text-decoration-color: #00af00\">128</span>)            │     <span style=\"color: #00af00; text-decoration-color: #00af00\">2,097,280</span> │\n",
       "├─────────────────────────────────┼────────────────────────┼───────────────┤\n",
       "│ dense_1 (<span style=\"color: #0087ff; text-decoration-color: #0087ff\">Dense</span>)                 │ (<span style=\"color: #00d7ff; text-decoration-color: #00d7ff\">None</span>, <span style=\"color: #00af00; text-decoration-color: #00af00\">38</span>)             │         <span style=\"color: #00af00; text-decoration-color: #00af00\">4,902</span> │\n",
       "└─────────────────────────────────┴────────────────────────┴───────────────┘\n",
       "</pre>\n"
      ],
      "text/plain": [
       "┏━━━━━━━━━━━━━━━━━━━━━━━━━━━━━━━━━┳━━━━━━━━━━━━━━━━━━━━━━━━┳━━━━━━━━━━━━━━━┓\n",
       "┃\u001b[1m \u001b[0m\u001b[1mLayer (type)                   \u001b[0m\u001b[1m \u001b[0m┃\u001b[1m \u001b[0m\u001b[1mOutput Shape          \u001b[0m\u001b[1m \u001b[0m┃\u001b[1m \u001b[0m\u001b[1m      Param #\u001b[0m\u001b[1m \u001b[0m┃\n",
       "┡━━━━━━━━━━━━━━━━━━━━━━━━━━━━━━━━━╇━━━━━━━━━━━━━━━━━━━━━━━━╇━━━━━━━━━━━━━━━┩\n",
       "│ rescaling (\u001b[38;5;33mRescaling\u001b[0m)           │ (\u001b[38;5;45mNone\u001b[0m, \u001b[38;5;34m128\u001b[0m, \u001b[38;5;34m128\u001b[0m, \u001b[38;5;34m3\u001b[0m)    │             \u001b[38;5;34m0\u001b[0m │\n",
       "├─────────────────────────────────┼────────────────────────┼───────────────┤\n",
       "│ conv2d (\u001b[38;5;33mConv2D\u001b[0m)                 │ (\u001b[38;5;45mNone\u001b[0m, \u001b[38;5;34m128\u001b[0m, \u001b[38;5;34m128\u001b[0m, \u001b[38;5;34m16\u001b[0m)   │           \u001b[38;5;34m448\u001b[0m │\n",
       "├─────────────────────────────────┼────────────────────────┼───────────────┤\n",
       "│ max_pooling2d (\u001b[38;5;33mMaxPooling2D\u001b[0m)    │ (\u001b[38;5;45mNone\u001b[0m, \u001b[38;5;34m64\u001b[0m, \u001b[38;5;34m64\u001b[0m, \u001b[38;5;34m16\u001b[0m)     │             \u001b[38;5;34m0\u001b[0m │\n",
       "├─────────────────────────────────┼────────────────────────┼───────────────┤\n",
       "│ conv2d_1 (\u001b[38;5;33mConv2D\u001b[0m)               │ (\u001b[38;5;45mNone\u001b[0m, \u001b[38;5;34m64\u001b[0m, \u001b[38;5;34m64\u001b[0m, \u001b[38;5;34m32\u001b[0m)     │         \u001b[38;5;34m4,640\u001b[0m │\n",
       "├─────────────────────────────────┼────────────────────────┼───────────────┤\n",
       "│ max_pooling2d_1 (\u001b[38;5;33mMaxPooling2D\u001b[0m)  │ (\u001b[38;5;45mNone\u001b[0m, \u001b[38;5;34m32\u001b[0m, \u001b[38;5;34m32\u001b[0m, \u001b[38;5;34m32\u001b[0m)     │             \u001b[38;5;34m0\u001b[0m │\n",
       "├─────────────────────────────────┼────────────────────────┼───────────────┤\n",
       "│ conv2d_2 (\u001b[38;5;33mConv2D\u001b[0m)               │ (\u001b[38;5;45mNone\u001b[0m, \u001b[38;5;34m32\u001b[0m, \u001b[38;5;34m32\u001b[0m, \u001b[38;5;34m64\u001b[0m)     │        \u001b[38;5;34m18,496\u001b[0m │\n",
       "├─────────────────────────────────┼────────────────────────┼───────────────┤\n",
       "│ max_pooling2d_2 (\u001b[38;5;33mMaxPooling2D\u001b[0m)  │ (\u001b[38;5;45mNone\u001b[0m, \u001b[38;5;34m16\u001b[0m, \u001b[38;5;34m16\u001b[0m, \u001b[38;5;34m64\u001b[0m)     │             \u001b[38;5;34m0\u001b[0m │\n",
       "├─────────────────────────────────┼────────────────────────┼───────────────┤\n",
       "│ flatten (\u001b[38;5;33mFlatten\u001b[0m)               │ (\u001b[38;5;45mNone\u001b[0m, \u001b[38;5;34m16384\u001b[0m)          │             \u001b[38;5;34m0\u001b[0m │\n",
       "├─────────────────────────────────┼────────────────────────┼───────────────┤\n",
       "│ dense (\u001b[38;5;33mDense\u001b[0m)                   │ (\u001b[38;5;45mNone\u001b[0m, \u001b[38;5;34m128\u001b[0m)            │     \u001b[38;5;34m2,097,280\u001b[0m │\n",
       "├─────────────────────────────────┼────────────────────────┼───────────────┤\n",
       "│ dense_1 (\u001b[38;5;33mDense\u001b[0m)                 │ (\u001b[38;5;45mNone\u001b[0m, \u001b[38;5;34m38\u001b[0m)             │         \u001b[38;5;34m4,902\u001b[0m │\n",
       "└─────────────────────────────────┴────────────────────────┴───────────────┘\n"
      ]
     },
     "metadata": {},
     "output_type": "display_data"
    },
    {
     "data": {
      "text/html": [
       "<pre style=\"white-space:pre;overflow-x:auto;line-height:normal;font-family:Menlo,'DejaVu Sans Mono',consolas,'Courier New',monospace\"><span style=\"font-weight: bold\"> Total params: </span><span style=\"color: #00af00; text-decoration-color: #00af00\">2,125,766</span> (8.11 MB)\n",
       "</pre>\n"
      ],
      "text/plain": [
       "\u001b[1m Total params: \u001b[0m\u001b[38;5;34m2,125,766\u001b[0m (8.11 MB)\n"
      ]
     },
     "metadata": {},
     "output_type": "display_data"
    },
    {
     "data": {
      "text/html": [
       "<pre style=\"white-space:pre;overflow-x:auto;line-height:normal;font-family:Menlo,'DejaVu Sans Mono',consolas,'Courier New',monospace\"><span style=\"font-weight: bold\"> Trainable params: </span><span style=\"color: #00af00; text-decoration-color: #00af00\">2,125,766</span> (8.11 MB)\n",
       "</pre>\n"
      ],
      "text/plain": [
       "\u001b[1m Trainable params: \u001b[0m\u001b[38;5;34m2,125,766\u001b[0m (8.11 MB)\n"
      ]
     },
     "metadata": {},
     "output_type": "display_data"
    },
    {
     "data": {
      "text/html": [
       "<pre style=\"white-space:pre;overflow-x:auto;line-height:normal;font-family:Menlo,'DejaVu Sans Mono',consolas,'Courier New',monospace\"><span style=\"font-weight: bold\"> Non-trainable params: </span><span style=\"color: #00af00; text-decoration-color: #00af00\">0</span> (0.00 B)\n",
       "</pre>\n"
      ],
      "text/plain": [
       "\u001b[1m Non-trainable params: \u001b[0m\u001b[38;5;34m0\u001b[0m (0.00 B)\n"
      ]
     },
     "metadata": {},
     "output_type": "display_data"
    }
   ],
   "source": [
    "disease_clf = models.Sequential(\n",
    "    [\n",
    "        layers.Rescaling(1.0 / 255, input_shape=(image_size, image_size, 3)),\n",
    "        layers.Conv2D(16, 3, padding=\"same\", activation=\"relu\"),\n",
    "        layers.MaxPooling2D(),\n",
    "        layers.Conv2D(32, 3, padding=\"same\", activation=\"relu\"),\n",
    "        layers.MaxPooling2D(),\n",
    "        layers.Conv2D(64, 3, padding=\"same\", activation=\"relu\"),\n",
    "        layers.MaxPooling2D(),\n",
    "        layers.Flatten(),\n",
    "        layers.Dense(128, activation=\"relu\"),\n",
    "        layers.Dense(38, activation=\"softmax\")\n",
    "    ]\n",
    ")\n",
    "\n",
    "# disease_clf.compile(\n",
    "#     optimizer=optimizer, loss=\"sparse_categorical_crossentropy\", metrics=[\"accuracy\"]\n",
    "# )\n",
    "\n",
    "disease_clf.compile(optimizer='adam',\n",
    "              loss=tf.keras.losses.SparseCategoricalCrossentropy(from_logits=True),\n",
    "              metrics=['accuracy'])\n",
    "\n",
    "\n",
    "disease_clf.summary()"
   ]
  },
  {
   "cell_type": "code",
   "execution_count": 9,
   "id": "16141439",
   "metadata": {
    "execution": {
     "iopub.execute_input": "2024-06-09T18:41:39.381747Z",
     "iopub.status.busy": "2024-06-09T18:41:39.381454Z",
     "iopub.status.idle": "2024-06-09T18:48:32.393395Z",
     "shell.execute_reply": "2024-06-09T18:48:32.392122Z"
    },
    "papermill": {
     "duration": 413.022106,
     "end_time": "2024-06-09T18:48:32.395959",
     "exception": false,
     "start_time": "2024-06-09T18:41:39.373853",
     "status": "completed"
    },
    "tags": []
   },
   "outputs": [
    {
     "name": "stdout",
     "output_type": "stream",
     "text": [
      "Epoch 1/40\n"
     ]
    },
    {
     "name": "stderr",
     "output_type": "stream",
     "text": [
      "/opt/conda/lib/python3.10/site-packages/keras/src/backend/tensorflow/nn.py:602: UserWarning: \"`sparse_categorical_crossentropy` received `from_logits=True`, but the `output` argument was produced by a Softmax activation and thus does not represent logits. Was this intended?\n",
      "  output, from_logits = _get_logits(\n",
      "2024-06-09 18:42:17.228100: E external/local_xla/xla/service/gpu/buffer_comparator.cc:1137] Difference at 0: 4.3048, expected 3.51669\n",
      "2024-06-09 18:42:17.228168: E external/local_xla/xla/service/gpu/buffer_comparator.cc:1137] Difference at 1: 6.67675, expected 5.88864\n",
      "2024-06-09 18:42:17.228177: E external/local_xla/xla/service/gpu/buffer_comparator.cc:1137] Difference at 3: 6.43804, expected 5.64992\n",
      "2024-06-09 18:42:17.228185: E external/local_xla/xla/service/gpu/buffer_comparator.cc:1137] Difference at 4: 5.28496, expected 4.49684\n",
      "2024-06-09 18:42:17.228193: E external/local_xla/xla/service/gpu/buffer_comparator.cc:1137] Difference at 5: 5.70669, expected 4.91857\n",
      "2024-06-09 18:42:17.228201: E external/local_xla/xla/service/gpu/buffer_comparator.cc:1137] Difference at 6: 5.97291, expected 5.18479\n",
      "2024-06-09 18:42:17.228208: E external/local_xla/xla/service/gpu/buffer_comparator.cc:1137] Difference at 7: 5.48224, expected 4.69413\n",
      "2024-06-09 18:42:17.228216: E external/local_xla/xla/service/gpu/buffer_comparator.cc:1137] Difference at 8: 4.47406, expected 3.68594\n",
      "2024-06-09 18:42:17.228223: E external/local_xla/xla/service/gpu/buffer_comparator.cc:1137] Difference at 9: 4.83755, expected 4.04944\n",
      "2024-06-09 18:42:17.228231: E external/local_xla/xla/service/gpu/buffer_comparator.cc:1137] Difference at 10: 5.74448, expected 4.95637\n",
      "2024-06-09 18:42:17.232052: E external/local_xla/xla/service/gpu/conv_algorithm_picker.cc:705] Results mismatch between different convolution algorithms. This is likely a bug/unexpected loss of precision in cudnn.\n",
      "(f32[32,16,128,128]{3,2,1,0}, u8[0]{0}) custom-call(f32[32,3,128,128]{3,2,1,0}, f32[16,3,3,3]{3,2,1,0}, f32[16]{0}), window={size=3x3 pad=1_1x1_1}, dim_labels=bf01_oi01->bf01, custom_call_target=\"__cudnn$convBiasActivationForward\", backend_config={\"conv_result_scale\":1,\"activation_mode\":\"kRelu\",\"side_input_scale\":0,\"leakyrelu_alpha\":0} for eng20{k2=2,k4=1,k5=1,k6=0,k7=0} vs eng15{k5=1,k6=0,k7=1,k10=1}\n",
      "2024-06-09 18:42:17.232105: E external/local_xla/xla/service/gpu/conv_algorithm_picker.cc:270] Device: Tesla P100-PCIE-16GB\n",
      "2024-06-09 18:42:17.232114: E external/local_xla/xla/service/gpu/conv_algorithm_picker.cc:271] Platform: Compute Capability 6.0\n",
      "2024-06-09 18:42:17.232121: E external/local_xla/xla/service/gpu/conv_algorithm_picker.cc:272] Driver: 12020 (535.129.3)\n",
      "2024-06-09 18:42:17.232128: E external/local_xla/xla/service/gpu/conv_algorithm_picker.cc:273] Runtime: <undefined>\n",
      "2024-06-09 18:42:17.232145: E external/local_xla/xla/service/gpu/conv_algorithm_picker.cc:280] cudnn version: 8.9.0\n",
      "2024-06-09 18:42:17.470816: E external/local_xla/xla/service/gpu/buffer_comparator.cc:1137] Difference at 0: 4.3048, expected 3.51669\n",
      "2024-06-09 18:42:17.470867: E external/local_xla/xla/service/gpu/buffer_comparator.cc:1137] Difference at 1: 6.67675, expected 5.88864\n",
      "2024-06-09 18:42:17.470876: E external/local_xla/xla/service/gpu/buffer_comparator.cc:1137] Difference at 3: 6.43804, expected 5.64992\n",
      "2024-06-09 18:42:17.470884: E external/local_xla/xla/service/gpu/buffer_comparator.cc:1137] Difference at 4: 5.28496, expected 4.49684\n",
      "2024-06-09 18:42:17.470892: E external/local_xla/xla/service/gpu/buffer_comparator.cc:1137] Difference at 5: 5.70669, expected 4.91857\n",
      "2024-06-09 18:42:17.470899: E external/local_xla/xla/service/gpu/buffer_comparator.cc:1137] Difference at 6: 5.97291, expected 5.18479\n",
      "2024-06-09 18:42:17.470907: E external/local_xla/xla/service/gpu/buffer_comparator.cc:1137] Difference at 7: 5.48224, expected 4.69413\n",
      "2024-06-09 18:42:17.470915: E external/local_xla/xla/service/gpu/buffer_comparator.cc:1137] Difference at 8: 4.47406, expected 3.68594\n",
      "2024-06-09 18:42:17.470922: E external/local_xla/xla/service/gpu/buffer_comparator.cc:1137] Difference at 9: 4.83755, expected 4.04944\n",
      "2024-06-09 18:42:17.470930: E external/local_xla/xla/service/gpu/buffer_comparator.cc:1137] Difference at 10: 5.74448, expected 4.95637\n",
      "2024-06-09 18:42:17.474461: E external/local_xla/xla/service/gpu/conv_algorithm_picker.cc:705] Results mismatch between different convolution algorithms. This is likely a bug/unexpected loss of precision in cudnn.\n",
      "(f32[32,16,128,128]{3,2,1,0}, u8[0]{0}) custom-call(f32[32,3,128,128]{3,2,1,0}, f32[16,3,3,3]{3,2,1,0}, f32[16]{0}), window={size=3x3 pad=1_1x1_1}, dim_labels=bf01_oi01->bf01, custom_call_target=\"__cudnn$convBiasActivationForward\", backend_config={\"conv_result_scale\":1,\"activation_mode\":\"kRelu\",\"side_input_scale\":0,\"leakyrelu_alpha\":0} for eng20{k2=2,k4=1,k5=1,k6=0,k7=0} vs eng15{k5=1,k6=0,k7=1,k10=1}\n",
      "2024-06-09 18:42:17.474493: E external/local_xla/xla/service/gpu/conv_algorithm_picker.cc:270] Device: Tesla P100-PCIE-16GB\n",
      "2024-06-09 18:42:17.474501: E external/local_xla/xla/service/gpu/conv_algorithm_picker.cc:271] Platform: Compute Capability 6.0\n",
      "2024-06-09 18:42:17.474508: E external/local_xla/xla/service/gpu/conv_algorithm_picker.cc:272] Driver: 12020 (535.129.3)\n",
      "2024-06-09 18:42:17.474515: E external/local_xla/xla/service/gpu/conv_algorithm_picker.cc:273] Runtime: <undefined>\n",
      "2024-06-09 18:42:17.474531: E external/local_xla/xla/service/gpu/conv_algorithm_picker.cc:280] cudnn version: 8.9.0\n"
     ]
    },
    {
     "name": "stdout",
     "output_type": "stream",
     "text": [
      "\u001b[1m  10/1443\u001b[0m \u001b[37m━━━━━━━━━━━━━━━━━━━━\u001b[0m \u001b[1m22s\u001b[0m 15ms/step - accuracy: 0.0710 - loss: 3.5925"
     ]
    },
    {
     "name": "stderr",
     "output_type": "stream",
     "text": [
      "WARNING: All log messages before absl::InitializeLog() is called are written to STDERR\n",
      "I0000 00:00:1717958539.763148      75 device_compiler.h:186] Compiled cluster using XLA!  This line is logged at most once for the lifetime of the process.\n"
     ]
    },
    {
     "name": "stdout",
     "output_type": "stream",
     "text": [
      "\u001b[1m 671/1443\u001b[0m \u001b[32m━━━━━━━━━\u001b[0m\u001b[37m━━━━━━━━━━━\u001b[0m \u001b[1m22s\u001b[0m 29ms/step - accuracy: 0.4456 - loss: 2.0631"
     ]
    },
    {
     "name": "stderr",
     "output_type": "stream",
     "text": [
      "2024-06-09 18:42:39.256792: E external/local_xla/xla/service/gpu/buffer_comparator.cc:1137] Difference at 81920: 2.91506, expected 2.52278\n",
      "2024-06-09 18:42:39.256873: E external/local_xla/xla/service/gpu/buffer_comparator.cc:1137] Difference at 84095: 2.83871, expected 2.44643\n",
      "2024-06-09 18:42:39.256917: E external/local_xla/xla/service/gpu/buffer_comparator.cc:1137] Difference at 87884: 2.9042, expected 2.51192\n",
      "2024-06-09 18:42:39.256950: E external/local_xla/xla/service/gpu/buffer_comparator.cc:1137] Difference at 90752: 2.68398, expected 2.29171\n",
      "2024-06-09 18:42:39.256966: E external/local_xla/xla/service/gpu/buffer_comparator.cc:1137] Difference at 91392: 2.38486, expected 1.99259\n",
      "2024-06-09 18:42:39.256977: E external/local_xla/xla/service/gpu/buffer_comparator.cc:1137] Difference at 91520: 2.17922, expected 1.78694\n",
      "2024-06-09 18:42:39.257003: E external/local_xla/xla/service/gpu/buffer_comparator.cc:1137] Difference at 93952: 2.7647, expected 2.37243\n",
      "2024-06-09 18:42:39.257017: E external/local_xla/xla/service/gpu/buffer_comparator.cc:1137] Difference at 94080: 2.34065, expected 1.94837\n",
      "2024-06-09 18:42:39.257030: E external/local_xla/xla/service/gpu/buffer_comparator.cc:1137] Difference at 94208: 2.36727, expected 1.97499\n",
      "2024-06-09 18:42:39.257043: E external/local_xla/xla/service/gpu/buffer_comparator.cc:1137] Difference at 94336: 2.59876, expected 2.20649\n",
      "2024-06-09 18:42:39.258966: E external/local_xla/xla/service/gpu/conv_algorithm_picker.cc:705] Results mismatch between different convolution algorithms. This is likely a bug/unexpected loss of precision in cudnn.\n",
      "(f32[16,16,128,128]{3,2,1,0}, u8[0]{0}) custom-call(f32[16,3,128,128]{3,2,1,0}, f32[16,3,3,3]{3,2,1,0}, f32[16]{0}), window={size=3x3 pad=1_1x1_1}, dim_labels=bf01_oi01->bf01, custom_call_target=\"__cudnn$convBiasActivationForward\", backend_config={\"conv_result_scale\":1,\"activation_mode\":\"kRelu\",\"side_input_scale\":0,\"leakyrelu_alpha\":0} for eng20{k2=2,k4=1,k5=1,k6=0,k7=0} vs eng15{k5=1,k6=0,k7=1,k10=1}\n",
      "2024-06-09 18:42:39.258997: E external/local_xla/xla/service/gpu/conv_algorithm_picker.cc:270] Device: Tesla P100-PCIE-16GB\n",
      "2024-06-09 18:42:39.259013: E external/local_xla/xla/service/gpu/conv_algorithm_picker.cc:271] Platform: Compute Capability 6.0\n",
      "2024-06-09 18:42:39.259025: E external/local_xla/xla/service/gpu/conv_algorithm_picker.cc:272] Driver: 12020 (535.129.3)\n",
      "2024-06-09 18:42:39.259036: E external/local_xla/xla/service/gpu/conv_algorithm_picker.cc:273] Runtime: <undefined>\n",
      "2024-06-09 18:42:39.259053: E external/local_xla/xla/service/gpu/conv_algorithm_picker.cc:280] cudnn version: 8.9.0\n",
      "2024-06-09 18:42:39.336112: E external/local_xla/xla/service/gpu/buffer_comparator.cc:1137] Difference at 81920: 2.91506, expected 2.52278\n",
      "2024-06-09 18:42:39.336227: E external/local_xla/xla/service/gpu/buffer_comparator.cc:1137] Difference at 84095: 2.83871, expected 2.44643\n",
      "2024-06-09 18:42:39.336275: E external/local_xla/xla/service/gpu/buffer_comparator.cc:1137] Difference at 87884: 2.9042, expected 2.51192\n",
      "2024-06-09 18:42:39.336309: E external/local_xla/xla/service/gpu/buffer_comparator.cc:1137] Difference at 90752: 2.68398, expected 2.29171\n",
      "2024-06-09 18:42:39.336329: E external/local_xla/xla/service/gpu/buffer_comparator.cc:1137] Difference at 91392: 2.38486, expected 1.99259\n",
      "2024-06-09 18:42:39.336349: E external/local_xla/xla/service/gpu/buffer_comparator.cc:1137] Difference at 91520: 2.17922, expected 1.78694\n",
      "2024-06-09 18:42:39.336387: E external/local_xla/xla/service/gpu/buffer_comparator.cc:1137] Difference at 93952: 2.7647, expected 2.37243\n",
      "2024-06-09 18:42:39.336405: E external/local_xla/xla/service/gpu/buffer_comparator.cc:1137] Difference at 94080: 2.34065, expected 1.94837\n",
      "2024-06-09 18:42:39.336424: E external/local_xla/xla/service/gpu/buffer_comparator.cc:1137] Difference at 94208: 2.36727, expected 1.97499\n",
      "2024-06-09 18:42:39.336439: E external/local_xla/xla/service/gpu/buffer_comparator.cc:1137] Difference at 94336: 2.59876, expected 2.20649\n",
      "2024-06-09 18:42:39.336473: E external/local_xla/xla/service/gpu/conv_algorithm_picker.cc:705] Results mismatch between different convolution algorithms. This is likely a bug/unexpected loss of precision in cudnn.\n",
      "(f32[16,16,128,128]{3,2,1,0}, u8[0]{0}) custom-call(f32[16,3,128,128]{3,2,1,0}, f32[16,3,3,3]{3,2,1,0}, f32[16]{0}), window={size=3x3 pad=1_1x1_1}, dim_labels=bf01_oi01->bf01, custom_call_target=\"__cudnn$convBiasActivationForward\", backend_config={\"conv_result_scale\":1,\"activation_mode\":\"kRelu\",\"side_input_scale\":0,\"leakyrelu_alpha\":0} for eng20{k2=2,k4=1,k5=1,k6=0,k7=0} vs eng15{k5=1,k6=0,k7=1,k10=1}\n",
      "2024-06-09 18:42:39.336488: E external/local_xla/xla/service/gpu/conv_algorithm_picker.cc:270] Device: Tesla P100-PCIE-16GB\n",
      "2024-06-09 18:42:39.336497: E external/local_xla/xla/service/gpu/conv_algorithm_picker.cc:271] Platform: Compute Capability 6.0\n",
      "2024-06-09 18:42:39.336510: E external/local_xla/xla/service/gpu/conv_algorithm_picker.cc:272] Driver: 12020 (535.129.3)\n",
      "2024-06-09 18:42:39.336520: E external/local_xla/xla/service/gpu/conv_algorithm_picker.cc:273] Runtime: <undefined>\n",
      "2024-06-09 18:42:39.336540: E external/local_xla/xla/service/gpu/conv_algorithm_picker.cc:280] cudnn version: 8.9.0\n"
     ]
    },
    {
     "name": "stdout",
     "output_type": "stream",
     "text": [
      "\u001b[1m1436/1443\u001b[0m \u001b[32m━━━━━━━━━━━━━━━━━━━\u001b[0m\u001b[37m━\u001b[0m \u001b[1m0s\u001b[0m 19ms/step - accuracy: 0.5499 - loss: 1.6408"
     ]
    },
    {
     "name": "stderr",
     "output_type": "stream",
     "text": [
      "2024-06-09 18:42:56.523583: E external/local_xla/xla/service/gpu/buffer_comparator.cc:1137] Difference at 44: 2.66688, expected 2.28455\n",
      "2024-06-09 18:42:56.523739: E external/local_xla/xla/service/gpu/buffer_comparator.cc:1137] Difference at 16323: 2.37479, expected 1.99245\n",
      "2024-06-09 18:42:56.523751: E external/local_xla/xla/service/gpu/buffer_comparator.cc:1137] Difference at 16383: 2.7497, expected 2.36736\n",
      "2024-06-09 18:42:56.523844: E external/local_xla/xla/service/gpu/buffer_comparator.cc:1137] Difference at 32768: 3.99474, expected 3.23231\n",
      "2024-06-09 18:42:56.523855: E external/local_xla/xla/service/gpu/buffer_comparator.cc:1137] Difference at 32769: 6.60108, expected 5.83866\n",
      "2024-06-09 18:42:56.523868: E external/local_xla/xla/service/gpu/buffer_comparator.cc:1137] Difference at 32770: 5.91769, expected 5.15527\n",
      "2024-06-09 18:42:56.523887: E external/local_xla/xla/service/gpu/buffer_comparator.cc:1137] Difference at 32771: 5.70216, expected 4.93974\n",
      "2024-06-09 18:42:56.523900: E external/local_xla/xla/service/gpu/buffer_comparator.cc:1137] Difference at 32772: 4.9157, expected 4.15328\n",
      "2024-06-09 18:42:56.523910: E external/local_xla/xla/service/gpu/buffer_comparator.cc:1137] Difference at 32773: 4.32621, expected 3.56379\n",
      "2024-06-09 18:42:56.523920: E external/local_xla/xla/service/gpu/buffer_comparator.cc:1137] Difference at 32774: 4.58439, expected 3.82196\n",
      "2024-06-09 18:42:56.525920: E external/local_xla/xla/service/gpu/conv_algorithm_picker.cc:705] Results mismatch between different convolution algorithms. This is likely a bug/unexpected loss of precision in cudnn.\n",
      "(f32[17,16,128,128]{3,2,1,0}, u8[0]{0}) custom-call(f32[17,3,128,128]{3,2,1,0}, f32[16,3,3,3]{3,2,1,0}, f32[16]{0}), window={size=3x3 pad=1_1x1_1}, dim_labels=bf01_oi01->bf01, custom_call_target=\"__cudnn$convBiasActivationForward\", backend_config={\"conv_result_scale\":1,\"activation_mode\":\"kRelu\",\"side_input_scale\":0,\"leakyrelu_alpha\":0} for eng20{k2=2,k4=1,k5=1,k6=0,k7=0} vs eng15{k5=1,k6=0,k7=1,k10=1}\n",
      "2024-06-09 18:42:56.525949: E external/local_xla/xla/service/gpu/conv_algorithm_picker.cc:270] Device: Tesla P100-PCIE-16GB\n",
      "2024-06-09 18:42:56.525957: E external/local_xla/xla/service/gpu/conv_algorithm_picker.cc:271] Platform: Compute Capability 6.0\n",
      "2024-06-09 18:42:56.525964: E external/local_xla/xla/service/gpu/conv_algorithm_picker.cc:272] Driver: 12020 (535.129.3)\n",
      "2024-06-09 18:42:56.525971: E external/local_xla/xla/service/gpu/conv_algorithm_picker.cc:273] Runtime: <undefined>\n",
      "2024-06-09 18:42:56.525986: E external/local_xla/xla/service/gpu/conv_algorithm_picker.cc:280] cudnn version: 8.9.0\n",
      "2024-06-09 18:42:56.596585: E external/local_xla/xla/service/gpu/buffer_comparator.cc:1137] Difference at 44: 2.66688, expected 2.28455\n",
      "2024-06-09 18:42:56.596757: E external/local_xla/xla/service/gpu/buffer_comparator.cc:1137] Difference at 16323: 2.37479, expected 1.99245\n",
      "2024-06-09 18:42:56.596767: E external/local_xla/xla/service/gpu/buffer_comparator.cc:1137] Difference at 16383: 2.7497, expected 2.36736\n",
      "2024-06-09 18:42:56.596847: E external/local_xla/xla/service/gpu/buffer_comparator.cc:1137] Difference at 32768: 3.99474, expected 3.23231\n",
      "2024-06-09 18:42:56.596863: E external/local_xla/xla/service/gpu/buffer_comparator.cc:1137] Difference at 32769: 6.60108, expected 5.83866\n",
      "2024-06-09 18:42:56.596877: E external/local_xla/xla/service/gpu/buffer_comparator.cc:1137] Difference at 32770: 5.91769, expected 5.15527\n",
      "2024-06-09 18:42:56.596892: E external/local_xla/xla/service/gpu/buffer_comparator.cc:1137] Difference at 32771: 5.70216, expected 4.93974\n",
      "2024-06-09 18:42:56.596905: E external/local_xla/xla/service/gpu/buffer_comparator.cc:1137] Difference at 32772: 4.9157, expected 4.15328\n",
      "2024-06-09 18:42:56.596918: E external/local_xla/xla/service/gpu/buffer_comparator.cc:1137] Difference at 32773: 4.32621, expected 3.56379\n",
      "2024-06-09 18:42:56.596935: E external/local_xla/xla/service/gpu/buffer_comparator.cc:1137] Difference at 32774: 4.58439, expected 3.82196\n",
      "2024-06-09 18:42:56.596967: E external/local_xla/xla/service/gpu/conv_algorithm_picker.cc:705] Results mismatch between different convolution algorithms. This is likely a bug/unexpected loss of precision in cudnn.\n",
      "(f32[17,16,128,128]{3,2,1,0}, u8[0]{0}) custom-call(f32[17,3,128,128]{3,2,1,0}, f32[16,3,3,3]{3,2,1,0}, f32[16]{0}), window={size=3x3 pad=1_1x1_1}, dim_labels=bf01_oi01->bf01, custom_call_target=\"__cudnn$convBiasActivationForward\", backend_config={\"conv_result_scale\":1,\"activation_mode\":\"kRelu\",\"side_input_scale\":0,\"leakyrelu_alpha\":0} for eng20{k2=2,k4=1,k5=1,k6=0,k7=0} vs eng15{k5=1,k6=0,k7=1,k10=1}\n",
      "2024-06-09 18:42:56.596991: E external/local_xla/xla/service/gpu/conv_algorithm_picker.cc:270] Device: Tesla P100-PCIE-16GB\n",
      "2024-06-09 18:42:56.597003: E external/local_xla/xla/service/gpu/conv_algorithm_picker.cc:271] Platform: Compute Capability 6.0\n",
      "2024-06-09 18:42:56.597015: E external/local_xla/xla/service/gpu/conv_algorithm_picker.cc:272] Driver: 12020 (535.129.3)\n",
      "2024-06-09 18:42:56.597024: E external/local_xla/xla/service/gpu/conv_algorithm_picker.cc:273] Runtime: <undefined>\n",
      "2024-06-09 18:42:56.597046: E external/local_xla/xla/service/gpu/conv_algorithm_picker.cc:280] cudnn version: 8.9.0\n"
     ]
    },
    {
     "name": "stdout",
     "output_type": "stream",
     "text": [
      "\u001b[1m1443/1443\u001b[0m \u001b[32m━━━━━━━━━━━━━━━━━━━━\u001b[0m\u001b[37m\u001b[0m \u001b[1m78s\u001b[0m 26ms/step - accuracy: 0.5506 - loss: 1.6381 - val_accuracy: 0.7614 - val_loss: 0.8505\n",
      "Epoch 2/40\n",
      "\u001b[1m1443/1443\u001b[0m \u001b[32m━━━━━━━━━━━━━━━━━━━━\u001b[0m\u001b[37m\u001b[0m \u001b[1m8s\u001b[0m 6ms/step - accuracy: 0.7878 - loss: 0.7342 - val_accuracy: 0.8107 - val_loss: 0.7044\n",
      "Epoch 3/40\n",
      "\u001b[1m1443/1443\u001b[0m \u001b[32m━━━━━━━━━━━━━━━━━━━━\u001b[0m\u001b[37m\u001b[0m \u001b[1m9s\u001b[0m 6ms/step - accuracy: 0.8258 - loss: 0.6126 - val_accuracy: 0.7859 - val_loss: 0.8939\n",
      "Epoch 4/40\n",
      "\u001b[1m1443/1443\u001b[0m \u001b[32m━━━━━━━━━━━━━━━━━━━━\u001b[0m\u001b[37m\u001b[0m \u001b[1m8s\u001b[0m 6ms/step - accuracy: 0.8320 - loss: 0.6389 - val_accuracy: 0.7929 - val_loss: 0.8217\n",
      "Epoch 5/40\n",
      "\u001b[1m1443/1443\u001b[0m \u001b[32m━━━━━━━━━━━━━━━━━━━━\u001b[0m\u001b[37m\u001b[0m \u001b[1m9s\u001b[0m 6ms/step - accuracy: 0.8540 - loss: 0.5338 - val_accuracy: 0.7956 - val_loss: 1.0285\n",
      "Epoch 6/40\n",
      "\u001b[1m1443/1443\u001b[0m \u001b[32m━━━━━━━━━━━━━━━━━━━━\u001b[0m\u001b[37m\u001b[0m \u001b[1m9s\u001b[0m 6ms/step - accuracy: 0.8680 - loss: 0.5260 - val_accuracy: 0.7912 - val_loss: 0.8790\n",
      "Epoch 7/40\n",
      "\u001b[1m1443/1443\u001b[0m \u001b[32m━━━━━━━━━━━━━━━━━━━━\u001b[0m\u001b[37m\u001b[0m \u001b[1m9s\u001b[0m 6ms/step - accuracy: 0.8676 - loss: 0.5354 - val_accuracy: 0.8228 - val_loss: 1.1435\n",
      "Epoch 8/40\n",
      "\u001b[1m1443/1443\u001b[0m \u001b[32m━━━━━━━━━━━━━━━━━━━━\u001b[0m\u001b[37m\u001b[0m \u001b[1m8s\u001b[0m 6ms/step - accuracy: 0.8463 - loss: 0.6832 - val_accuracy: 0.8373 - val_loss: 0.9504\n",
      "Epoch 9/40\n",
      "\u001b[1m1443/1443\u001b[0m \u001b[32m━━━━━━━━━━━━━━━━━━━━\u001b[0m\u001b[37m\u001b[0m \u001b[1m9s\u001b[0m 6ms/step - accuracy: 0.8544 - loss: 0.6340 - val_accuracy: 0.8017 - val_loss: 1.5672\n",
      "Epoch 10/40\n",
      "\u001b[1m1443/1443\u001b[0m \u001b[32m━━━━━━━━━━━━━━━━━━━━\u001b[0m\u001b[37m\u001b[0m \u001b[1m9s\u001b[0m 6ms/step - accuracy: 0.8390 - loss: 0.7190 - val_accuracy: 0.8075 - val_loss: 1.0806\n",
      "Epoch 11/40\n",
      "\u001b[1m1443/1443\u001b[0m \u001b[32m━━━━━━━━━━━━━━━━━━━━\u001b[0m\u001b[37m\u001b[0m \u001b[1m8s\u001b[0m 6ms/step - accuracy: 0.8409 - loss: 0.7120 - val_accuracy: 0.8053 - val_loss: 1.3011\n",
      "Epoch 12/40\n",
      "\u001b[1m1443/1443\u001b[0m \u001b[32m━━━━━━━━━━━━━━━━━━━━\u001b[0m\u001b[37m\u001b[0m \u001b[1m8s\u001b[0m 6ms/step - accuracy: 0.8390 - loss: 0.7152 - val_accuracy: 0.7837 - val_loss: 0.9622\n",
      "Epoch 13/40\n",
      "\u001b[1m1443/1443\u001b[0m \u001b[32m━━━━━━━━━━━━━━━━━━━━\u001b[0m\u001b[37m\u001b[0m \u001b[1m8s\u001b[0m 6ms/step - accuracy: 0.8442 - loss: 0.6777 - val_accuracy: 0.8058 - val_loss: 1.0952\n",
      "Epoch 14/40\n",
      "\u001b[1m1443/1443\u001b[0m \u001b[32m━━━━━━━━━━━━━━━━━━━━\u001b[0m\u001b[37m\u001b[0m \u001b[1m9s\u001b[0m 6ms/step - accuracy: 0.8165 - loss: 0.7895 - val_accuracy: 0.8029 - val_loss: 1.2541\n",
      "Epoch 15/40\n",
      "\u001b[1m1443/1443\u001b[0m \u001b[32m━━━━━━━━━━━━━━━━━━━━\u001b[0m\u001b[37m\u001b[0m \u001b[1m9s\u001b[0m 6ms/step - accuracy: 0.8258 - loss: 0.8050 - val_accuracy: 0.7282 - val_loss: 1.5061\n",
      "Epoch 16/40\n",
      "\u001b[1m1443/1443\u001b[0m \u001b[32m━━━━━━━━━━━━━━━━━━━━\u001b[0m\u001b[37m\u001b[0m \u001b[1m8s\u001b[0m 6ms/step - accuracy: 0.7916 - loss: 0.9575 - val_accuracy: 0.8063 - val_loss: 1.0666\n",
      "Epoch 17/40\n",
      "\u001b[1m1443/1443\u001b[0m \u001b[32m━━━━━━━━━━━━━━━━━━━━\u001b[0m\u001b[37m\u001b[0m \u001b[1m9s\u001b[0m 6ms/step - accuracy: 0.8186 - loss: 0.8137 - val_accuracy: 0.7585 - val_loss: 1.4194\n",
      "Epoch 18/40\n",
      "\u001b[1m1443/1443\u001b[0m \u001b[32m━━━━━━━━━━━━━━━━━━━━\u001b[0m\u001b[37m\u001b[0m \u001b[1m8s\u001b[0m 6ms/step - accuracy: 0.8160 - loss: 0.8144 - val_accuracy: 0.8017 - val_loss: 1.5788\n",
      "Epoch 19/40\n",
      "\u001b[1m1443/1443\u001b[0m \u001b[32m━━━━━━━━━━━━━━━━━━━━\u001b[0m\u001b[37m\u001b[0m \u001b[1m8s\u001b[0m 6ms/step - accuracy: 0.7924 - loss: 0.9547 - val_accuracy: 0.7391 - val_loss: 2.0447\n",
      "Epoch 20/40\n",
      "\u001b[1m1443/1443\u001b[0m \u001b[32m━━━━━━━━━━━━━━━━━━━━\u001b[0m\u001b[37m\u001b[0m \u001b[1m8s\u001b[0m 6ms/step - accuracy: 0.7812 - loss: 0.9779 - val_accuracy: 0.7597 - val_loss: 1.2755\n",
      "Epoch 21/40\n",
      "\u001b[1m1443/1443\u001b[0m \u001b[32m━━━━━━━━━━━━━━━━━━━━\u001b[0m\u001b[37m\u001b[0m \u001b[1m8s\u001b[0m 6ms/step - accuracy: 0.7896 - loss: 0.9613 - val_accuracy: 0.7525 - val_loss: 1.5313\n",
      "Epoch 22/40\n",
      "\u001b[1m1443/1443\u001b[0m \u001b[32m━━━━━━━━━━━━━━━━━━━━\u001b[0m\u001b[37m\u001b[0m \u001b[1m8s\u001b[0m 6ms/step - accuracy: 0.7801 - loss: 0.9355 - val_accuracy: 0.7683 - val_loss: 1.4854\n",
      "Epoch 23/40\n",
      "\u001b[1m1443/1443\u001b[0m \u001b[32m━━━━━━━━━━━━━━━━━━━━\u001b[0m\u001b[37m\u001b[0m \u001b[1m10s\u001b[0m 6ms/step - accuracy: 0.7827 - loss: 0.9352 - val_accuracy: 0.7522 - val_loss: 2.0110\n",
      "Epoch 24/40\n",
      "\u001b[1m1443/1443\u001b[0m \u001b[32m━━━━━━━━━━━━━━━━━━━━\u001b[0m\u001b[37m\u001b[0m \u001b[1m8s\u001b[0m 6ms/step - accuracy: 0.7571 - loss: 1.0450 - val_accuracy: 0.6840 - val_loss: 1.5035\n",
      "Epoch 25/40\n",
      "\u001b[1m1443/1443\u001b[0m \u001b[32m━━━━━━━━━━━━━━━━━━━━\u001b[0m\u001b[37m\u001b[0m \u001b[1m10s\u001b[0m 6ms/step - accuracy: 0.7185 - loss: 1.2807 - val_accuracy: 0.6765 - val_loss: 1.4584\n",
      "Epoch 26/40\n",
      "\u001b[1m1443/1443\u001b[0m \u001b[32m━━━━━━━━━━━━━━━━━━━━\u001b[0m\u001b[37m\u001b[0m \u001b[1m8s\u001b[0m 6ms/step - accuracy: 0.7046 - loss: 1.2650 - val_accuracy: 0.6699 - val_loss: 1.7520\n",
      "Epoch 27/40\n",
      "\u001b[1m1443/1443\u001b[0m \u001b[32m━━━━━━━━━━━━━━━━━━━━\u001b[0m\u001b[37m\u001b[0m \u001b[1m8s\u001b[0m 6ms/step - accuracy: 0.7066 - loss: 1.2444 - val_accuracy: 0.6406 - val_loss: 2.2205\n",
      "Epoch 28/40\n",
      "\u001b[1m1443/1443\u001b[0m \u001b[32m━━━━━━━━━━━━━━━━━━━━\u001b[0m\u001b[37m\u001b[0m \u001b[1m8s\u001b[0m 6ms/step - accuracy: 0.6838 - loss: 1.3272 - val_accuracy: 0.6212 - val_loss: 2.0508\n",
      "Epoch 29/40\n",
      "\u001b[1m1443/1443\u001b[0m \u001b[32m━━━━━━━━━━━━━━━━━━━━\u001b[0m\u001b[37m\u001b[0m \u001b[1m8s\u001b[0m 6ms/step - accuracy: 0.6434 - loss: 1.4738 - val_accuracy: 0.5930 - val_loss: 2.2472\n",
      "Epoch 30/40\n",
      "\u001b[1m1443/1443\u001b[0m \u001b[32m━━━━━━━━━━━━━━━━━━━━\u001b[0m\u001b[37m\u001b[0m \u001b[1m8s\u001b[0m 6ms/step - accuracy: 0.6560 - loss: 1.3769 - val_accuracy: 0.6684 - val_loss: 2.4546\n",
      "Epoch 31/40\n",
      "\u001b[1m1443/1443\u001b[0m \u001b[32m━━━━━━━━━━━━━━━━━━━━\u001b[0m\u001b[37m\u001b[0m \u001b[1m8s\u001b[0m 6ms/step - accuracy: 0.6484 - loss: 1.6322 - val_accuracy: 0.5955 - val_loss: 2.0934\n",
      "Epoch 32/40\n",
      "\u001b[1m1443/1443\u001b[0m \u001b[32m━━━━━━━━━━━━━━━━━━━━\u001b[0m\u001b[37m\u001b[0m \u001b[1m9s\u001b[0m 6ms/step - accuracy: 0.6452 - loss: 1.4746 - val_accuracy: 0.5723 - val_loss: 2.7134\n",
      "Epoch 33/40\n",
      "\u001b[1m1443/1443\u001b[0m \u001b[32m━━━━━━━━━━━━━━━━━━━━\u001b[0m\u001b[37m\u001b[0m \u001b[1m8s\u001b[0m 6ms/step - accuracy: 0.6154 - loss: 1.6184 - val_accuracy: 0.5720 - val_loss: 2.3494\n",
      "Epoch 34/40\n",
      "\u001b[1m1443/1443\u001b[0m \u001b[32m━━━━━━━━━━━━━━━━━━━━\u001b[0m\u001b[37m\u001b[0m \u001b[1m9s\u001b[0m 6ms/step - accuracy: 0.5716 - loss: 1.8155 - val_accuracy: 0.5056 - val_loss: 2.4886\n",
      "Epoch 35/40\n",
      "\u001b[1m1443/1443\u001b[0m \u001b[32m━━━━━━━━━━━━━━━━━━━━\u001b[0m\u001b[37m\u001b[0m \u001b[1m9s\u001b[0m 6ms/step - accuracy: 0.4771 - loss: 2.2023 - val_accuracy: 0.5055 - val_loss: 2.4340\n",
      "Epoch 36/40\n",
      "\u001b[1m1443/1443\u001b[0m \u001b[32m━━━━━━━━━━━━━━━━━━━━\u001b[0m\u001b[37m\u001b[0m \u001b[1m8s\u001b[0m 6ms/step - accuracy: 0.5627 - loss: 1.7653 - val_accuracy: 0.6058 - val_loss: 3.3476\n",
      "Epoch 37/40\n",
      "\u001b[1m1443/1443\u001b[0m \u001b[32m━━━━━━━━━━━━━━━━━━━━\u001b[0m\u001b[37m\u001b[0m \u001b[1m8s\u001b[0m 6ms/step - accuracy: 0.5971 - loss: 1.6676 - val_accuracy: 0.5761 - val_loss: 3.8730\n",
      "Epoch 38/40\n",
      "\u001b[1m1443/1443\u001b[0m \u001b[32m━━━━━━━━━━━━━━━━━━━━\u001b[0m\u001b[37m\u001b[0m \u001b[1m9s\u001b[0m 6ms/step - accuracy: 0.5022 - loss: 2.2534 - val_accuracy: 0.5373 - val_loss: 2.8526\n",
      "Epoch 39/40\n",
      "\u001b[1m1443/1443\u001b[0m \u001b[32m━━━━━━━━━━━━━━━━━━━━\u001b[0m\u001b[37m\u001b[0m \u001b[1m9s\u001b[0m 6ms/step - accuracy: 0.5390 - loss: 1.9265 - val_accuracy: 0.5071 - val_loss: 3.3561\n",
      "Epoch 40/40\n",
      "\u001b[1m1443/1443\u001b[0m \u001b[32m━━━━━━━━━━━━━━━━━━━━\u001b[0m\u001b[37m\u001b[0m \u001b[1m8s\u001b[0m 6ms/step - accuracy: 0.5363 - loss: 1.8316 - val_accuracy: 0.5076 - val_loss: 3.0282\n",
      "CPU times: user 6min 13s, sys: 33.1 s, total: 6min 46s\n",
      "Wall time: 6min 53s\n"
     ]
    }
   ],
   "source": [
    "%%time\n",
    "\n",
    "history = disease_clf.fit(\n",
    "  train_data,\n",
    "  validation_data=val_data,\n",
    "  epochs=epochs\n",
    ")"
   ]
  },
  {
   "cell_type": "code",
   "execution_count": 10,
   "id": "31c100a1",
   "metadata": {
    "execution": {
     "iopub.execute_input": "2024-06-09T18:48:33.404262Z",
     "iopub.status.busy": "2024-06-09T18:48:33.403525Z",
     "iopub.status.idle": "2024-06-09T18:48:34.065523Z",
     "shell.execute_reply": "2024-06-09T18:48:34.064483Z"
    },
    "papermill": {
     "duration": 1.1667,
     "end_time": "2024-06-09T18:48:34.067544",
     "exception": false,
     "start_time": "2024-06-09T18:48:32.900844",
     "status": "completed"
    },
    "tags": []
   },
   "outputs": [
    {
     "name": "stdout",
     "output_type": "stream",
     "text": [
      "\u001b[1m255/255\u001b[0m \u001b[32m━━━━━━━━━━━━━━━━━━━━\u001b[0m\u001b[37m\u001b[0m \u001b[1m1s\u001b[0m 3ms/step - accuracy: 0.5042 - loss: 2.9549\n",
      "The trained plant leaf disease detection model has an accuracy of 50.76%\n"
     ]
    }
   ],
   "source": [
    "test_accuracy = disease_clf.evaluate(val_data, batch_size=batch_size)\n",
    "\n",
    "print(\n",
    "    f\"The trained plant leaf disease detection model has an accuracy of {100*test_accuracy[1]:.2f}%\"\n",
    ")"
   ]
  },
  {
   "cell_type": "code",
   "execution_count": 11,
   "id": "c83ebac1",
   "metadata": {
    "execution": {
     "iopub.execute_input": "2024-06-09T18:48:35.122496Z",
     "iopub.status.busy": "2024-06-09T18:48:35.121819Z",
     "iopub.status.idle": "2024-06-09T18:48:35.126815Z",
     "shell.execute_reply": "2024-06-09T18:48:35.125946Z"
    },
    "papermill": {
     "duration": 0.508636,
     "end_time": "2024-06-09T18:48:35.128786",
     "exception": false,
     "start_time": "2024-06-09T18:48:34.620150",
     "status": "completed"
    },
    "tags": []
   },
   "outputs": [],
   "source": [
    "acc = history.history[\"accuracy\"]\n",
    "val_acc = history.history[\"val_accuracy\"]\n",
    "\n",
    "loss = history.history[\"loss\"]\n",
    "val_loss = history.history[\"val_loss\"]\n",
    "\n",
    "epochs_range = range(epochs)"
   ]
  },
  {
   "cell_type": "code",
   "execution_count": 12,
   "id": "edc28a4b",
   "metadata": {
    "execution": {
     "iopub.execute_input": "2024-06-09T18:48:36.119162Z",
     "iopub.status.busy": "2024-06-09T18:48:36.118824Z",
     "iopub.status.idle": "2024-06-09T18:48:36.506895Z",
     "shell.execute_reply": "2024-06-09T18:48:36.505965Z"
    },
    "papermill": {
     "duration": 0.887075,
     "end_time": "2024-06-09T18:48:36.509255",
     "exception": false,
     "start_time": "2024-06-09T18:48:35.622180",
     "status": "completed"
    },
    "tags": []
   },
   "outputs": [
    {
     "data": {
      "text/plain": [
       "Text(0.5, 1.0, 'Training and Validation Accuracy')"
      ]
     },
     "execution_count": 12,
     "metadata": {},
     "output_type": "execute_result"
    },
    {
     "data": {
      "image/png": "[encoded data removed]",
      "text/plain": [
       "<Figure size 800x800 with 1 Axes>"
      ]
     },
     "metadata": {},
     "output_type": "display_data"
    }
   ],
   "source": [
    "plt.figure(figsize=(8, 8))\n",
    "plt.plot(epochs_range, acc, label=\"Training Accuracy\")\n",
    "plt.plot(epochs_range, val_acc, label=\"Validation Accuracy\")\n",
    "plt.legend(loc=\"upper right\")\n",
    "plt.title(\"Training and Validation Accuracy\")"
   ]
  },
  {
   "cell_type": "code",
   "execution_count": 13,
   "id": "9a71d169",
   "metadata": {
    "execution": {
     "iopub.execute_input": "2024-06-09T18:48:37.646371Z",
     "iopub.status.busy": "2024-06-09T18:48:37.645550Z",
     "iopub.status.idle": "2024-06-09T18:48:37.954825Z",
     "shell.execute_reply": "2024-06-09T18:48:37.953938Z"
    },
    "papermill": {
     "duration": 0.832948,
     "end_time": "2024-06-09T18:48:37.957231",
     "exception": false,
     "start_time": "2024-06-09T18:48:37.124283",
     "status": "completed"
    },
    "tags": []
   },
   "outputs": [
    {
     "data": {
      "image/png": "[encoded data removed]",
      "text/plain": [
       "<Figure size 640x480 with 1 Axes>"
      ]
     },
     "metadata": {},
     "output_type": "display_data"
    }
   ],
   "source": [
    "plt.plot(epochs_range, loss, label=\"Training Loss\")\n",
    "plt.plot(epochs_range, val_loss, label=\"Validation Loss\")\n",
    "plt.legend(loc=\"upper right\")\n",
    "plt.title(\"Training and Validation Loss\")\n",
    "plt.show()"
   ]
  },
  {
   "cell_type": "code",
   "execution_count": 14,
   "id": "92fb8c7f",
   "metadata": {
    "execution": {
     "iopub.execute_input": "2024-06-09T18:48:38.990288Z",
     "iopub.status.busy": "2024-06-09T18:48:38.989931Z",
     "iopub.status.idle": "2024-06-09T18:48:40.065729Z",
     "shell.execute_reply": "2024-06-09T18:48:40.064698Z"
    },
    "papermill": {
     "duration": 1.588852,
     "end_time": "2024-06-09T18:48:40.069168",
     "exception": false,
     "start_time": "2024-06-09T18:48:38.480316",
     "status": "completed"
    },
    "tags": []
   },
   "outputs": [
    {
     "data": {
      "application/vnd.jupyter.widget-view+json": {
       "model_id": "3d074af1e12049e69a4dc13c1301169b",
       "version_major": 2,
       "version_minor": 0
      },
      "text/plain": [
       "  0%|          | 0/7 [00:00<?, ?it/s]"
      ]
     },
     "metadata": {},
     "output_type": "display_data"
    },
    {
     "name": "stderr",
     "output_type": "stream",
     "text": [
      "2024-06-09 18:48:39.246285: E external/local_xla/xla/service/gpu/buffer_comparator.cc:1137] Difference at 0: 4.35916, expected 3.62506\n",
      "2024-06-09 18:48:39.246350: E external/local_xla/xla/service/gpu/buffer_comparator.cc:1137] Difference at 1: 6.14279, expected 5.4087\n",
      "2024-06-09 18:48:39.246364: E external/local_xla/xla/service/gpu/buffer_comparator.cc:1137] Difference at 2: 5.55453, expected 4.82044\n",
      "2024-06-09 18:48:39.246377: E external/local_xla/xla/service/gpu/buffer_comparator.cc:1137] Difference at 3: 5.08747, expected 4.35338\n",
      "2024-06-09 18:48:39.246394: E external/local_xla/xla/service/gpu/buffer_comparator.cc:1137] Difference at 4: 3.96432, expected 3.23023\n",
      "2024-06-09 18:48:39.246408: E external/local_xla/xla/service/gpu/buffer_comparator.cc:1137] Difference at 5: 3.84695, expected 3.11286\n",
      "2024-06-09 18:48:39.246418: E external/local_xla/xla/service/gpu/buffer_comparator.cc:1137] Difference at 6: 5.1695, expected 4.43541\n",
      "2024-06-09 18:48:39.246428: E external/local_xla/xla/service/gpu/buffer_comparator.cc:1137] Difference at 7: 4.10452, expected 3.37043\n",
      "2024-06-09 18:48:39.246439: E external/local_xla/xla/service/gpu/buffer_comparator.cc:1137] Difference at 8: 3.7034, expected 2.96931\n",
      "2024-06-09 18:48:39.246449: E external/local_xla/xla/service/gpu/buffer_comparator.cc:1137] Difference at 9: 4.10795, expected 3.37386\n",
      "2024-06-09 18:48:39.246469: E external/local_xla/xla/service/gpu/conv_algorithm_picker.cc:705] Results mismatch between different convolution algorithms. This is likely a bug/unexpected loss of precision in cudnn.\n",
      "(f32[1,16,128,128]{3,2,1,0}, u8[0]{0}) custom-call(f32[1,3,128,128]{3,2,1,0}, f32[16,3,3,3]{3,2,1,0}, f32[16]{0}), window={size=3x3 pad=1_1x1_1}, dim_labels=bf01_oi01->bf01, custom_call_target=\"__cudnn$convBiasActivationForward\", backend_config={\"conv_result_scale\":1,\"activation_mode\":\"kRelu\",\"side_input_scale\":0,\"leakyrelu_alpha\":0} for eng20{k2=2,k4=1,k5=1,k6=0,k7=0} vs eng15{k5=1,k6=0,k7=1,k10=1}\n",
      "2024-06-09 18:48:39.246481: E external/local_xla/xla/service/gpu/conv_algorithm_picker.cc:270] Device: Tesla P100-PCIE-16GB\n",
      "2024-06-09 18:48:39.246490: E external/local_xla/xla/service/gpu/conv_algorithm_picker.cc:271] Platform: Compute Capability 6.0\n",
      "2024-06-09 18:48:39.246499: E external/local_xla/xla/service/gpu/conv_algorithm_picker.cc:272] Driver: 12020 (535.129.3)\n",
      "2024-06-09 18:48:39.246510: E external/local_xla/xla/service/gpu/conv_algorithm_picker.cc:273] Runtime: <undefined>\n",
      "2024-06-09 18:48:39.246526: E external/local_xla/xla/service/gpu/conv_algorithm_picker.cc:280] cudnn version: 8.9.0\n",
      "2024-06-09 18:48:39.285940: E external/local_xla/xla/service/gpu/buffer_comparator.cc:1137] Difference at 0: 4.35916, expected 3.62506\n",
      "2024-06-09 18:48:39.285996: E external/local_xla/xla/service/gpu/buffer_comparator.cc:1137] Difference at 1: 6.14279, expected 5.4087\n",
      "2024-06-09 18:48:39.286011: E external/local_xla/xla/service/gpu/buffer_comparator.cc:1137] Difference at 2: 5.55453, expected 4.82044\n",
      "2024-06-09 18:48:39.286025: E external/local_xla/xla/service/gpu/buffer_comparator.cc:1137] Difference at 3: 5.08747, expected 4.35338\n",
      "2024-06-09 18:48:39.286036: E external/local_xla/xla/service/gpu/buffer_comparator.cc:1137] Difference at 4: 3.96432, expected 3.23023\n",
      "2024-06-09 18:48:39.286047: E external/local_xla/xla/service/gpu/buffer_comparator.cc:1137] Difference at 5: 3.84695, expected 3.11286\n",
      "2024-06-09 18:48:39.286057: E external/local_xla/xla/service/gpu/buffer_comparator.cc:1137] Difference at 6: 5.1695, expected 4.43541\n",
      "2024-06-09 18:48:39.286068: E external/local_xla/xla/service/gpu/buffer_comparator.cc:1137] Difference at 7: 4.10452, expected 3.37043\n",
      "2024-06-09 18:48:39.286081: E external/local_xla/xla/service/gpu/buffer_comparator.cc:1137] Difference at 8: 3.7034, expected 2.96931\n",
      "2024-06-09 18:48:39.286094: E external/local_xla/xla/service/gpu/buffer_comparator.cc:1137] Difference at 9: 4.10795, expected 3.37386\n",
      "2024-06-09 18:48:39.286133: E external/local_xla/xla/service/gpu/conv_algorithm_picker.cc:705] Results mismatch between different convolution algorithms. This is likely a bug/unexpected loss of precision in cudnn.\n",
      "(f32[1,16,128,128]{3,2,1,0}, u8[0]{0}) custom-call(f32[1,3,128,128]{3,2,1,0}, f32[16,3,3,3]{3,2,1,0}, f32[16]{0}), window={size=3x3 pad=1_1x1_1}, dim_labels=bf01_oi01->bf01, custom_call_target=\"__cudnn$convBiasActivationForward\", backend_config={\"conv_result_scale\":1,\"activation_mode\":\"kRelu\",\"side_input_scale\":0,\"leakyrelu_alpha\":0} for eng20{k2=2,k4=1,k5=1,k6=0,k7=0} vs eng15{k5=1,k6=0,k7=1,k10=1}\n",
      "2024-06-09 18:48:39.286165: E external/local_xla/xla/service/gpu/conv_algorithm_picker.cc:270] Device: Tesla P100-PCIE-16GB\n",
      "2024-06-09 18:48:39.286178: E external/local_xla/xla/service/gpu/conv_algorithm_picker.cc:271] Platform: Compute Capability 6.0\n",
      "2024-06-09 18:48:39.286196: E external/local_xla/xla/service/gpu/conv_algorithm_picker.cc:272] Driver: 12020 (535.129.3)\n",
      "2024-06-09 18:48:39.286208: E external/local_xla/xla/service/gpu/conv_algorithm_picker.cc:273] Runtime: <undefined>\n",
      "2024-06-09 18:48:39.286231: E external/local_xla/xla/service/gpu/conv_algorithm_picker.cc:280] cudnn version: 8.9.0\n"
     ]
    },
    {
     "name": "stdout",
     "output_type": "stream",
     "text": [
      "\u001b[1m1/1\u001b[0m \u001b[32m━━━━━━━━━━━━━━━━━━━━\u001b[0m\u001b[37m\u001b[0m \u001b[1m1s\u001b[0m 581ms/step\n",
      "________________\n",
      "Input Sentence: /kaggle/input/plant-disease-test/test_images/apple_healthy.jpeg\n",
      "Predicted: Tomato___Late_blight\n",
      "Certainty: 99.99%\n",
      " \n",
      "________________\n",
      "\u001b[1m1/1\u001b[0m \u001b[32m━━━━━━━━━━━━━━━━━━━━\u001b[0m\u001b[37m\u001b[0m \u001b[1m0s\u001b[0m 16ms/step\n",
      "________________\n",
      "Input Sentence: /kaggle/input/plant-disease-test/test_images/healthy_tomato_leaf.jpeg\n",
      "Predicted: Tomato___Late_blight\n",
      "Certainty: 99.95%\n",
      " \n",
      "________________\n",
      "\u001b[1m1/1\u001b[0m \u001b[32m━━━━━━━━━━━━━━━━━━━━\u001b[0m\u001b[37m\u001b[0m \u001b[1m0s\u001b[0m 18ms/step\n",
      "________________\n",
      "Input Sentence: /kaggle/input/plant-disease-test/test_images/cornleafnormal.jpeg\n",
      "Predicted: Peach___Bacterial_spot\n",
      "Certainty: 100.00%\n",
      " \n",
      "________________\n",
      "\u001b[1m1/1\u001b[0m \u001b[32m━━━━━━━━━━━━━━━━━━━━\u001b[0m\u001b[37m\u001b[0m \u001b[1m0s\u001b[0m 16ms/step\n",
      "________________\n",
      "Input Sentence: /kaggle/input/plant-disease-test/test_images/tomato_leafdiseas.jpeg\n",
      "Predicted: Peach___Bacterial_spot\n",
      "Certainty: 100.00%\n",
      " \n",
      "________________\n",
      "\u001b[1m1/1\u001b[0m \u001b[32m━━━━━━━━━━━━━━━━━━━━\u001b[0m\u001b[37m\u001b[0m \u001b[1m0s\u001b[0m 17ms/step\n",
      "________________\n",
      "Input Sentence: /kaggle/input/plant-disease-test/test_images/leafrustcorn.jpeg\n",
      "Predicted: Peach___Bacterial_spot\n",
      "Certainty: 100.00%\n",
      " \n",
      "________________\n",
      "\u001b[1m1/1\u001b[0m \u001b[32m━━━━━━━━━━━━━━━━━━━━\u001b[0m\u001b[37m\u001b[0m \u001b[1m0s\u001b[0m 17ms/step\n",
      "________________\n",
      "Input Sentence: /kaggle/input/plant-disease-test/test_images/corn_leafdiseased.jpeg\n",
      "Predicted: Peach___Bacterial_spot\n",
      "Certainty: 98.68%\n",
      " \n",
      "________________\n",
      "\u001b[1m1/1\u001b[0m \u001b[32m━━━━━━━━━━━━━━━━━━━━\u001b[0m\u001b[37m\u001b[0m \u001b[1m0s\u001b[0m 17ms/step\n",
      "________________\n",
      "Input Sentence: /kaggle/input/plant-disease-test/test_images/yellow_tomatoleaf.jpeg\n",
      "Predicted: Peach___Bacterial_spot\n",
      "Certainty: 100.00%\n",
      " \n",
      "________________\n"
     ]
    }
   ],
   "source": [
    "image_list = [os.path.join(input_folder, image_file) for image_file in test_images]\n",
    "\n",
    "def detect_plant_disease(image: str):\n",
    "    image = read_img(image)\n",
    "    class_score = disease_clf.predict(image)\n",
    "#     print(disease_clf)\n",
    "    \n",
    "    predicted_class = np.argmax(class_score)\n",
    "    certainty = 100 * class_score.max()\n",
    "    \n",
    "    return predicted_class, certainty\n",
    "    \n",
    "    \n",
    "for image in tqdm(image_list):\n",
    "    disease_class, certainty = detect_plant_disease(image)\n",
    "    print('________________')\n",
    "    print(f'Input Sentence: {image}')\n",
    "    print(f'Predicted: {encoded_disease_classes[disease_class]}')\n",
    "    print(f'Certainty: {certainty:.2f}%')\n",
    "    print(' ')\n",
    "    print('________________')"
   ]
  },
  {
   "cell_type": "code",
   "execution_count": 15,
   "id": "78e540a0",
   "metadata": {
    "execution": {
     "iopub.execute_input": "2024-06-09T18:48:41.189439Z",
     "iopub.status.busy": "2024-06-09T18:48:41.189072Z",
     "iopub.status.idle": "2024-06-09T18:48:41.680870Z",
     "shell.execute_reply": "2024-06-09T18:48:41.679950Z"
    },
    "papermill": {
     "duration": 1.045808,
     "end_time": "2024-06-09T18:48:41.683179",
     "exception": false,
     "start_time": "2024-06-09T18:48:40.637371",
     "status": "completed"
    },
    "tags": []
   },
   "outputs": [
    {
     "data": {
      "application/vnd.jupyter.widget-view+json": {
       "model_id": "032e04c57c8349c4826c6c5a78ba55ae",
       "version_major": 2,
       "version_minor": 0
      },
      "text/plain": [
       "  0%|          | 0/7 [00:00<?, ?it/s]"
      ]
     },
     "metadata": {},
     "output_type": "display_data"
    },
    {
     "name": "stdout",
     "output_type": "stream",
     "text": [
      "\u001b[1m1/1\u001b[0m \u001b[32m━━━━━━━━━━━━━━━━━━━━\u001b[0m\u001b[37m\u001b[0m \u001b[1m0s\u001b[0m 19ms/step\n",
      "This image /kaggle/input/plant-disease-test/test_images/apple_healthy.jpeg most likely belongs to \n",
      " Tomato___Tomato_Yellow_Leaf_Curl_Virus .\n",
      "\u001b[1m1/1\u001b[0m \u001b[32m━━━━━━━━━━━━━━━━━━━━\u001b[0m\u001b[37m\u001b[0m \u001b[1m0s\u001b[0m 18ms/step\n",
      "This image /kaggle/input/plant-disease-test/test_images/healthy_tomato_leaf.jpeg most likely belongs to \n",
      " Corn_(maize)___Common_rust_ .\n",
      "\u001b[1m1/1\u001b[0m \u001b[32m━━━━━━━━━━━━━━━━━━━━\u001b[0m\u001b[37m\u001b[0m \u001b[1m0s\u001b[0m 18ms/step\n",
      "This image /kaggle/input/plant-disease-test/test_images/cornleafnormal.jpeg most likely belongs to \n",
      " Orange___Haunglongbing_(Citrus_greening) .\n",
      "\u001b[1m1/1\u001b[0m \u001b[32m━━━━━━━━━━━━━━━━━━━━\u001b[0m\u001b[37m\u001b[0m \u001b[1m0s\u001b[0m 18ms/step\n",
      "This image /kaggle/input/plant-disease-test/test_images/tomato_leafdiseas.jpeg most likely belongs to \n",
      " Corn_(maize)___Northern_Leaf_Blight .\n",
      "\u001b[1m1/1\u001b[0m \u001b[32m━━━━━━━━━━━━━━━━━━━━\u001b[0m\u001b[37m\u001b[0m \u001b[1m0s\u001b[0m 17ms/step\n",
      "This image /kaggle/input/plant-disease-test/test_images/leafrustcorn.jpeg most likely belongs to \n",
      " Strawberry___Leaf_scorch .\n",
      "\u001b[1m1/1\u001b[0m \u001b[32m━━━━━━━━━━━━━━━━━━━━\u001b[0m\u001b[37m\u001b[0m \u001b[1m0s\u001b[0m 17ms/step\n",
      "This image /kaggle/input/plant-disease-test/test_images/corn_leafdiseased.jpeg most likely belongs to \n",
      " Pepper,_bell___healthy .\n",
      "\u001b[1m1/1\u001b[0m \u001b[32m━━━━━━━━━━━━━━━━━━━━\u001b[0m\u001b[37m\u001b[0m \u001b[1m0s\u001b[0m 19ms/step\n",
      "This image /kaggle/input/plant-disease-test/test_images/yellow_tomatoleaf.jpeg most likely belongs to \n",
      " Orange___Haunglongbing_(Citrus_greening) .\n"
     ]
    }
   ],
   "source": [
    "def predict2(img_file):\n",
    "    img = tf.keras.utils.load_img(img_file, target_size=(image_size, image_size))\n",
    "    img_array = tf.keras.utils.img_to_array(img)\n",
    "    img_array = tf.expand_dims(img_array, 0) # Create a batch\n",
    "\n",
    "    predictions = disease_clf.predict(img_array)\n",
    "    score = tf.nn.softmax(predictions[0])\n",
    "\n",
    "    print(\n",
    "    \"This image {} most likely belongs to \\n {} .\"\n",
    "    .format(img_file, disease_classes[np.argmax(score)])\n",
    "    )\n",
    "    \n",
    "for image in tqdm(image_list):\n",
    "    predict2(image)"
   ]
  },
  {
   "cell_type": "code",
   "execution_count": 16,
   "id": "d206cd00",
   "metadata": {
    "execution": {
     "iopub.execute_input": "2024-06-09T18:48:42.709695Z",
     "iopub.status.busy": "2024-06-09T18:48:42.709329Z",
     "iopub.status.idle": "2024-06-09T18:48:42.916955Z",
     "shell.execute_reply": "2024-06-09T18:48:42.915957Z"
    },
    "papermill": {
     "duration": 0.725467,
     "end_time": "2024-06-09T18:48:42.919515",
     "exception": false,
     "start_time": "2024-06-09T18:48:42.194048",
     "status": "completed"
    },
    "tags": []
   },
   "outputs": [],
   "source": [
    "disease_clf.save(\"tf_plant_disease_classifier.keras\")\n",
    "disease_clf.save(\"tf_plant_disease_classifier.h5\")"
   ]
  },
  {
   "cell_type": "code",
   "execution_count": 17,
   "id": "451a7ee0",
   "metadata": {
    "execution": {
     "iopub.execute_input": "2024-06-09T18:48:43.931977Z",
     "iopub.status.busy": "2024-06-09T18:48:43.931598Z",
     "iopub.status.idle": "2024-06-09T18:48:43.936357Z",
     "shell.execute_reply": "2024-06-09T18:48:43.935174Z"
    },
    "papermill": {
     "duration": 0.512517,
     "end_time": "2024-06-09T18:48:43.938488",
     "exception": false,
     "start_time": "2024-06-09T18:48:43.425971",
     "status": "completed"
    },
    "tags": []
   },
   "outputs": [],
   "source": [
    "# import tensorflow as tf\n",
    "\n",
    "# outfile = '/kaggle/working/leaf_disease_clf.tflite'\n",
    "\n",
    "# converter = tf.lite.TFLiteConverter.from_keras_model(disease_clf)\n",
    "# tflite_model = converter.convert()\n",
    "\n",
    "# # Save the model.\n",
    "# with open(outfile, 'wb') as f:\n",
    "#     f.write(tflite_model)"
   ]
  }
 ],
 "metadata": {
  "kaggle": {
   "accelerator": "gpu",
   "dataSources": [
    {
     "datasetId": 277323,
     "sourceId": 658267,
     "sourceType": "datasetVersion"
    },
    {
     "datasetId": 5178776,
     "sourceId": 8646552,
     "sourceType": "datasetVersion"
    }
   ],
   "dockerImageVersionId": 30733,
   "isGpuEnabled": true,
   "isInternetEnabled": true,
   "language": "python",
   "sourceType": "notebook"
  },
  "kernelspec": {
   "display_name": "Python 3",
   "language": "python",
   "name": "python3"
  },
  "language_info": {
   "codemirror_mode": {
    "name": "ipython",
    "version": 3
   },
   "file_extension": ".py",
   "mimetype": "text/x-python",
   "name": "python",
   "nbconvert_exporter": "python",
   "pygments_lexer": "ipython3",
   "version": "3.10.13"
  },
  "papermill": {
   "default_parameters": {},
   "duration": 477.456744,
   "end_time": "2024-06-09T18:48:50.069204",
   "environment_variables": {},
   "exception": null,
   "input_path": "__notebook__.ipynb",
   "output_path": "__notebook__.ipynb",
   "parameters": {},
   "start_time": "2024-06-09T18:40:52.612460",
   "version": "2.5.0"
  },
  "widgets": {
   "application/vnd.jupyter.widget-state+json": {
    "state": {
     "032e04c57c8349c4826c6c5a78ba55ae": {
      "model_module": "@jupyter-widgets/controls",
      "model_module_version": "1.5.0",
      "model_name": "HBoxModel",
      "state": {
       "_dom_classes": [],
       "_model_module": "@jupyter-widgets/controls",
       "_model_module_version": "1.5.0",
       "_model_name": "HBoxModel",
       "_view_count": null,
       "_view_module": "@jupyter-widgets/controls",
       "_view_module_version": "1.5.0",
       "_view_name": "HBoxView",
       "box_style": "",
       "children": [
        "IPY_MODEL_f7876780a8534fe9b13bb1e4345ce6e1",
        "IPY_MODEL_714a490edcbf4fa48a2c51519d6d11d4",
        "IPY_MODEL_b4a33ab7902d43e7a9c4b8d3f2d2cd18"
       ],
       "layout": "IPY_MODEL_fc915e81bfd9499283ba3aad9916419e"
      }
     },
     "1ea3247165384edc88ea315870a7bbb5": {
      "model_module": "@jupyter-widgets/controls",
      "model_module_version": "1.5.0",
      "model_name": "DescriptionStyleModel",
      "state": {
       "_model_module": "@jupyter-widgets/controls",
       "_model_module_version": "1.5.0",
       "_model_name": "DescriptionStyleModel",
       "_view_count": null,
       "_view_module": "@jupyter-widgets/base",
       "_view_module_version": "1.2.0",
       "_view_name": "StyleView",
       "description_width": ""
      }
     },
     "272e72aac7e445d0a420177dd22004cc": {
      "model_module": "@jupyter-widgets/base",
      "model_module_version": "1.2.0",
      "model_name": "LayoutModel",
      "state": {
       "_model_module": "@jupyter-widgets/base",
       "_model_module_version": "1.2.0",
       "_model_name": "LayoutModel",
       "_view_count": null,
       "_view_module": "@jupyter-widgets/base",
       "_view_module_version": "1.2.0",
       "_view_name": "LayoutView",
       "align_content": null,
       "align_items": null,
       "align_self": null,
       "border": null,
       "bottom": null,
       "display": null,
       "flex": null,
       "flex_flow": null,
       "grid_area": null,
       "grid_auto_columns": null,
       "grid_auto_flow": null,
       "grid_auto_rows": null,
       "grid_column": null,
       "grid_gap": null,
       "grid_row": null,
       "grid_template_areas": null,
       "grid_template_columns": null,
       "grid_template_rows": null,
       "height": null,
       "justify_content": null,
       "justify_items": null,
       "left": null,
       "margin": null,
       "max_height": null,
       "max_width": null,
       "min_height": null,
       "min_width": null,
       "object_fit": null,
       "object_position": null,
       "order": null,
       "overflow": null,
       "overflow_x": null,
       "overflow_y": null,
       "padding": null,
       "right": null,
       "top": null,
       "visibility": null,
       "width": null
      }
     },
     "3440a304196444f49a204a23d59351b3": {
      "model_module": "@jupyter-widgets/base",
      "model_module_version": "1.2.0",
      "model_name": "LayoutModel",
      "state": {
       "_model_module": "@jupyter-widgets/base",
       "_model_module_version": "1.2.0",
       "_model_name": "LayoutModel",
       "_view_count": null,
       "_view_module": "@jupyter-widgets/base",
       "_view_module_version": "1.2.0",
       "_view_name": "LayoutView",
       "align_content": null,
       "align_items": null,
       "align_self": null,
       "border": null,
       "bottom": null,
       "display": null,
       "flex": null,
       "flex_flow": null,
       "grid_area": null,
       "grid_auto_columns": null,
       "grid_auto_flow": null,
       "grid_auto_rows": null,
       "grid_column": null,
       "grid_gap": null,
       "grid_row": null,
       "grid_template_areas": null,
       "grid_template_columns": null,
       "grid_template_rows": null,
       "height": null,
       "justify_content": null,
       "justify_items": null,
       "left": null,
       "margin": null,
       "max_height": null,
       "max_width": null,
       "min_height": null,
       "min_width": null,
       "object_fit": null,
       "object_position": null,
       "order": null,
       "overflow": null,
       "overflow_x": null,
       "overflow_y": null,
       "padding": null,
       "right": null,
       "top": null,
       "visibility": null,
       "width": null
      }
     },
     "3d074af1e12049e69a4dc13c1301169b": {
      "model_module": "@jupyter-widgets/controls",
      "model_module_version": "1.5.0",
      "model_name": "HBoxModel",
      "state": {
       "_dom_classes": [],
       "_model_module": "@jupyter-widgets/controls",
       "_model_module_version": "1.5.0",
       "_model_name": "HBoxModel",
       "_view_count": null,
       "_view_module": "@jupyter-widgets/controls",
       "_view_module_version": "1.5.0",
       "_view_name": "HBoxView",
       "box_style": "",
       "children": [
        "IPY_MODEL_8d126d87d7b94386b533217bf9d8c9ca",
        "IPY_MODEL_7ded56473f454bee9bca659c40ca54dd",
        "IPY_MODEL_a6e0796bf579475b8245de329c096a4a"
       ],
       "layout": "IPY_MODEL_3440a304196444f49a204a23d59351b3"
      }
     },
     "4b3b0bcbe19f4a77bd8312adf468820f": {
      "model_module": "@jupyter-widgets/controls",
      "model_module_version": "1.5.0",
      "model_name": "ProgressStyleModel",
      "state": {
       "_model_module": "@jupyter-widgets/controls",
       "_model_module_version": "1.5.0",
       "_model_name": "ProgressStyleModel",
       "_view_count": null,
       "_view_module": "@jupyter-widgets/base",
       "_view_module_version": "1.2.0",
       "_view_name": "StyleView",
       "bar_color": null,
       "description_width": ""
      }
     },
     "607390747a524ca580dfe95f185acaa6": {
      "model_module": "@jupyter-widgets/base",
      "model_module_version": "1.2.0",
      "model_name": "LayoutModel",
      "state": {
       "_model_module": "@jupyter-widgets/base",
       "_model_module_version": "1.2.0",
       "_model_name": "LayoutModel",
       "_view_count": null,
       "_view_module": "@jupyter-widgets/base",
       "_view_module_version": "1.2.0",
       "_view_name": "LayoutView",
       "align_content": null,
       "align_items": null,
       "align_self": null,
       "border": null,
       "bottom": null,
       "display": null,
       "flex": null,
       "flex_flow": null,
       "grid_area": null,
       "grid_auto_columns": null,
       "grid_auto_flow": null,
       "grid_auto_rows": null,
       "grid_column": null,
       "grid_gap": null,
       "grid_row": null,
       "grid_template_areas": null,
       "grid_template_columns": null,
       "grid_template_rows": null,
       "height": null,
       "justify_content": null,
       "justify_items": null,
       "left": null,
       "margin": null,
       "max_height": null,
       "max_width": null,
       "min_height": null,
       "min_width": null,
       "object_fit": null,
       "object_position": null,
       "order": null,
       "overflow": null,
       "overflow_x": null,
       "overflow_y": null,
       "padding": null,
       "right": null,
       "top": null,
       "visibility": null,
       "width": null
      }
     },
     "714a490edcbf4fa48a2c51519d6d11d4": {
      "model_module": "@jupyter-widgets/controls",
      "model_module_version": "1.5.0",
      "model_name": "FloatProgressModel",
      "state": {
       "_dom_classes": [],
       "_model_module": "@jupyter-widgets/controls",
       "_model_module_version": "1.5.0",
       "_model_name": "FloatProgressModel",
       "_view_count": null,
       "_view_module": "@jupyter-widgets/controls",
       "_view_module_version": "1.5.0",
       "_view_name": "ProgressView",
       "bar_style": "success",
       "description": "",
       "description_tooltip": null,
       "layout": "IPY_MODEL_b6ec69074f8648909cc4d2fe352f38c5",
       "max": 7.0,
       "min": 0.0,
       "orientation": "horizontal",
       "style": "IPY_MODEL_8c9b5e8105c740428048591ab8e71dc6",
       "value": 7.0
      }
     },
     "77a41e4b294f43e392ef4b600587dda1": {
      "model_module": "@jupyter-widgets/controls",
      "model_module_version": "1.5.0",
      "model_name": "DescriptionStyleModel",
      "state": {
       "_model_module": "@jupyter-widgets/controls",
       "_model_module_version": "1.5.0",
       "_model_name": "DescriptionStyleModel",
       "_view_count": null,
       "_view_module": "@jupyter-widgets/base",
       "_view_module_version": "1.2.0",
       "_view_name": "StyleView",
       "description_width": ""
      }
     },
     "7ded56473f454bee9bca659c40ca54dd": {
      "model_module": "@jupyter-widgets/controls",
      "model_module_version": "1.5.0",
      "model_name": "FloatProgressModel",
      "state": {
       "_dom_classes": [],
       "_model_module": "@jupyter-widgets/controls",
       "_model_module_version": "1.5.0",
       "_model_name": "FloatProgressModel",
       "_view_count": null,
       "_view_module": "@jupyter-widgets/controls",
       "_view_module_version": "1.5.0",
       "_view_name": "ProgressView",
       "bar_style": "success",
       "description": "",
       "description_tooltip": null,
       "layout": "IPY_MODEL_f4de2dc3804f45b5b519cbe5d98b76f0",
       "max": 7.0,
       "min": 0.0,
       "orientation": "horizontal",
       "style": "IPY_MODEL_4b3b0bcbe19f4a77bd8312adf468820f",
       "value": 7.0
      }
     },
     "8c9b5e8105c740428048591ab8e71dc6": {
      "model_module": "@jupyter-widgets/controls",
      "model_module_version": "1.5.0",
      "model_name": "ProgressStyleModel",
      "state": {
       "_model_module": "@jupyter-widgets/controls",
       "_model_module_version": "1.5.0",
       "_model_name": "ProgressStyleModel",
       "_view_count": null,
       "_view_module": "@jupyter-widgets/base",
       "_view_module_version": "1.2.0",
       "_view_name": "StyleView",
       "bar_color": null,
       "description_width": ""
      }
     },
     "8d126d87d7b94386b533217bf9d8c9ca": {
      "model_module": "@jupyter-widgets/controls",
      "model_module_version": "1.5.0",
      "model_name": "HTMLModel",
      "state": {
       "_dom_classes": [],
       "_model_module": "@jupyter-widgets/controls",
       "_model_module_version": "1.5.0",
       "_model_name": "HTMLModel",
       "_view_count": null,
       "_view_module": "@jupyter-widgets/controls",
       "_view_module_version": "1.5.0",
       "_view_name": "HTMLView",
       "description": "",
       "description_tooltip": null,
       "layout": "IPY_MODEL_607390747a524ca580dfe95f185acaa6",
       "placeholder": "​",
       "style": "IPY_MODEL_94ea64e4183240cba55c16b5129f2a53",
       "value": "100%"
      }
     },
     "94ea64e4183240cba55c16b5129f2a53": {
      "model_module": "@jupyter-widgets/controls",
      "model_module_version": "1.5.0",
      "model_name": "DescriptionStyleModel",
      "state": {
       "_model_module": "@jupyter-widgets/controls",
       "_model_module_version": "1.5.0",
       "_model_name": "DescriptionStyleModel",
       "_view_count": null,
       "_view_module": "@jupyter-widgets/base",
       "_view_module_version": "1.2.0",
       "_view_name": "StyleView",
       "description_width": ""
      }
     },
     "95dc1bdefd2643c3969eee34b421d423": {
      "model_module": "@jupyter-widgets/base",
      "model_module_version": "1.2.0",
      "model_name": "LayoutModel",
      "state": {
       "_model_module": "@jupyter-widgets/base",
       "_model_module_version": "1.2.0",
       "_model_name": "LayoutModel",
       "_view_count": null,
       "_view_module": "@jupyter-widgets/base",
       "_view_module_version": "1.2.0",
       "_view_name": "LayoutView",
       "align_content": null,
       "align_items": null,
       "align_self": null,
       "border": null,
       "bottom": null,
       "display": null,
       "flex": null,
       "flex_flow": null,
       "grid_area": null,
       "grid_auto_columns": null,
       "grid_auto_flow": null,
       "grid_auto_rows": null,
       "grid_column": null,
       "grid_gap": null,
       "grid_row": null,
       "grid_template_areas": null,
       "grid_template_columns": null,
       "grid_template_rows": null,
       "height": null,
       "justify_content": null,
       "justify_items": null,
       "left": null,
       "margin": null,
       "max_height": null,
       "max_width": null,
       "min_height": null,
       "min_width": null,
       "object_fit": null,
       "object_position": null,
       "order": null,
       "overflow": null,
       "overflow_x": null,
       "overflow_y": null,
       "padding": null,
       "right": null,
       "top": null,
       "visibility": null,
       "width": null
      }
     },
     "a6e0796bf579475b8245de329c096a4a": {
      "model_module": "@jupyter-widgets/controls",
      "model_module_version": "1.5.0",
      "model_name": "HTMLModel",
      "state": {
       "_dom_classes": [],
       "_model_module": "@jupyter-widgets/controls",
       "_model_module_version": "1.5.0",
       "_model_name": "HTMLModel",
       "_view_count": null,
       "_view_module": "@jupyter-widgets/controls",
       "_view_module_version": "1.5.0",
       "_view_name": "HTMLView",
       "description": "",
       "description_tooltip": null,
       "layout": "IPY_MODEL_a93cdc9b741a4ed2a7247bf733661a43",
       "placeholder": "​",
       "style": "IPY_MODEL_77a41e4b294f43e392ef4b600587dda1",
       "value": " 7/7 [00:01&lt;00:00,  9.23it/s]"
      }
     },
     "a93cdc9b741a4ed2a7247bf733661a43": {
      "model_module": "@jupyter-widgets/base",
      "model_module_version": "1.2.0",
      "model_name": "LayoutModel",
      "state": {
       "_model_module": "@jupyter-widgets/base",
       "_model_module_version": "1.2.0",
       "_model_name": "LayoutModel",
       "_view_count": null,
       "_view_module": "@jupyter-widgets/base",
       "_view_module_version": "1.2.0",
       "_view_name": "LayoutView",
       "align_content": null,
       "align_items": null,
       "align_self": null,
       "border": null,
       "bottom": null,
       "display": null,
       "flex": null,
       "flex_flow": null,
       "grid_area": null,
       "grid_auto_columns": null,
       "grid_auto_flow": null,
       "grid_auto_rows": null,
       "grid_column": null,
       "grid_gap": null,
       "grid_row": null,
       "grid_template_areas": null,
       "grid_template_columns": null,
       "grid_template_rows": null,
       "height": null,
       "justify_content": null,
       "justify_items": null,
       "left": null,
       "margin": null,
       "max_height": null,
       "max_width": null,
       "min_height": null,
       "min_width": null,
       "object_fit": null,
       "object_position": null,
       "order": null,
       "overflow": null,
       "overflow_x": null,
       "overflow_y": null,
       "padding": null,
       "right": null,
       "top": null,
       "visibility": null,
       "width": null
      }
     },
     "b4a33ab7902d43e7a9c4b8d3f2d2cd18": {
      "model_module": "@jupyter-widgets/controls",
      "model_module_version": "1.5.0",
      "model_name": "HTMLModel",
      "state": {
       "_dom_classes": [],
       "_model_module": "@jupyter-widgets/controls",
       "_model_module_version": "1.5.0",
       "_model_name": "HTMLModel",
       "_view_count": null,
       "_view_module": "@jupyter-widgets/controls",
       "_view_module_version": "1.5.0",
       "_view_name": "HTMLView",
       "description": "",
       "description_tooltip": null,
       "layout": "IPY_MODEL_95dc1bdefd2643c3969eee34b421d423",
       "placeholder": "​",
       "style": "IPY_MODEL_1ea3247165384edc88ea315870a7bbb5",
       "value": " 7/7 [00:00&lt;00:00, 15.27it/s]"
      }
     },
     "b6ec69074f8648909cc4d2fe352f38c5": {
      "model_module": "@jupyter-widgets/base",
      "model_module_version": "1.2.0",
      "model_name": "LayoutModel",
      "state": {
       "_model_module": "@jupyter-widgets/base",
       "_model_module_version": "1.2.0",
       "_model_name": "LayoutModel",
       "_view_count": null,
       "_view_module": "@jupyter-widgets/base",
       "_view_module_version": "1.2.0",
       "_view_name": "LayoutView",
       "align_content": null,
       "align_items": null,
       "align_self": null,
       "border": null,
       "bottom": null,
       "display": null,
       "flex": null,
       "flex_flow": null,
       "grid_area": null,
       "grid_auto_columns": null,
       "grid_auto_flow": null,
       "grid_auto_rows": null,
       "grid_column": null,
       "grid_gap": null,
       "grid_row": null,
       "grid_template_areas": null,
       "grid_template_columns": null,
       "grid_template_rows": null,
       "height": null,
       "justify_content": null,
       "justify_items": null,
       "left": null,
       "margin": null,
       "max_height": null,
       "max_width": null,
       "min_height": null,
       "min_width": null,
       "object_fit": null,
       "object_position": null,
       "order": null,
       "overflow": null,
       "overflow_x": null,
       "overflow_y": null,
       "padding": null,
       "right": null,
       "top": null,
       "visibility": null,
       "width": null
      }
     },
     "e5f3d346f0a94f2d8e0f091a575667c0": {
      "model_module": "@jupyter-widgets/controls",
      "model_module_version": "1.5.0",
      "model_name": "DescriptionStyleModel",
      "state": {
       "_model_module": "@jupyter-widgets/controls",
       "_model_module_version": "1.5.0",
       "_model_name": "DescriptionStyleModel",
       "_view_count": null,
       "_view_module": "@jupyter-widgets/base",
       "_view_module_version": "1.2.0",
       "_view_name": "StyleView",
       "description_width": ""
      }
     },
     "f4de2dc3804f45b5b519cbe5d98b76f0": {
      "model_module": "@jupyter-widgets/base",
      "model_module_version": "1.2.0",
      "model_name": "LayoutModel",
      "state": {
       "_model_module": "@jupyter-widgets/base",
       "_model_module_version": "1.2.0",
       "_model_name": "LayoutModel",
       "_view_count": null,
       "_view_module": "@jupyter-widgets/base",
       "_view_module_version": "1.2.0",
       "_view_name": "LayoutView",
       "align_content": null,
       "align_items": null,
       "align_self": null,
       "border": null,
       "bottom": null,
       "display": null,
       "flex": null,
       "flex_flow": null,
       "grid_area": null,
       "grid_auto_columns": null,
       "grid_auto_flow": null,
       "grid_auto_rows": null,
       "grid_column": null,
       "grid_gap": null,
       "grid_row": null,
       "grid_template_areas": null,
       "grid_template_columns": null,
       "grid_template_rows": null,
       "height": null,
       "justify_content": null,
       "justify_items": null,
       "left": null,
       "margin": null,
       "max_height": null,
       "max_width": null,
       "min_height": null,
       "min_width": null,
       "object_fit": null,
       "object_position": null,
       "order": null,
       "overflow": null,
       "overflow_x": null,
       "overflow_y": null,
       "padding": null,
       "right": null,
       "top": null,
       "visibility": null,
       "width": null
      }
     },
     "f7876780a8534fe9b13bb1e4345ce6e1": {
      "model_module": "@jupyter-widgets/controls",
      "model_module_version": "1.5.0",
      "model_name": "HTMLModel",
      "state": {
       "_dom_classes": [],
       "_model_module": "@jupyter-widgets/controls",
       "_model_module_version": "1.5.0",
       "_model_name": "HTMLModel",
       "_view_count": null,
       "_view_module": "@jupyter-widgets/controls",
       "_view_module_version": "1.5.0",
       "_view_name": "HTMLView",
       "description": "",
       "description_tooltip": null,
       "layout": "IPY_MODEL_272e72aac7e445d0a420177dd22004cc",
       "placeholder": "​",
       "style": "IPY_MODEL_e5f3d346f0a94f2d8e0f091a575667c0",
       "value": "100%"
      }
     },
     "fc915e81bfd9499283ba3aad9916419e": {
      "model_module": "@jupyter-widgets/base",
      "model_module_version": "1.2.0",
      "model_name": "LayoutModel",
      "state": {
       "_model_module": "@jupyter-widgets/base",
       "_model_module_version": "1.2.0",
       "_model_name": "LayoutModel",
       "_view_count": null,
       "_view_module": "@jupyter-widgets/base",
       "_view_module_version": "1.2.0",
       "_view_name": "LayoutView",
       "align_content": null,
       "align_items": null,
       "align_self": null,
       "border": null,
       "bottom": null,
       "display": null,
       "flex": null,
       "flex_flow": null,
       "grid_area": null,
       "grid_auto_columns": null,
       "grid_auto_flow": null,
       "grid_auto_rows": null,
       "grid_column": null,
       "grid_gap": null,
       "grid_row": null,
       "grid_template_areas": null,
       "grid_template_columns": null,
       "grid_template_rows": null,
       "height": null,
       "justify_content": null,
       "justify_items": null,
       "left": null,
       "margin": null,
       "max_height": null,
       "max_width": null,
       "min_height": null,
       "min_width": null,
       "object_fit": null,
       "object_position": null,
       "order": null,
       "overflow": null,
       "overflow_x": null,
       "overflow_y": null,
       "padding": null,
       "right": null,
       "top": null,
       "visibility": null,
       "width": null
      }
     }
    },
    "version_major": 2,
    "version_minor": 0
   }
  }
 },
 "nbformat": 4,
 "nbformat_minor": 5
}
