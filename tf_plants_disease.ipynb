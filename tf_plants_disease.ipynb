{
 "cells": [
  {
   "cell_type": "code",
   "execution_count": 1,
   "id": "01491cb2",
   "metadata": {
    "execution": {
     "iopub.execute_input": "2024-06-09T20:59:35.307359Z",
     "iopub.status.busy": "2024-06-09T20:59:35.307062Z",
     "iopub.status.idle": "2024-06-09T20:59:48.489346Z",
     "shell.execute_reply": "2024-06-09T20:59:48.488567Z"
    },
    "papermill": {
     "duration": 13.191335,
     "end_time": "2024-06-09T20:59:48.491594",
     "exception": false,
     "start_time": "2024-06-09T20:59:35.300259",
     "status": "completed"
    },
    "tags": []
   },
   "outputs": [
    {
     "name": "stderr",
     "output_type": "stream",
     "text": [
      "2024-06-09 20:59:37.037710: E external/local_xla/xla/stream_executor/cuda/cuda_dnn.cc:9261] Unable to register cuDNN factory: Attempting to register factory for plugin cuDNN when one has already been registered\n",
      "2024-06-09 20:59:37.037857: E external/local_xla/xla/stream_executor/cuda/cuda_fft.cc:607] Unable to register cuFFT factory: Attempting to register factory for plugin cuFFT when one has already been registered\n",
      "2024-06-09 20:59:37.169871: E external/local_xla/xla/stream_executor/cuda/cuda_blas.cc:1515] Unable to register cuBLAS factory: Attempting to register factory for plugin cuBLAS when one has already been registered\n"
     ]
    }
   ],
   "source": [
    "import numpy as np\n",
    "import matplotlib.pyplot as plt \n",
    "import tensorflow as tf\n",
    "import cv2\n",
    "import os \n",
    "import keras\n",
    "from keras import layers, models\n",
    "from tensorflow import keras as tfkeras\n",
    "from sklearn.preprocessing import LabelEncoder\n",
    "from tqdm.auto import tqdm "
   ]
  },
  {
   "cell_type": "code",
   "execution_count": 2,
   "id": "968c49fb",
   "metadata": {
    "execution": {
     "iopub.execute_input": "2024-06-09T20:59:48.504225Z",
     "iopub.status.busy": "2024-06-09T20:59:48.503632Z",
     "iopub.status.idle": "2024-06-09T20:59:48.512988Z",
     "shell.execute_reply": "2024-06-09T20:59:48.512308Z"
    },
    "papermill": {
     "duration": 0.017572,
     "end_time": "2024-06-09T20:59:48.514962",
     "exception": false,
     "start_time": "2024-06-09T20:59:48.497390",
     "status": "completed"
    },
    "tags": []
   },
   "outputs": [],
   "source": [
    "image_size = 128\n",
    "batch_size = 32\n",
    "learn_rate = 0.01\n",
    "epochs = 30\n",
    "data_dir = \"/kaggle/input/plantvillage-dataset/color\"\n",
    "input_folder = \"/kaggle/input/plant-disease-test/test_images\"\n",
    "test_images = os.listdir(\"/kaggle/input/plant-disease-test/test_images\")"
   ]
  },
  {
   "cell_type": "code",
   "execution_count": 3,
   "id": "34c3d7c2",
   "metadata": {
    "execution": {
     "iopub.execute_input": "2024-06-09T20:59:48.526563Z",
     "iopub.status.busy": "2024-06-09T20:59:48.526301Z",
     "iopub.status.idle": "2024-06-09T20:59:48.531749Z",
     "shell.execute_reply": "2024-06-09T20:59:48.530957Z"
    },
    "papermill": {
     "duration": 0.013363,
     "end_time": "2024-06-09T20:59:48.533614",
     "exception": false,
     "start_time": "2024-06-09T20:59:48.520251",
     "status": "completed"
    },
    "tags": []
   },
   "outputs": [],
   "source": [
    "def read_img(image_data):\n",
    "    try:\n",
    "        image = cv2.imread(image_data)\n",
    "\n",
    "        image = cv2.cvtColor(image, cv2.COLOR_BGR2RGB)\n",
    "        image = cv2.resize(image, (image_size, image_size))\n",
    "        image = np.array(image, dtype=np.float32) / 255.0  # Normalize the image\n",
    "        image = image.reshape(1, image_size, image_size, 3)\n",
    "        \n",
    "        return image\n",
    "\n",
    "    except Exception as e:\n",
    "        print(f\"Error> {e}\")"
   ]
  },
  {
   "cell_type": "code",
   "execution_count": 4,
   "id": "ff2a55ce",
   "metadata": {
    "execution": {
     "iopub.execute_input": "2024-06-09T20:59:48.544929Z",
     "iopub.status.busy": "2024-06-09T20:59:48.544651Z",
     "iopub.status.idle": "2024-06-09T21:00:28.608474Z",
     "shell.execute_reply": "2024-06-09T21:00:28.607729Z"
    },
    "papermill": {
     "duration": 40.072012,
     "end_time": "2024-06-09T21:00:28.610716",
     "exception": false,
     "start_time": "2024-06-09T20:59:48.538704",
     "status": "completed"
    },
    "tags": []
   },
   "outputs": [
    {
     "name": "stdout",
     "output_type": "stream",
     "text": [
      "Found 54305 files belonging to 38 classes.\n",
      "Using 43444 files for training.\n",
      "Found 54305 files belonging to 38 classes.\n",
      "Using 10861 files for validation.\n"
     ]
    }
   ],
   "source": [
    "train_data = tf.keras.utils.image_dataset_from_directory(\n",
    "    data_dir,\n",
    "    validation_split=0.2,\n",
    "    subset=\"training\",\n",
    "    seed=123,\n",
    "    image_size=(image_size, image_size),\n",
    "    batch_size=batch_size,\n",
    ")\n",
    "\n",
    "val_data = tf.keras.utils.image_dataset_from_directory(\n",
    "    data_dir,\n",
    "    validation_split=0.2,\n",
    "    subset=\"validation\",\n",
    "    seed=123,\n",
    "    image_size=(image_size, image_size),\n",
    "    batch_size=batch_size,\n",
    ")"
   ]
  },
  {
   "cell_type": "code",
   "execution_count": 5,
   "id": "f5dd2416",
   "metadata": {
    "execution": {
     "iopub.execute_input": "2024-06-09T21:00:28.624243Z",
     "iopub.status.busy": "2024-06-09T21:00:28.623524Z",
     "iopub.status.idle": "2024-06-09T21:00:28.632302Z",
     "shell.execute_reply": "2024-06-09T21:00:28.631481Z"
    },
    "papermill": {
     "duration": 0.017299,
     "end_time": "2024-06-09T21:00:28.634161",
     "exception": false,
     "start_time": "2024-06-09T21:00:28.616862",
     "status": "completed"
    },
    "tags": []
   },
   "outputs": [
    {
     "name": "stdout",
     "output_type": "stream",
     "text": [
      "['Apple___Apple_scab' 'Apple___Black_rot' 'Apple___Cedar_apple_rust'\n",
      " 'Apple___healthy' 'Blueberry___healthy'\n",
      " 'Cherry_(including_sour)___Powdery_mildew'\n",
      " 'Cherry_(including_sour)___healthy'\n",
      " 'Corn_(maize)___Cercospora_leaf_spot Gray_leaf_spot'\n",
      " 'Corn_(maize)___Common_rust_' 'Corn_(maize)___Northern_Leaf_Blight'\n",
      " 'Corn_(maize)___healthy' 'Grape___Black_rot'\n",
      " 'Grape___Esca_(Black_Measles)'\n",
      " 'Grape___Leaf_blight_(Isariopsis_Leaf_Spot)' 'Grape___healthy'\n",
      " 'Orange___Haunglongbing_(Citrus_greening)' 'Peach___Bacterial_spot'\n",
      " 'Peach___healthy' 'Pepper,_bell___Bacterial_spot'\n",
      " 'Pepper,_bell___healthy' 'Potato___Early_blight' 'Potato___Late_blight'\n",
      " 'Potato___healthy' 'Raspberry___healthy' 'Soybean___healthy'\n",
      " 'Squash___Powdery_mildew' 'Strawberry___Leaf_scorch'\n",
      " 'Strawberry___healthy' 'Tomato___Bacterial_spot' 'Tomato___Early_blight'\n",
      " 'Tomato___Late_blight' 'Tomato___Leaf_Mold' 'Tomato___Septoria_leaf_spot'\n",
      " 'Tomato___Spider_mites Two-spotted_spider_mite' 'Tomato___Target_Spot'\n",
      " 'Tomato___Tomato_Yellow_Leaf_Curl_Virus' 'Tomato___Tomato_mosaic_virus'\n",
      " 'Tomato___healthy']\n",
      "['Apple___Apple_scab', 'Apple___Black_rot', 'Apple___Cedar_apple_rust', 'Apple___healthy', 'Blueberry___healthy', 'Cherry_(including_sour)___Powdery_mildew', 'Cherry_(including_sour)___healthy', 'Corn_(maize)___Cercospora_leaf_spot Gray_leaf_spot', 'Corn_(maize)___Common_rust_', 'Corn_(maize)___Northern_Leaf_Blight', 'Corn_(maize)___healthy', 'Grape___Black_rot', 'Grape___Esca_(Black_Measles)', 'Grape___Leaf_blight_(Isariopsis_Leaf_Spot)', 'Grape___healthy', 'Orange___Haunglongbing_(Citrus_greening)', 'Peach___Bacterial_spot', 'Peach___healthy', 'Pepper,_bell___Bacterial_spot', 'Pepper,_bell___healthy', 'Potato___Early_blight', 'Potato___Late_blight', 'Potato___healthy', 'Raspberry___healthy', 'Soybean___healthy', 'Squash___Powdery_mildew', 'Strawberry___Leaf_scorch', 'Strawberry___healthy', 'Tomato___Bacterial_spot', 'Tomato___Early_blight', 'Tomato___Late_blight', 'Tomato___Leaf_Mold', 'Tomato___Septoria_leaf_spot', 'Tomato___Spider_mites Two-spotted_spider_mite', 'Tomato___Target_Spot', 'Tomato___Tomato_Yellow_Leaf_Curl_Virus', 'Tomato___Tomato_mosaic_virus', 'Tomato___healthy']\n"
     ]
    },
    {
     "data": {
      "text/plain": [
       "array([ 0,  1,  2,  3,  4,  5,  6,  7,  8,  9, 10, 11, 12, 13, 14, 15, 16,\n",
       "       17, 18, 19, 20, 21, 22, 23, 24, 25, 26, 27, 28, 29, 30, 31, 32, 33,\n",
       "       34, 35, 36, 37])"
      ]
     },
     "execution_count": 5,
     "metadata": {},
     "output_type": "execute_result"
    }
   ],
   "source": [
    "lencoder = LabelEncoder()\n",
    "\n",
    "disease_classes = train_data.class_names\n",
    "\n",
    "enc_classes = lencoder.fit_transform(disease_classes)\n",
    "\n",
    "encoded_disease_classes = lencoder.classes_\n",
    "\n",
    "print(encoded_disease_classes)\n",
    "\n",
    "print(disease_classes)\n",
    "\n",
    "enc_classes"
   ]
  },
  {
   "cell_type": "code",
   "execution_count": 6,
   "id": "6fcbb07c",
   "metadata": {
    "execution": {
     "iopub.execute_input": "2024-06-09T21:00:28.647236Z",
     "iopub.status.busy": "2024-06-09T21:00:28.646959Z",
     "iopub.status.idle": "2024-06-09T21:00:28.662358Z",
     "shell.execute_reply": "2024-06-09T21:00:28.661543Z"
    },
    "papermill": {
     "duration": 0.023916,
     "end_time": "2024-06-09T21:00:28.664197",
     "exception": false,
     "start_time": "2024-06-09T21:00:28.640281",
     "status": "completed"
    },
    "tags": []
   },
   "outputs": [],
   "source": [
    "AUTOTUNE = tf.data.AUTOTUNE\n",
    "\n",
    "train_data = train_data.cache().shuffle(1000).prefetch(buffer_size=AUTOTUNE)\n",
    "val_data = val_data.cache().prefetch(buffer_size=AUTOTUNE)"
   ]
  },
  {
   "cell_type": "code",
   "execution_count": 7,
   "id": "84d49d3d",
   "metadata": {
    "execution": {
     "iopub.execute_input": "2024-06-09T21:00:28.676853Z",
     "iopub.status.busy": "2024-06-09T21:00:28.676397Z",
     "iopub.status.idle": "2024-06-09T21:00:28.680145Z",
     "shell.execute_reply": "2024-06-09T21:00:28.679341Z"
    },
    "papermill": {
     "duration": 0.012112,
     "end_time": "2024-06-09T21:00:28.681983",
     "exception": false,
     "start_time": "2024-06-09T21:00:28.669871",
     "status": "completed"
    },
    "tags": []
   },
   "outputs": [],
   "source": [
    "# data_augmentation = keras.models.Sequential(\n",
    "#   [\n",
    "#     layers.RandomFlip(\"horizontal\",\n",
    "#                       input_shape=(image_size,\n",
    "#                                   image_size,\n",
    "#                                   3)),\n",
    "#     layers.RandomRotation(0.1),\n",
    "#     layers.RandomZoom(0.1),\n",
    "#   ]\n",
    "# )"
   ]
  },
  {
   "cell_type": "code",
   "execution_count": 8,
   "id": "4ca48fb6",
   "metadata": {
    "execution": {
     "iopub.execute_input": "2024-06-09T21:00:28.694636Z",
     "iopub.status.busy": "2024-06-09T21:00:28.694398Z",
     "iopub.status.idle": "2024-06-09T21:00:28.804428Z",
     "shell.execute_reply": "2024-06-09T21:00:28.803613Z"
    },
    "papermill": {
     "duration": 0.118581,
     "end_time": "2024-06-09T21:00:28.806338",
     "exception": false,
     "start_time": "2024-06-09T21:00:28.687757",
     "status": "completed"
    },
    "tags": []
   },
   "outputs": [
    {
     "name": "stderr",
     "output_type": "stream",
     "text": [
      "/opt/conda/lib/python3.10/site-packages/keras/src/layers/preprocessing/tf_data_layer.py:18: UserWarning: Do not pass an `input_shape`/`input_dim` argument to a layer. When using Sequential models, prefer using an `Input(shape)` object as the first layer in the model instead.\n",
      "  super().__init__(**kwargs)\n"
     ]
    },
    {
     "data": {
      "text/html": [
       "<pre style=\"white-space:pre;overflow-x:auto;line-height:normal;font-family:Menlo,'DejaVu Sans Mono',consolas,'Courier New',monospace\"><span style=\"font-weight: bold\">Model: \"sequential\"</span>\n",
       "</pre>\n"
      ],
      "text/plain": [
       "\u001b[1mModel: \"sequential\"\u001b[0m\n"
      ]
     },
     "metadata": {},
     "output_type": "display_data"
    },
    {
     "data": {
      "text/html": [
       "<pre style=\"white-space:pre;overflow-x:auto;line-height:normal;font-family:Menlo,'DejaVu Sans Mono',consolas,'Courier New',monospace\">┏━━━━━━━━━━━━━━━━━━━━━━━━━━━━━━━━━┳━━━━━━━━━━━━━━━━━━━━━━━━┳━━━━━━━━━━━━━━━┓\n",
       "┃<span style=\"font-weight: bold\"> Layer (type)                    </span>┃<span style=\"font-weight: bold\"> Output Shape           </span>┃<span style=\"font-weight: bold\">       Param # </span>┃\n",
       "┡━━━━━━━━━━━━━━━━━━━━━━━━━━━━━━━━━╇━━━━━━━━━━━━━━━━━━━━━━━━╇━━━━━━━━━━━━━━━┩\n",
       "│ rescaling (<span style=\"color: #0087ff; text-decoration-color: #0087ff\">Rescaling</span>)           │ (<span style=\"color: #00d7ff; text-decoration-color: #00d7ff\">None</span>, <span style=\"color: #00af00; text-decoration-color: #00af00\">128</span>, <span style=\"color: #00af00; text-decoration-color: #00af00\">128</span>, <span style=\"color: #00af00; text-decoration-color: #00af00\">3</span>)    │             <span style=\"color: #00af00; text-decoration-color: #00af00\">0</span> │\n",
       "├─────────────────────────────────┼────────────────────────┼───────────────┤\n",
       "│ conv2d (<span style=\"color: #0087ff; text-decoration-color: #0087ff\">Conv2D</span>)                 │ (<span style=\"color: #00d7ff; text-decoration-color: #00d7ff\">None</span>, <span style=\"color: #00af00; text-decoration-color: #00af00\">128</span>, <span style=\"color: #00af00; text-decoration-color: #00af00\">128</span>, <span style=\"color: #00af00; text-decoration-color: #00af00\">16</span>)   │           <span style=\"color: #00af00; text-decoration-color: #00af00\">448</span> │\n",
       "├─────────────────────────────────┼────────────────────────┼───────────────┤\n",
       "│ max_pooling2d (<span style=\"color: #0087ff; text-decoration-color: #0087ff\">MaxPooling2D</span>)    │ (<span style=\"color: #00d7ff; text-decoration-color: #00d7ff\">None</span>, <span style=\"color: #00af00; text-decoration-color: #00af00\">64</span>, <span style=\"color: #00af00; text-decoration-color: #00af00\">64</span>, <span style=\"color: #00af00; text-decoration-color: #00af00\">16</span>)     │             <span style=\"color: #00af00; text-decoration-color: #00af00\">0</span> │\n",
       "├─────────────────────────────────┼────────────────────────┼───────────────┤\n",
       "│ conv2d_1 (<span style=\"color: #0087ff; text-decoration-color: #0087ff\">Conv2D</span>)               │ (<span style=\"color: #00d7ff; text-decoration-color: #00d7ff\">None</span>, <span style=\"color: #00af00; text-decoration-color: #00af00\">64</span>, <span style=\"color: #00af00; text-decoration-color: #00af00\">64</span>, <span style=\"color: #00af00; text-decoration-color: #00af00\">32</span>)     │         <span style=\"color: #00af00; text-decoration-color: #00af00\">4,640</span> │\n",
       "├─────────────────────────────────┼────────────────────────┼───────────────┤\n",
       "│ max_pooling2d_1 (<span style=\"color: #0087ff; text-decoration-color: #0087ff\">MaxPooling2D</span>)  │ (<span style=\"color: #00d7ff; text-decoration-color: #00d7ff\">None</span>, <span style=\"color: #00af00; text-decoration-color: #00af00\">32</span>, <span style=\"color: #00af00; text-decoration-color: #00af00\">32</span>, <span style=\"color: #00af00; text-decoration-color: #00af00\">32</span>)     │             <span style=\"color: #00af00; text-decoration-color: #00af00\">0</span> │\n",
       "├─────────────────────────────────┼────────────────────────┼───────────────┤\n",
       "│ conv2d_2 (<span style=\"color: #0087ff; text-decoration-color: #0087ff\">Conv2D</span>)               │ (<span style=\"color: #00d7ff; text-decoration-color: #00d7ff\">None</span>, <span style=\"color: #00af00; text-decoration-color: #00af00\">32</span>, <span style=\"color: #00af00; text-decoration-color: #00af00\">32</span>, <span style=\"color: #00af00; text-decoration-color: #00af00\">64</span>)     │        <span style=\"color: #00af00; text-decoration-color: #00af00\">18,496</span> │\n",
       "├─────────────────────────────────┼────────────────────────┼───────────────┤\n",
       "│ max_pooling2d_2 (<span style=\"color: #0087ff; text-decoration-color: #0087ff\">MaxPooling2D</span>)  │ (<span style=\"color: #00d7ff; text-decoration-color: #00d7ff\">None</span>, <span style=\"color: #00af00; text-decoration-color: #00af00\">16</span>, <span style=\"color: #00af00; text-decoration-color: #00af00\">16</span>, <span style=\"color: #00af00; text-decoration-color: #00af00\">64</span>)     │             <span style=\"color: #00af00; text-decoration-color: #00af00\">0</span> │\n",
       "├─────────────────────────────────┼────────────────────────┼───────────────┤\n",
       "│ flatten (<span style=\"color: #0087ff; text-decoration-color: #0087ff\">Flatten</span>)               │ (<span style=\"color: #00d7ff; text-decoration-color: #00d7ff\">None</span>, <span style=\"color: #00af00; text-decoration-color: #00af00\">16384</span>)          │             <span style=\"color: #00af00; text-decoration-color: #00af00\">0</span> │\n",
       "├─────────────────────────────────┼────────────────────────┼───────────────┤\n",
       "│ dense (<span style=\"color: #0087ff; text-decoration-color: #0087ff\">Dense</span>)                   │ (<span style=\"color: #00d7ff; text-decoration-color: #00d7ff\">None</span>, <span style=\"color: #00af00; text-decoration-color: #00af00\">128</span>)            │     <span style=\"color: #00af00; text-decoration-color: #00af00\">2,097,280</span> │\n",
       "├─────────────────────────────────┼────────────────────────┼───────────────┤\n",
       "│ dense_1 (<span style=\"color: #0087ff; text-decoration-color: #0087ff\">Dense</span>)                 │ (<span style=\"color: #00d7ff; text-decoration-color: #00d7ff\">None</span>, <span style=\"color: #00af00; text-decoration-color: #00af00\">38</span>)             │         <span style=\"color: #00af00; text-decoration-color: #00af00\">4,902</span> │\n",
       "└─────────────────────────────────┴────────────────────────┴───────────────┘\n",
       "</pre>\n"
      ],
      "text/plain": [
       "┏━━━━━━━━━━━━━━━━━━━━━━━━━━━━━━━━━┳━━━━━━━━━━━━━━━━━━━━━━━━┳━━━━━━━━━━━━━━━┓\n",
       "┃\u001b[1m \u001b[0m\u001b[1mLayer (type)                   \u001b[0m\u001b[1m \u001b[0m┃\u001b[1m \u001b[0m\u001b[1mOutput Shape          \u001b[0m\u001b[1m \u001b[0m┃\u001b[1m \u001b[0m\u001b[1m      Param #\u001b[0m\u001b[1m \u001b[0m┃\n",
       "┡━━━━━━━━━━━━━━━━━━━━━━━━━━━━━━━━━╇━━━━━━━━━━━━━━━━━━━━━━━━╇━━━━━━━━━━━━━━━┩\n",
       "│ rescaling (\u001b[38;5;33mRescaling\u001b[0m)           │ (\u001b[38;5;45mNone\u001b[0m, \u001b[38;5;34m128\u001b[0m, \u001b[38;5;34m128\u001b[0m, \u001b[38;5;34m3\u001b[0m)    │             \u001b[38;5;34m0\u001b[0m │\n",
       "├─────────────────────────────────┼────────────────────────┼───────────────┤\n",
       "│ conv2d (\u001b[38;5;33mConv2D\u001b[0m)                 │ (\u001b[38;5;45mNone\u001b[0m, \u001b[38;5;34m128\u001b[0m, \u001b[38;5;34m128\u001b[0m, \u001b[38;5;34m16\u001b[0m)   │           \u001b[38;5;34m448\u001b[0m │\n",
       "├─────────────────────────────────┼────────────────────────┼───────────────┤\n",
       "│ max_pooling2d (\u001b[38;5;33mMaxPooling2D\u001b[0m)    │ (\u001b[38;5;45mNone\u001b[0m, \u001b[38;5;34m64\u001b[0m, \u001b[38;5;34m64\u001b[0m, \u001b[38;5;34m16\u001b[0m)     │             \u001b[38;5;34m0\u001b[0m │\n",
       "├─────────────────────────────────┼────────────────────────┼───────────────┤\n",
       "│ conv2d_1 (\u001b[38;5;33mConv2D\u001b[0m)               │ (\u001b[38;5;45mNone\u001b[0m, \u001b[38;5;34m64\u001b[0m, \u001b[38;5;34m64\u001b[0m, \u001b[38;5;34m32\u001b[0m)     │         \u001b[38;5;34m4,640\u001b[0m │\n",
       "├─────────────────────────────────┼────────────────────────┼───────────────┤\n",
       "│ max_pooling2d_1 (\u001b[38;5;33mMaxPooling2D\u001b[0m)  │ (\u001b[38;5;45mNone\u001b[0m, \u001b[38;5;34m32\u001b[0m, \u001b[38;5;34m32\u001b[0m, \u001b[38;5;34m32\u001b[0m)     │             \u001b[38;5;34m0\u001b[0m │\n",
       "├─────────────────────────────────┼────────────────────────┼───────────────┤\n",
       "│ conv2d_2 (\u001b[38;5;33mConv2D\u001b[0m)               │ (\u001b[38;5;45mNone\u001b[0m, \u001b[38;5;34m32\u001b[0m, \u001b[38;5;34m32\u001b[0m, \u001b[38;5;34m64\u001b[0m)     │        \u001b[38;5;34m18,496\u001b[0m │\n",
       "├─────────────────────────────────┼────────────────────────┼───────────────┤\n",
       "│ max_pooling2d_2 (\u001b[38;5;33mMaxPooling2D\u001b[0m)  │ (\u001b[38;5;45mNone\u001b[0m, \u001b[38;5;34m16\u001b[0m, \u001b[38;5;34m16\u001b[0m, \u001b[38;5;34m64\u001b[0m)     │             \u001b[38;5;34m0\u001b[0m │\n",
       "├─────────────────────────────────┼────────────────────────┼───────────────┤\n",
       "│ flatten (\u001b[38;5;33mFlatten\u001b[0m)               │ (\u001b[38;5;45mNone\u001b[0m, \u001b[38;5;34m16384\u001b[0m)          │             \u001b[38;5;34m0\u001b[0m │\n",
       "├─────────────────────────────────┼────────────────────────┼───────────────┤\n",
       "│ dense (\u001b[38;5;33mDense\u001b[0m)                   │ (\u001b[38;5;45mNone\u001b[0m, \u001b[38;5;34m128\u001b[0m)            │     \u001b[38;5;34m2,097,280\u001b[0m │\n",
       "├─────────────────────────────────┼────────────────────────┼───────────────┤\n",
       "│ dense_1 (\u001b[38;5;33mDense\u001b[0m)                 │ (\u001b[38;5;45mNone\u001b[0m, \u001b[38;5;34m38\u001b[0m)             │         \u001b[38;5;34m4,902\u001b[0m │\n",
       "└─────────────────────────────────┴────────────────────────┴───────────────┘\n"
      ]
     },
     "metadata": {},
     "output_type": "display_data"
    },
    {
     "data": {
      "text/html": [
       "<pre style=\"white-space:pre;overflow-x:auto;line-height:normal;font-family:Menlo,'DejaVu Sans Mono',consolas,'Courier New',monospace\"><span style=\"font-weight: bold\"> Total params: </span><span style=\"color: #00af00; text-decoration-color: #00af00\">2,125,766</span> (8.11 MB)\n",
       "</pre>\n"
      ],
      "text/plain": [
       "\u001b[1m Total params: \u001b[0m\u001b[38;5;34m2,125,766\u001b[0m (8.11 MB)\n"
      ]
     },
     "metadata": {},
     "output_type": "display_data"
    },
    {
     "data": {
      "text/html": [
       "<pre style=\"white-space:pre;overflow-x:auto;line-height:normal;font-family:Menlo,'DejaVu Sans Mono',consolas,'Courier New',monospace\"><span style=\"font-weight: bold\"> Trainable params: </span><span style=\"color: #00af00; text-decoration-color: #00af00\">2,125,766</span> (8.11 MB)\n",
       "</pre>\n"
      ],
      "text/plain": [
       "\u001b[1m Trainable params: \u001b[0m\u001b[38;5;34m2,125,766\u001b[0m (8.11 MB)\n"
      ]
     },
     "metadata": {},
     "output_type": "display_data"
    },
    {
     "data": {
      "text/html": [
       "<pre style=\"white-space:pre;overflow-x:auto;line-height:normal;font-family:Menlo,'DejaVu Sans Mono',consolas,'Courier New',monospace\"><span style=\"font-weight: bold\"> Non-trainable params: </span><span style=\"color: #00af00; text-decoration-color: #00af00\">0</span> (0.00 B)\n",
       "</pre>\n"
      ],
      "text/plain": [
       "\u001b[1m Non-trainable params: \u001b[0m\u001b[38;5;34m0\u001b[0m (0.00 B)\n"
      ]
     },
     "metadata": {},
     "output_type": "display_data"
    }
   ],
   "source": [
    "disease_clf = models.Sequential(\n",
    "    [\n",
    "        layers.Rescaling(1.0 / 255, input_shape=(image_size, image_size, 3)),\n",
    "        layers.Conv2D(16, 3, padding=\"same\", activation=\"relu\"),\n",
    "        layers.MaxPooling2D(),\n",
    "        layers.Conv2D(32, 3, padding=\"same\", activation=\"relu\"),\n",
    "        layers.MaxPooling2D(),\n",
    "        layers.Conv2D(64, 3, padding=\"same\", activation=\"relu\"),\n",
    "        layers.MaxPooling2D(),\n",
    "        layers.Flatten(),\n",
    "        layers.Dense(128, activation=\"relu\"),\n",
    "        layers.Dense(38, activation=\"softmax\")\n",
    "    ]\n",
    ")\n",
    "\n",
    "# disease_clf.compile(\n",
    "#     optimizer=optimizer, loss=\"sparse_categorical_crossentropy\", metrics=[\"accuracy\"]\n",
    "# )\n",
    "\n",
    "disease_clf.compile(optimizer='adam',\n",
    "              loss=tf.keras.losses.SparseCategoricalCrossentropy(from_logits=True),\n",
    "              metrics=['accuracy'])\n",
    "\n",
    "\n",
    "disease_clf.summary()"
   ]
  },
  {
   "cell_type": "code",
   "execution_count": 9,
   "id": "cba743da",
   "metadata": {
    "execution": {
     "iopub.execute_input": "2024-06-09T21:00:28.821020Z",
     "iopub.status.busy": "2024-06-09T21:00:28.820690Z",
     "iopub.status.idle": "2024-06-09T21:05:56.953238Z",
     "shell.execute_reply": "2024-06-09T21:05:56.952191Z"
    },
    "papermill": {
     "duration": 328.142197,
     "end_time": "2024-06-09T21:05:56.955218",
     "exception": false,
     "start_time": "2024-06-09T21:00:28.813021",
     "status": "completed"
    },
    "tags": []
   },
   "outputs": [
    {
     "name": "stdout",
     "output_type": "stream",
     "text": [
      "Epoch 1/30\n"
     ]
    },
    {
     "name": "stderr",
     "output_type": "stream",
     "text": [
      "/opt/conda/lib/python3.10/site-packages/keras/src/backend/tensorflow/nn.py:602: UserWarning: \"`sparse_categorical_crossentropy` received `from_logits=True`, but the `output` argument was produced by a Softmax activation and thus does not represent logits. Was this intended?\n",
      "  output, from_logits = _get_logits(\n",
      "2024-06-09 21:01:13.808825: E external/local_xla/xla/service/gpu/buffer_comparator.cc:1137] Difference at 0: 4.3048, expected 3.51669\n",
      "2024-06-09 21:01:13.808888: E external/local_xla/xla/service/gpu/buffer_comparator.cc:1137] Difference at 1: 6.67675, expected 5.88864\n",
      "2024-06-09 21:01:13.808904: E external/local_xla/xla/service/gpu/buffer_comparator.cc:1137] Difference at 3: 6.43804, expected 5.64992\n",
      "2024-06-09 21:01:13.808917: E external/local_xla/xla/service/gpu/buffer_comparator.cc:1137] Difference at 4: 5.28496, expected 4.49684\n",
      "2024-06-09 21:01:13.808927: E external/local_xla/xla/service/gpu/buffer_comparator.cc:1137] Difference at 5: 5.70669, expected 4.91857\n",
      "2024-06-09 21:01:13.808937: E external/local_xla/xla/service/gpu/buffer_comparator.cc:1137] Difference at 6: 5.97291, expected 5.18479\n",
      "2024-06-09 21:01:13.808946: E external/local_xla/xla/service/gpu/buffer_comparator.cc:1137] Difference at 7: 5.48224, expected 4.69413\n",
      "2024-06-09 21:01:13.808957: E external/local_xla/xla/service/gpu/buffer_comparator.cc:1137] Difference at 8: 4.47406, expected 3.68594\n",
      "2024-06-09 21:01:13.808966: E external/local_xla/xla/service/gpu/buffer_comparator.cc:1137] Difference at 9: 4.83755, expected 4.04944\n",
      "2024-06-09 21:01:13.808976: E external/local_xla/xla/service/gpu/buffer_comparator.cc:1137] Difference at 10: 5.74448, expected 4.95637\n",
      "2024-06-09 21:01:13.812665: E external/local_xla/xla/service/gpu/conv_algorithm_picker.cc:705] Results mismatch between different convolution algorithms. This is likely a bug/unexpected loss of precision in cudnn.\n",
      "(f32[32,16,128,128]{3,2,1,0}, u8[0]{0}) custom-call(f32[32,3,128,128]{3,2,1,0}, f32[16,3,3,3]{3,2,1,0}, f32[16]{0}), window={size=3x3 pad=1_1x1_1}, dim_labels=bf01_oi01->bf01, custom_call_target=\"__cudnn$convBiasActivationForward\", backend_config={\"conv_result_scale\":1,\"activation_mode\":\"kRelu\",\"side_input_scale\":0,\"leakyrelu_alpha\":0} for eng20{k2=2,k4=1,k5=1,k6=0,k7=0} vs eng15{k5=1,k6=0,k7=1,k10=1}\n",
      "2024-06-09 21:01:13.812695: E external/local_xla/xla/service/gpu/conv_algorithm_picker.cc:270] Device: Tesla P100-PCIE-16GB\n",
      "2024-06-09 21:01:13.812710: E external/local_xla/xla/service/gpu/conv_algorithm_picker.cc:271] Platform: Compute Capability 6.0\n",
      "2024-06-09 21:01:13.812725: E external/local_xla/xla/service/gpu/conv_algorithm_picker.cc:272] Driver: 12020 (535.129.3)\n",
      "2024-06-09 21:01:13.812737: E external/local_xla/xla/service/gpu/conv_algorithm_picker.cc:273] Runtime: <undefined>\n",
      "2024-06-09 21:01:13.812755: E external/local_xla/xla/service/gpu/conv_algorithm_picker.cc:280] cudnn version: 8.9.0\n",
      "2024-06-09 21:01:14.057401: E external/local_xla/xla/service/gpu/buffer_comparator.cc:1137] Difference at 0: 4.3048, expected 3.51669\n",
      "2024-06-09 21:01:14.057451: E external/local_xla/xla/service/gpu/buffer_comparator.cc:1137] Difference at 1: 6.67675, expected 5.88864\n",
      "2024-06-09 21:01:14.057460: E external/local_xla/xla/service/gpu/buffer_comparator.cc:1137] Difference at 3: 6.43804, expected 5.64992\n",
      "2024-06-09 21:01:14.057467: E external/local_xla/xla/service/gpu/buffer_comparator.cc:1137] Difference at 4: 5.28496, expected 4.49684\n",
      "2024-06-09 21:01:14.057475: E external/local_xla/xla/service/gpu/buffer_comparator.cc:1137] Difference at 5: 5.70669, expected 4.91857\n",
      "2024-06-09 21:01:14.057482: E external/local_xla/xla/service/gpu/buffer_comparator.cc:1137] Difference at 6: 5.97291, expected 5.18479\n",
      "2024-06-09 21:01:14.057490: E external/local_xla/xla/service/gpu/buffer_comparator.cc:1137] Difference at 7: 5.48224, expected 4.69413\n",
      "2024-06-09 21:01:14.057498: E external/local_xla/xla/service/gpu/buffer_comparator.cc:1137] Difference at 8: 4.47406, expected 3.68594\n",
      "2024-06-09 21:01:14.057505: E external/local_xla/xla/service/gpu/buffer_comparator.cc:1137] Difference at 9: 4.83755, expected 4.04944\n",
      "2024-06-09 21:01:14.057513: E external/local_xla/xla/service/gpu/buffer_comparator.cc:1137] Difference at 10: 5.74448, expected 4.95637\n",
      "2024-06-09 21:01:14.061218: E external/local_xla/xla/service/gpu/conv_algorithm_picker.cc:705] Results mismatch between different convolution algorithms. This is likely a bug/unexpected loss of precision in cudnn.\n",
      "(f32[32,16,128,128]{3,2,1,0}, u8[0]{0}) custom-call(f32[32,3,128,128]{3,2,1,0}, f32[16,3,3,3]{3,2,1,0}, f32[16]{0}), window={size=3x3 pad=1_1x1_1}, dim_labels=bf01_oi01->bf01, custom_call_target=\"__cudnn$convBiasActivationForward\", backend_config={\"conv_result_scale\":1,\"activation_mode\":\"kRelu\",\"side_input_scale\":0,\"leakyrelu_alpha\":0} for eng20{k2=2,k4=1,k5=1,k6=0,k7=0} vs eng15{k5=1,k6=0,k7=1,k10=1}\n",
      "2024-06-09 21:01:14.061247: E external/local_xla/xla/service/gpu/conv_algorithm_picker.cc:270] Device: Tesla P100-PCIE-16GB\n",
      "2024-06-09 21:01:14.061255: E external/local_xla/xla/service/gpu/conv_algorithm_picker.cc:271] Platform: Compute Capability 6.0\n",
      "2024-06-09 21:01:14.061262: E external/local_xla/xla/service/gpu/conv_algorithm_picker.cc:272] Driver: 12020 (535.129.3)\n",
      "2024-06-09 21:01:14.061268: E external/local_xla/xla/service/gpu/conv_algorithm_picker.cc:273] Runtime: <undefined>\n",
      "2024-06-09 21:01:14.061282: E external/local_xla/xla/service/gpu/conv_algorithm_picker.cc:280] cudnn version: 8.9.0\n"
     ]
    },
    {
     "name": "stdout",
     "output_type": "stream",
     "text": [
      "\u001b[1m   9/1358\u001b[0m \u001b[37m━━━━━━━━━━━━━━━━━━━━\u001b[0m \u001b[1m23s\u001b[0m 18ms/step - accuracy: 0.0279 - loss: 3.9184"
     ]
    },
    {
     "name": "stderr",
     "output_type": "stream",
     "text": [
      "WARNING: All log messages before absl::InitializeLog() is called are written to STDERR\n",
      "I0000 00:00:1717966876.366959      72 device_compiler.h:186] Compiled cluster using XLA!  This line is logged at most once for the lifetime of the process.\n"
     ]
    },
    {
     "name": "stdout",
     "output_type": "stream",
     "text": [
      "\u001b[1m 447/1358\u001b[0m \u001b[32m━━━━━━\u001b[0m\u001b[37m━━━━━━━━━━━━━━\u001b[0m \u001b[1m29s\u001b[0m 32ms/step - accuracy: 0.3598 - loss: 2.4478"
     ]
    },
    {
     "name": "stderr",
     "output_type": "stream",
     "text": [
      "2024-06-09 21:01:31.086666: E external/local_xla/xla/service/gpu/buffer_comparator.cc:1137] Difference at 49152: 4.64678, expected 3.66233\n",
      "2024-06-09 21:01:31.086729: E external/local_xla/xla/service/gpu/buffer_comparator.cc:1137] Difference at 49153: 7.94017, expected 6.95573\n",
      "2024-06-09 21:01:31.086739: E external/local_xla/xla/service/gpu/buffer_comparator.cc:1137] Difference at 49154: 6.91143, expected 5.92698\n",
      "2024-06-09 21:01:31.086747: E external/local_xla/xla/service/gpu/buffer_comparator.cc:1137] Difference at 49155: 6.74267, expected 5.75822\n",
      "2024-06-09 21:01:31.086754: E external/local_xla/xla/service/gpu/buffer_comparator.cc:1137] Difference at 49156: 6.1315, expected 5.14705\n",
      "2024-06-09 21:01:31.086762: E external/local_xla/xla/service/gpu/buffer_comparator.cc:1137] Difference at 49157: 5.93105, expected 4.9466\n",
      "2024-06-09 21:01:31.086770: E external/local_xla/xla/service/gpu/buffer_comparator.cc:1137] Difference at 49158: 5.51288, expected 4.52843\n",
      "2024-06-09 21:01:31.086778: E external/local_xla/xla/service/gpu/buffer_comparator.cc:1137] Difference at 49159: 5.28663, expected 4.30218\n",
      "2024-06-09 21:01:31.086785: E external/local_xla/xla/service/gpu/buffer_comparator.cc:1137] Difference at 49160: 4.95341, expected 3.96896\n",
      "2024-06-09 21:01:31.086793: E external/local_xla/xla/service/gpu/buffer_comparator.cc:1137] Difference at 49161: 4.73356, expected 3.74911\n",
      "2024-06-09 21:01:31.089129: E external/local_xla/xla/service/gpu/conv_algorithm_picker.cc:705] Results mismatch between different convolution algorithms. This is likely a bug/unexpected loss of precision in cudnn.\n",
      "(f32[20,16,128,128]{3,2,1,0}, u8[0]{0}) custom-call(f32[20,3,128,128]{3,2,1,0}, f32[16,3,3,3]{3,2,1,0}, f32[16]{0}), window={size=3x3 pad=1_1x1_1}, dim_labels=bf01_oi01->bf01, custom_call_target=\"__cudnn$convBiasActivationForward\", backend_config={\"conv_result_scale\":1,\"activation_mode\":\"kRelu\",\"side_input_scale\":0,\"leakyrelu_alpha\":0} for eng20{k2=2,k4=1,k5=1,k6=0,k7=0} vs eng15{k5=1,k6=0,k7=1,k10=1}\n",
      "2024-06-09 21:01:31.089158: E external/local_xla/xla/service/gpu/conv_algorithm_picker.cc:270] Device: Tesla P100-PCIE-16GB\n",
      "2024-06-09 21:01:31.089167: E external/local_xla/xla/service/gpu/conv_algorithm_picker.cc:271] Platform: Compute Capability 6.0\n",
      "2024-06-09 21:01:31.089174: E external/local_xla/xla/service/gpu/conv_algorithm_picker.cc:272] Driver: 12020 (535.129.3)\n",
      "2024-06-09 21:01:31.089181: E external/local_xla/xla/service/gpu/conv_algorithm_picker.cc:273] Runtime: <undefined>\n",
      "2024-06-09 21:01:31.089193: E external/local_xla/xla/service/gpu/conv_algorithm_picker.cc:280] cudnn version: 8.9.0\n",
      "2024-06-09 21:01:31.180079: E external/local_xla/xla/service/gpu/buffer_comparator.cc:1137] Difference at 49152: 4.64678, expected 3.66233\n",
      "2024-06-09 21:01:31.180126: E external/local_xla/xla/service/gpu/buffer_comparator.cc:1137] Difference at 49153: 7.94017, expected 6.95573\n",
      "2024-06-09 21:01:31.180135: E external/local_xla/xla/service/gpu/buffer_comparator.cc:1137] Difference at 49154: 6.91143, expected 5.92698\n",
      "2024-06-09 21:01:31.180143: E external/local_xla/xla/service/gpu/buffer_comparator.cc:1137] Difference at 49155: 6.74267, expected 5.75822\n",
      "2024-06-09 21:01:31.180151: E external/local_xla/xla/service/gpu/buffer_comparator.cc:1137] Difference at 49156: 6.1315, expected 5.14705\n",
      "2024-06-09 21:01:31.180159: E external/local_xla/xla/service/gpu/buffer_comparator.cc:1137] Difference at 49157: 5.93105, expected 4.9466\n",
      "2024-06-09 21:01:31.180167: E external/local_xla/xla/service/gpu/buffer_comparator.cc:1137] Difference at 49158: 5.51288, expected 4.52843\n",
      "2024-06-09 21:01:31.180175: E external/local_xla/xla/service/gpu/buffer_comparator.cc:1137] Difference at 49159: 5.28663, expected 4.30218\n",
      "2024-06-09 21:01:31.180183: E external/local_xla/xla/service/gpu/buffer_comparator.cc:1137] Difference at 49160: 4.95341, expected 3.96896\n",
      "2024-06-09 21:01:31.180191: E external/local_xla/xla/service/gpu/buffer_comparator.cc:1137] Difference at 49161: 4.73356, expected 3.74911\n",
      "2024-06-09 21:01:31.180209: E external/local_xla/xla/service/gpu/conv_algorithm_picker.cc:705] Results mismatch between different convolution algorithms. This is likely a bug/unexpected loss of precision in cudnn.\n",
      "(f32[20,16,128,128]{3,2,1,0}, u8[0]{0}) custom-call(f32[20,3,128,128]{3,2,1,0}, f32[16,3,3,3]{3,2,1,0}, f32[16]{0}), window={size=3x3 pad=1_1x1_1}, dim_labels=bf01_oi01->bf01, custom_call_target=\"__cudnn$convBiasActivationForward\", backend_config={\"conv_result_scale\":1,\"activation_mode\":\"kRelu\",\"side_input_scale\":0,\"leakyrelu_alpha\":0} for eng20{k2=2,k4=1,k5=1,k6=0,k7=0} vs eng15{k5=1,k6=0,k7=1,k10=1}\n",
      "2024-06-09 21:01:31.180218: E external/local_xla/xla/service/gpu/conv_algorithm_picker.cc:270] Device: Tesla P100-PCIE-16GB\n",
      "2024-06-09 21:01:31.180226: E external/local_xla/xla/service/gpu/conv_algorithm_picker.cc:271] Platform: Compute Capability 6.0\n",
      "2024-06-09 21:01:31.180233: E external/local_xla/xla/service/gpu/conv_algorithm_picker.cc:272] Driver: 12020 (535.129.3)\n",
      "2024-06-09 21:01:31.180243: E external/local_xla/xla/service/gpu/conv_algorithm_picker.cc:273] Runtime: <undefined>\n",
      "2024-06-09 21:01:31.180261: E external/local_xla/xla/service/gpu/conv_algorithm_picker.cc:280] cudnn version: 8.9.0\n"
     ]
    },
    {
     "name": "stdout",
     "output_type": "stream",
     "text": [
      "\u001b[1m1354/1358\u001b[0m \u001b[32m━━━━━━━━━━━━━━━━━━━\u001b[0m\u001b[37m━\u001b[0m \u001b[1m0s\u001b[0m 19ms/step - accuracy: 0.5217 - loss: 1.7638"
     ]
    },
    {
     "name": "stderr",
     "output_type": "stream",
     "text": [
      "2024-06-09 21:01:58.748155: E external/local_xla/xla/service/gpu/buffer_comparator.cc:1137] Difference at 16392: 3.49495, expected 3.04456\n",
      "2024-06-09 21:01:58.748209: E external/local_xla/xla/service/gpu/buffer_comparator.cc:1137] Difference at 16393: 3.13305, expected 2.68266\n",
      "2024-06-09 21:01:58.748220: E external/local_xla/xla/service/gpu/buffer_comparator.cc:1137] Difference at 16464: 2.93945, expected 2.48906\n",
      "2024-06-09 21:01:58.748228: E external/local_xla/xla/service/gpu/buffer_comparator.cc:1137] Difference at 16465: 3.49857, expected 3.04818\n",
      "2024-06-09 21:01:58.748248: E external/local_xla/xla/service/gpu/buffer_comparator.cc:1137] Difference at 18431: 3.01652, expected 2.56613\n",
      "2024-06-09 21:01:58.748276: E external/local_xla/xla/service/gpu/buffer_comparator.cc:1137] Difference at 22272: 3.23573, expected 2.78534\n",
      "2024-06-09 21:01:58.748290: E external/local_xla/xla/service/gpu/buffer_comparator.cc:1137] Difference at 23552: 3.32542, expected 2.87503\n",
      "2024-06-09 21:01:58.748306: E external/local_xla/xla/service/gpu/buffer_comparator.cc:1137] Difference at 25216: 3.25172, expected 2.80134\n",
      "2024-06-09 21:01:58.748314: E external/local_xla/xla/service/gpu/buffer_comparator.cc:1137] Difference at 25344: 3.14717, expected 2.69678\n",
      "2024-06-09 21:01:58.748324: E external/local_xla/xla/service/gpu/buffer_comparator.cc:1137] Difference at 25856: 3.42893, expected 2.97854\n",
      "2024-06-09 21:01:58.748341: E external/local_xla/xla/service/gpu/conv_algorithm_picker.cc:705] Results mismatch between different convolution algorithms. This is likely a bug/unexpected loss of precision in cudnn.\n",
      "(f32[13,16,128,128]{3,2,1,0}, u8[0]{0}) custom-call(f32[13,3,128,128]{3,2,1,0}, f32[16,3,3,3]{3,2,1,0}, f32[16]{0}), window={size=3x3 pad=1_1x1_1}, dim_labels=bf01_oi01->bf01, custom_call_target=\"__cudnn$convBiasActivationForward\", backend_config={\"conv_result_scale\":1,\"activation_mode\":\"kRelu\",\"side_input_scale\":0,\"leakyrelu_alpha\":0} for eng20{k2=2,k4=1,k5=1,k6=0,k7=0} vs eng15{k5=1,k6=0,k7=1,k10=1}\n",
      "2024-06-09 21:01:58.748352: E external/local_xla/xla/service/gpu/conv_algorithm_picker.cc:270] Device: Tesla P100-PCIE-16GB\n",
      "2024-06-09 21:01:58.748374: E external/local_xla/xla/service/gpu/conv_algorithm_picker.cc:271] Platform: Compute Capability 6.0\n",
      "2024-06-09 21:01:58.748385: E external/local_xla/xla/service/gpu/conv_algorithm_picker.cc:272] Driver: 12020 (535.129.3)\n",
      "2024-06-09 21:01:58.748394: E external/local_xla/xla/service/gpu/conv_algorithm_picker.cc:273] Runtime: <undefined>\n",
      "2024-06-09 21:01:58.748407: E external/local_xla/xla/service/gpu/conv_algorithm_picker.cc:280] cudnn version: 8.9.0\n",
      "2024-06-09 21:01:58.791524: E external/local_xla/xla/service/gpu/buffer_comparator.cc:1137] Difference at 16392: 3.49495, expected 3.04456\n",
      "2024-06-09 21:01:58.791569: E external/local_xla/xla/service/gpu/buffer_comparator.cc:1137] Difference at 16393: 3.13305, expected 2.68266\n",
      "2024-06-09 21:01:58.791578: E external/local_xla/xla/service/gpu/buffer_comparator.cc:1137] Difference at 16464: 2.93945, expected 2.48906\n",
      "2024-06-09 21:01:58.791586: E external/local_xla/xla/service/gpu/buffer_comparator.cc:1137] Difference at 16465: 3.49857, expected 3.04818\n",
      "2024-06-09 21:01:58.791603: E external/local_xla/xla/service/gpu/buffer_comparator.cc:1137] Difference at 18431: 3.01652, expected 2.56613\n",
      "2024-06-09 21:01:58.791629: E external/local_xla/xla/service/gpu/buffer_comparator.cc:1137] Difference at 22272: 3.23573, expected 2.78534\n",
      "2024-06-09 21:01:58.791642: E external/local_xla/xla/service/gpu/buffer_comparator.cc:1137] Difference at 23552: 3.32542, expected 2.87503\n",
      "2024-06-09 21:01:58.791659: E external/local_xla/xla/service/gpu/buffer_comparator.cc:1137] Difference at 25216: 3.25172, expected 2.80134\n",
      "2024-06-09 21:01:58.791667: E external/local_xla/xla/service/gpu/buffer_comparator.cc:1137] Difference at 25344: 3.14717, expected 2.69678\n",
      "2024-06-09 21:01:58.791676: E external/local_xla/xla/service/gpu/buffer_comparator.cc:1137] Difference at 25856: 3.42893, expected 2.97854\n",
      "2024-06-09 21:01:58.791691: E external/local_xla/xla/service/gpu/conv_algorithm_picker.cc:705] Results mismatch between different convolution algorithms. This is likely a bug/unexpected loss of precision in cudnn.\n",
      "(f32[13,16,128,128]{3,2,1,0}, u8[0]{0}) custom-call(f32[13,3,128,128]{3,2,1,0}, f32[16,3,3,3]{3,2,1,0}, f32[16]{0}), window={size=3x3 pad=1_1x1_1}, dim_labels=bf01_oi01->bf01, custom_call_target=\"__cudnn$convBiasActivationForward\", backend_config={\"conv_result_scale\":1,\"activation_mode\":\"kRelu\",\"side_input_scale\":0,\"leakyrelu_alpha\":0} for eng20{k2=2,k4=1,k5=1,k6=0,k7=0} vs eng15{k5=1,k6=0,k7=1,k10=1}\n",
      "2024-06-09 21:01:58.791698: E external/local_xla/xla/service/gpu/conv_algorithm_picker.cc:270] Device: Tesla P100-PCIE-16GB\n",
      "2024-06-09 21:01:58.791705: E external/local_xla/xla/service/gpu/conv_algorithm_picker.cc:271] Platform: Compute Capability 6.0\n",
      "2024-06-09 21:01:58.791712: E external/local_xla/xla/service/gpu/conv_algorithm_picker.cc:272] Driver: 12020 (535.129.3)\n",
      "2024-06-09 21:01:58.791718: E external/local_xla/xla/service/gpu/conv_algorithm_picker.cc:273] Runtime: <undefined>\n",
      "2024-06-09 21:01:58.791728: E external/local_xla/xla/service/gpu/conv_algorithm_picker.cc:280] cudnn version: 8.9.0\n"
     ]
    },
    {
     "name": "stdout",
     "output_type": "stream",
     "text": [
      "\u001b[1m1358/1358\u001b[0m \u001b[32m━━━━━━━━━━━━━━━━━━━━\u001b[0m\u001b[37m\u001b[0m \u001b[1m91s\u001b[0m 32ms/step - accuracy: 0.5221 - loss: 1.7619 - val_accuracy: 0.7581 - val_loss: 0.8126\n",
      "Epoch 2/30\n",
      "\u001b[1m1358/1358\u001b[0m \u001b[32m━━━━━━━━━━━━━━━━━━━━\u001b[0m\u001b[37m\u001b[0m \u001b[1m8s\u001b[0m 6ms/step - accuracy: 0.7781 - loss: 0.7606 - val_accuracy: 0.8012 - val_loss: 0.6911\n",
      "Epoch 3/30\n",
      "\u001b[1m1358/1358\u001b[0m \u001b[32m━━━━━━━━━━━━━━━━━━━━\u001b[0m\u001b[37m\u001b[0m \u001b[1m8s\u001b[0m 6ms/step - accuracy: 0.8438 - loss: 0.5316 - val_accuracy: 0.8089 - val_loss: 0.7403\n",
      "Epoch 4/30\n",
      "\u001b[1m1358/1358\u001b[0m \u001b[32m━━━━━━━━━━━━━━━━━━━━\u001b[0m\u001b[37m\u001b[0m \u001b[1m10s\u001b[0m 6ms/step - accuracy: 0.8335 - loss: 0.6246 - val_accuracy: 0.8132 - val_loss: 0.7417\n",
      "Epoch 5/30\n",
      "\u001b[1m1358/1358\u001b[0m \u001b[32m━━━━━━━━━━━━━━━━━━━━\u001b[0m\u001b[37m\u001b[0m \u001b[1m8s\u001b[0m 6ms/step - accuracy: 0.8590 - loss: 0.5435 - val_accuracy: 0.8239 - val_loss: 0.8658\n",
      "Epoch 6/30\n",
      "\u001b[1m1358/1358\u001b[0m \u001b[32m━━━━━━━━━━━━━━━━━━━━\u001b[0m\u001b[37m\u001b[0m \u001b[1m8s\u001b[0m 6ms/step - accuracy: 0.8703 - loss: 0.4997 - val_accuracy: 0.8364 - val_loss: 0.7444\n",
      "Epoch 7/30\n",
      "\u001b[1m1358/1358\u001b[0m \u001b[32m━━━━━━━━━━━━━━━━━━━━\u001b[0m\u001b[37m\u001b[0m \u001b[1m8s\u001b[0m 6ms/step - accuracy: 0.8583 - loss: 0.5742 - val_accuracy: 0.8357 - val_loss: 0.7607\n",
      "Epoch 8/30\n",
      "\u001b[1m1358/1358\u001b[0m \u001b[32m━━━━━━━━━━━━━━━━━━━━\u001b[0m\u001b[37m\u001b[0m \u001b[1m8s\u001b[0m 6ms/step - accuracy: 0.8463 - loss: 0.6629 - val_accuracy: 0.8379 - val_loss: 0.8689\n",
      "Epoch 9/30\n",
      "\u001b[1m1358/1358\u001b[0m \u001b[32m━━━━━━━━━━━━━━━━━━━━\u001b[0m\u001b[37m\u001b[0m \u001b[1m8s\u001b[0m 6ms/step - accuracy: 0.8761 - loss: 0.5416 - val_accuracy: 0.8230 - val_loss: 1.0202\n",
      "Epoch 10/30\n",
      "\u001b[1m1358/1358\u001b[0m \u001b[32m━━━━━━━━━━━━━━━━━━━━\u001b[0m\u001b[37m\u001b[0m \u001b[1m8s\u001b[0m 6ms/step - accuracy: 0.8544 - loss: 0.6813 - val_accuracy: 0.7851 - val_loss: 1.4307\n",
      "Epoch 11/30\n",
      "\u001b[1m1358/1358\u001b[0m \u001b[32m━━━━━━━━━━━━━━━━━━━━\u001b[0m\u001b[37m\u001b[0m \u001b[1m8s\u001b[0m 6ms/step - accuracy: 0.8483 - loss: 0.6852 - val_accuracy: 0.8334 - val_loss: 0.8690\n",
      "Epoch 12/30\n",
      "\u001b[1m1358/1358\u001b[0m \u001b[32m━━━━━━━━━━━━━━━━━━━━\u001b[0m\u001b[37m\u001b[0m \u001b[1m8s\u001b[0m 6ms/step - accuracy: 0.8645 - loss: 0.6151 - val_accuracy: 0.7507 - val_loss: 1.4053\n",
      "Epoch 13/30\n",
      "\u001b[1m1358/1358\u001b[0m \u001b[32m━━━━━━━━━━━━━━━━━━━━\u001b[0m\u001b[37m\u001b[0m \u001b[1m8s\u001b[0m 6ms/step - accuracy: 0.8369 - loss: 0.7549 - val_accuracy: 0.8232 - val_loss: 1.3074\n",
      "Epoch 14/30\n",
      "\u001b[1m1358/1358\u001b[0m \u001b[32m━━━━━━━━━━━━━━━━━━━━\u001b[0m\u001b[37m\u001b[0m \u001b[1m8s\u001b[0m 6ms/step - accuracy: 0.8231 - loss: 0.8074 - val_accuracy: 0.6871 - val_loss: 1.5096\n",
      "Epoch 15/30\n",
      "\u001b[1m1358/1358\u001b[0m \u001b[32m━━━━━━━━━━━━━━━━━━━━\u001b[0m\u001b[37m\u001b[0m \u001b[1m8s\u001b[0m 6ms/step - accuracy: 0.7698 - loss: 0.9902 - val_accuracy: 0.7626 - val_loss: 1.7755\n",
      "Epoch 16/30\n",
      "\u001b[1m1358/1358\u001b[0m \u001b[32m━━━━━━━━━━━━━━━━━━━━\u001b[0m\u001b[37m\u001b[0m \u001b[1m8s\u001b[0m 6ms/step - accuracy: 0.8186 - loss: 0.8306 - val_accuracy: 0.7833 - val_loss: 1.5711\n",
      "Epoch 17/30\n",
      "\u001b[1m1358/1358\u001b[0m \u001b[32m━━━━━━━━━━━━━━━━━━━━\u001b[0m\u001b[37m\u001b[0m \u001b[1m8s\u001b[0m 6ms/step - accuracy: 0.8292 - loss: 0.8078 - val_accuracy: 0.7788 - val_loss: 1.3643\n",
      "Epoch 18/30\n",
      "\u001b[1m1358/1358\u001b[0m \u001b[32m━━━━━━━━━━━━━━━━━━━━\u001b[0m\u001b[37m\u001b[0m \u001b[1m8s\u001b[0m 6ms/step - accuracy: 0.8388 - loss: 0.7230 - val_accuracy: 0.7506 - val_loss: 1.4787\n",
      "Epoch 19/30\n",
      "\u001b[1m1358/1358\u001b[0m \u001b[32m━━━━━━━━━━━━━━━━━━━━\u001b[0m\u001b[37m\u001b[0m \u001b[1m8s\u001b[0m 6ms/step - accuracy: 0.8081 - loss: 0.8844 - val_accuracy: 0.7451 - val_loss: 1.7617\n",
      "Epoch 20/30\n",
      "\u001b[1m1358/1358\u001b[0m \u001b[32m━━━━━━━━━━━━━━━━━━━━\u001b[0m\u001b[37m\u001b[0m \u001b[1m8s\u001b[0m 6ms/step - accuracy: 0.7782 - loss: 1.0362 - val_accuracy: 0.8002 - val_loss: 1.3756\n",
      "Epoch 21/30\n",
      "\u001b[1m1358/1358\u001b[0m \u001b[32m━━━━━━━━━━━━━━━━━━━━\u001b[0m\u001b[37m\u001b[0m \u001b[1m8s\u001b[0m 6ms/step - accuracy: 0.8204 - loss: 0.8274 - val_accuracy: 0.7509 - val_loss: 1.6107\n",
      "Epoch 22/30\n",
      "\u001b[1m1358/1358\u001b[0m \u001b[32m━━━━━━━━━━━━━━━━━━━━\u001b[0m\u001b[37m\u001b[0m \u001b[1m8s\u001b[0m 6ms/step - accuracy: 0.7901 - loss: 1.0265 - val_accuracy: 0.7284 - val_loss: 1.4434\n",
      "Epoch 23/30\n",
      "\u001b[1m1358/1358\u001b[0m \u001b[32m━━━━━━━━━━━━━━━━━━━━\u001b[0m\u001b[37m\u001b[0m \u001b[1m8s\u001b[0m 6ms/step - accuracy: 0.7951 - loss: 0.9174 - val_accuracy: 0.7555 - val_loss: 1.9716\n",
      "Epoch 24/30\n",
      "\u001b[1m1358/1358\u001b[0m \u001b[32m━━━━━━━━━━━━━━━━━━━━\u001b[0m\u001b[37m\u001b[0m \u001b[1m8s\u001b[0m 6ms/step - accuracy: 0.7746 - loss: 1.0425 - val_accuracy: 0.6852 - val_loss: 1.7257\n",
      "Epoch 25/30\n",
      "\u001b[1m1358/1358\u001b[0m \u001b[32m━━━━━━━━━━━━━━━━━━━━\u001b[0m\u001b[37m\u001b[0m \u001b[1m8s\u001b[0m 6ms/step - accuracy: 0.7502 - loss: 1.0909 - val_accuracy: 0.7021 - val_loss: 2.3100\n",
      "Epoch 26/30\n",
      "\u001b[1m1358/1358\u001b[0m \u001b[32m━━━━━━━━━━━━━━━━━━━━\u001b[0m\u001b[37m\u001b[0m \u001b[1m8s\u001b[0m 6ms/step - accuracy: 0.7447 - loss: 1.1431 - val_accuracy: 0.5776 - val_loss: 2.3999\n",
      "Epoch 27/30\n",
      "\u001b[1m1358/1358\u001b[0m \u001b[32m━━━━━━━━━━━━━━━━━━━━\u001b[0m\u001b[37m\u001b[0m \u001b[1m8s\u001b[0m 6ms/step - accuracy: 0.7339 - loss: 1.1452 - val_accuracy: 0.7067 - val_loss: 1.7427\n",
      "Epoch 28/30\n",
      "\u001b[1m1358/1358\u001b[0m \u001b[32m━━━━━━━━━━━━━━━━━━━━\u001b[0m\u001b[37m\u001b[0m \u001b[1m8s\u001b[0m 6ms/step - accuracy: 0.7625 - loss: 1.0930 - val_accuracy: 0.6307 - val_loss: 1.7533\n",
      "Epoch 29/30\n",
      "\u001b[1m1358/1358\u001b[0m \u001b[32m━━━━━━━━━━━━━━━━━━━━\u001b[0m\u001b[37m\u001b[0m \u001b[1m8s\u001b[0m 6ms/step - accuracy: 0.6986 - loss: 1.4095 - val_accuracy: 0.6482 - val_loss: 1.9759\n",
      "Epoch 30/30\n",
      "\u001b[1m1358/1358\u001b[0m \u001b[32m━━━━━━━━━━━━━━━━━━━━\u001b[0m\u001b[37m\u001b[0m \u001b[1m8s\u001b[0m 6ms/step - accuracy: 0.7043 - loss: 1.3519 - val_accuracy: 0.6807 - val_loss: 1.8769\n",
      "CPU times: user 4min 41s, sys: 27.9 s, total: 5min 9s\n",
      "Wall time: 5min 28s\n"
     ]
    }
   ],
   "source": [
    "%%time\n",
    "\n",
    "history = disease_clf.fit(\n",
    "  train_data,\n",
    "  validation_data=val_data,\n",
    "  epochs=epochs\n",
    ")"
   ]
  },
  {
   "cell_type": "code",
   "execution_count": 10,
   "id": "7008742a",
   "metadata": {
    "execution": {
     "iopub.execute_input": "2024-06-09T21:05:57.662916Z",
     "iopub.status.busy": "2024-06-09T21:05:57.662557Z",
     "iopub.status.idle": "2024-06-09T21:05:58.498340Z",
     "shell.execute_reply": "2024-06-09T21:05:58.497418Z"
    },
    "papermill": {
     "duration": 1.189565,
     "end_time": "2024-06-09T21:05:58.500203",
     "exception": false,
     "start_time": "2024-06-09T21:05:57.310638",
     "status": "completed"
    },
    "tags": []
   },
   "outputs": [
    {
     "name": "stdout",
     "output_type": "stream",
     "text": [
      "\u001b[1m340/340\u001b[0m \u001b[32m━━━━━━━━━━━━━━━━━━━━\u001b[0m\u001b[37m\u001b[0m \u001b[1m1s\u001b[0m 2ms/step - accuracy: 0.6762 - loss: 1.8495\n",
      "The trained plant leaf disease detection model has an accuracy of 68.07%\n"
     ]
    }
   ],
   "source": [
    "test_accuracy = disease_clf.evaluate(val_data, batch_size=batch_size)\n",
    "\n",
    "print(\n",
    "    f\"The trained plant leaf disease detection model has an accuracy of {100*test_accuracy[1]:.2f}%\"\n",
    ")"
   ]
  },
  {
   "cell_type": "code",
   "execution_count": 11,
   "id": "e3759aca",
   "metadata": {
    "execution": {
     "iopub.execute_input": "2024-06-09T21:05:59.252287Z",
     "iopub.status.busy": "2024-06-09T21:05:59.251834Z",
     "iopub.status.idle": "2024-06-09T21:05:59.257080Z",
     "shell.execute_reply": "2024-06-09T21:05:59.256170Z"
    },
    "papermill": {
     "duration": 0.360384,
     "end_time": "2024-06-09T21:05:59.258907",
     "exception": false,
     "start_time": "2024-06-09T21:05:58.898523",
     "status": "completed"
    },
    "tags": []
   },
   "outputs": [],
   "source": [
    "acc = history.history[\"accuracy\"]\n",
    "val_acc = history.history[\"val_accuracy\"]\n",
    "\n",
    "loss = history.history[\"loss\"]\n",
    "val_loss = history.history[\"val_loss\"]\n",
    "\n",
    "epochs_range = range(epochs)"
   ]
  },
  {
   "cell_type": "code",
   "execution_count": 12,
   "id": "65f29fb3",
   "metadata": {
    "execution": {
     "iopub.execute_input": "2024-06-09T21:05:59.991878Z",
     "iopub.status.busy": "2024-06-09T21:05:59.991501Z",
     "iopub.status.idle": "2024-06-09T21:06:00.362262Z",
     "shell.execute_reply": "2024-06-09T21:06:00.361326Z"
    },
    "papermill": {
     "duration": 0.755282,
     "end_time": "2024-06-09T21:06:00.364325",
     "exception": false,
     "start_time": "2024-06-09T21:05:59.609043",
     "status": "completed"
    },
    "tags": []
   },
   "outputs": [
    {
     "data": {
      "text/plain": [
       "Text(0.5, 1.0, 'Training and Validation Accuracy')"
      ]
     },
     "execution_count": 12,
     "metadata": {},
     "output_type": "execute_result"
    },
    {
     "data": {
      "image/png": "[encoded data removed]",
      "text/plain": [
       "<Figure size 800x800 with 1 Axes>"
      ]
     },
     "metadata": {},
     "output_type": "display_data"
    }
   ],
   "source": [
    "plt.figure(figsize=(8, 8))\n",
    "plt.plot(epochs_range, acc, label=\"Training Accuracy\")\n",
    "plt.plot(epochs_range, val_acc, label=\"Validation Accuracy\")\n",
    "plt.legend(loc=\"upper right\")\n",
    "plt.title(\"Training and Validation Accuracy\")"
   ]
  },
  {
   "cell_type": "code",
   "execution_count": 13,
   "id": "1a03cd1f",
   "metadata": {
    "execution": {
     "iopub.execute_input": "2024-06-09T21:06:01.100108Z",
     "iopub.status.busy": "2024-06-09T21:06:01.099649Z",
     "iopub.status.idle": "2024-06-09T21:06:01.398972Z",
     "shell.execute_reply": "2024-06-09T21:06:01.398073Z"
    },
    "papermill": {
     "duration": 0.679357,
     "end_time": "2024-06-09T21:06:01.401620",
     "exception": false,
     "start_time": "2024-06-09T21:06:00.722263",
     "status": "completed"
    },
    "tags": []
   },
   "outputs": [
    {
     "data": {
      "image/png": "[encoded data removed]",
      "text/plain": [
       "<Figure size 640x480 with 1 Axes>"
      ]
     },
     "metadata": {},
     "output_type": "display_data"
    }
   ],
   "source": [
    "plt.plot(epochs_range, loss, label=\"Training Loss\")\n",
    "plt.plot(epochs_range, val_loss, label=\"Validation Loss\")\n",
    "plt.legend(loc=\"upper right\")\n",
    "plt.title(\"Training and Validation Loss\")\n",
    "plt.show()"
   ]
  },
  {
   "cell_type": "code",
   "execution_count": 14,
   "id": "8346df45",
   "metadata": {
    "execution": {
     "iopub.execute_input": "2024-06-09T21:06:02.151089Z",
     "iopub.status.busy": "2024-06-09T21:06:02.150393Z",
     "iopub.status.idle": "2024-06-09T21:06:03.290782Z",
     "shell.execute_reply": "2024-06-09T21:06:03.289852Z"
    },
    "papermill": {
     "duration": 1.541613,
     "end_time": "2024-06-09T21:06:03.294369",
     "exception": false,
     "start_time": "2024-06-09T21:06:01.752756",
     "status": "completed"
    },
    "tags": []
   },
   "outputs": [
    {
     "data": {
      "application/vnd.jupyter.widget-view+json": {
       "model_id": "ef3a45fdaa8349eb966d6565bc40658c",
       "version_major": 2,
       "version_minor": 0
      },
      "text/plain": [
       "  0%|          | 0/7 [00:00<?, ?it/s]"
      ]
     },
     "metadata": {},
     "output_type": "display_data"
    },
    {
     "name": "stderr",
     "output_type": "stream",
     "text": [
      "2024-06-09 21:06:02.382966: E external/local_xla/xla/service/gpu/buffer_comparator.cc:1137] Difference at 0: 4.35916, expected 3.62506\n",
      "2024-06-09 21:06:02.383017: E external/local_xla/xla/service/gpu/buffer_comparator.cc:1137] Difference at 1: 6.14279, expected 5.4087\n",
      "2024-06-09 21:06:02.383037: E external/local_xla/xla/service/gpu/buffer_comparator.cc:1137] Difference at 2: 5.55453, expected 4.82044\n",
      "2024-06-09 21:06:02.383045: E external/local_xla/xla/service/gpu/buffer_comparator.cc:1137] Difference at 3: 5.08747, expected 4.35338\n",
      "2024-06-09 21:06:02.383052: E external/local_xla/xla/service/gpu/buffer_comparator.cc:1137] Difference at 4: 3.96432, expected 3.23023\n",
      "2024-06-09 21:06:02.383060: E external/local_xla/xla/service/gpu/buffer_comparator.cc:1137] Difference at 5: 3.84695, expected 3.11286\n",
      "2024-06-09 21:06:02.383067: E external/local_xla/xla/service/gpu/buffer_comparator.cc:1137] Difference at 6: 5.1695, expected 4.43541\n",
      "2024-06-09 21:06:02.383075: E external/local_xla/xla/service/gpu/buffer_comparator.cc:1137] Difference at 7: 4.10452, expected 3.37043\n",
      "2024-06-09 21:06:02.383082: E external/local_xla/xla/service/gpu/buffer_comparator.cc:1137] Difference at 8: 3.7034, expected 2.96931\n",
      "2024-06-09 21:06:02.383090: E external/local_xla/xla/service/gpu/buffer_comparator.cc:1137] Difference at 9: 4.10795, expected 3.37386\n",
      "2024-06-09 21:06:02.383105: E external/local_xla/xla/service/gpu/conv_algorithm_picker.cc:705] Results mismatch between different convolution algorithms. This is likely a bug/unexpected loss of precision in cudnn.\n",
      "(f32[1,16,128,128]{3,2,1,0}, u8[0]{0}) custom-call(f32[1,3,128,128]{3,2,1,0}, f32[16,3,3,3]{3,2,1,0}, f32[16]{0}), window={size=3x3 pad=1_1x1_1}, dim_labels=bf01_oi01->bf01, custom_call_target=\"__cudnn$convBiasActivationForward\", backend_config={\"conv_result_scale\":1,\"activation_mode\":\"kRelu\",\"side_input_scale\":0,\"leakyrelu_alpha\":0} for eng20{k2=2,k4=1,k5=1,k6=0,k7=0} vs eng15{k5=1,k6=0,k7=1,k10=1}\n",
      "2024-06-09 21:06:02.383113: E external/local_xla/xla/service/gpu/conv_algorithm_picker.cc:270] Device: Tesla P100-PCIE-16GB\n",
      "2024-06-09 21:06:02.383119: E external/local_xla/xla/service/gpu/conv_algorithm_picker.cc:271] Platform: Compute Capability 6.0\n",
      "2024-06-09 21:06:02.383126: E external/local_xla/xla/service/gpu/conv_algorithm_picker.cc:272] Driver: 12020 (535.129.3)\n",
      "2024-06-09 21:06:02.383135: E external/local_xla/xla/service/gpu/conv_algorithm_picker.cc:273] Runtime: <undefined>\n",
      "2024-06-09 21:06:02.383148: E external/local_xla/xla/service/gpu/conv_algorithm_picker.cc:280] cudnn version: 8.9.0\n",
      "2024-06-09 21:06:02.420606: E external/local_xla/xla/service/gpu/buffer_comparator.cc:1137] Difference at 0: 4.35916, expected 3.62506\n",
      "2024-06-09 21:06:02.420648: E external/local_xla/xla/service/gpu/buffer_comparator.cc:1137] Difference at 1: 6.14279, expected 5.4087\n",
      "2024-06-09 21:06:02.420657: E external/local_xla/xla/service/gpu/buffer_comparator.cc:1137] Difference at 2: 5.55453, expected 4.82044\n",
      "2024-06-09 21:06:02.420664: E external/local_xla/xla/service/gpu/buffer_comparator.cc:1137] Difference at 3: 5.08747, expected 4.35338\n",
      "2024-06-09 21:06:02.420672: E external/local_xla/xla/service/gpu/buffer_comparator.cc:1137] Difference at 4: 3.96432, expected 3.23023\n",
      "2024-06-09 21:06:02.420679: E external/local_xla/xla/service/gpu/buffer_comparator.cc:1137] Difference at 5: 3.84695, expected 3.11286\n",
      "2024-06-09 21:06:02.420686: E external/local_xla/xla/service/gpu/buffer_comparator.cc:1137] Difference at 6: 5.1695, expected 4.43541\n",
      "2024-06-09 21:06:02.420694: E external/local_xla/xla/service/gpu/buffer_comparator.cc:1137] Difference at 7: 4.10452, expected 3.37043\n",
      "2024-06-09 21:06:02.420701: E external/local_xla/xla/service/gpu/buffer_comparator.cc:1137] Difference at 8: 3.7034, expected 2.96931\n",
      "2024-06-09 21:06:02.420709: E external/local_xla/xla/service/gpu/buffer_comparator.cc:1137] Difference at 9: 4.10795, expected 3.37386\n",
      "2024-06-09 21:06:02.420722: E external/local_xla/xla/service/gpu/conv_algorithm_picker.cc:705] Results mismatch between different convolution algorithms. This is likely a bug/unexpected loss of precision in cudnn.\n",
      "(f32[1,16,128,128]{3,2,1,0}, u8[0]{0}) custom-call(f32[1,3,128,128]{3,2,1,0}, f32[16,3,3,3]{3,2,1,0}, f32[16]{0}), window={size=3x3 pad=1_1x1_1}, dim_labels=bf01_oi01->bf01, custom_call_target=\"__cudnn$convBiasActivationForward\", backend_config={\"conv_result_scale\":1,\"activation_mode\":\"kRelu\",\"side_input_scale\":0,\"leakyrelu_alpha\":0} for eng20{k2=2,k4=1,k5=1,k6=0,k7=0} vs eng15{k5=1,k6=0,k7=1,k10=1}\n",
      "2024-06-09 21:06:02.420730: E external/local_xla/xla/service/gpu/conv_algorithm_picker.cc:270] Device: Tesla P100-PCIE-16GB\n",
      "2024-06-09 21:06:02.420737: E external/local_xla/xla/service/gpu/conv_algorithm_picker.cc:271] Platform: Compute Capability 6.0\n",
      "2024-06-09 21:06:02.420743: E external/local_xla/xla/service/gpu/conv_algorithm_picker.cc:272] Driver: 12020 (535.129.3)\n",
      "2024-06-09 21:06:02.420750: E external/local_xla/xla/service/gpu/conv_algorithm_picker.cc:273] Runtime: <undefined>\n",
      "2024-06-09 21:06:02.420759: E external/local_xla/xla/service/gpu/conv_algorithm_picker.cc:280] cudnn version: 8.9.0\n"
     ]
    },
    {
     "name": "stdout",
     "output_type": "stream",
     "text": [
      "\u001b[1m1/1\u001b[0m \u001b[32m━━━━━━━━━━━━━━━━━━━━\u001b[0m\u001b[37m\u001b[0m \u001b[1m1s\u001b[0m 560ms/step\n",
      "________________________________________________________________________________\n",
      "Input Sentence: /kaggle/input/plant-disease-test/test_images/apple_healthy.jpeg\n",
      "Predicted: Tomato___Late_blight\n",
      "or: Tomato___Late_blight\n",
      "Certainty: 100.00%\n",
      " \n",
      "________________________________________________________________________________\n",
      "\u001b[1m1/1\u001b[0m \u001b[32m━━━━━━━━━━━━━━━━━━━━\u001b[0m\u001b[37m\u001b[0m \u001b[1m0s\u001b[0m 16ms/step\n",
      "________________________________________________________________________________\n",
      "Input Sentence: /kaggle/input/plant-disease-test/test_images/healthy_tomato_leaf.jpeg\n",
      "Predicted: Tomato___Late_blight\n",
      "or: Tomato___Late_blight\n",
      "Certainty: 100.00%\n",
      " \n",
      "________________________________________________________________________________\n",
      "\u001b[1m1/1\u001b[0m \u001b[32m━━━━━━━━━━━━━━━━━━━━\u001b[0m\u001b[37m\u001b[0m \u001b[1m0s\u001b[0m 16ms/step\n",
      "________________________________________________________________________________\n",
      "Input Sentence: /kaggle/input/plant-disease-test/test_images/cornleafnormal.jpeg\n",
      "Predicted: Tomato___Late_blight\n",
      "or: Tomato___Late_blight\n",
      "Certainty: 100.00%\n",
      " \n",
      "________________________________________________________________________________\n",
      "\u001b[1m1/1\u001b[0m \u001b[32m━━━━━━━━━━━━━━━━━━━━\u001b[0m\u001b[37m\u001b[0m \u001b[1m0s\u001b[0m 15ms/step\n",
      "________________________________________________________________________________\n",
      "Input Sentence: /kaggle/input/plant-disease-test/test_images/tomato_leafdiseas.jpeg\n",
      "Predicted: Tomato___Late_blight\n",
      "or: Tomato___Late_blight\n",
      "Certainty: 100.00%\n",
      " \n",
      "________________________________________________________________________________\n",
      "\u001b[1m1/1\u001b[0m \u001b[32m━━━━━━━━━━━━━━━━━━━━\u001b[0m\u001b[37m\u001b[0m \u001b[1m0s\u001b[0m 17ms/step\n",
      "________________________________________________________________________________\n",
      "Input Sentence: /kaggle/input/plant-disease-test/test_images/leafrustcorn.jpeg\n",
      "Predicted: Tomato___Late_blight\n",
      "or: Tomato___Late_blight\n",
      "Certainty: 100.00%\n",
      " \n",
      "________________________________________________________________________________\n",
      "\u001b[1m1/1\u001b[0m \u001b[32m━━━━━━━━━━━━━━━━━━━━\u001b[0m\u001b[37m\u001b[0m \u001b[1m0s\u001b[0m 16ms/step\n",
      "________________________________________________________________________________\n",
      "Input Sentence: /kaggle/input/plant-disease-test/test_images/corn_leafdiseased.jpeg\n",
      "Predicted: Tomato___Late_blight\n",
      "or: Tomato___Late_blight\n",
      "Certainty: 100.00%\n",
      " \n",
      "________________________________________________________________________________\n",
      "\u001b[1m1/1\u001b[0m \u001b[32m━━━━━━━━━━━━━━━━━━━━\u001b[0m\u001b[37m\u001b[0m \u001b[1m0s\u001b[0m 16ms/step\n",
      "________________________________________________________________________________\n",
      "Input Sentence: /kaggle/input/plant-disease-test/test_images/yellow_tomatoleaf.jpeg\n",
      "Predicted: Tomato___Late_blight\n",
      "or: Tomato___Late_blight\n",
      "Certainty: 100.00%\n",
      " \n",
      "________________________________________________________________________________\n"
     ]
    }
   ],
   "source": [
    "image_list = [os.path.join(input_folder, image_file) for image_file in test_images]\n",
    "\n",
    "def detect_plant_disease(image: str):\n",
    "    image = read_img(image)\n",
    "    class_score = disease_clf.predict(image)\n",
    "    \n",
    "    predicted_class = np.argmax(class_score)\n",
    "    certainty = 100 * np.max(class_score)\n",
    "    \n",
    "    return predicted_class, certainty\n",
    "    \n",
    "    \n",
    "for image in tqdm(image_list):\n",
    "    disease_class, certainty = detect_plant_disease(image)\n",
    "    print('_' * 80)\n",
    "    print(f'Input Sentence: {image}')\n",
    "    print(f'Predicted: {encoded_disease_classes[disease_class]}')\n",
    "    print(f'or: {disease_classes[disease_class]}')\n",
    "    print(f'Certainty: {certainty:.2f}%')\n",
    "    print(' ')\n",
    "    print('_'* 80)"
   ]
  },
  {
   "cell_type": "code",
   "execution_count": 15,
   "id": "f0b078e2",
   "metadata": {
    "execution": {
     "iopub.execute_input": "2024-06-09T21:06:04.052234Z",
     "iopub.status.busy": "2024-06-09T21:06:04.051541Z",
     "iopub.status.idle": "2024-06-09T21:06:04.498651Z",
     "shell.execute_reply": "2024-06-09T21:06:04.497790Z"
    },
    "papermill": {
     "duration": 0.829764,
     "end_time": "2024-06-09T21:06:04.500672",
     "exception": false,
     "start_time": "2024-06-09T21:06:03.670908",
     "status": "completed"
    },
    "tags": []
   },
   "outputs": [
    {
     "data": {
      "application/vnd.jupyter.widget-view+json": {
       "model_id": "1eaed87286b34e69bfccd6bb84d90f3a",
       "version_major": 2,
       "version_minor": 0
      },
      "text/plain": [
       "  0%|          | 0/7 [00:00<?, ?it/s]"
      ]
     },
     "metadata": {},
     "output_type": "display_data"
    },
    {
     "name": "stdout",
     "output_type": "stream",
     "text": [
      "\u001b[1m1/1\u001b[0m \u001b[32m━━━━━━━━━━━━━━━━━━━━\u001b[0m\u001b[37m\u001b[0m \u001b[1m0s\u001b[0m 18ms/step\n",
      "This image /kaggle/input/plant-disease-test/test_images/apple_healthy.jpeg most likely belongs to \n",
      " Corn_(maize)___healthy .\n",
      "\u001b[1m1/1\u001b[0m \u001b[32m━━━━━━━━━━━━━━━━━━━━\u001b[0m\u001b[37m\u001b[0m \u001b[1m0s\u001b[0m 17ms/step\n",
      "This image /kaggle/input/plant-disease-test/test_images/healthy_tomato_leaf.jpeg most likely belongs to \n",
      " Tomato___Late_blight .\n",
      "\u001b[1m1/1\u001b[0m \u001b[32m━━━━━━━━━━━━━━━━━━━━\u001b[0m\u001b[37m\u001b[0m \u001b[1m0s\u001b[0m 17ms/step\n",
      "This image /kaggle/input/plant-disease-test/test_images/cornleafnormal.jpeg most likely belongs to \n",
      " Corn_(maize)___healthy .\n",
      "\u001b[1m1/1\u001b[0m \u001b[32m━━━━━━━━━━━━━━━━━━━━\u001b[0m\u001b[37m\u001b[0m \u001b[1m0s\u001b[0m 16ms/step\n",
      "This image /kaggle/input/plant-disease-test/test_images/tomato_leafdiseas.jpeg most likely belongs to \n",
      " Corn_(maize)___Common_rust_ .\n",
      "\u001b[1m1/1\u001b[0m \u001b[32m━━━━━━━━━━━━━━━━━━━━\u001b[0m\u001b[37m\u001b[0m \u001b[1m0s\u001b[0m 16ms/step\n",
      "This image /kaggle/input/plant-disease-test/test_images/leafrustcorn.jpeg most likely belongs to \n",
      " Corn_(maize)___Common_rust_ .\n",
      "\u001b[1m1/1\u001b[0m \u001b[32m━━━━━━━━━━━━━━━━━━━━\u001b[0m\u001b[37m\u001b[0m \u001b[1m0s\u001b[0m 15ms/step\n",
      "This image /kaggle/input/plant-disease-test/test_images/corn_leafdiseased.jpeg most likely belongs to \n",
      " Corn_(maize)___healthy .\n",
      "\u001b[1m1/1\u001b[0m \u001b[32m━━━━━━━━━━━━━━━━━━━━\u001b[0m\u001b[37m\u001b[0m \u001b[1m0s\u001b[0m 15ms/step\n",
      "This image /kaggle/input/plant-disease-test/test_images/yellow_tomatoleaf.jpeg most likely belongs to \n",
      " Tomato___Late_blight .\n"
     ]
    }
   ],
   "source": [
    "def predict2(img_file):\n",
    "    img = tf.keras.utils.load_img(img_file, target_size=(image_size, image_size))\n",
    "    img_array = tf.keras.utils.img_to_array(img)\n",
    "    img_array = tf.expand_dims(img_array, 0) # Create a batch\n",
    "\n",
    "    predictions = disease_clf.predict(img_array)\n",
    "    score = tf.nn.softmax(predictions[0])\n",
    "\n",
    "    print(\n",
    "    \"This image {} most likely belongs to \\n {} .\"\n",
    "    .format(img_file, disease_classes[np.argmax(score)])\n",
    "    )\n",
    "    \n",
    "for image in tqdm(image_list):\n",
    "    predict2(image)"
   ]
  },
  {
   "cell_type": "code",
   "execution_count": 16,
   "id": "67f1a73f",
   "metadata": {
    "execution": {
     "iopub.execute_input": "2024-06-09T21:06:05.224950Z",
     "iopub.status.busy": "2024-06-09T21:06:05.224594Z",
     "iopub.status.idle": "2024-06-09T21:06:05.417958Z",
     "shell.execute_reply": "2024-06-09T21:06:05.417176Z"
    },
    "papermill": {
     "duration": 0.558825,
     "end_time": "2024-06-09T21:06:05.420222",
     "exception": false,
     "start_time": "2024-06-09T21:06:04.861397",
     "status": "completed"
    },
    "tags": []
   },
   "outputs": [],
   "source": [
    "disease_clf.save(\"tf_plant_disease_classifier.keras\")\n",
    "disease_clf.save(\"tf_plant_disease_classifier.h5\")"
   ]
  },
  {
   "cell_type": "code",
   "execution_count": 17,
   "id": "85b71077",
   "metadata": {
    "execution": {
     "iopub.execute_input": "2024-06-09T21:06:06.127784Z",
     "iopub.status.busy": "2024-06-09T21:06:06.127432Z",
     "iopub.status.idle": "2024-06-09T21:06:06.131542Z",
     "shell.execute_reply": "2024-06-09T21:06:06.130678Z"
    },
    "papermill": {
     "duration": 0.358671,
     "end_time": "2024-06-09T21:06:06.134046",
     "exception": false,
     "start_time": "2024-06-09T21:06:05.775375",
     "status": "completed"
    },
    "tags": []
   },
   "outputs": [],
   "source": [
    "# import tensorflow as tf\n",
    "\n",
    "# outfile = '/kaggle/working/leaf_disease_clf.tflite'\n",
    "\n",
    "# converter = tf.lite.TFLiteConverter.from_keras_model(disease_clf)\n",
    "# tflite_model = converter.convert()\n",
    "\n",
    "# # Save the model.\n",
    "# with open(outfile, 'wb') as f:\n",
    "#     f.write(tflite_model)"
   ]
  }
 ],
 "metadata": {
  "kaggle": {
   "accelerator": "gpu",
   "dataSources": [
    {
     "datasetId": 277323,
     "sourceId": 658267,
     "sourceType": "datasetVersion"
    },
    {
     "datasetId": 5178776,
     "sourceId": 8646552,
     "sourceType": "datasetVersion"
    }
   ],
   "dockerImageVersionId": 30733,
   "isGpuEnabled": true,
   "isInternetEnabled": true,
   "language": "python",
   "sourceType": "notebook"
  },
  "kernelspec": {
   "display_name": "Python 3",
   "language": "python",
   "name": "python3"
  },
  "language_info": {
   "codemirror_mode": {
    "name": "ipython",
    "version": 3
   },
   "file_extension": ".py",
   "mimetype": "text/x-python",
   "name": "python",
   "nbconvert_exporter": "python",
   "pygments_lexer": "ipython3",
   "version": "3.10.13"
  },
  "papermill": {
   "default_parameters": {},
   "duration": 399.380025,
   "end_time": "2024-06-09T21:06:11.982374",
   "environment_variables": {},
   "exception": null,
   "input_path": "__notebook__.ipynb",
   "output_path": "__notebook__.ipynb",
   "parameters": {},
   "start_time": "2024-06-09T20:59:32.602349",
   "version": "2.5.0"
  },
  "widgets": {
   "application/vnd.jupyter.widget-state+json": {
    "state": {
     "1eaed87286b34e69bfccd6bb84d90f3a": {
      "model_module": "@jupyter-widgets/controls",
      "model_module_version": "1.5.0",
      "model_name": "HBoxModel",
      "state": {
       "_dom_classes": [],
       "_model_module": "@jupyter-widgets/controls",
       "_model_module_version": "1.5.0",
       "_model_name": "HBoxModel",
       "_view_count": null,
       "_view_module": "@jupyter-widgets/controls",
       "_view_module_version": "1.5.0",
       "_view_name": "HBoxView",
       "box_style": "",
       "children": [
        "IPY_MODEL_bef8ee5a071946b78f9c0cb271bf20bc",
        "IPY_MODEL_68dab91d251b43a39ce7bc92718044d7",
        "IPY_MODEL_cc6961cce9744e2f8b0a3b0ffeb4b1c4"
       ],
       "layout": "IPY_MODEL_723afcd54cc3415bb204631111f0b622"
      }
     },
     "21bdc4939bf74497b1878b56b732c0ae": {
      "model_module": "@jupyter-widgets/base",
      "model_module_version": "1.2.0",
      "model_name": "LayoutModel",
      "state": {
       "_model_module": "@jupyter-widgets/base",
       "_model_module_version": "1.2.0",
       "_model_name": "LayoutModel",
       "_view_count": null,
       "_view_module": "@jupyter-widgets/base",
       "_view_module_version": "1.2.0",
       "_view_name": "LayoutView",
       "align_content": null,
       "align_items": null,
       "align_self": null,
       "border": null,
       "bottom": null,
       "display": null,
       "flex": null,
       "flex_flow": null,
       "grid_area": null,
       "grid_auto_columns": null,
       "grid_auto_flow": null,
       "grid_auto_rows": null,
       "grid_column": null,
       "grid_gap": null,
       "grid_row": null,
       "grid_template_areas": null,
       "grid_template_columns": null,
       "grid_template_rows": null,
       "height": null,
       "justify_content": null,
       "justify_items": null,
       "left": null,
       "margin": null,
       "max_height": null,
       "max_width": null,
       "min_height": null,
       "min_width": null,
       "object_fit": null,
       "object_position": null,
       "order": null,
       "overflow": null,
       "overflow_x": null,
       "overflow_y": null,
       "padding": null,
       "right": null,
       "top": null,
       "visibility": null,
       "width": null
      }
     },
     "22ea69983520446b924ddb6ac7e3542e": {
      "model_module": "@jupyter-widgets/controls",
      "model_module_version": "1.5.0",
      "model_name": "DescriptionStyleModel",
      "state": {
       "_model_module": "@jupyter-widgets/controls",
       "_model_module_version": "1.5.0",
       "_model_name": "DescriptionStyleModel",
       "_view_count": null,
       "_view_module": "@jupyter-widgets/base",
       "_view_module_version": "1.2.0",
       "_view_name": "StyleView",
       "description_width": ""
      }
     },
     "2b3969a045f24dca83376561205ef00b": {
      "model_module": "@jupyter-widgets/base",
      "model_module_version": "1.2.0",
      "model_name": "LayoutModel",
      "state": {
       "_model_module": "@jupyter-widgets/base",
       "_model_module_version": "1.2.0",
       "_model_name": "LayoutModel",
       "_view_count": null,
       "_view_module": "@jupyter-widgets/base",
       "_view_module_version": "1.2.0",
       "_view_name": "LayoutView",
       "align_content": null,
       "align_items": null,
       "align_self": null,
       "border": null,
       "bottom": null,
       "display": null,
       "flex": null,
       "flex_flow": null,
       "grid_area": null,
       "grid_auto_columns": null,
       "grid_auto_flow": null,
       "grid_auto_rows": null,
       "grid_column": null,
       "grid_gap": null,
       "grid_row": null,
       "grid_template_areas": null,
       "grid_template_columns": null,
       "grid_template_rows": null,
       "height": null,
       "justify_content": null,
       "justify_items": null,
       "left": null,
       "margin": null,
       "max_height": null,
       "max_width": null,
       "min_height": null,
       "min_width": null,
       "object_fit": null,
       "object_position": null,
       "order": null,
       "overflow": null,
       "overflow_x": null,
       "overflow_y": null,
       "padding": null,
       "right": null,
       "top": null,
       "visibility": null,
       "width": null
      }
     },
     "2f9098ad55344ddeb21acc18b61cd241": {
      "model_module": "@jupyter-widgets/controls",
      "model_module_version": "1.5.0",
      "model_name": "DescriptionStyleModel",
      "state": {
       "_model_module": "@jupyter-widgets/controls",
       "_model_module_version": "1.5.0",
       "_model_name": "DescriptionStyleModel",
       "_view_count": null,
       "_view_module": "@jupyter-widgets/base",
       "_view_module_version": "1.2.0",
       "_view_name": "StyleView",
       "description_width": ""
      }
     },
     "3f54e2b76ec44c42ab3074eaeb8e4e32": {
      "model_module": "@jupyter-widgets/controls",
      "model_module_version": "1.5.0",
      "model_name": "ProgressStyleModel",
      "state": {
       "_model_module": "@jupyter-widgets/controls",
       "_model_module_version": "1.5.0",
       "_model_name": "ProgressStyleModel",
       "_view_count": null,
       "_view_module": "@jupyter-widgets/base",
       "_view_module_version": "1.2.0",
       "_view_name": "StyleView",
       "bar_color": null,
       "description_width": ""
      }
     },
     "40351a8ee1ac470596cb2279f3507f1d": {
      "model_module": "@jupyter-widgets/controls",
      "model_module_version": "1.5.0",
      "model_name": "FloatProgressModel",
      "state": {
       "_dom_classes": [],
       "_model_module": "@jupyter-widgets/controls",
       "_model_module_version": "1.5.0",
       "_model_name": "FloatProgressModel",
       "_view_count": null,
       "_view_module": "@jupyter-widgets/controls",
       "_view_module_version": "1.5.0",
       "_view_name": "ProgressView",
       "bar_style": "success",
       "description": "",
       "description_tooltip": null,
       "layout": "IPY_MODEL_7aa5b9a38813440e8f30c7e1ff1e7386",
       "max": 7.0,
       "min": 0.0,
       "orientation": "horizontal",
       "style": "IPY_MODEL_4be7d7cb9aa945e9b94158584e2b0b97",
       "value": 7.0
      }
     },
     "4be7d7cb9aa945e9b94158584e2b0b97": {
      "model_module": "@jupyter-widgets/controls",
      "model_module_version": "1.5.0",
      "model_name": "ProgressStyleModel",
      "state": {
       "_model_module": "@jupyter-widgets/controls",
       "_model_module_version": "1.5.0",
       "_model_name": "ProgressStyleModel",
       "_view_count": null,
       "_view_module": "@jupyter-widgets/base",
       "_view_module_version": "1.2.0",
       "_view_name": "StyleView",
       "bar_color": null,
       "description_width": ""
      }
     },
     "58505378096142338d839ca1bd946126": {
      "model_module": "@jupyter-widgets/controls",
      "model_module_version": "1.5.0",
      "model_name": "DescriptionStyleModel",
      "state": {
       "_model_module": "@jupyter-widgets/controls",
       "_model_module_version": "1.5.0",
       "_model_name": "DescriptionStyleModel",
       "_view_count": null,
       "_view_module": "@jupyter-widgets/base",
       "_view_module_version": "1.2.0",
       "_view_name": "StyleView",
       "description_width": ""
      }
     },
     "627739172b59477f8750b00c845a0822": {
      "model_module": "@jupyter-widgets/base",
      "model_module_version": "1.2.0",
      "model_name": "LayoutModel",
      "state": {
       "_model_module": "@jupyter-widgets/base",
       "_model_module_version": "1.2.0",
       "_model_name": "LayoutModel",
       "_view_count": null,
       "_view_module": "@jupyter-widgets/base",
       "_view_module_version": "1.2.0",
       "_view_name": "LayoutView",
       "align_content": null,
       "align_items": null,
       "align_self": null,
       "border": null,
       "bottom": null,
       "display": null,
       "flex": null,
       "flex_flow": null,
       "grid_area": null,
       "grid_auto_columns": null,
       "grid_auto_flow": null,
       "grid_auto_rows": null,
       "grid_column": null,
       "grid_gap": null,
       "grid_row": null,
       "grid_template_areas": null,
       "grid_template_columns": null,
       "grid_template_rows": null,
       "height": null,
       "justify_content": null,
       "justify_items": null,
       "left": null,
       "margin": null,
       "max_height": null,
       "max_width": null,
       "min_height": null,
       "min_width": null,
       "object_fit": null,
       "object_position": null,
       "order": null,
       "overflow": null,
       "overflow_x": null,
       "overflow_y": null,
       "padding": null,
       "right": null,
       "top": null,
       "visibility": null,
       "width": null
      }
     },
     "68dab91d251b43a39ce7bc92718044d7": {
      "model_module": "@jupyter-widgets/controls",
      "model_module_version": "1.5.0",
      "model_name": "FloatProgressModel",
      "state": {
       "_dom_classes": [],
       "_model_module": "@jupyter-widgets/controls",
       "_model_module_version": "1.5.0",
       "_model_name": "FloatProgressModel",
       "_view_count": null,
       "_view_module": "@jupyter-widgets/controls",
       "_view_module_version": "1.5.0",
       "_view_name": "ProgressView",
       "bar_style": "success",
       "description": "",
       "description_tooltip": null,
       "layout": "IPY_MODEL_21bdc4939bf74497b1878b56b732c0ae",
       "max": 7.0,
       "min": 0.0,
       "orientation": "horizontal",
       "style": "IPY_MODEL_3f54e2b76ec44c42ab3074eaeb8e4e32",
       "value": 7.0
      }
     },
     "6928a024d5e2421d83efb965731000b9": {
      "model_module": "@jupyter-widgets/base",
      "model_module_version": "1.2.0",
      "model_name": "LayoutModel",
      "state": {
       "_model_module": "@jupyter-widgets/base",
       "_model_module_version": "1.2.0",
       "_model_name": "LayoutModel",
       "_view_count": null,
       "_view_module": "@jupyter-widgets/base",
       "_view_module_version": "1.2.0",
       "_view_name": "LayoutView",
       "align_content": null,
       "align_items": null,
       "align_self": null,
       "border": null,
       "bottom": null,
       "display": null,
       "flex": null,
       "flex_flow": null,
       "grid_area": null,
       "grid_auto_columns": null,
       "grid_auto_flow": null,
       "grid_auto_rows": null,
       "grid_column": null,
       "grid_gap": null,
       "grid_row": null,
       "grid_template_areas": null,
       "grid_template_columns": null,
       "grid_template_rows": null,
       "height": null,
       "justify_content": null,
       "justify_items": null,
       "left": null,
       "margin": null,
       "max_height": null,
       "max_width": null,
       "min_height": null,
       "min_width": null,
       "object_fit": null,
       "object_position": null,
       "order": null,
       "overflow": null,
       "overflow_x": null,
       "overflow_y": null,
       "padding": null,
       "right": null,
       "top": null,
       "visibility": null,
       "width": null
      }
     },
     "723afcd54cc3415bb204631111f0b622": {
      "model_module": "@jupyter-widgets/base",
      "model_module_version": "1.2.0",
      "model_name": "LayoutModel",
      "state": {
       "_model_module": "@jupyter-widgets/base",
       "_model_module_version": "1.2.0",
       "_model_name": "LayoutModel",
       "_view_count": null,
       "_view_module": "@jupyter-widgets/base",
       "_view_module_version": "1.2.0",
       "_view_name": "LayoutView",
       "align_content": null,
       "align_items": null,
       "align_self": null,
       "border": null,
       "bottom": null,
       "display": null,
       "flex": null,
       "flex_flow": null,
       "grid_area": null,
       "grid_auto_columns": null,
       "grid_auto_flow": null,
       "grid_auto_rows": null,
       "grid_column": null,
       "grid_gap": null,
       "grid_row": null,
       "grid_template_areas": null,
       "grid_template_columns": null,
       "grid_template_rows": null,
       "height": null,
       "justify_content": null,
       "justify_items": null,
       "left": null,
       "margin": null,
       "max_height": null,
       "max_width": null,
       "min_height": null,
       "min_width": null,
       "object_fit": null,
       "object_position": null,
       "order": null,
       "overflow": null,
       "overflow_x": null,
       "overflow_y": null,
       "padding": null,
       "right": null,
       "top": null,
       "visibility": null,
       "width": null
      }
     },
     "7aa5b9a38813440e8f30c7e1ff1e7386": {
      "model_module": "@jupyter-widgets/base",
      "model_module_version": "1.2.0",
      "model_name": "LayoutModel",
      "state": {
       "_model_module": "@jupyter-widgets/base",
       "_model_module_version": "1.2.0",
       "_model_name": "LayoutModel",
       "_view_count": null,
       "_view_module": "@jupyter-widgets/base",
       "_view_module_version": "1.2.0",
       "_view_name": "LayoutView",
       "align_content": null,
       "align_items": null,
       "align_self": null,
       "border": null,
       "bottom": null,
       "display": null,
       "flex": null,
       "flex_flow": null,
       "grid_area": null,
       "grid_auto_columns": null,
       "grid_auto_flow": null,
       "grid_auto_rows": null,
       "grid_column": null,
       "grid_gap": null,
       "grid_row": null,
       "grid_template_areas": null,
       "grid_template_columns": null,
       "grid_template_rows": null,
       "height": null,
       "justify_content": null,
       "justify_items": null,
       "left": null,
       "margin": null,
       "max_height": null,
       "max_width": null,
       "min_height": null,
       "min_width": null,
       "object_fit": null,
       "object_position": null,
       "order": null,
       "overflow": null,
       "overflow_x": null,
       "overflow_y": null,
       "padding": null,
       "right": null,
       "top": null,
       "visibility": null,
       "width": null
      }
     },
     "842b49f8365b4910890f488fec4e3a76": {
      "model_module": "@jupyter-widgets/base",
      "model_module_version": "1.2.0",
      "model_name": "LayoutModel",
      "state": {
       "_model_module": "@jupyter-widgets/base",
       "_model_module_version": "1.2.0",
       "_model_name": "LayoutModel",
       "_view_count": null,
       "_view_module": "@jupyter-widgets/base",
       "_view_module_version": "1.2.0",
       "_view_name": "LayoutView",
       "align_content": null,
       "align_items": null,
       "align_self": null,
       "border": null,
       "bottom": null,
       "display": null,
       "flex": null,
       "flex_flow": null,
       "grid_area": null,
       "grid_auto_columns": null,
       "grid_auto_flow": null,
       "grid_auto_rows": null,
       "grid_column": null,
       "grid_gap": null,
       "grid_row": null,
       "grid_template_areas": null,
       "grid_template_columns": null,
       "grid_template_rows": null,
       "height": null,
       "justify_content": null,
       "justify_items": null,
       "left": null,
       "margin": null,
       "max_height": null,
       "max_width": null,
       "min_height": null,
       "min_width": null,
       "object_fit": null,
       "object_position": null,
       "order": null,
       "overflow": null,
       "overflow_x": null,
       "overflow_y": null,
       "padding": null,
       "right": null,
       "top": null,
       "visibility": null,
       "width": null
      }
     },
     "a48c28845abe421cbc8c34eb46431eaf": {
      "model_module": "@jupyter-widgets/controls",
      "model_module_version": "1.5.0",
      "model_name": "HTMLModel",
      "state": {
       "_dom_classes": [],
       "_model_module": "@jupyter-widgets/controls",
       "_model_module_version": "1.5.0",
       "_model_name": "HTMLModel",
       "_view_count": null,
       "_view_module": "@jupyter-widgets/controls",
       "_view_module_version": "1.5.0",
       "_view_name": "HTMLView",
       "description": "",
       "description_tooltip": null,
       "layout": "IPY_MODEL_e6a93df807b4433e82a9d86a7ece8f2a",
       "placeholder": "​",
       "style": "IPY_MODEL_2f9098ad55344ddeb21acc18b61cd241",
       "value": " 7/7 [00:01&lt;00:00,  8.77it/s]"
      }
     },
     "aa9d16263ab24bf797ebeffc63abfd35": {
      "model_module": "@jupyter-widgets/controls",
      "model_module_version": "1.5.0",
      "model_name": "HTMLModel",
      "state": {
       "_dom_classes": [],
       "_model_module": "@jupyter-widgets/controls",
       "_model_module_version": "1.5.0",
       "_model_name": "HTMLModel",
       "_view_count": null,
       "_view_module": "@jupyter-widgets/controls",
       "_view_module_version": "1.5.0",
       "_view_name": "HTMLView",
       "description": "",
       "description_tooltip": null,
       "layout": "IPY_MODEL_2b3969a045f24dca83376561205ef00b",
       "placeholder": "​",
       "style": "IPY_MODEL_58505378096142338d839ca1bd946126",
       "value": "100%"
      }
     },
     "bef8ee5a071946b78f9c0cb271bf20bc": {
      "model_module": "@jupyter-widgets/controls",
      "model_module_version": "1.5.0",
      "model_name": "HTMLModel",
      "state": {
       "_dom_classes": [],
       "_model_module": "@jupyter-widgets/controls",
       "_model_module_version": "1.5.0",
       "_model_name": "HTMLModel",
       "_view_count": null,
       "_view_module": "@jupyter-widgets/controls",
       "_view_module_version": "1.5.0",
       "_view_name": "HTMLView",
       "description": "",
       "description_tooltip": null,
       "layout": "IPY_MODEL_627739172b59477f8750b00c845a0822",
       "placeholder": "​",
       "style": "IPY_MODEL_22ea69983520446b924ddb6ac7e3542e",
       "value": "100%"
      }
     },
     "cc6961cce9744e2f8b0a3b0ffeb4b1c4": {
      "model_module": "@jupyter-widgets/controls",
      "model_module_version": "1.5.0",
      "model_name": "HTMLModel",
      "state": {
       "_dom_classes": [],
       "_model_module": "@jupyter-widgets/controls",
       "_model_module_version": "1.5.0",
       "_model_name": "HTMLModel",
       "_view_count": null,
       "_view_module": "@jupyter-widgets/controls",
       "_view_module_version": "1.5.0",
       "_view_name": "HTMLView",
       "description": "",
       "description_tooltip": null,
       "layout": "IPY_MODEL_842b49f8365b4910890f488fec4e3a76",
       "placeholder": "​",
       "style": "IPY_MODEL_d2d1290dddb84750b6ef26935bf75704",
       "value": " 7/7 [00:00&lt;00:00, 16.26it/s]"
      }
     },
     "d2d1290dddb84750b6ef26935bf75704": {
      "model_module": "@jupyter-widgets/controls",
      "model_module_version": "1.5.0",
      "model_name": "DescriptionStyleModel",
      "state": {
       "_model_module": "@jupyter-widgets/controls",
       "_model_module_version": "1.5.0",
       "_model_name": "DescriptionStyleModel",
       "_view_count": null,
       "_view_module": "@jupyter-widgets/base",
       "_view_module_version": "1.2.0",
       "_view_name": "StyleView",
       "description_width": ""
      }
     },
     "e6a93df807b4433e82a9d86a7ece8f2a": {
      "model_module": "@jupyter-widgets/base",
      "model_module_version": "1.2.0",
      "model_name": "LayoutModel",
      "state": {
       "_model_module": "@jupyter-widgets/base",
       "_model_module_version": "1.2.0",
       "_model_name": "LayoutModel",
       "_view_count": null,
       "_view_module": "@jupyter-widgets/base",
       "_view_module_version": "1.2.0",
       "_view_name": "LayoutView",
       "align_content": null,
       "align_items": null,
       "align_self": null,
       "border": null,
       "bottom": null,
       "display": null,
       "flex": null,
       "flex_flow": null,
       "grid_area": null,
       "grid_auto_columns": null,
       "grid_auto_flow": null,
       "grid_auto_rows": null,
       "grid_column": null,
       "grid_gap": null,
       "grid_row": null,
       "grid_template_areas": null,
       "grid_template_columns": null,
       "grid_template_rows": null,
       "height": null,
       "justify_content": null,
       "justify_items": null,
       "left": null,
       "margin": null,
       "max_height": null,
       "max_width": null,
       "min_height": null,
       "min_width": null,
       "object_fit": null,
       "object_position": null,
       "order": null,
       "overflow": null,
       "overflow_x": null,
       "overflow_y": null,
       "padding": null,
       "right": null,
       "top": null,
       "visibility": null,
       "width": null
      }
     },
     "ef3a45fdaa8349eb966d6565bc40658c": {
      "model_module": "@jupyter-widgets/controls",
      "model_module_version": "1.5.0",
      "model_name": "HBoxModel",
      "state": {
       "_dom_classes": [],
       "_model_module": "@jupyter-widgets/controls",
       "_model_module_version": "1.5.0",
       "_model_name": "HBoxModel",
       "_view_count": null,
       "_view_module": "@jupyter-widgets/controls",
       "_view_module_version": "1.5.0",
       "_view_name": "HBoxView",
       "box_style": "",
       "children": [
        "IPY_MODEL_aa9d16263ab24bf797ebeffc63abfd35",
        "IPY_MODEL_40351a8ee1ac470596cb2279f3507f1d",
        "IPY_MODEL_a48c28845abe421cbc8c34eb46431eaf"
       ],
       "layout": "IPY_MODEL_6928a024d5e2421d83efb965731000b9"
      }
     }
    },
    "version_major": 2,
    "version_minor": 0
   }
  }
 },
 "nbformat": 4,
 "nbformat_minor": 5
}
